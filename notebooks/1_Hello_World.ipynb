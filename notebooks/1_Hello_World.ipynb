{
 "cells": [
  {
   "cell_type": "markdown",
   "metadata": {},
   "source": [
    "# The Hitchhiker's Guide to Accelerating Early Drug Discovery with AI\n",
    "### Part I: Hello World!\n",
    "\n",
    "This notebook is a **first introduction** to the problem, it's aimed at:\n",
    "* Domain experts who know a lot of biology but nothing of AI\n",
    "* Data scientists who want to know what it's like to work with Bio data \n",
    "\n",
    "If you're an expert in both, bear with us, it will get interesting I promise!"
   ]
  },
  {
   "cell_type": "markdown",
   "metadata": {},
   "source": [
    "### Now let's our hands dirty!\n",
    "\n",
    "To get data, we'll tap into the resources that are provided by [depmap](https://depmap.org/portal/download/all/). We'll download the \n",
    "D2_combined_gene_dep_scores file, from the **DEMETER2 Data v6** dataset. This dataset contains the estimated gene effect for each cell line and gene (posterior mean estimates).  \n",
    "\n",
    "In this dataset, genes are indexed using Entrez IDs during analysis, and they are labeled: “HGNC_symbol (Entrez_ID)\". \n",
    "\n",
    "### Glossary:\n",
    "* **Cell line**: An immortalised cell line is a population of cells from a multicellular organism which would normally not proliferate indefinitely but, due to mutation, have evaded normal cellular senescence and instead can keep undergoing division.\n",
    "* **Gene dependency**: Gene dependency or essentiality is defined as the degree to which a gene is essential for cell proliferation and survival. Counterintuitively, the convention of this data is that a **lower number** means that a cell line is more likely to be dependent on that gene: i.e., a lower number translates to a higher negative effect of the absence of that gene on the cell growth. -1 is ideal. \n",
    "\n",
    "So ideally we want to find genes with a high dependency (lower number in this data), and kill inhibit them!\n",
    "\n",
    "In the code below we are loading the data and transposing it, so that the index contains cell lines, and the columns are genes.\n"
   ]
  },
  {
   "cell_type": "code",
   "execution_count": 17,
   "metadata": {},
   "outputs": [],
   "source": [
    "import pandas as pd  \n",
    "\n",
    "url = \"https://s3-eu-west-1.amazonaws.com/pfigshare-u-files/13515395/D2_combined_gene_dep_scores.csv\"\n",
    "df = pd.read_csv(url, index_col=0).T"
   ]
  },
  {
   "cell_type": "code",
   "execution_count": 257,
   "metadata": {},
   "outputs": [
    {
     "data": {
      "text/html": [
       "<div>\n",
       "<style scoped>\n",
       "    .dataframe tbody tr th:only-of-type {\n",
       "        vertical-align: middle;\n",
       "    }\n",
       "\n",
       "    .dataframe tbody tr th {\n",
       "        vertical-align: top;\n",
       "    }\n",
       "\n",
       "    .dataframe thead th {\n",
       "        text-align: right;\n",
       "    }\n",
       "</style>\n",
       "<table border=\"1\" class=\"dataframe\">\n",
       "  <thead>\n",
       "    <tr style=\"text-align: right;\">\n",
       "      <th></th>\n",
       "      <th>A1BG</th>\n",
       "      <th>NAT2</th>\n",
       "      <th>ADA</th>\n",
       "      <th>CDH2</th>\n",
       "      <th>AKT3</th>\n",
       "      <th>MED6</th>\n",
       "      <th>NR2E3</th>\n",
       "      <th>NAALAD2</th>\n",
       "      <th>DUXB</th>\n",
       "      <th>PDZK1P1</th>\n",
       "      <th>...</th>\n",
       "      <th>RCE1</th>\n",
       "      <th>HNRNPDL</th>\n",
       "      <th>DMTF1</th>\n",
       "      <th>PPP4R1</th>\n",
       "      <th>CDH1</th>\n",
       "      <th>SLC12A6</th>\n",
       "      <th>KCNE2</th>\n",
       "      <th>DGCR2</th>\n",
       "      <th>CASP8AP2</th>\n",
       "      <th>SCO2</th>\n",
       "    </tr>\n",
       "    <tr>\n",
       "      <th>cell_line_display_name</th>\n",
       "      <th></th>\n",
       "      <th></th>\n",
       "      <th></th>\n",
       "      <th></th>\n",
       "      <th></th>\n",
       "      <th></th>\n",
       "      <th></th>\n",
       "      <th></th>\n",
       "      <th></th>\n",
       "      <th></th>\n",
       "      <th></th>\n",
       "      <th></th>\n",
       "      <th></th>\n",
       "      <th></th>\n",
       "      <th></th>\n",
       "      <th></th>\n",
       "      <th></th>\n",
       "      <th></th>\n",
       "      <th></th>\n",
       "      <th></th>\n",
       "      <th></th>\n",
       "    </tr>\n",
       "  </thead>\n",
       "  <tbody>\n",
       "    <tr>\n",
       "      <th>127399</th>\n",
       "      <td>NaN</td>\n",
       "      <td>NaN</td>\n",
       "      <td>NaN</td>\n",
       "      <td>-0.194962</td>\n",
       "      <td>-0.256108</td>\n",
       "      <td>-0.174220</td>\n",
       "      <td>-0.140052</td>\n",
       "      <td>NaN</td>\n",
       "      <td>NaN</td>\n",
       "      <td>NaN</td>\n",
       "      <td>...</td>\n",
       "      <td>-0.201644</td>\n",
       "      <td>-0.363670</td>\n",
       "      <td>0.184260</td>\n",
       "      <td>-0.115616</td>\n",
       "      <td>-0.125958</td>\n",
       "      <td>NaN</td>\n",
       "      <td>0.088853</td>\n",
       "      <td>NaN</td>\n",
       "      <td>-0.843295</td>\n",
       "      <td>NaN</td>\n",
       "    </tr>\n",
       "    <tr>\n",
       "      <th>1321N1</th>\n",
       "      <td>NaN</td>\n",
       "      <td>NaN</td>\n",
       "      <td>NaN</td>\n",
       "      <td>-0.028171</td>\n",
       "      <td>0.100751</td>\n",
       "      <td>-0.456124</td>\n",
       "      <td>-0.174618</td>\n",
       "      <td>NaN</td>\n",
       "      <td>NaN</td>\n",
       "      <td>NaN</td>\n",
       "      <td>...</td>\n",
       "      <td>0.074889</td>\n",
       "      <td>0.152158</td>\n",
       "      <td>0.036011</td>\n",
       "      <td>0.117300</td>\n",
       "      <td>0.101725</td>\n",
       "      <td>NaN</td>\n",
       "      <td>-0.110628</td>\n",
       "      <td>NaN</td>\n",
       "      <td>-0.307031</td>\n",
       "      <td>NaN</td>\n",
       "    </tr>\n",
       "    <tr>\n",
       "      <th>143B</th>\n",
       "      <td>0.146042</td>\n",
       "      <td>0.102854</td>\n",
       "      <td>0.168839</td>\n",
       "      <td>0.063047</td>\n",
       "      <td>-0.008077</td>\n",
       "      <td>-0.214376</td>\n",
       "      <td>-0.153619</td>\n",
       "      <td>0.133830</td>\n",
       "      <td>0.138673</td>\n",
       "      <td>0.030345</td>\n",
       "      <td>...</td>\n",
       "      <td>0.006735</td>\n",
       "      <td>-0.033385</td>\n",
       "      <td>0.197651</td>\n",
       "      <td>-0.016372</td>\n",
       "      <td>0.077486</td>\n",
       "      <td>0.106165</td>\n",
       "      <td>0.057286</td>\n",
       "      <td>0.025596</td>\n",
       "      <td>-0.413669</td>\n",
       "      <td>0.122669</td>\n",
       "    </tr>\n",
       "    <tr>\n",
       "      <th>184A1</th>\n",
       "      <td>-0.190388</td>\n",
       "      <td>0.384106</td>\n",
       "      <td>-0.120700</td>\n",
       "      <td>-0.237251</td>\n",
       "      <td>0.060267</td>\n",
       "      <td>-0.338946</td>\n",
       "      <td>-0.057551</td>\n",
       "      <td>0.134511</td>\n",
       "      <td>NaN</td>\n",
       "      <td>0.144463</td>\n",
       "      <td>...</td>\n",
       "      <td>0.209009</td>\n",
       "      <td>-0.156839</td>\n",
       "      <td>-0.155837</td>\n",
       "      <td>-0.001141</td>\n",
       "      <td>NaN</td>\n",
       "      <td>0.227968</td>\n",
       "      <td>0.028095</td>\n",
       "      <td>-0.080611</td>\n",
       "      <td>-1.849696</td>\n",
       "      <td>-0.078856</td>\n",
       "    </tr>\n",
       "    <tr>\n",
       "      <th>184B5</th>\n",
       "      <td>0.907063</td>\n",
       "      <td>0.403192</td>\n",
       "      <td>0.004394</td>\n",
       "      <td>-0.017059</td>\n",
       "      <td>-0.094749</td>\n",
       "      <td>-0.328074</td>\n",
       "      <td>-0.089573</td>\n",
       "      <td>0.362029</td>\n",
       "      <td>NaN</td>\n",
       "      <td>-0.098161</td>\n",
       "      <td>...</td>\n",
       "      <td>-0.137465</td>\n",
       "      <td>-1.037848</td>\n",
       "      <td>-0.261262</td>\n",
       "      <td>-0.228016</td>\n",
       "      <td>NaN</td>\n",
       "      <td>0.088744</td>\n",
       "      <td>0.159467</td>\n",
       "      <td>0.014071</td>\n",
       "      <td>-0.414154</td>\n",
       "      <td>0.032661</td>\n",
       "    </tr>\n",
       "    <tr>\n",
       "      <th>...</th>\n",
       "      <td>...</td>\n",
       "      <td>...</td>\n",
       "      <td>...</td>\n",
       "      <td>...</td>\n",
       "      <td>...</td>\n",
       "      <td>...</td>\n",
       "      <td>...</td>\n",
       "      <td>...</td>\n",
       "      <td>...</td>\n",
       "      <td>...</td>\n",
       "      <td>...</td>\n",
       "      <td>...</td>\n",
       "      <td>...</td>\n",
       "      <td>...</td>\n",
       "      <td>...</td>\n",
       "      <td>...</td>\n",
       "      <td>...</td>\n",
       "      <td>...</td>\n",
       "      <td>...</td>\n",
       "      <td>...</td>\n",
       "      <td>...</td>\n",
       "    </tr>\n",
       "    <tr>\n",
       "      <th>YKG1</th>\n",
       "      <td>0.111530</td>\n",
       "      <td>0.073460</td>\n",
       "      <td>0.227977</td>\n",
       "      <td>0.000769</td>\n",
       "      <td>-0.072564</td>\n",
       "      <td>-0.175593</td>\n",
       "      <td>-0.155250</td>\n",
       "      <td>0.105052</td>\n",
       "      <td>0.143781</td>\n",
       "      <td>0.357053</td>\n",
       "      <td>...</td>\n",
       "      <td>-0.079333</td>\n",
       "      <td>-0.358065</td>\n",
       "      <td>-0.090982</td>\n",
       "      <td>0.168945</td>\n",
       "      <td>-0.173036</td>\n",
       "      <td>0.141616</td>\n",
       "      <td>0.109206</td>\n",
       "      <td>0.153414</td>\n",
       "      <td>-0.046700</td>\n",
       "      <td>0.075238</td>\n",
       "    </tr>\n",
       "    <tr>\n",
       "      <th>YMB1</th>\n",
       "      <td>NaN</td>\n",
       "      <td>NaN</td>\n",
       "      <td>NaN</td>\n",
       "      <td>-0.139126</td>\n",
       "      <td>0.017161</td>\n",
       "      <td>-0.226356</td>\n",
       "      <td>-0.445319</td>\n",
       "      <td>NaN</td>\n",
       "      <td>NaN</td>\n",
       "      <td>NaN</td>\n",
       "      <td>...</td>\n",
       "      <td>-0.050825</td>\n",
       "      <td>0.286697</td>\n",
       "      <td>0.134608</td>\n",
       "      <td>-0.166845</td>\n",
       "      <td>0.065173</td>\n",
       "      <td>NaN</td>\n",
       "      <td>-0.048763</td>\n",
       "      <td>NaN</td>\n",
       "      <td>-0.865486</td>\n",
       "      <td>NaN</td>\n",
       "    </tr>\n",
       "    <tr>\n",
       "      <th>ZR751</th>\n",
       "      <td>-0.079313</td>\n",
       "      <td>-0.130921</td>\n",
       "      <td>-0.134479</td>\n",
       "      <td>0.047022</td>\n",
       "      <td>0.123615</td>\n",
       "      <td>-0.311682</td>\n",
       "      <td>-0.211145</td>\n",
       "      <td>-0.014285</td>\n",
       "      <td>0.074681</td>\n",
       "      <td>-0.053025</td>\n",
       "      <td>...</td>\n",
       "      <td>-0.143304</td>\n",
       "      <td>-0.078062</td>\n",
       "      <td>-0.022528</td>\n",
       "      <td>0.021830</td>\n",
       "      <td>0.308641</td>\n",
       "      <td>0.100142</td>\n",
       "      <td>0.128882</td>\n",
       "      <td>0.159781</td>\n",
       "      <td>-1.039110</td>\n",
       "      <td>0.100361</td>\n",
       "    </tr>\n",
       "    <tr>\n",
       "      <th>ZR7530</th>\n",
       "      <td>-0.141559</td>\n",
       "      <td>0.127358</td>\n",
       "      <td>0.083506</td>\n",
       "      <td>-0.097644</td>\n",
       "      <td>0.046846</td>\n",
       "      <td>-0.355300</td>\n",
       "      <td>-0.095010</td>\n",
       "      <td>0.049151</td>\n",
       "      <td>0.129006</td>\n",
       "      <td>0.038661</td>\n",
       "      <td>...</td>\n",
       "      <td>-0.146587</td>\n",
       "      <td>-0.050230</td>\n",
       "      <td>0.127782</td>\n",
       "      <td>-0.031292</td>\n",
       "      <td>0.035794</td>\n",
       "      <td>0.160643</td>\n",
       "      <td>-0.179656</td>\n",
       "      <td>0.286456</td>\n",
       "      <td>-0.301415</td>\n",
       "      <td>-0.117268</td>\n",
       "    </tr>\n",
       "    <tr>\n",
       "      <th>ZR75B</th>\n",
       "      <td>0.214268</td>\n",
       "      <td>-0.405974</td>\n",
       "      <td>-0.404291</td>\n",
       "      <td>-0.062622</td>\n",
       "      <td>0.125711</td>\n",
       "      <td>-0.322297</td>\n",
       "      <td>-0.051708</td>\n",
       "      <td>0.006023</td>\n",
       "      <td>NaN</td>\n",
       "      <td>0.519837</td>\n",
       "      <td>...</td>\n",
       "      <td>-0.197734</td>\n",
       "      <td>-0.238816</td>\n",
       "      <td>-0.064278</td>\n",
       "      <td>-0.474258</td>\n",
       "      <td>NaN</td>\n",
       "      <td>0.089555</td>\n",
       "      <td>-0.455001</td>\n",
       "      <td>0.047184</td>\n",
       "      <td>-0.865502</td>\n",
       "      <td>-0.036066</td>\n",
       "    </tr>\n",
       "  </tbody>\n",
       "</table>\n",
       "<p>712 rows × 17309 columns</p>\n",
       "</div>"
      ],
      "text/plain": [
       "                            A1BG      NAT2       ADA      CDH2      AKT3  \\\n",
       "cell_line_display_name                                                     \n",
       "127399                       NaN       NaN       NaN -0.194962 -0.256108   \n",
       "1321N1                       NaN       NaN       NaN -0.028171  0.100751   \n",
       "143B                    0.146042  0.102854  0.168839  0.063047 -0.008077   \n",
       "184A1                  -0.190388  0.384106 -0.120700 -0.237251  0.060267   \n",
       "184B5                   0.907063  0.403192  0.004394 -0.017059 -0.094749   \n",
       "...                          ...       ...       ...       ...       ...   \n",
       "YKG1                    0.111530  0.073460  0.227977  0.000769 -0.072564   \n",
       "YMB1                         NaN       NaN       NaN -0.139126  0.017161   \n",
       "ZR751                  -0.079313 -0.130921 -0.134479  0.047022  0.123615   \n",
       "ZR7530                 -0.141559  0.127358  0.083506 -0.097644  0.046846   \n",
       "ZR75B                   0.214268 -0.405974 -0.404291 -0.062622  0.125711   \n",
       "\n",
       "                            MED6     NR2E3   NAALAD2      DUXB   PDZK1P1  ...  \\\n",
       "cell_line_display_name                                                    ...   \n",
       "127399                 -0.174220 -0.140052       NaN       NaN       NaN  ...   \n",
       "1321N1                 -0.456124 -0.174618       NaN       NaN       NaN  ...   \n",
       "143B                   -0.214376 -0.153619  0.133830  0.138673  0.030345  ...   \n",
       "184A1                  -0.338946 -0.057551  0.134511       NaN  0.144463  ...   \n",
       "184B5                  -0.328074 -0.089573  0.362029       NaN -0.098161  ...   \n",
       "...                          ...       ...       ...       ...       ...  ...   \n",
       "YKG1                   -0.175593 -0.155250  0.105052  0.143781  0.357053  ...   \n",
       "YMB1                   -0.226356 -0.445319       NaN       NaN       NaN  ...   \n",
       "ZR751                  -0.311682 -0.211145 -0.014285  0.074681 -0.053025  ...   \n",
       "ZR7530                 -0.355300 -0.095010  0.049151  0.129006  0.038661  ...   \n",
       "ZR75B                  -0.322297 -0.051708  0.006023       NaN  0.519837  ...   \n",
       "\n",
       "                            RCE1   HNRNPDL     DMTF1    PPP4R1      CDH1  \\\n",
       "cell_line_display_name                                                     \n",
       "127399                 -0.201644 -0.363670  0.184260 -0.115616 -0.125958   \n",
       "1321N1                  0.074889  0.152158  0.036011  0.117300  0.101725   \n",
       "143B                    0.006735 -0.033385  0.197651 -0.016372  0.077486   \n",
       "184A1                   0.209009 -0.156839 -0.155837 -0.001141       NaN   \n",
       "184B5                  -0.137465 -1.037848 -0.261262 -0.228016       NaN   \n",
       "...                          ...       ...       ...       ...       ...   \n",
       "YKG1                   -0.079333 -0.358065 -0.090982  0.168945 -0.173036   \n",
       "YMB1                   -0.050825  0.286697  0.134608 -0.166845  0.065173   \n",
       "ZR751                  -0.143304 -0.078062 -0.022528  0.021830  0.308641   \n",
       "ZR7530                 -0.146587 -0.050230  0.127782 -0.031292  0.035794   \n",
       "ZR75B                  -0.197734 -0.238816 -0.064278 -0.474258       NaN   \n",
       "\n",
       "                         SLC12A6     KCNE2     DGCR2  CASP8AP2      SCO2  \n",
       "cell_line_display_name                                                    \n",
       "127399                       NaN  0.088853       NaN -0.843295       NaN  \n",
       "1321N1                       NaN -0.110628       NaN -0.307031       NaN  \n",
       "143B                    0.106165  0.057286  0.025596 -0.413669  0.122669  \n",
       "184A1                   0.227968  0.028095 -0.080611 -1.849696 -0.078856  \n",
       "184B5                   0.088744  0.159467  0.014071 -0.414154  0.032661  \n",
       "...                          ...       ...       ...       ...       ...  \n",
       "YKG1                    0.141616  0.109206  0.153414 -0.046700  0.075238  \n",
       "YMB1                         NaN -0.048763       NaN -0.865486       NaN  \n",
       "ZR751                   0.100142  0.128882  0.159781 -1.039110  0.100361  \n",
       "ZR7530                  0.160643 -0.179656  0.286456 -0.301415 -0.117268  \n",
       "ZR75B                   0.089555 -0.455001  0.047184 -0.865502 -0.036066  \n",
       "\n",
       "[712 rows x 17309 columns]"
      ]
     },
     "execution_count": 257,
     "metadata": {},
     "output_type": "execute_result"
    }
   ],
   "source": [
    "df"
   ]
  },
  {
   "cell_type": "markdown",
   "metadata": {},
   "source": [
    "**Some housekeeping first:** We'll get rid of the Entrez ID, and we'll also remove the lineage type from the cell line name so we can merge it to other datasets later."
   ]
  },
  {
   "cell_type": "code",
   "execution_count": 20,
   "metadata": {},
   "outputs": [],
   "source": [
    "df.columns = [ x.split(\" \")[0] for x in df.columns ]\n",
    "cell_line_name = [ x.split(\"_\")[0] for x in df.index ]\n",
    "df.index = cell_line_name\n",
    "df.index.name = 'cell_line_display_name'"
   ]
  },
  {
   "cell_type": "code",
   "execution_count": 260,
   "metadata": {},
   "outputs": [
    {
     "data": {
      "text/plain": [
       "-0.281954973202"
      ]
     },
     "execution_count": 260,
     "metadata": {},
     "output_type": "execute_result"
    }
   ],
   "source": [
    "df['MAT2A'].median()"
   ]
  },
  {
   "cell_type": "markdown",
   "metadata": {},
   "source": [
    "### Additional Data\n",
    "\n",
    "Ok, now before we start building on top of the data, let's learn how to combine with other datasets. What we have above is the gene dependency: i.e., how essential a gene is for the proliferation of a given cell line. That gives us an idea about potential targets for treatment. \n",
    "\n",
    "Now we will introduce the **copy number** and **gene expression** data. Gene expression tells us how genes are activated or suppressed in cancer cells, helping to identify potential targets for treatment, understand cancer progression, and develop personalized therapies. Copy number refers to the number of copies of a particular gene present in the genome of a cell. In cancer cells, the copy number of certain genes can vary due to genetic abnormalities.\n",
    "\n",
    "To get this data, you can go to Custom Downloads in depmap, and select the information you need. We're now focusing on the following genes for simplicity: \n",
    "* PRMT5 MTAP MAT2A ZNF185 PDGFRB GJA1 MUCL1 MAP1A. \n",
    "\n",
    "How did we decide on these? Magic. "
   ]
  },
  {
   "cell_type": "code",
   "execution_count": 273,
   "metadata": {},
   "outputs": [
    {
     "data": {
      "text/html": [
       "<div>\n",
       "<style scoped>\n",
       "    .dataframe tbody tr th:only-of-type {\n",
       "        vertical-align: middle;\n",
       "    }\n",
       "\n",
       "    .dataframe tbody tr th {\n",
       "        vertical-align: top;\n",
       "    }\n",
       "\n",
       "    .dataframe thead th {\n",
       "        text-align: right;\n",
       "    }\n",
       "</style>\n",
       "<table border=\"1\" class=\"dataframe\">\n",
       "  <thead>\n",
       "    <tr style=\"text-align: right;\">\n",
       "      <th></th>\n",
       "      <th>depmap_id</th>\n",
       "      <th>lineage_1</th>\n",
       "      <th>lineage_2</th>\n",
       "      <th>lineage_3</th>\n",
       "      <th>lineage_5</th>\n",
       "      <th>lineage_6</th>\n",
       "      <th>Copy Number Public 23Q4 MUCL1</th>\n",
       "      <th>Copy Number Public 23Q4 PRMT5</th>\n",
       "      <th>Copy Number Public 23Q4 MAP1A</th>\n",
       "      <th>Copy Number Public 23Q4 MAT2A</th>\n",
       "      <th>...</th>\n",
       "      <th>Copy Number Public 23Q4 MTAP</th>\n",
       "      <th>Copy Number Public 23Q4 ZNF185</th>\n",
       "      <th>Expression Public 23Q4 MTAP</th>\n",
       "      <th>Expression Public 23Q4 PRMT5</th>\n",
       "      <th>Expression Public 23Q4 PDGFRB</th>\n",
       "      <th>Expression Public 23Q4 ZNF185</th>\n",
       "      <th>Expression Public 23Q4 GJA1</th>\n",
       "      <th>Expression Public 23Q4 MAP1A</th>\n",
       "      <th>Expression Public 23Q4 MAT2A</th>\n",
       "      <th>Expression Public 23Q4 MUCL1</th>\n",
       "    </tr>\n",
       "    <tr>\n",
       "      <th>cell_line_display_name</th>\n",
       "      <th></th>\n",
       "      <th></th>\n",
       "      <th></th>\n",
       "      <th></th>\n",
       "      <th></th>\n",
       "      <th></th>\n",
       "      <th></th>\n",
       "      <th></th>\n",
       "      <th></th>\n",
       "      <th></th>\n",
       "      <th></th>\n",
       "      <th></th>\n",
       "      <th></th>\n",
       "      <th></th>\n",
       "      <th></th>\n",
       "      <th></th>\n",
       "      <th></th>\n",
       "      <th></th>\n",
       "      <th></th>\n",
       "      <th></th>\n",
       "      <th></th>\n",
       "    </tr>\n",
       "  </thead>\n",
       "  <tbody>\n",
       "    <tr>\n",
       "      <th>127399</th>\n",
       "      <td>ACH-001270</td>\n",
       "      <td>Soft Tissue</td>\n",
       "      <td>Synovial Sarcoma</td>\n",
       "      <td>Synovial Sarcoma</td>\n",
       "      <td>NaN</td>\n",
       "      <td>NaN</td>\n",
       "      <td>0.794242</td>\n",
       "      <td>0.809720</td>\n",
       "      <td>0.789335</td>\n",
       "      <td>1.049616</td>\n",
       "      <td>...</td>\n",
       "      <td>1.054304</td>\n",
       "      <td>0.744569</td>\n",
       "      <td>4.959306</td>\n",
       "      <td>5.880686</td>\n",
       "      <td>6.083852</td>\n",
       "      <td>3.100978</td>\n",
       "      <td>4.517276</td>\n",
       "      <td>0.321928</td>\n",
       "      <td>7.053003</td>\n",
       "      <td>0.0</td>\n",
       "    </tr>\n",
       "    <tr>\n",
       "      <th>170MGBA</th>\n",
       "      <td>ACH-002680</td>\n",
       "      <td>CNS/Brain</td>\n",
       "      <td>Diffuse Glioma</td>\n",
       "      <td>Glioblastoma</td>\n",
       "      <td>Glioblastoma</td>\n",
       "      <td>NaN</td>\n",
       "      <td>0.944380</td>\n",
       "      <td>0.599010</td>\n",
       "      <td>0.716587</td>\n",
       "      <td>1.030777</td>\n",
       "      <td>...</td>\n",
       "      <td>0.429817</td>\n",
       "      <td>0.780689</td>\n",
       "      <td>3.500802</td>\n",
       "      <td>4.947666</td>\n",
       "      <td>6.081723</td>\n",
       "      <td>0.815575</td>\n",
       "      <td>8.105385</td>\n",
       "      <td>5.461398</td>\n",
       "      <td>7.079698</td>\n",
       "      <td>0.0</td>\n",
       "    </tr>\n",
       "    <tr>\n",
       "      <th>1777NRPMET</th>\n",
       "      <td>ACH-001438</td>\n",
       "      <td>Testis</td>\n",
       "      <td>Non-Seminomatous Germ Cell Tumor</td>\n",
       "      <td>Embryonal Carcinoma</td>\n",
       "      <td>NaN</td>\n",
       "      <td>NaN</td>\n",
       "      <td>1.077300</td>\n",
       "      <td>0.867353</td>\n",
       "      <td>0.840880</td>\n",
       "      <td>1.052921</td>\n",
       "      <td>...</td>\n",
       "      <td>0.918797</td>\n",
       "      <td>0.746289</td>\n",
       "      <td>4.665052</td>\n",
       "      <td>6.203788</td>\n",
       "      <td>5.103917</td>\n",
       "      <td>3.813525</td>\n",
       "      <td>7.075319</td>\n",
       "      <td>1.682573</td>\n",
       "      <td>6.453847</td>\n",
       "      <td>0.0</td>\n",
       "    </tr>\n",
       "    <tr>\n",
       "      <th>201T</th>\n",
       "      <td>ACH-002089</td>\n",
       "      <td>Lung</td>\n",
       "      <td>Non-Small Cell Lung Cancer</td>\n",
       "      <td>Lung Adenocarcinoma</td>\n",
       "      <td>NSCLC Adenocarcinoma</td>\n",
       "      <td>NaN</td>\n",
       "      <td>1.073952</td>\n",
       "      <td>1.017229</td>\n",
       "      <td>0.992259</td>\n",
       "      <td>0.931516</td>\n",
       "      <td>...</td>\n",
       "      <td>0.000294</td>\n",
       "      <td>0.644727</td>\n",
       "      <td>NaN</td>\n",
       "      <td>NaN</td>\n",
       "      <td>NaN</td>\n",
       "      <td>NaN</td>\n",
       "      <td>NaN</td>\n",
       "      <td>NaN</td>\n",
       "      <td>NaN</td>\n",
       "      <td>NaN</td>\n",
       "    </tr>\n",
       "    <tr>\n",
       "      <th>21NT</th>\n",
       "      <td>ACH-002399</td>\n",
       "      <td>Breast</td>\n",
       "      <td>Invasive Breast Carcinoma</td>\n",
       "      <td>Breast Invasive Ductal Carcinoma</td>\n",
       "      <td>NaN</td>\n",
       "      <td>NaN</td>\n",
       "      <td>0.897753</td>\n",
       "      <td>1.113557</td>\n",
       "      <td>0.867614</td>\n",
       "      <td>0.956954</td>\n",
       "      <td>...</td>\n",
       "      <td>0.883159</td>\n",
       "      <td>0.807497</td>\n",
       "      <td>NaN</td>\n",
       "      <td>NaN</td>\n",
       "      <td>NaN</td>\n",
       "      <td>NaN</td>\n",
       "      <td>NaN</td>\n",
       "      <td>NaN</td>\n",
       "      <td>NaN</td>\n",
       "      <td>NaN</td>\n",
       "    </tr>\n",
       "  </tbody>\n",
       "</table>\n",
       "<p>5 rows × 22 columns</p>\n",
       "</div>"
      ],
      "text/plain": [
       "                         depmap_id    lineage_1  \\\n",
       "cell_line_display_name                            \n",
       "127399                  ACH-001270  Soft Tissue   \n",
       "170MGBA                 ACH-002680    CNS/Brain   \n",
       "1777NRPMET              ACH-001438       Testis   \n",
       "201T                    ACH-002089         Lung   \n",
       "21NT                    ACH-002399       Breast   \n",
       "\n",
       "                                               lineage_2  \\\n",
       "cell_line_display_name                                     \n",
       "127399                                  Synovial Sarcoma   \n",
       "170MGBA                                   Diffuse Glioma   \n",
       "1777NRPMET              Non-Seminomatous Germ Cell Tumor   \n",
       "201T                          Non-Small Cell Lung Cancer   \n",
       "21NT                           Invasive Breast Carcinoma   \n",
       "\n",
       "                                               lineage_3  \\\n",
       "cell_line_display_name                                     \n",
       "127399                                  Synovial Sarcoma   \n",
       "170MGBA                                     Glioblastoma   \n",
       "1777NRPMET                           Embryonal Carcinoma   \n",
       "201T                                 Lung Adenocarcinoma   \n",
       "21NT                    Breast Invasive Ductal Carcinoma   \n",
       "\n",
       "                                   lineage_5 lineage_6  \\\n",
       "cell_line_display_name                                   \n",
       "127399                                   NaN       NaN   \n",
       "170MGBA                         Glioblastoma       NaN   \n",
       "1777NRPMET                               NaN       NaN   \n",
       "201T                    NSCLC Adenocarcinoma       NaN   \n",
       "21NT                                     NaN       NaN   \n",
       "\n",
       "                        Copy Number Public 23Q4 MUCL1  \\\n",
       "cell_line_display_name                                  \n",
       "127399                                       0.794242   \n",
       "170MGBA                                      0.944380   \n",
       "1777NRPMET                                   1.077300   \n",
       "201T                                         1.073952   \n",
       "21NT                                         0.897753   \n",
       "\n",
       "                        Copy Number Public 23Q4 PRMT5  \\\n",
       "cell_line_display_name                                  \n",
       "127399                                       0.809720   \n",
       "170MGBA                                      0.599010   \n",
       "1777NRPMET                                   0.867353   \n",
       "201T                                         1.017229   \n",
       "21NT                                         1.113557   \n",
       "\n",
       "                        Copy Number Public 23Q4 MAP1A  \\\n",
       "cell_line_display_name                                  \n",
       "127399                                       0.789335   \n",
       "170MGBA                                      0.716587   \n",
       "1777NRPMET                                   0.840880   \n",
       "201T                                         0.992259   \n",
       "21NT                                         0.867614   \n",
       "\n",
       "                        Copy Number Public 23Q4 MAT2A  ...  \\\n",
       "cell_line_display_name                                 ...   \n",
       "127399                                       1.049616  ...   \n",
       "170MGBA                                      1.030777  ...   \n",
       "1777NRPMET                                   1.052921  ...   \n",
       "201T                                         0.931516  ...   \n",
       "21NT                                         0.956954  ...   \n",
       "\n",
       "                        Copy Number Public 23Q4 MTAP  \\\n",
       "cell_line_display_name                                 \n",
       "127399                                      1.054304   \n",
       "170MGBA                                     0.429817   \n",
       "1777NRPMET                                  0.918797   \n",
       "201T                                        0.000294   \n",
       "21NT                                        0.883159   \n",
       "\n",
       "                        Copy Number Public 23Q4 ZNF185  \\\n",
       "cell_line_display_name                                   \n",
       "127399                                        0.744569   \n",
       "170MGBA                                       0.780689   \n",
       "1777NRPMET                                    0.746289   \n",
       "201T                                          0.644727   \n",
       "21NT                                          0.807497   \n",
       "\n",
       "                        Expression Public 23Q4 MTAP  \\\n",
       "cell_line_display_name                                \n",
       "127399                                     4.959306   \n",
       "170MGBA                                    3.500802   \n",
       "1777NRPMET                                 4.665052   \n",
       "201T                                            NaN   \n",
       "21NT                                            NaN   \n",
       "\n",
       "                        Expression Public 23Q4 PRMT5  \\\n",
       "cell_line_display_name                                 \n",
       "127399                                      5.880686   \n",
       "170MGBA                                     4.947666   \n",
       "1777NRPMET                                  6.203788   \n",
       "201T                                             NaN   \n",
       "21NT                                             NaN   \n",
       "\n",
       "                        Expression Public 23Q4 PDGFRB  \\\n",
       "cell_line_display_name                                  \n",
       "127399                                       6.083852   \n",
       "170MGBA                                      6.081723   \n",
       "1777NRPMET                                   5.103917   \n",
       "201T                                              NaN   \n",
       "21NT                                              NaN   \n",
       "\n",
       "                        Expression Public 23Q4 ZNF185  \\\n",
       "cell_line_display_name                                  \n",
       "127399                                       3.100978   \n",
       "170MGBA                                      0.815575   \n",
       "1777NRPMET                                   3.813525   \n",
       "201T                                              NaN   \n",
       "21NT                                              NaN   \n",
       "\n",
       "                        Expression Public 23Q4 GJA1  \\\n",
       "cell_line_display_name                                \n",
       "127399                                     4.517276   \n",
       "170MGBA                                    8.105385   \n",
       "1777NRPMET                                 7.075319   \n",
       "201T                                            NaN   \n",
       "21NT                                            NaN   \n",
       "\n",
       "                        Expression Public 23Q4 MAP1A  \\\n",
       "cell_line_display_name                                 \n",
       "127399                                      0.321928   \n",
       "170MGBA                                     5.461398   \n",
       "1777NRPMET                                  1.682573   \n",
       "201T                                             NaN   \n",
       "21NT                                             NaN   \n",
       "\n",
       "                        Expression Public 23Q4 MAT2A  \\\n",
       "cell_line_display_name                                 \n",
       "127399                                      7.053003   \n",
       "170MGBA                                     7.079698   \n",
       "1777NRPMET                                  6.453847   \n",
       "201T                                             NaN   \n",
       "21NT                                             NaN   \n",
       "\n",
       "                        Expression Public 23Q4 MUCL1  \n",
       "cell_line_display_name                                \n",
       "127399                                           0.0  \n",
       "170MGBA                                          0.0  \n",
       "1777NRPMET                                       0.0  \n",
       "201T                                             NaN  \n",
       "21NT                                             NaN  \n",
       "\n",
       "[5 rows x 22 columns]"
      ]
     },
     "execution_count": 273,
     "metadata": {},
     "output_type": "execute_result"
    }
   ],
   "source": [
    "additional = pd.read_csv('https://raw.githubusercontent.com/Hitchhikers-AI-Guide/AIGuideToDrugDiscovery/main/data/depmap_export.csv', index_col=1).dropna(axis=1, how='all').dropna(axis=0, how='all') #removing empty rows and columns\n",
    "additional.head(5)"
   ]
  },
  {
   "cell_type": "code",
   "execution_count": 272,
   "metadata": {},
   "outputs": [
    {
     "data": {
      "text/html": [
       "<div>\n",
       "<style scoped>\n",
       "    .dataframe tbody tr th:only-of-type {\n",
       "        vertical-align: middle;\n",
       "    }\n",
       "\n",
       "    .dataframe tbody tr th {\n",
       "        vertical-align: top;\n",
       "    }\n",
       "\n",
       "    .dataframe thead th {\n",
       "        text-align: right;\n",
       "    }\n",
       "</style>\n",
       "<table border=\"1\" class=\"dataframe\">\n",
       "  <thead>\n",
       "    <tr style=\"text-align: right;\">\n",
       "      <th></th>\n",
       "      <th>depmap_id</th>\n",
       "      <th>cell_line_display_name</th>\n",
       "      <th>lineage_1</th>\n",
       "      <th>lineage_2</th>\n",
       "      <th>lineage_3</th>\n",
       "      <th>lineage_5</th>\n",
       "      <th>lineage_6</th>\n",
       "      <th>lineage_4</th>\n",
       "      <th>Copy Number Public 23Q4 MUCL1</th>\n",
       "      <th>Copy Number Public 23Q4 PRMT5</th>\n",
       "      <th>...</th>\n",
       "      <th>Copy Number Public 23Q4 MTAP</th>\n",
       "      <th>Copy Number Public 23Q4 ZNF185</th>\n",
       "      <th>Expression Public 23Q4 MTAP</th>\n",
       "      <th>Expression Public 23Q4 PRMT5</th>\n",
       "      <th>Expression Public 23Q4 PDGFRB</th>\n",
       "      <th>Expression Public 23Q4 ZNF185</th>\n",
       "      <th>Expression Public 23Q4 GJA1</th>\n",
       "      <th>Expression Public 23Q4 MAP1A</th>\n",
       "      <th>Expression Public 23Q4 MAT2A</th>\n",
       "      <th>Expression Public 23Q4 MUCL1</th>\n",
       "    </tr>\n",
       "  </thead>\n",
       "  <tbody>\n",
       "    <tr>\n",
       "      <th>0</th>\n",
       "      <td>ACH-001270</td>\n",
       "      <td>127399</td>\n",
       "      <td>Soft Tissue</td>\n",
       "      <td>Synovial Sarcoma</td>\n",
       "      <td>Synovial Sarcoma</td>\n",
       "      <td>NaN</td>\n",
       "      <td>NaN</td>\n",
       "      <td>NaN</td>\n",
       "      <td>0.794242</td>\n",
       "      <td>0.809720</td>\n",
       "      <td>...</td>\n",
       "      <td>1.054304</td>\n",
       "      <td>0.744569</td>\n",
       "      <td>4.959306</td>\n",
       "      <td>5.880686</td>\n",
       "      <td>6.083852</td>\n",
       "      <td>3.100978</td>\n",
       "      <td>4.517276</td>\n",
       "      <td>0.321928</td>\n",
       "      <td>7.053003</td>\n",
       "      <td>0.0</td>\n",
       "    </tr>\n",
       "    <tr>\n",
       "      <th>1</th>\n",
       "      <td>ACH-002680</td>\n",
       "      <td>170MGBA</td>\n",
       "      <td>CNS/Brain</td>\n",
       "      <td>Diffuse Glioma</td>\n",
       "      <td>Glioblastoma</td>\n",
       "      <td>Glioblastoma</td>\n",
       "      <td>NaN</td>\n",
       "      <td>NaN</td>\n",
       "      <td>0.944380</td>\n",
       "      <td>0.599010</td>\n",
       "      <td>...</td>\n",
       "      <td>0.429817</td>\n",
       "      <td>0.780689</td>\n",
       "      <td>3.500802</td>\n",
       "      <td>4.947666</td>\n",
       "      <td>6.081723</td>\n",
       "      <td>0.815575</td>\n",
       "      <td>8.105385</td>\n",
       "      <td>5.461398</td>\n",
       "      <td>7.079698</td>\n",
       "      <td>0.0</td>\n",
       "    </tr>\n",
       "    <tr>\n",
       "      <th>2</th>\n",
       "      <td>ACH-001438</td>\n",
       "      <td>1777NRPMET</td>\n",
       "      <td>Testis</td>\n",
       "      <td>Non-Seminomatous Germ Cell Tumor</td>\n",
       "      <td>Embryonal Carcinoma</td>\n",
       "      <td>NaN</td>\n",
       "      <td>NaN</td>\n",
       "      <td>NaN</td>\n",
       "      <td>1.077300</td>\n",
       "      <td>0.867353</td>\n",
       "      <td>...</td>\n",
       "      <td>0.918797</td>\n",
       "      <td>0.746289</td>\n",
       "      <td>4.665052</td>\n",
       "      <td>6.203788</td>\n",
       "      <td>5.103917</td>\n",
       "      <td>3.813525</td>\n",
       "      <td>7.075319</td>\n",
       "      <td>1.682573</td>\n",
       "      <td>6.453847</td>\n",
       "      <td>0.0</td>\n",
       "    </tr>\n",
       "    <tr>\n",
       "      <th>3</th>\n",
       "      <td>ACH-002089</td>\n",
       "      <td>201T</td>\n",
       "      <td>Lung</td>\n",
       "      <td>Non-Small Cell Lung Cancer</td>\n",
       "      <td>Lung Adenocarcinoma</td>\n",
       "      <td>NSCLC Adenocarcinoma</td>\n",
       "      <td>NaN</td>\n",
       "      <td>NaN</td>\n",
       "      <td>1.073952</td>\n",
       "      <td>1.017229</td>\n",
       "      <td>...</td>\n",
       "      <td>0.000294</td>\n",
       "      <td>0.644727</td>\n",
       "      <td>NaN</td>\n",
       "      <td>NaN</td>\n",
       "      <td>NaN</td>\n",
       "      <td>NaN</td>\n",
       "      <td>NaN</td>\n",
       "      <td>NaN</td>\n",
       "      <td>NaN</td>\n",
       "      <td>NaN</td>\n",
       "    </tr>\n",
       "    <tr>\n",
       "      <th>4</th>\n",
       "      <td>ACH-002399</td>\n",
       "      <td>21NT</td>\n",
       "      <td>Breast</td>\n",
       "      <td>Invasive Breast Carcinoma</td>\n",
       "      <td>Breast Invasive Ductal Carcinoma</td>\n",
       "      <td>NaN</td>\n",
       "      <td>NaN</td>\n",
       "      <td>NaN</td>\n",
       "      <td>0.897753</td>\n",
       "      <td>1.113557</td>\n",
       "      <td>...</td>\n",
       "      <td>0.883159</td>\n",
       "      <td>0.807497</td>\n",
       "      <td>NaN</td>\n",
       "      <td>NaN</td>\n",
       "      <td>NaN</td>\n",
       "      <td>NaN</td>\n",
       "      <td>NaN</td>\n",
       "      <td>NaN</td>\n",
       "      <td>NaN</td>\n",
       "      <td>NaN</td>\n",
       "    </tr>\n",
       "    <tr>\n",
       "      <th>...</th>\n",
       "      <td>...</td>\n",
       "      <td>...</td>\n",
       "      <td>...</td>\n",
       "      <td>...</td>\n",
       "      <td>...</td>\n",
       "      <td>...</td>\n",
       "      <td>...</td>\n",
       "      <td>...</td>\n",
       "      <td>...</td>\n",
       "      <td>...</td>\n",
       "      <td>...</td>\n",
       "      <td>...</td>\n",
       "      <td>...</td>\n",
       "      <td>...</td>\n",
       "      <td>...</td>\n",
       "      <td>...</td>\n",
       "      <td>...</td>\n",
       "      <td>...</td>\n",
       "      <td>...</td>\n",
       "      <td>...</td>\n",
       "      <td>...</td>\n",
       "    </tr>\n",
       "    <tr>\n",
       "      <th>1817</th>\n",
       "      <td>ACH-000146</td>\n",
       "      <td>THP1</td>\n",
       "      <td>Myeloid</td>\n",
       "      <td>Acute Myeloid Leukemia</td>\n",
       "      <td>Acute Myeloid Leukemia</td>\n",
       "      <td>M5</td>\n",
       "      <td>NaN</td>\n",
       "      <td>NaN</td>\n",
       "      <td>0.991017</td>\n",
       "      <td>0.983336</td>\n",
       "      <td>...</td>\n",
       "      <td>0.000115</td>\n",
       "      <td>0.584093</td>\n",
       "      <td>0.084064</td>\n",
       "      <td>6.691534</td>\n",
       "      <td>1.117695</td>\n",
       "      <td>0.454176</td>\n",
       "      <td>0.176323</td>\n",
       "      <td>0.084064</td>\n",
       "      <td>8.017254</td>\n",
       "      <td>0.0</td>\n",
       "    </tr>\n",
       "    <tr>\n",
       "      <th>1818</th>\n",
       "      <td>ACH-000835</td>\n",
       "      <td>GCT</td>\n",
       "      <td>Soft Tissue</td>\n",
       "      <td>Undifferentiated Pleomorphic Sarcoma/Malignant...</td>\n",
       "      <td>Undifferentiated Pleomorphic Sarcoma/Malignant...</td>\n",
       "      <td>NaN</td>\n",
       "      <td>NaN</td>\n",
       "      <td>NaN</td>\n",
       "      <td>1.028573</td>\n",
       "      <td>1.015083</td>\n",
       "      <td>...</td>\n",
       "      <td>0.765158</td>\n",
       "      <td>0.523483</td>\n",
       "      <td>5.072963</td>\n",
       "      <td>7.163499</td>\n",
       "      <td>2.613532</td>\n",
       "      <td>3.472488</td>\n",
       "      <td>4.550901</td>\n",
       "      <td>1.389567</td>\n",
       "      <td>7.982594</td>\n",
       "      <td>0.0</td>\n",
       "    </tr>\n",
       "    <tr>\n",
       "      <th>1819</th>\n",
       "      <td>ACH-001300</td>\n",
       "      <td>CHLA15</td>\n",
       "      <td>Peripheral Nervous System</td>\n",
       "      <td>Neuroblastoma</td>\n",
       "      <td>Neuroblastoma</td>\n",
       "      <td>NaN</td>\n",
       "      <td>NaN</td>\n",
       "      <td>NaN</td>\n",
       "      <td>1.239743</td>\n",
       "      <td>0.945503</td>\n",
       "      <td>...</td>\n",
       "      <td>0.937817</td>\n",
       "      <td>0.883267</td>\n",
       "      <td>3.878725</td>\n",
       "      <td>6.396262</td>\n",
       "      <td>3.816600</td>\n",
       "      <td>0.978196</td>\n",
       "      <td>2.319040</td>\n",
       "      <td>2.687061</td>\n",
       "      <td>7.652702</td>\n",
       "      <td>0.0</td>\n",
       "    </tr>\n",
       "    <tr>\n",
       "      <th>1820</th>\n",
       "      <td>ACH-001301</td>\n",
       "      <td>COGN278</td>\n",
       "      <td>Peripheral Nervous System</td>\n",
       "      <td>Neuroblastoma</td>\n",
       "      <td>Neuroblastoma</td>\n",
       "      <td>NaN</td>\n",
       "      <td>MYCN Amp</td>\n",
       "      <td>NaN</td>\n",
       "      <td>0.991967</td>\n",
       "      <td>0.983763</td>\n",
       "      <td>...</td>\n",
       "      <td>0.990240</td>\n",
       "      <td>1.000230</td>\n",
       "      <td>4.524816</td>\n",
       "      <td>6.962318</td>\n",
       "      <td>2.831877</td>\n",
       "      <td>0.773996</td>\n",
       "      <td>5.000451</td>\n",
       "      <td>3.119356</td>\n",
       "      <td>7.330021</td>\n",
       "      <td>0.0</td>\n",
       "    </tr>\n",
       "    <tr>\n",
       "      <th>1821</th>\n",
       "      <td>ACH-001302</td>\n",
       "      <td>COGN305</td>\n",
       "      <td>Peripheral Nervous System</td>\n",
       "      <td>Neuroblastoma</td>\n",
       "      <td>Neuroblastoma</td>\n",
       "      <td>NaN</td>\n",
       "      <td>MYCN Amp</td>\n",
       "      <td>NaN</td>\n",
       "      <td>1.025077</td>\n",
       "      <td>1.033574</td>\n",
       "      <td>...</td>\n",
       "      <td>1.034017</td>\n",
       "      <td>0.976925</td>\n",
       "      <td>4.115200</td>\n",
       "      <td>6.409900</td>\n",
       "      <td>2.403268</td>\n",
       "      <td>1.163499</td>\n",
       "      <td>0.056584</td>\n",
       "      <td>3.499527</td>\n",
       "      <td>7.817048</td>\n",
       "      <td>0.0</td>\n",
       "    </tr>\n",
       "  </tbody>\n",
       "</table>\n",
       "<p>1822 rows × 24 columns</p>\n",
       "</div>"
      ],
      "text/plain": [
       "       depmap_id cell_line_display_name                  lineage_1  \\\n",
       "0     ACH-001270                 127399                Soft Tissue   \n",
       "1     ACH-002680                170MGBA                  CNS/Brain   \n",
       "2     ACH-001438             1777NRPMET                     Testis   \n",
       "3     ACH-002089                   201T                       Lung   \n",
       "4     ACH-002399                   21NT                     Breast   \n",
       "...          ...                    ...                        ...   \n",
       "1817  ACH-000146                   THP1                    Myeloid   \n",
       "1818  ACH-000835                    GCT                Soft Tissue   \n",
       "1819  ACH-001300                 CHLA15  Peripheral Nervous System   \n",
       "1820  ACH-001301                COGN278  Peripheral Nervous System   \n",
       "1821  ACH-001302                COGN305  Peripheral Nervous System   \n",
       "\n",
       "                                              lineage_2  \\\n",
       "0                                      Synovial Sarcoma   \n",
       "1                                        Diffuse Glioma   \n",
       "2                      Non-Seminomatous Germ Cell Tumor   \n",
       "3                            Non-Small Cell Lung Cancer   \n",
       "4                             Invasive Breast Carcinoma   \n",
       "...                                                 ...   \n",
       "1817                             Acute Myeloid Leukemia   \n",
       "1818  Undifferentiated Pleomorphic Sarcoma/Malignant...   \n",
       "1819                                      Neuroblastoma   \n",
       "1820                                      Neuroblastoma   \n",
       "1821                                      Neuroblastoma   \n",
       "\n",
       "                                              lineage_3             lineage_5  \\\n",
       "0                                      Synovial Sarcoma                   NaN   \n",
       "1                                          Glioblastoma          Glioblastoma   \n",
       "2                                   Embryonal Carcinoma                   NaN   \n",
       "3                                   Lung Adenocarcinoma  NSCLC Adenocarcinoma   \n",
       "4                      Breast Invasive Ductal Carcinoma                   NaN   \n",
       "...                                                 ...                   ...   \n",
       "1817                             Acute Myeloid Leukemia                    M5   \n",
       "1818  Undifferentiated Pleomorphic Sarcoma/Malignant...                   NaN   \n",
       "1819                                      Neuroblastoma                   NaN   \n",
       "1820                                      Neuroblastoma                   NaN   \n",
       "1821                                      Neuroblastoma                   NaN   \n",
       "\n",
       "     lineage_6  lineage_4  Copy Number Public 23Q4 MUCL1  \\\n",
       "0          NaN        NaN                       0.794242   \n",
       "1          NaN        NaN                       0.944380   \n",
       "2          NaN        NaN                       1.077300   \n",
       "3          NaN        NaN                       1.073952   \n",
       "4          NaN        NaN                       0.897753   \n",
       "...        ...        ...                            ...   \n",
       "1817       NaN        NaN                       0.991017   \n",
       "1818       NaN        NaN                       1.028573   \n",
       "1819       NaN        NaN                       1.239743   \n",
       "1820  MYCN Amp        NaN                       0.991967   \n",
       "1821  MYCN Amp        NaN                       1.025077   \n",
       "\n",
       "      Copy Number Public 23Q4 PRMT5  ...  Copy Number Public 23Q4 MTAP  \\\n",
       "0                          0.809720  ...                      1.054304   \n",
       "1                          0.599010  ...                      0.429817   \n",
       "2                          0.867353  ...                      0.918797   \n",
       "3                          1.017229  ...                      0.000294   \n",
       "4                          1.113557  ...                      0.883159   \n",
       "...                             ...  ...                           ...   \n",
       "1817                       0.983336  ...                      0.000115   \n",
       "1818                       1.015083  ...                      0.765158   \n",
       "1819                       0.945503  ...                      0.937817   \n",
       "1820                       0.983763  ...                      0.990240   \n",
       "1821                       1.033574  ...                      1.034017   \n",
       "\n",
       "      Copy Number Public 23Q4 ZNF185  Expression Public 23Q4 MTAP  \\\n",
       "0                           0.744569                     4.959306   \n",
       "1                           0.780689                     3.500802   \n",
       "2                           0.746289                     4.665052   \n",
       "3                           0.644727                          NaN   \n",
       "4                           0.807497                          NaN   \n",
       "...                              ...                          ...   \n",
       "1817                        0.584093                     0.084064   \n",
       "1818                        0.523483                     5.072963   \n",
       "1819                        0.883267                     3.878725   \n",
       "1820                        1.000230                     4.524816   \n",
       "1821                        0.976925                     4.115200   \n",
       "\n",
       "      Expression Public 23Q4 PRMT5  Expression Public 23Q4 PDGFRB  \\\n",
       "0                         5.880686                       6.083852   \n",
       "1                         4.947666                       6.081723   \n",
       "2                         6.203788                       5.103917   \n",
       "3                              NaN                            NaN   \n",
       "4                              NaN                            NaN   \n",
       "...                            ...                            ...   \n",
       "1817                      6.691534                       1.117695   \n",
       "1818                      7.163499                       2.613532   \n",
       "1819                      6.396262                       3.816600   \n",
       "1820                      6.962318                       2.831877   \n",
       "1821                      6.409900                       2.403268   \n",
       "\n",
       "      Expression Public 23Q4 ZNF185  Expression Public 23Q4 GJA1  \\\n",
       "0                          3.100978                     4.517276   \n",
       "1                          0.815575                     8.105385   \n",
       "2                          3.813525                     7.075319   \n",
       "3                               NaN                          NaN   \n",
       "4                               NaN                          NaN   \n",
       "...                             ...                          ...   \n",
       "1817                       0.454176                     0.176323   \n",
       "1818                       3.472488                     4.550901   \n",
       "1819                       0.978196                     2.319040   \n",
       "1820                       0.773996                     5.000451   \n",
       "1821                       1.163499                     0.056584   \n",
       "\n",
       "      Expression Public 23Q4 MAP1A  Expression Public 23Q4 MAT2A  \\\n",
       "0                         0.321928                      7.053003   \n",
       "1                         5.461398                      7.079698   \n",
       "2                         1.682573                      6.453847   \n",
       "3                              NaN                           NaN   \n",
       "4                              NaN                           NaN   \n",
       "...                            ...                           ...   \n",
       "1817                      0.084064                      8.017254   \n",
       "1818                      1.389567                      7.982594   \n",
       "1819                      2.687061                      7.652702   \n",
       "1820                      3.119356                      7.330021   \n",
       "1821                      3.499527                      7.817048   \n",
       "\n",
       "      Expression Public 23Q4 MUCL1  \n",
       "0                              0.0  \n",
       "1                              0.0  \n",
       "2                              0.0  \n",
       "3                              NaN  \n",
       "4                              NaN  \n",
       "...                            ...  \n",
       "1817                           0.0  \n",
       "1818                           0.0  \n",
       "1819                           0.0  \n",
       "1820                           0.0  \n",
       "1821                           0.0  \n",
       "\n",
       "[1822 rows x 24 columns]"
      ]
     },
     "execution_count": 272,
     "metadata": {},
     "output_type": "execute_result"
    }
   ],
   "source": [
    "pd.read_csv()"
   ]
  },
  {
   "cell_type": "markdown",
   "metadata": {},
   "source": [
    "### Your first in-silico experiment:\n",
    "\n",
    "Which gene dependency correlates the most with the copy number for MTAP? In the following line we will compute the correlation between all genes and the MTAP copy number, then rank them in descending order."
   ]
  },
  {
   "cell_type": "code",
   "execution_count": 261,
   "metadata": {},
   "outputs": [
    {
     "data": {
      "text/html": [
       "<div>\n",
       "<style scoped>\n",
       "    .dataframe tbody tr th:only-of-type {\n",
       "        vertical-align: middle;\n",
       "    }\n",
       "\n",
       "    .dataframe tbody tr th {\n",
       "        vertical-align: top;\n",
       "    }\n",
       "\n",
       "    .dataframe thead th {\n",
       "        text-align: right;\n",
       "    }\n",
       "</style>\n",
       "<table border=\"1\" class=\"dataframe\">\n",
       "  <thead>\n",
       "    <tr style=\"text-align: right;\">\n",
       "      <th></th>\n",
       "      <th>A1BG</th>\n",
       "      <th>NAT2</th>\n",
       "      <th>ADA</th>\n",
       "      <th>CDH2</th>\n",
       "      <th>AKT3</th>\n",
       "      <th>MED6</th>\n",
       "      <th>NR2E3</th>\n",
       "      <th>NAALAD2</th>\n",
       "      <th>DUXB</th>\n",
       "      <th>PDZK1P1</th>\n",
       "      <th>...</th>\n",
       "      <th>RCE1</th>\n",
       "      <th>HNRNPDL</th>\n",
       "      <th>DMTF1</th>\n",
       "      <th>PPP4R1</th>\n",
       "      <th>CDH1</th>\n",
       "      <th>SLC12A6</th>\n",
       "      <th>KCNE2</th>\n",
       "      <th>DGCR2</th>\n",
       "      <th>CASP8AP2</th>\n",
       "      <th>SCO2</th>\n",
       "    </tr>\n",
       "    <tr>\n",
       "      <th>cell_line_display_name</th>\n",
       "      <th></th>\n",
       "      <th></th>\n",
       "      <th></th>\n",
       "      <th></th>\n",
       "      <th></th>\n",
       "      <th></th>\n",
       "      <th></th>\n",
       "      <th></th>\n",
       "      <th></th>\n",
       "      <th></th>\n",
       "      <th></th>\n",
       "      <th></th>\n",
       "      <th></th>\n",
       "      <th></th>\n",
       "      <th></th>\n",
       "      <th></th>\n",
       "      <th></th>\n",
       "      <th></th>\n",
       "      <th></th>\n",
       "      <th></th>\n",
       "      <th></th>\n",
       "    </tr>\n",
       "  </thead>\n",
       "  <tbody>\n",
       "    <tr>\n",
       "      <th>127399</th>\n",
       "      <td>NaN</td>\n",
       "      <td>NaN</td>\n",
       "      <td>NaN</td>\n",
       "      <td>-0.194962</td>\n",
       "      <td>-0.256108</td>\n",
       "      <td>-0.174220</td>\n",
       "      <td>-0.140052</td>\n",
       "      <td>NaN</td>\n",
       "      <td>NaN</td>\n",
       "      <td>NaN</td>\n",
       "      <td>...</td>\n",
       "      <td>-0.201644</td>\n",
       "      <td>-0.363670</td>\n",
       "      <td>0.184260</td>\n",
       "      <td>-0.115616</td>\n",
       "      <td>-0.125958</td>\n",
       "      <td>NaN</td>\n",
       "      <td>0.088853</td>\n",
       "      <td>NaN</td>\n",
       "      <td>-0.843295</td>\n",
       "      <td>NaN</td>\n",
       "    </tr>\n",
       "    <tr>\n",
       "      <th>1321N1</th>\n",
       "      <td>NaN</td>\n",
       "      <td>NaN</td>\n",
       "      <td>NaN</td>\n",
       "      <td>-0.028171</td>\n",
       "      <td>0.100751</td>\n",
       "      <td>-0.456124</td>\n",
       "      <td>-0.174618</td>\n",
       "      <td>NaN</td>\n",
       "      <td>NaN</td>\n",
       "      <td>NaN</td>\n",
       "      <td>...</td>\n",
       "      <td>0.074889</td>\n",
       "      <td>0.152158</td>\n",
       "      <td>0.036011</td>\n",
       "      <td>0.117300</td>\n",
       "      <td>0.101725</td>\n",
       "      <td>NaN</td>\n",
       "      <td>-0.110628</td>\n",
       "      <td>NaN</td>\n",
       "      <td>-0.307031</td>\n",
       "      <td>NaN</td>\n",
       "    </tr>\n",
       "    <tr>\n",
       "      <th>143B</th>\n",
       "      <td>0.146042</td>\n",
       "      <td>0.102854</td>\n",
       "      <td>0.168839</td>\n",
       "      <td>0.063047</td>\n",
       "      <td>-0.008077</td>\n",
       "      <td>-0.214376</td>\n",
       "      <td>-0.153619</td>\n",
       "      <td>0.133830</td>\n",
       "      <td>0.138673</td>\n",
       "      <td>0.030345</td>\n",
       "      <td>...</td>\n",
       "      <td>0.006735</td>\n",
       "      <td>-0.033385</td>\n",
       "      <td>0.197651</td>\n",
       "      <td>-0.016372</td>\n",
       "      <td>0.077486</td>\n",
       "      <td>0.106165</td>\n",
       "      <td>0.057286</td>\n",
       "      <td>0.025596</td>\n",
       "      <td>-0.413669</td>\n",
       "      <td>0.122669</td>\n",
       "    </tr>\n",
       "    <tr>\n",
       "      <th>184A1</th>\n",
       "      <td>-0.190388</td>\n",
       "      <td>0.384106</td>\n",
       "      <td>-0.120700</td>\n",
       "      <td>-0.237251</td>\n",
       "      <td>0.060267</td>\n",
       "      <td>-0.338946</td>\n",
       "      <td>-0.057551</td>\n",
       "      <td>0.134511</td>\n",
       "      <td>NaN</td>\n",
       "      <td>0.144463</td>\n",
       "      <td>...</td>\n",
       "      <td>0.209009</td>\n",
       "      <td>-0.156839</td>\n",
       "      <td>-0.155837</td>\n",
       "      <td>-0.001141</td>\n",
       "      <td>NaN</td>\n",
       "      <td>0.227968</td>\n",
       "      <td>0.028095</td>\n",
       "      <td>-0.080611</td>\n",
       "      <td>-1.849696</td>\n",
       "      <td>-0.078856</td>\n",
       "    </tr>\n",
       "    <tr>\n",
       "      <th>184B5</th>\n",
       "      <td>0.907063</td>\n",
       "      <td>0.403192</td>\n",
       "      <td>0.004394</td>\n",
       "      <td>-0.017059</td>\n",
       "      <td>-0.094749</td>\n",
       "      <td>-0.328074</td>\n",
       "      <td>-0.089573</td>\n",
       "      <td>0.362029</td>\n",
       "      <td>NaN</td>\n",
       "      <td>-0.098161</td>\n",
       "      <td>...</td>\n",
       "      <td>-0.137465</td>\n",
       "      <td>-1.037848</td>\n",
       "      <td>-0.261262</td>\n",
       "      <td>-0.228016</td>\n",
       "      <td>NaN</td>\n",
       "      <td>0.088744</td>\n",
       "      <td>0.159467</td>\n",
       "      <td>0.014071</td>\n",
       "      <td>-0.414154</td>\n",
       "      <td>0.032661</td>\n",
       "    </tr>\n",
       "    <tr>\n",
       "      <th>...</th>\n",
       "      <td>...</td>\n",
       "      <td>...</td>\n",
       "      <td>...</td>\n",
       "      <td>...</td>\n",
       "      <td>...</td>\n",
       "      <td>...</td>\n",
       "      <td>...</td>\n",
       "      <td>...</td>\n",
       "      <td>...</td>\n",
       "      <td>...</td>\n",
       "      <td>...</td>\n",
       "      <td>...</td>\n",
       "      <td>...</td>\n",
       "      <td>...</td>\n",
       "      <td>...</td>\n",
       "      <td>...</td>\n",
       "      <td>...</td>\n",
       "      <td>...</td>\n",
       "      <td>...</td>\n",
       "      <td>...</td>\n",
       "      <td>...</td>\n",
       "    </tr>\n",
       "    <tr>\n",
       "      <th>YKG1</th>\n",
       "      <td>0.111530</td>\n",
       "      <td>0.073460</td>\n",
       "      <td>0.227977</td>\n",
       "      <td>0.000769</td>\n",
       "      <td>-0.072564</td>\n",
       "      <td>-0.175593</td>\n",
       "      <td>-0.155250</td>\n",
       "      <td>0.105052</td>\n",
       "      <td>0.143781</td>\n",
       "      <td>0.357053</td>\n",
       "      <td>...</td>\n",
       "      <td>-0.079333</td>\n",
       "      <td>-0.358065</td>\n",
       "      <td>-0.090982</td>\n",
       "      <td>0.168945</td>\n",
       "      <td>-0.173036</td>\n",
       "      <td>0.141616</td>\n",
       "      <td>0.109206</td>\n",
       "      <td>0.153414</td>\n",
       "      <td>-0.046700</td>\n",
       "      <td>0.075238</td>\n",
       "    </tr>\n",
       "    <tr>\n",
       "      <th>YMB1</th>\n",
       "      <td>NaN</td>\n",
       "      <td>NaN</td>\n",
       "      <td>NaN</td>\n",
       "      <td>-0.139126</td>\n",
       "      <td>0.017161</td>\n",
       "      <td>-0.226356</td>\n",
       "      <td>-0.445319</td>\n",
       "      <td>NaN</td>\n",
       "      <td>NaN</td>\n",
       "      <td>NaN</td>\n",
       "      <td>...</td>\n",
       "      <td>-0.050825</td>\n",
       "      <td>0.286697</td>\n",
       "      <td>0.134608</td>\n",
       "      <td>-0.166845</td>\n",
       "      <td>0.065173</td>\n",
       "      <td>NaN</td>\n",
       "      <td>-0.048763</td>\n",
       "      <td>NaN</td>\n",
       "      <td>-0.865486</td>\n",
       "      <td>NaN</td>\n",
       "    </tr>\n",
       "    <tr>\n",
       "      <th>ZR751</th>\n",
       "      <td>-0.079313</td>\n",
       "      <td>-0.130921</td>\n",
       "      <td>-0.134479</td>\n",
       "      <td>0.047022</td>\n",
       "      <td>0.123615</td>\n",
       "      <td>-0.311682</td>\n",
       "      <td>-0.211145</td>\n",
       "      <td>-0.014285</td>\n",
       "      <td>0.074681</td>\n",
       "      <td>-0.053025</td>\n",
       "      <td>...</td>\n",
       "      <td>-0.143304</td>\n",
       "      <td>-0.078062</td>\n",
       "      <td>-0.022528</td>\n",
       "      <td>0.021830</td>\n",
       "      <td>0.308641</td>\n",
       "      <td>0.100142</td>\n",
       "      <td>0.128882</td>\n",
       "      <td>0.159781</td>\n",
       "      <td>-1.039110</td>\n",
       "      <td>0.100361</td>\n",
       "    </tr>\n",
       "    <tr>\n",
       "      <th>ZR7530</th>\n",
       "      <td>-0.141559</td>\n",
       "      <td>0.127358</td>\n",
       "      <td>0.083506</td>\n",
       "      <td>-0.097644</td>\n",
       "      <td>0.046846</td>\n",
       "      <td>-0.355300</td>\n",
       "      <td>-0.095010</td>\n",
       "      <td>0.049151</td>\n",
       "      <td>0.129006</td>\n",
       "      <td>0.038661</td>\n",
       "      <td>...</td>\n",
       "      <td>-0.146587</td>\n",
       "      <td>-0.050230</td>\n",
       "      <td>0.127782</td>\n",
       "      <td>-0.031292</td>\n",
       "      <td>0.035794</td>\n",
       "      <td>0.160643</td>\n",
       "      <td>-0.179656</td>\n",
       "      <td>0.286456</td>\n",
       "      <td>-0.301415</td>\n",
       "      <td>-0.117268</td>\n",
       "    </tr>\n",
       "    <tr>\n",
       "      <th>ZR75B</th>\n",
       "      <td>0.214268</td>\n",
       "      <td>-0.405974</td>\n",
       "      <td>-0.404291</td>\n",
       "      <td>-0.062622</td>\n",
       "      <td>0.125711</td>\n",
       "      <td>-0.322297</td>\n",
       "      <td>-0.051708</td>\n",
       "      <td>0.006023</td>\n",
       "      <td>NaN</td>\n",
       "      <td>0.519837</td>\n",
       "      <td>...</td>\n",
       "      <td>-0.197734</td>\n",
       "      <td>-0.238816</td>\n",
       "      <td>-0.064278</td>\n",
       "      <td>-0.474258</td>\n",
       "      <td>NaN</td>\n",
       "      <td>0.089555</td>\n",
       "      <td>-0.455001</td>\n",
       "      <td>0.047184</td>\n",
       "      <td>-0.865502</td>\n",
       "      <td>-0.036066</td>\n",
       "    </tr>\n",
       "  </tbody>\n",
       "</table>\n",
       "<p>712 rows × 17309 columns</p>\n",
       "</div>"
      ],
      "text/plain": [
       "                            A1BG      NAT2       ADA      CDH2      AKT3  \\\n",
       "cell_line_display_name                                                     \n",
       "127399                       NaN       NaN       NaN -0.194962 -0.256108   \n",
       "1321N1                       NaN       NaN       NaN -0.028171  0.100751   \n",
       "143B                    0.146042  0.102854  0.168839  0.063047 -0.008077   \n",
       "184A1                  -0.190388  0.384106 -0.120700 -0.237251  0.060267   \n",
       "184B5                   0.907063  0.403192  0.004394 -0.017059 -0.094749   \n",
       "...                          ...       ...       ...       ...       ...   \n",
       "YKG1                    0.111530  0.073460  0.227977  0.000769 -0.072564   \n",
       "YMB1                         NaN       NaN       NaN -0.139126  0.017161   \n",
       "ZR751                  -0.079313 -0.130921 -0.134479  0.047022  0.123615   \n",
       "ZR7530                 -0.141559  0.127358  0.083506 -0.097644  0.046846   \n",
       "ZR75B                   0.214268 -0.405974 -0.404291 -0.062622  0.125711   \n",
       "\n",
       "                            MED6     NR2E3   NAALAD2      DUXB   PDZK1P1  ...  \\\n",
       "cell_line_display_name                                                    ...   \n",
       "127399                 -0.174220 -0.140052       NaN       NaN       NaN  ...   \n",
       "1321N1                 -0.456124 -0.174618       NaN       NaN       NaN  ...   \n",
       "143B                   -0.214376 -0.153619  0.133830  0.138673  0.030345  ...   \n",
       "184A1                  -0.338946 -0.057551  0.134511       NaN  0.144463  ...   \n",
       "184B5                  -0.328074 -0.089573  0.362029       NaN -0.098161  ...   \n",
       "...                          ...       ...       ...       ...       ...  ...   \n",
       "YKG1                   -0.175593 -0.155250  0.105052  0.143781  0.357053  ...   \n",
       "YMB1                   -0.226356 -0.445319       NaN       NaN       NaN  ...   \n",
       "ZR751                  -0.311682 -0.211145 -0.014285  0.074681 -0.053025  ...   \n",
       "ZR7530                 -0.355300 -0.095010  0.049151  0.129006  0.038661  ...   \n",
       "ZR75B                  -0.322297 -0.051708  0.006023       NaN  0.519837  ...   \n",
       "\n",
       "                            RCE1   HNRNPDL     DMTF1    PPP4R1      CDH1  \\\n",
       "cell_line_display_name                                                     \n",
       "127399                 -0.201644 -0.363670  0.184260 -0.115616 -0.125958   \n",
       "1321N1                  0.074889  0.152158  0.036011  0.117300  0.101725   \n",
       "143B                    0.006735 -0.033385  0.197651 -0.016372  0.077486   \n",
       "184A1                   0.209009 -0.156839 -0.155837 -0.001141       NaN   \n",
       "184B5                  -0.137465 -1.037848 -0.261262 -0.228016       NaN   \n",
       "...                          ...       ...       ...       ...       ...   \n",
       "YKG1                   -0.079333 -0.358065 -0.090982  0.168945 -0.173036   \n",
       "YMB1                   -0.050825  0.286697  0.134608 -0.166845  0.065173   \n",
       "ZR751                  -0.143304 -0.078062 -0.022528  0.021830  0.308641   \n",
       "ZR7530                 -0.146587 -0.050230  0.127782 -0.031292  0.035794   \n",
       "ZR75B                  -0.197734 -0.238816 -0.064278 -0.474258       NaN   \n",
       "\n",
       "                         SLC12A6     KCNE2     DGCR2  CASP8AP2      SCO2  \n",
       "cell_line_display_name                                                    \n",
       "127399                       NaN  0.088853       NaN -0.843295       NaN  \n",
       "1321N1                       NaN -0.110628       NaN -0.307031       NaN  \n",
       "143B                    0.106165  0.057286  0.025596 -0.413669  0.122669  \n",
       "184A1                   0.227968  0.028095 -0.080611 -1.849696 -0.078856  \n",
       "184B5                   0.088744  0.159467  0.014071 -0.414154  0.032661  \n",
       "...                          ...       ...       ...       ...       ...  \n",
       "YKG1                    0.141616  0.109206  0.153414 -0.046700  0.075238  \n",
       "YMB1                         NaN -0.048763       NaN -0.865486       NaN  \n",
       "ZR751                   0.100142  0.128882  0.159781 -1.039110  0.100361  \n",
       "ZR7530                  0.160643 -0.179656  0.286456 -0.301415 -0.117268  \n",
       "ZR75B                   0.089555 -0.455001  0.047184 -0.865502 -0.036066  \n",
       "\n",
       "[712 rows x 17309 columns]"
      ]
     },
     "execution_count": 261,
     "metadata": {},
     "output_type": "execute_result"
    }
   ],
   "source": [
    "df"
   ]
  },
  {
   "cell_type": "code",
   "execution_count": 108,
   "metadata": {},
   "outputs": [],
   "source": [
    "# for all of the genes in the dependency data\n",
    "# which ones correlate the most with \n",
    "# the MTAP copy number?\n",
    "\n",
    "res = df.corrwith(additional['Copy Number Public 23Q4 MTAP']).sort_values(ascending=False)"
   ]
  },
  {
   "cell_type": "code",
   "execution_count": 263,
   "metadata": {},
   "outputs": [
    {
     "data": {
      "text/plain": [
       "PRMT5                        0.574670\n",
       "LOC105374879&LOC107986554    0.472545\n",
       "WDR77                        0.423746\n",
       "RIOK1                        0.308628\n",
       "SLC39A12-AS1&LOC389834       0.301664\n",
       "MAT2A                        0.290771\n",
       "CEP68                        0.285653\n",
       "FAM107A                      0.258787\n",
       "LOC441455&MKRN7P             0.252400\n",
       "CLNS1A                       0.248265\n",
       "dtype: float64"
      ]
     },
     "execution_count": 263,
     "metadata": {},
     "output_type": "execute_result"
    }
   ],
   "source": [
    "res.head(10)"
   ]
  },
  {
   "cell_type": "markdown",
   "metadata": {},
   "source": [
    "If all goes well, you'll be seeing PRMT5, RIOK1 and MAT2A in the list. Well that's not a coincidence: as it turns out, in about 15% of human cancers there's a loss of a gene called MTAP. This loss is associated with cancer severity. MTAP works closely with another gene, MAT2A, and when both are lost, it causes a deadly effect in cancer cells due to the blocking of a protein called PRMT5.\n",
    " \n",
    "  \n",
    "See, for instance: \n",
    "* [MTAP Deletions in Cancer Create Vulnerability to Targeting of the MAT2A/PRMT5/RIOK1 Axis](https://www.sciencedirect.com/science/article/pii/S2211124716302996) \n",
    "* [Combined inhibition of MTAP and MAT2a mimics synthetic lethality in tumor models via PRMT5 inhibition](https://www.ncbi.nlm.nih.gov/pmc/articles/PMC10770533/)\n",
    "\n",
    "So here's a curveball: why is [WDR77](https://www.ncbi.nlm.nih.gov/gene/79084) here? Go browse the literature and try to figure out!\n",
    "\n",
    "So let's explore this effect, essentially when the MTAP is absent in cancer cells, then MAT2A/PRMT5/RIOK1 have a strong effect. Which is exactly what we see in the data: copy number of MTAP is correlated with gene effect - i.e.: the lower the copy number, the stronger (more negative, remember this convention) is the effect of this gene.\n",
    "\n",
    "Let's find a way to visualize this."
   ]
  },
  {
   "cell_type": "code",
   "execution_count": 264,
   "metadata": {},
   "outputs": [
    {
     "name": "stderr",
     "output_type": "stream",
     "text": [
      "/Users/andre/hitchhikers/AIGuideToDrugDiscovery/.venv/lib/python3.11/site-packages/plotly/express/_core.py:2065: FutureWarning:\n",
      "\n",
      "When grouping with a length-1 list-like, you will need to pass a length-1 tuple to get_group in a future version of pandas. Pass `(name,)` instead of `name` to silence this warning.\n",
      "\n"
     ]
    },
    {
     "data": {
      "application/vnd.plotly.v1+json": {
       "config": {
        "plotlyServerURL": "https://plot.ly"
       },
       "data": [
        {
         "hovertemplate": "lineage_1=Soft Tissue<br>Copy Number Public 23Q4 MTAP=%{x}<br>WDR77=%{y}<extra></extra>",
         "legendgroup": "Soft Tissue",
         "marker": {
          "color": "#636efa",
          "symbol": "circle"
         },
         "mode": "markers",
         "name": "Soft Tissue",
         "orientation": "v",
         "showlegend": true,
         "type": "scatter",
         "x": [
          1.0543035368365328,
          0.2804701924282182,
          0.738004354858439,
          0.2459002929479823,
          1.3046299812014286,
          1.0369391171063853,
          0.5601942887927256,
          0.8703119678262529,
          0.7148083633455254,
          1.061327495276324,
          0.6949916129024504,
          1.0178556465317572
         ],
         "xaxis": "x",
         "y": [
          -0.0452699081071,
          -0.44433795968,
          -0.347172892525,
          -0.509071848888,
          -0.169743687807,
          -1.39486019814,
          -0.316318175532,
          -0.15130897532,
          -0.302079786558,
          -0.537455752516,
          -0.338034952254,
          -0.345669512421
         ],
         "yaxis": "y"
        },
        {
         "hovertemplate": "<b>OLS trendline</b><br>WDR77 = 0.00797474 * Copy Number Public 23Q4 MTAP + -0.41481<br>R<sup>2</sup>=0.000057<br><br>lineage_1=Soft Tissue<br>Copy Number Public 23Q4 MTAP=%{x}<br>WDR77=%{y} <b>(trend)</b><extra></extra>",
         "legendgroup": "Soft Tissue",
         "marker": {
          "color": "#636efa",
          "symbol": "circle"
         },
         "mode": "lines",
         "name": "Soft Tissue",
         "showlegend": false,
         "type": "scatter",
         "x": [
          0.2459002929479823,
          0.2804701924282182,
          0.5601942887927256,
          0.6949916129024504,
          0.7148083633455254,
          0.738004354858439,
          0.8703119678262529,
          1.0178556465317572,
          1.0369391171063853,
          1.0543035368365328,
          1.061327495276324,
          1.3046299812014286
         ],
         "xaxis": "x",
         "y": [
          -0.41284897506153795,
          -0.41257328893881073,
          -0.410342560683318,
          -0.40926758643703587,
          -0.40910955291143,
          -0.4089245708010057,
          -0.407869451365462,
          -0.4066928281953979,
          -0.40654064238953797,
          -0.4064021655752924,
          -0.4063461512999379,
          -0.40440587608933354
         ],
         "yaxis": "y"
        },
        {
         "hovertemplate": "lineage_1=Bone<br>Copy Number Public 23Q4 MTAP=%{x}<br>WDR77=%{y}<extra></extra>",
         "legendgroup": "Bone",
         "marker": {
          "color": "#EF553B",
          "symbol": "circle"
         },
         "mode": "markers",
         "name": "Bone",
         "orientation": "v",
         "showlegend": true,
         "type": "scatter",
         "x": [
          0.00009288685771129749,
          0.511684556991711,
          0.0279157857241704,
          0.7596252580274072,
          0.7456700690893967,
          0.9530869613726444,
          0.4138271505799541,
          0.928826639646406,
          0.6127262471877617,
          0.5504708372859108,
          0.0094976607300914,
          1.0043545519998491,
          0.9907776663240828,
          0.3797246953515591,
          0.8295825164063618
         ],
         "xaxis": "x",
         "y": [
          -0.197741010174,
          -0.00205505181177,
          -0.0281425420455,
          -0.102911836918,
          -0.269386602908,
          -0.240606593466,
          -0.580623501205,
          -0.131209558115,
          -0.290821859486,
          -0.187172236308,
          -0.186031413072,
          -0.390438949253,
          0.31240693775,
          -0.287699546619,
          -0.230852703655
         ],
         "yaxis": "y"
        },
        {
         "hovertemplate": "<b>OLS trendline</b><br>WDR77 = 0.0543393 * Copy Number Public 23Q4 MTAP + -0.219134<br>R<sup>2</sup>=0.009552<br><br>lineage_1=Bone<br>Copy Number Public 23Q4 MTAP=%{x}<br>WDR77=%{y} <b>(trend)</b><extra></extra>",
         "legendgroup": "Bone",
         "marker": {
          "color": "#EF553B",
          "symbol": "circle"
         },
         "mode": "lines",
         "name": "Bone",
         "showlegend": false,
         "type": "scatter",
         "x": [
          0.00009288685771129749,
          0.0094976607300914,
          0.0279157857241704,
          0.3797246953515591,
          0.4138271505799541,
          0.511684556991711,
          0.5504708372859108,
          0.6127262471877617,
          0.7456700690893967,
          0.7596252580274072,
          0.8295825164063618,
          0.928826639646406,
          0.9530869613726444,
          0.9907776663240828,
          1.0043545519998491
         ],
         "xaxis": "x",
         "y": [
          -0.21912890595118356,
          -0.2186178568699399,
          -0.21761702835623176,
          -0.1984999690331543,
          -0.19664686457268368,
          -0.1913293589826251,
          -0.18922173862107414,
          -0.18583882155528209,
          -0.17861474376651326,
          -0.17785642819379152,
          -0.1740549978663823,
          -0.1686621390173663,
          -0.16734384946600545,
          -0.16529576193107517,
          -0.1645580031029626
         ],
         "yaxis": "y"
        },
        {
         "hovertemplate": "lineage_1=Prostate<br>Copy Number Public 23Q4 MTAP=%{x}<br>WDR77=%{y}<extra></extra>",
         "legendgroup": "Prostate",
         "marker": {
          "color": "#00cc96",
          "symbol": "circle"
         },
         "mode": "markers",
         "name": "Prostate",
         "orientation": "v",
         "showlegend": true,
         "type": "scatter",
         "x": [
          0.9745490312845496,
          0.8366004055569094,
          1.016609524227458,
          0.997140339789644,
          0.963237658414002,
          0.7995240907177982,
          null,
          1.1551554163657427
         ],
         "xaxis": "x",
         "y": [
          -0.0792743218242,
          -0.223724099746,
          0.0758434172626,
          -0.203255501713,
          -0.534875570559,
          -0.0706865836356,
          -0.309450435409,
          -0.426233068064
         ],
         "yaxis": "y"
        },
        {
         "hovertemplate": "<b>OLS trendline</b><br>WDR77 = -0.544233 * Copy Number Public 23Q4 MTAP + 0.315351<br>R<sup>2</sup>=0.091678<br><br>lineage_1=Prostate<br>Copy Number Public 23Q4 MTAP=%{x}<br>WDR77=%{y} <b>(trend)</b><extra></extra>",
         "legendgroup": "Prostate",
         "marker": {
          "color": "#00cc96",
          "symbol": "circle"
         },
         "mode": "lines",
         "name": "Prostate",
         "showlegend": false,
         "type": "scatter",
         "x": [
          0.7995240907177982,
          0.8366004055569094,
          0.963237658414002,
          0.9745490312845496,
          0.997140339789644,
          1.016609524227458,
          1.1551554163657427
         ],
         "xaxis": "x",
         "y": [
          -0.11977636936734687,
          -0.1399545127467381,
          -0.2088746483214604,
          -0.2150306674563205,
          -0.22732559655383122,
          -0.23792136360270766,
          -0.31332257023079857
         ],
         "yaxis": "y"
        },
        {
         "hovertemplate": "lineage_1=Esophagus/Stomach<br>Copy Number Public 23Q4 MTAP=%{x}<br>WDR77=%{y}<extra></extra>",
         "legendgroup": "Esophagus/Stomach",
         "marker": {
          "color": "#ab63fa",
          "symbol": "circle"
         },
         "mode": "markers",
         "name": "Esophagus/Stomach",
         "orientation": "v",
         "showlegend": true,
         "type": "scatter",
         "x": [
          0.972417812882918,
          1.0193976769940398,
          0.7892164025169967,
          1.040421362938777,
          1.2680854713443697,
          0.9147948976570028,
          0.8021856809752811,
          1.079472083174907,
          1.3392397987718296,
          0.006174449586383,
          1.0358665417023043,
          0.00008819771899419155,
          1.1457291085679693,
          0.8272073936763591,
          1.4981975608735048,
          0.738954647422175,
          0.9198052533605624,
          0.7869936531586791,
          0.863018869535242,
          1.4836629202691136,
          0.856284729781252,
          0.508673960823813,
          0.8415069307385441,
          0.0159224619210703,
          0.7519407871847354,
          0.0005245519239521,
          0.5002043872345274,
          0.0081048982417732,
          1.0421611027748623,
          0.9465960429119648,
          0.979833941455964,
          0.9534776648224884,
          1.0534835332541446,
          1.0012095065799729,
          0.5950901079234412,
          0.6238013902004014,
          0.9411102562753654,
          0.9516445628075832,
          0.0025263627446147,
          1.2153701488671294,
          0.0014950175933067,
          0.2780321593066659,
          0.8286525994198787,
          0.554543663099668,
          7.724101965321343e-9,
          1.1238151325953143,
          0.5394211606744621
         ],
         "xaxis": "x",
         "y": [
          -0.365353567579,
          -0.305513237344,
          -0.267825460681,
          -0.27952937363,
          -0.520447713253,
          -0.559529595108,
          -0.220704962247,
          -0.189561164542,
          0.0889604199444,
          -0.575252019545,
          -0.22931415642,
          -0.622479190249,
          -0.156211330312,
          -0.25295387922,
          -0.216841684734,
          -0.18889033913,
          -0.333587734267,
          -0.249101419428,
          -0.0977223242924,
          -0.233293992227,
          -0.342025405644,
          -0.462790335908,
          -0.309841354863,
          -0.328292232768,
          -0.121364253971,
          -0.490359182262,
          -0.164422503716,
          -0.657964533695,
          -0.344055667814,
          -0.293146180946,
          -0.380906283804,
          -0.229018860363,
          -0.179244230247,
          -0.255069203923,
          -0.291676092958,
          -0.189591656687,
          -0.429542098706,
          -0.322903808061,
          -0.685505962998,
          -0.374253139459,
          -0.901418649851,
          -0.460321643009,
          -0.220832578588,
          -0.303816898408,
          -0.288151051848,
          -0.325320990921,
          -0.319811666473
         ],
         "yaxis": "y"
        },
        {
         "hovertemplate": "<b>OLS trendline</b><br>WDR77 = 0.242355 * Copy Number Public 23Q4 MTAP + -0.512465<br>R<sup>2</sup>=0.344006<br><br>lineage_1=Esophagus/Stomach<br>Copy Number Public 23Q4 MTAP=%{x}<br>WDR77=%{y} <b>(trend)</b><extra></extra>",
         "legendgroup": "Esophagus/Stomach",
         "marker": {
          "color": "#ab63fa",
          "symbol": "circle"
         },
         "mode": "lines",
         "name": "Esophagus/Stomach",
         "showlegend": false,
         "type": "scatter",
         "x": [
          7.724101965321343e-9,
          0.00008819771899419155,
          0.0005245519239521,
          0.0014950175933067,
          0.0025263627446147,
          0.006174449586383,
          0.0081048982417732,
          0.0159224619210703,
          0.2780321593066659,
          0.5002043872345274,
          0.508673960823813,
          0.5394211606744621,
          0.554543663099668,
          0.5950901079234412,
          0.6238013902004014,
          0.738954647422175,
          0.7519407871847354,
          0.7869936531586791,
          0.7892164025169967,
          0.8021856809752811,
          0.8272073936763591,
          0.8286525994198787,
          0.8415069307385441,
          0.856284729781252,
          0.863018869535242,
          0.9147948976570028,
          0.9198052533605624,
          0.9411102562753654,
          0.9465960429119648,
          0.9516445628075832,
          0.9534776648224884,
          0.972417812882918,
          0.979833941455964,
          1.0012095065799729,
          1.0193976769940398,
          1.0358665417023043,
          1.040421362938777,
          1.0421611027748623,
          1.0534835332541446,
          1.079472083174907,
          1.1238151325953143,
          1.1457291085679693,
          1.2153701488671294,
          1.2680854713443697,
          1.3392397987718296,
          1.4836629202691136,
          1.4981975608735048
         ],
         "xaxis": "x",
         "y": [
          -0.5124653794861984,
          -0.5124440061977181,
          -0.5123382535631527,
          -0.5121030563308961,
          -0.5118531046502252,
          -0.510968972469861,
          -0.5105011185363335,
          -0.5086064926897726,
          -0.4450828902385256,
          -0.3912383342248841,
          -0.3891856904998186,
          -0.38173395208920835,
          -0.3780689376250026,
          -0.36824230294689797,
          -0.3612839793922221,
          -0.3333760087765415,
          -0.3302287525403876,
          -0.32173351430572616,
          -0.32119481982782283,
          -0.31805165001350044,
          -0.3119875121882818,
          -0.311637259313141,
          -0.30852194751579737,
          -0.30494047364872257,
          -0.3033084210354448,
          -0.2907602404083358,
          -0.28954595552293527,
          -0.2843825809935616,
          -0.28305307303215627,
          -0.28182953886300766,
          -0.2813852773770386,
          -0.27679503730671984,
          -0.27499770127565926,
          -0.2698172256402588,
          -0.2654092311317648,
          -0.2614179190018205,
          -0.26031403518390683,
          -0.25989240049118695,
          -0.25714835256117197,
          -0.25084989687671,
          -0.24010313599394095,
          -0.23479217378346906,
          -0.21791431767062525,
          -0.20513849433583575,
          -0.18789388548209163,
          -0.15289221615710996,
          -0.14936967295960735
         ],
         "yaxis": "y"
        },
        {
         "hovertemplate": "lineage_1=Lymphoid<br>Copy Number Public 23Q4 MTAP=%{x}<br>WDR77=%{y}<extra></extra>",
         "legendgroup": "Lymphoid",
         "marker": {
          "color": "#FFA15A",
          "symbol": "circle"
         },
         "mode": "markers",
         "name": "Lymphoid",
         "orientation": "v",
         "showlegend": true,
         "type": "scatter",
         "x": [
          0.9964882844272048,
          0.0004786827836912,
          1.01488045831675,
          0.8694860335978858,
          0.9838158082301792,
          1.1033186280043124,
          0.8316756734674724,
          0.9955668322023442,
          0.8212974896221852,
          0.99638803285628,
          1.0014111895116002,
          0.9787301414483786,
          1.0620224211939786,
          0.9938904912742028,
          1.0792044920597728,
          0.9725006843000744,
          0.9783612522528896,
          0.6342832278208702,
          0.0006954555155225,
          1.053074211939646,
          null,
          0.9921529574056014,
          0.9719407855189804,
          0.9826110749205454,
          6.367081782502466e-8,
          0.9985931865816684,
          0.8661275227210468,
          0.0015088411611591,
          1.0021661237175423,
          0.6187125298512838,
          0.9915364720885116,
          0.9708407674062683,
          1.2862988487646825,
          0.7328114318283422,
          0.9865646480800228
         ],
         "xaxis": "x",
         "y": [
          0.00410724985806,
          -0.298285370226,
          -0.427432938658,
          -0.163290451405,
          -0.109141677694,
          -0.429545247578,
          -0.388720121411,
          -0.263252164477,
          -0.194664567458,
          -0.147966630838,
          -0.771488916288,
          -0.341788350255,
          -0.283159278304,
          -0.308138855622,
          -0.772098627112,
          -0.16355088537,
          -0.29985197571,
          -0.29828871053,
          -0.333872246525,
          -0.291581970102,
          -0.25813941053,
          -0.156160230925,
          -0.143290676761,
          -0.784291304427,
          -0.470993297931,
          -0.280264081868,
          -0.607626944521,
          -0.307481566384,
          -0.330891748774,
          -0.202562113163,
          -0.171585831753,
          -0.353559882254,
          -0.380859674095,
          -0.234427121462,
          -0.305227490843
         ],
         "yaxis": "y"
        },
        {
         "hovertemplate": "<b>OLS trendline</b><br>WDR77 = -0.00784522 * Copy Number Public 23Q4 MTAP + -0.317222<br>R<sup>2</sup>=0.000206<br><br>lineage_1=Lymphoid<br>Copy Number Public 23Q4 MTAP=%{x}<br>WDR77=%{y} <b>(trend)</b><extra></extra>",
         "legendgroup": "Lymphoid",
         "marker": {
          "color": "#FFA15A",
          "symbol": "circle"
         },
         "mode": "lines",
         "name": "Lymphoid",
         "showlegend": false,
         "type": "scatter",
         "x": [
          6.367081782502466e-8,
          0.0004786827836912,
          0.0006954555155225,
          0.0015088411611591,
          0.6187125298512838,
          0.6342832278208702,
          0.7328114318283422,
          0.8212974896221852,
          0.8316756734674724,
          0.8661275227210468,
          0.8694860335978858,
          0.9708407674062683,
          0.9719407855189804,
          0.9725006843000744,
          0.9783612522528896,
          0.9787301414483786,
          0.9826110749205454,
          0.9838158082301792,
          0.9865646480800228,
          0.9915364720885116,
          0.9921529574056014,
          0.9938904912742028,
          0.9955668322023442,
          0.99638803285628,
          0.9964882844272048,
          0.9985931865816684,
          1.0014111895116002,
          1.0021661237175423,
          1.01488045831675,
          1.053074211939646,
          1.0620224211939786,
          1.0792044920597728,
          1.1033186280043124,
          1.2862988487646825
         ],
         "xaxis": "x",
         "y": [
          -0.31722150672157023,
          -0.3172252615928831,
          -0.3172269622222359,
          -0.3172333434100008,
          -0.32207544094126267,
          -0.32219759646233315,
          -0.322970571708798,
          -0.323664764128328,
          -0.3237461832437628,
          -0.32401646551406516,
          -0.3240428137642838,
          -0.32483796375341756,
          -0.3248465936353925,
          -0.3248509861634272,
          -0.32489696359702996,
          -0.32489985761321216,
          -0.3249303043826157,
          -0.3249397557781457,
          -0.32496132102620673,
          -0.32500032606975804,
          -0.3250051625315074,
          -0.32501879386361027,
          -0.3250319451237509,
          -0.3250383876219601,
          -0.3250391741173958,
          -0.3250556875338132,
          -0.32507779538131987,
          -0.3250837180047938,
          -0.32518346473233706,
          -0.3254831030584131,
          -0.32555330371134755,
          -0.32568810080418054,
          -0.3258772814592304,
          -0.3273128011935565
         ],
         "yaxis": "y"
        },
        {
         "hovertemplate": "lineage_1=Kidney<br>Copy Number Public 23Q4 MTAP=%{x}<br>WDR77=%{y}<extra></extra>",
         "legendgroup": "Kidney",
         "marker": {
          "color": "#19d3f3",
          "symbol": "circle"
         },
         "mode": "markers",
         "name": "Kidney",
         "orientation": "v",
         "showlegend": true,
         "type": "scatter",
         "x": [
          0.6382617470839297,
          0.8950337548597461,
          1.0429447355107808,
          0.8357411783210267,
          0.6039250782215708,
          0.0006056575779018,
          0.0008390210003688,
          0.9039070324557312,
          0.7883096455025854,
          0.00000136118145032023,
          1.002834278614633,
          1.0227043904940247,
          null,
          1.006618612708768,
          0.92841370334661,
          1.1411611574997664,
          0.6662960590335598,
          1.0162282580259745,
          0.2345639153970344,
          null,
          0.8837058933469466,
          0.6658545402954379,
          null,
          null,
          0.7137692576761264,
          1.0109356344736249,
          1.0007561980792743,
          1.0328164458233058,
          0.1443710670038747,
          0.6403946389485387,
          0.8498174936414703,
          0.775895159627889,
          0.9817834798638444
         ],
         "xaxis": "x",
         "y": [
          -0.13250962105,
          -0.0396462087496,
          -0.323477434119,
          -0.0904642779021,
          -0.560194881803,
          -0.641107149512,
          -1.1246177733,
          -0.186896522031,
          -0.357615621927,
          -0.872080807153,
          -0.298577383868,
          -0.406170460359,
          -0.0243398770023,
          -0.256288060597,
          -0.138629761127,
          -0.382938370934,
          -0.29427667094,
          -0.348043281789,
          -0.510375108413,
          -0.300407210507,
          -0.363409632028,
          -0.253043633183,
          -0.354524667324,
          -0.123724762741,
          -0.259638141593,
          -0.191010591004,
          -0.245471858359,
          -0.0849702116316,
          -0.377561530602,
          -0.497676316344,
          -0.423693379723,
          0.12781173167,
          -0.087591320536
         ],
         "yaxis": "y"
        },
        {
         "hovertemplate": "<b>OLS trendline</b><br>WDR77 = 0.50656 * Copy Number Public 23Q4 MTAP + -0.706034<br>R<sup>2</sup>=0.474098<br><br>lineage_1=Kidney<br>Copy Number Public 23Q4 MTAP=%{x}<br>WDR77=%{y} <b>(trend)</b><extra></extra>",
         "legendgroup": "Kidney",
         "marker": {
          "color": "#19d3f3",
          "symbol": "circle"
         },
         "mode": "lines",
         "name": "Kidney",
         "showlegend": false,
         "type": "scatter",
         "x": [
          0.00000136118145032023,
          0.0006056575779018,
          0.0008390210003688,
          0.1443710670038747,
          0.2345639153970344,
          0.6039250782215708,
          0.6382617470839297,
          0.6403946389485387,
          0.6658545402954379,
          0.6662960590335598,
          0.7137692576761264,
          0.775895159627889,
          0.7883096455025854,
          0.8357411783210267,
          0.8498174936414703,
          0.8837058933469466,
          0.8950337548597461,
          0.9039070324557312,
          0.92841370334661,
          0.9817834798638444,
          1.0007561980792743,
          1.002834278614633,
          1.006618612708768,
          1.0109356344736249,
          1.0162282580259745,
          1.0227043904940247,
          1.0328164458233058,
          1.0429447355107808,
          1.1411611574997664
         ],
         "xaxis": "x",
         "y": [
          -0.7060328707303711,
          -0.7057267585344699,
          -0.7056085460312779,
          -0.632900997149073,
          -0.5872129357302958,
          -0.4001094591965812,
          -0.3827158868252861,
          -0.3816354497812637,
          -0.3687384900203015,
          -0.3685148344247168,
          -0.3444668255862256,
          -0.3129963478860853,
          -0.3067076697566042,
          -0.2826807671451101,
          -0.27555027320497993,
          -0.25838377591931155,
          -0.2526455378909022,
          -0.24815069313310018,
          -0.2357366014974584,
          -0.20870162399240433,
          -0.19909080971443482,
          -0.19803813788042468,
          -0.1961211467707933,
          -0.19393431755924417,
          -0.1912532878076153,
          -0.18797274014527032,
          -0.1828503805215852,
          -0.17771979722642872,
          -0.1279673168456711
         ],
         "yaxis": "y"
        },
        {
         "hovertemplate": "lineage_1=Thyroid<br>Copy Number Public 23Q4 MTAP=%{x}<br>WDR77=%{y}<extra></extra>",
         "legendgroup": "Thyroid",
         "marker": {
          "color": "#FF6692",
          "symbol": "circle"
         },
         "mode": "markers",
         "name": "Thyroid",
         "orientation": "v",
         "showlegend": true,
         "type": "scatter",
         "x": [
          1.2562477854097618,
          0.8222445953155221,
          0.7615239869342637,
          0.7543345524836339,
          0.6056595052345328
         ],
         "xaxis": "x",
         "y": [
          -0.0189694365387,
          -0.0194747361403,
          -0.567126099204,
          -0.238216532774,
          -0.190313638747
         ],
         "yaxis": "y"
        },
        {
         "hovertemplate": "<b>OLS trendline</b><br>WDR77 = 0.421352 * Copy Number Public 23Q4 MTAP + -0.560756<br>R<sup>2</sup>=0.213249<br><br>lineage_1=Thyroid<br>Copy Number Public 23Q4 MTAP=%{x}<br>WDR77=%{y} <b>(trend)</b><extra></extra>",
         "legendgroup": "Thyroid",
         "marker": {
          "color": "#FF6692",
          "symbol": "circle"
         },
         "mode": "lines",
         "name": "Thyroid",
         "showlegend": false,
         "type": "scatter",
         "x": [
          0.6056595052345328,
          0.7543345524836339,
          0.7615239869342637,
          0.8222445953155221,
          1.2562477854097618
         ],
         "xaxis": "x",
         "y": [
          -0.30556070394292767,
          -0.24291623852199568,
          -0.23988695898806056,
          -0.21430223497109413,
          -0.03143430697992167
         ],
         "yaxis": "y"
        },
        {
         "hovertemplate": "lineage_1=Eye<br>Copy Number Public 23Q4 MTAP=%{x}<br>WDR77=%{y}<extra></extra>",
         "legendgroup": "Eye",
         "marker": {
          "color": "#B6E880",
          "symbol": "circle"
         },
         "mode": "markers",
         "name": "Eye",
         "orientation": "v",
         "showlegend": true,
         "type": "scatter",
         "x": [
          0.8853760845518808,
          1.1547758303432003,
          0.8097470606782414
         ],
         "xaxis": "x",
         "y": [
          -0.175737369679,
          -0.239065808823,
          -0.0575496545527
         ],
         "yaxis": "y"
        },
        {
         "hovertemplate": "<b>OLS trendline</b><br>WDR77 = -0.449108 * Copy Number Public 23Q4 MTAP + 0.269187<br>R<sup>2</sup>=0.781576<br><br>lineage_1=Eye<br>Copy Number Public 23Q4 MTAP=%{x}<br>WDR77=%{y} <b>(trend)</b><extra></extra>",
         "legendgroup": "Eye",
         "marker": {
          "color": "#B6E880",
          "symbol": "circle"
         },
         "mode": "lines",
         "name": "Eye",
         "showlegend": false,
         "type": "scatter",
         "x": [
          0.8097470606782414,
          0.8853760845518808,
          1.1547758303432003
         ],
         "xaxis": "x",
         "y": [
          -0.0944773228726975,
          -0.1284429376459651,
          -0.24943257253603723
         ],
         "yaxis": "y"
        },
        {
         "hovertemplate": "lineage_1=Skin<br>Copy Number Public 23Q4 MTAP=%{x}<br>WDR77=%{y}<extra></extra>",
         "legendgroup": "Skin",
         "marker": {
          "color": "#FF97FF",
          "symbol": "circle"
         },
         "mode": "markers",
         "name": "Skin",
         "orientation": "v",
         "showlegend": true,
         "type": "scatter",
         "x": [
          1.9791765192635474e-9,
          0.9742033390359705,
          1.372559379736477,
          0.4795224373822215,
          1.2872589982075806,
          0.5919719500407893,
          0.0007930940284987,
          0.7871429233650781,
          0.8319604899515413,
          0.7705998153011412,
          0.7854790301742774,
          null,
          0.8472571859195441,
          0.585017502817953,
          0.9242210507120544,
          0.7986450240836158,
          0.5213766050719824,
          0.00001174721382903716,
          0.5686503474165179,
          0.5272575193469079,
          0.6751752386710872,
          0.6243140787878714,
          0.6668859745410943,
          1.1015437866255666,
          0.7159014445999345,
          0.2692289156121114,
          0.5798867968421597,
          0.9496138110260648,
          0.6626985576433595,
          3.4700251299079284e-8,
          0.8430617645146294,
          0.8160773663113443,
          0.6595502832122395,
          0.644235717968556,
          0.0013971652996072,
          0.7366098602628743,
          0.8621934928822867,
          0.6210834609506661,
          0.6669610364789038,
          0.6941987195274635,
          0.954983993358952,
          0.396186168203529,
          0.5146774080156907
         ],
         "xaxis": "x",
         "y": [
          -0.499434028836,
          -0.329698186693,
          -0.231478369031,
          -0.26743941301,
          -0.093966828331,
          0.138677635339,
          -0.397348848802,
          -0.219920086091,
          -0.413935712732,
          -0.311296118457,
          -0.0177189514762,
          -0.550257462443,
          -0.188490274863,
          -0.434575186556,
          0.135552549853,
          -0.118190341399,
          -0.290164769408,
          -0.283531260849,
          -0.216407862747,
          -0.142291385299,
          -0.172581135206,
          -0.176958195812,
          -0.515054221283,
          -0.237449120359,
          -0.1517208595,
          -0.518526685871,
          -0.0931771611008,
          -0.227072887102,
          -0.397278762591,
          -0.593464034298,
          -0.0643129604015,
          -0.361915514972,
          -0.156227022109,
          -0.162458060033,
          -0.602682699665,
          0.00597410256507,
          -0.384882258061,
          -0.116684020608,
          -0.374709084086,
          -0.154894172591,
          -0.114335724179,
          -0.237187287438,
          -0.265751501377
         ],
         "yaxis": "y"
        },
        {
         "hovertemplate": "<b>OLS trendline</b><br>WDR77 = 0.26038 * Copy Number Public 23Q4 MTAP + -0.413478<br>R<sup>2</sup>=0.230520<br><br>lineage_1=Skin<br>Copy Number Public 23Q4 MTAP=%{x}<br>WDR77=%{y} <b>(trend)</b><extra></extra>",
         "legendgroup": "Skin",
         "marker": {
          "color": "#FF97FF",
          "symbol": "circle"
         },
         "mode": "lines",
         "name": "Skin",
         "showlegend": false,
         "type": "scatter",
         "x": [
          1.9791765192635474e-9,
          3.4700251299079284e-8,
          0.00001174721382903716,
          0.0007930940284987,
          0.0013971652996072,
          0.2692289156121114,
          0.396186168203529,
          0.4795224373822215,
          0.5146774080156907,
          0.5213766050719824,
          0.5272575193469079,
          0.5686503474165179,
          0.5798867968421597,
          0.585017502817953,
          0.5919719500407893,
          0.6210834609506661,
          0.6243140787878714,
          0.644235717968556,
          0.6595502832122395,
          0.6626985576433595,
          0.6668859745410943,
          0.6669610364789038,
          0.6751752386710872,
          0.6941987195274635,
          0.7159014445999345,
          0.7366098602628743,
          0.7705998153011412,
          0.7854790301742774,
          0.7871429233650781,
          0.7986450240836158,
          0.8160773663113443,
          0.8319604899515413,
          0.8430617645146294,
          0.8472571859195441,
          0.8621934928822867,
          0.9242210507120544,
          0.9496138110260648,
          0.954983993358952,
          0.9742033390359705,
          1.1015437866255666,
          1.2872589982075806,
          1.372559379736477
         ],
         "xaxis": "x",
         "y": [
          -0.41347804355523,
          -0.4134780350353275,
          -0.4134749853349528,
          -0.41327153851223314,
          -0.41311425063635543,
          -0.343376308916384,
          -0.3103192218764139,
          -0.2886201519328301,
          -0.2794665124171878,
          -0.27772217772446683,
          -0.2761909072291414,
          -0.2654130564770363,
          -0.26248731352732807,
          -0.2611513820184435,
          -0.2593405853725832,
          -0.2517605398819178,
          -0.25091935268813803,
          -0.24573216292991154,
          -0.2417445615451446,
          -0.24092481489994758,
          -0.23983449668625287,
          -0.23981495208394848,
          -0.23767614085978944,
          -0.23272281326616015,
          -0.2270718649581175,
          -0.2216798146021384,
          -0.2128295214581876,
          -0.2089552764575445,
          -0.20852203250408147,
          -0.20552711935942738,
          -0.20098809191065978,
          -0.19685244948044472,
          -0.1939619033163147,
          -0.19286950089171312,
          -0.18898039027184083,
          -0.17282967547452,
          -0.16621791702235195,
          -0.16481963073956607,
          -0.1598153039293353,
          -0.1266584407036846,
          -0.07830197592045013,
          -0.056091491058918086
         ],
         "yaxis": "y"
        },
        {
         "hovertemplate": "lineage_1=CNS/Brain<br>Copy Number Public 23Q4 MTAP=%{x}<br>WDR77=%{y}<extra></extra>",
         "legendgroup": "CNS/Brain",
         "marker": {
          "color": "#FECB52",
          "symbol": "circle"
         },
         "mode": "markers",
         "name": "CNS/Brain",
         "orientation": "v",
         "showlegend": true,
         "type": "scatter",
         "x": [
          0.0021326621883154,
          0.0005026848917857,
          0.0017458478544056,
          0.7947789375345518,
          1.0156100476458674,
          0.3092827678212228,
          0.5345922360278674,
          1.020713596179323,
          0.7673312953225692,
          0.6652107944898662,
          0.0002212315741787,
          0.6381895102090673,
          0.0280487497668422,
          0.6548615028660794,
          2.0155901886246483e-9,
          0.96825903894013,
          0.0027101341468651,
          null,
          1.2432888562215436,
          0.7692012162632946,
          0.8240270527299508,
          1.0349042786556322,
          1.2500926081217928e-7,
          8.320573570161897e-9,
          0.8993254315613234,
          0.9233650188895918,
          0.8283443073835433,
          1.094306086480394,
          0.6814751634849601,
          1.6738846474089567e-8,
          0.3449294375050068,
          2.912690238584085e-9,
          0.6556067438500488,
          0.9514494621982034,
          1.039948213181151,
          0.4399341643394637,
          2.7154347671993347e-9,
          6.913830472983506e-9,
          0.5300103622241528,
          0.0019651170094611,
          0.010545661516395,
          1.0262678660993043,
          0.000019011947327867167,
          1.0679463179080366,
          0.6775418999111611,
          0.0458792293020315,
          1.086693258325214,
          0.9383343924293832,
          0.8716852598028891,
          0.0001280779513904,
          0.7278672664305765
         ],
         "xaxis": "x",
         "y": [
          -0.601940198564,
          -1.07423023172,
          -0.432420121361,
          -0.248587644986,
          -0.145556058159,
          -1.53043845645,
          -0.726961355088,
          -0.550717738039,
          -0.185435273324,
          -0.191274812747,
          -0.61251621017,
          -0.129778462248,
          -0.343753752826,
          -0.153088075393,
          -0.00593220336098,
          -0.0318850790872,
          -0.593909384014,
          -0.244267062007,
          -0.147052028441,
          0.00750569736252,
          -0.360484888763,
          -0.330274878578,
          -1.11676401842,
          -0.492093095353,
          -0.367967283878,
          -0.265758760922,
          -0.427281831396,
          0.0639586070935,
          -0.384162729619,
          -0.46314812303,
          -0.542057337212,
          -0.208469042649,
          -0.159001057982,
          -0.224193128327,
          -0.0921526636649,
          -0.255711702107,
          -0.686605929598,
          -0.529809039332,
          -0.283258874515,
          -0.442227452538,
          -0.17255385438,
          -0.256062286187,
          -0.728039725822,
          0.0277944628093,
          -0.01423002475,
          -0.466129429416,
          -0.111078057906,
          0.0891925366388,
          -0.648916077666,
          -0.522578446654,
          -0.423771274296
         ],
         "yaxis": "y"
        },
        {
         "hovertemplate": "<b>OLS trendline</b><br>WDR77 = 0.372661 * Copy Number Public 23Q4 MTAP + -0.564508<br>R<sup>2</sup>=0.263030<br><br>lineage_1=CNS/Brain<br>Copy Number Public 23Q4 MTAP=%{x}<br>WDR77=%{y} <b>(trend)</b><extra></extra>",
         "legendgroup": "CNS/Brain",
         "marker": {
          "color": "#FECB52",
          "symbol": "circle"
         },
         "mode": "lines",
         "name": "CNS/Brain",
         "showlegend": false,
         "type": "scatter",
         "x": [
          2.0155901886246483e-9,
          2.7154347671993347e-9,
          2.912690238584085e-9,
          6.913830472983506e-9,
          8.320573570161897e-9,
          1.6738846474089567e-8,
          1.2500926081217928e-7,
          0.000019011947327867167,
          0.0001280779513904,
          0.0002212315741787,
          0.0005026848917857,
          0.0017458478544056,
          0.0019651170094611,
          0.0021326621883154,
          0.0027101341468651,
          0.010545661516395,
          0.0280487497668422,
          0.0458792293020315,
          0.3092827678212228,
          0.3449294375050068,
          0.4399341643394637,
          0.5300103622241528,
          0.5345922360278674,
          0.6381895102090673,
          0.6548615028660794,
          0.6556067438500488,
          0.6652107944898662,
          0.6775418999111611,
          0.6814751634849601,
          0.7278672664305765,
          0.7673312953225692,
          0.7692012162632946,
          0.7947789375345518,
          0.8240270527299508,
          0.8283443073835433,
          0.8716852598028891,
          0.8993254315613234,
          0.9233650188895918,
          0.9383343924293832,
          0.9514494621982034,
          0.96825903894013,
          1.0156100476458674,
          1.020713596179323,
          1.0262678660993043,
          1.0349042786556322,
          1.039948213181151,
          1.0679463179080366,
          1.086693258325214,
          1.094306086480394,
          1.2432888562215436
         ],
         "xaxis": "x",
         "y": [
          -0.5645080644580286,
          -0.5645080641972239,
          -0.5645080641237146,
          -0.5645080626326461,
          -0.564508062108408,
          -0.5645080589712471,
          -0.5645080186231004,
          -0.564500980200337,
          -0.5644603355684242,
          -0.5644256208583537,
          -0.564320734220275,
          -0.5638574560296261,
          -0.5637757429956364,
          -0.5637133054635948,
          -0.5634981042613778,
          -0.560578109818424,
          -0.5540553937311085,
          -0.5474106717229361,
          -0.4492504800144195,
          -0.43596636109330833,
          -0.40056181697931165,
          -0.36699394274936414,
          -0.36528645767347895,
          -0.3266798073935495,
          -0.32046680811276707,
          -0.3201890859596528,
          -0.3166100320969648,
          -0.31201471162808647,
          -0.31054893820448415,
          -0.29326041678026965,
          -0.2785537174572224,
          -0.2778568710934519,
          -0.268325055243261,
          -0.2574254272016887,
          -0.2558165553283891,
          -0.23966507831243883,
          -0.2293646678702816,
          -0.2204060543527775,
          -0.21482755459274,
          -0.20994008128841246,
          -0.20367580980290878,
          -0.18602994172430598,
          -0.18412804889001055,
          -0.1820581898318852,
          -0.17883973681880538,
          -0.17696005979254525,
          -0.1665262617391225,
          -0.15954001062175488,
          -0.15670300746167015,
          -0.10118295894116958
         ],
         "yaxis": "y"
        },
        {
         "hovertemplate": "lineage_1=Head and Neck<br>Copy Number Public 23Q4 MTAP=%{x}<br>WDR77=%{y}<extra></extra>",
         "legendgroup": "Head and Neck",
         "marker": {
          "color": "#636efa",
          "symbol": "circle"
         },
         "mode": "markers",
         "name": "Head and Neck",
         "orientation": "v",
         "showlegend": true,
         "type": "scatter",
         "x": [
          0.8039670266201133,
          1.0221655012920063,
          1.001939802347694,
          0.996103276785809,
          0.5765725463655071,
          1.099125016468486,
          0.9919252245398787,
          0.8200684603179124,
          0.8513783330897162,
          1.013791799302426,
          1.180566703330629,
          0.755765182718028,
          0.5962896202586953,
          1.0122697357221624,
          0.6003213698376484,
          0.7978142555040958,
          0.6142711472538305,
          0.0017146098099229,
          1.0168993321867872,
          0.8412081200284444
         ],
         "xaxis": "x",
         "y": [
          -0.214091081014,
          -0.264607290925,
          -0.421986227316,
          -0.392645598998,
          -0.277523307137,
          -0.377338780495,
          -0.135157951078,
          -0.423703959165,
          -0.41931724132,
          -0.376425378397,
          -0.242420915354,
          -0.360303864944,
          -0.324654703254,
          -0.39862303224,
          -0.108012959385,
          -0.104128672347,
          -0.318318529092,
          -0.707591568611,
          -0.228914837327,
          -0.587178284222
         ],
         "yaxis": "y"
        },
        {
         "hovertemplate": "<b>OLS trendline</b><br>WDR77 = 0.200416 * Copy Number Public 23Q4 MTAP + -0.500434<br>R<sup>2</sup>=0.125868<br><br>lineage_1=Head and Neck<br>Copy Number Public 23Q4 MTAP=%{x}<br>WDR77=%{y} <b>(trend)</b><extra></extra>",
         "legendgroup": "Head and Neck",
         "marker": {
          "color": "#636efa",
          "symbol": "circle"
         },
         "mode": "lines",
         "name": "Head and Neck",
         "showlegend": false,
         "type": "scatter",
         "x": [
          0.0017146098099229,
          0.5765725463655071,
          0.5962896202586953,
          0.6003213698376484,
          0.6142711472538305,
          0.755765182718028,
          0.7978142555040958,
          0.8039670266201133,
          0.8200684603179124,
          0.8412081200284444,
          0.8513783330897162,
          0.9919252245398787,
          0.996103276785809,
          1.001939802347694,
          1.0122697357221624,
          1.013791799302426,
          1.0168993321867872,
          1.0221655012920063,
          1.099125016468486,
          1.180566703330629
         ],
         "xaxis": "x",
         "y": [
          -0.5000906785820827,
          -0.384879689608079,
          -0.3809280635828409,
          -0.3801200346303837,
          -0.37732426971198435,
          -0.3489665369172894,
          -0.3405392108719191,
          -0.33930609430497305,
          -0.33607910206522446,
          -0.3318423664355185,
          -0.3298040884013208,
          -0.30163617885097666,
          -0.30079882843685024,
          -0.2996290926823334,
          -0.2975588040693954,
          -0.29725375748447014,
          -0.29663095676431017,
          -0.29557552982813184,
          -0.28015157672492064,
          -0.26382932266799797
         ],
         "yaxis": "y"
        },
        {
         "hovertemplate": "lineage_1=Ovary/Fallopian Tube<br>Copy Number Public 23Q4 MTAP=%{x}<br>WDR77=%{y}<extra></extra>",
         "legendgroup": "Ovary/Fallopian Tube",
         "marker": {
          "color": "#EF553B",
          "symbol": "circle"
         },
         "mode": "markers",
         "name": "Ovary/Fallopian Tube",
         "orientation": "v",
         "showlegend": true,
         "type": "scatter",
         "x": [
          1.0370411358193332,
          0.7930068672029761,
          0.8741588878765544,
          0.8741411653093913,
          0.6942350052790092,
          1.0134031877026246,
          0.4502407185055986,
          0.879422649510939,
          0.8185233786654775,
          0.650950529248076,
          1.0506903811916366,
          1.274195150514436,
          0.0003394309299954,
          1.064739908245523,
          0.7708233060096686,
          0.056756586679094,
          0.0002783347241361,
          0.9610951421261712,
          1.216324027461002,
          0.9173378560823778,
          1.0046926070083422,
          null,
          0.9608845761019223,
          0.6738599188463061,
          0.8365924848919335,
          0.9629790351563872,
          1.0428701110256644,
          0.8799325724354008,
          0.919544584713364,
          0.8860213625311181,
          0.637569542258515,
          0.6525215154594235,
          3.550389303731809e-9,
          1.2550981682319544,
          1.1136025742018616,
          0.9931657644122858,
          0.6618815346992803
         ],
         "xaxis": "x",
         "y": [
          -0.678901042826,
          -0.356935440568,
          -0.346068127332,
          0.429362988768,
          -0.119834249765,
          -0.205430039234,
          -0.57313525346,
          -0.350663499677,
          -0.250546915613,
          -0.399181823969,
          -0.314591666997,
          -0.05466541969,
          -0.436120581632,
          -0.11647128512,
          -0.390524471082,
          -0.564797704883,
          -0.143647158912,
          -0.0418216311578,
          -0.220846149969,
          -0.248205569048,
          -0.144814733889,
          -0.334975242516,
          -0.31624013231,
          -0.305428784148,
          -0.107148177686,
          -0.288830760872,
          -0.350952103912,
          null,
          -0.525431194347,
          -0.0266012631174,
          -0.273761582187,
          -0.343644810839,
          -0.630554249127,
          -0.0333526318053,
          -0.415498974185,
          -0.188540459208,
          -0.341952793749
         ],
         "yaxis": "y"
        },
        {
         "hovertemplate": "<b>OLS trendline</b><br>WDR77 = 0.228727 * Copy Number Public 23Q4 MTAP + -0.459426<br>R<sup>2</sup>=0.138244<br><br>lineage_1=Ovary/Fallopian Tube<br>Copy Number Public 23Q4 MTAP=%{x}<br>WDR77=%{y} <b>(trend)</b><extra></extra>",
         "legendgroup": "Ovary/Fallopian Tube",
         "marker": {
          "color": "#EF553B",
          "symbol": "circle"
         },
         "mode": "lines",
         "name": "Ovary/Fallopian Tube",
         "showlegend": false,
         "type": "scatter",
         "x": [
          3.550389303731809e-9,
          0.0002783347241361,
          0.0003394309299954,
          0.056756586679094,
          0.4502407185055986,
          0.637569542258515,
          0.650950529248076,
          0.6525215154594235,
          0.6618815346992803,
          0.6738599188463061,
          0.6942350052790092,
          0.7708233060096686,
          0.7930068672029761,
          0.8185233786654775,
          0.8365924848919335,
          0.8741411653093913,
          0.8741588878765544,
          0.879422649510939,
          0.8860213625311181,
          0.9173378560823778,
          0.919544584713364,
          0.9608845761019223,
          0.9610951421261712,
          0.9629790351563872,
          0.9931657644122858,
          1.0046926070083422,
          1.0134031877026246,
          1.0370411358193332,
          1.0428701110256644,
          1.0506903811916366,
          1.064739908245523,
          1.1136025742018616,
          1.216324027461002,
          1.2550981682319544,
          1.274195150514436
         ],
         "xaxis": "x",
         "y": [
          -0.4594258446586637,
          -0.4593621827794389,
          -0.4593482084221071,
          -0.44644407660260466,
          -0.35644359645516605,
          -0.31359641986139386,
          -0.3105358256556836,
          -0.31017649855227547,
          -0.3080356085960121,
          -0.3052958276558797,
          -0.30063549344246,
          -0.2831176743440394,
          -0.2780436929626045,
          -0.27220737556740815,
          -0.26807448149448243,
          -0.25948608111658866,
          -0.25948202748538707,
          -0.2582780626081321,
          -0.2567687581860846,
          -0.24960582776989618,
          -0.2491010891533173,
          -0.23964551325247835,
          -0.23959735109865232,
          -0.239166453729351,
          -0.23226193101200415,
          -0.22962542985651044,
          -0.22763308408843738,
          -0.22222644501933753,
          -0.22089320048695413,
          -0.21910449285456982,
          -0.21589098542588467,
          -0.20471477006761601,
          -0.18121959105785196,
          -0.17235089470028508,
          -0.16798289752893208
         ],
         "yaxis": "y"
        },
        {
         "hovertemplate": "lineage_1=Lung<br>Copy Number Public 23Q4 MTAP=%{x}<br>WDR77=%{y}<extra></extra>",
         "legendgroup": "Lung",
         "marker": {
          "color": "#00cc96",
          "symbol": "circle"
         },
         "mode": "markers",
         "name": "Lung",
         "orientation": "v",
         "showlegend": true,
         "type": "scatter",
         "x": [
          0.7261749364840064,
          0.4436346832783809,
          0.580609368784768,
          0.909358439724536,
          0.8296931607767103,
          0.7781297222066572,
          0.8480738401799577,
          0.5838683316115674,
          0.6300176483835648,
          0.6090931993995718,
          1.0267693361857588,
          1.0097879797002118,
          0.7657604898125298,
          1.015440754777824,
          0.8702743717873911,
          0.4382043241359664,
          0.7981520091266209,
          1.0570980087674808,
          0.0011784741162125,
          0.2426983284516021,
          0.469342696973184,
          1.0092097095727304,
          0.9876250337328016,
          null,
          1.1441262820905924,
          null,
          0.8510605603997867,
          0.1643757754902748,
          0.9817454695886272,
          0.8745252127855473,
          0.7456898461400265,
          1.0136050510362715,
          1.0395281012670876,
          0.7348701241113468,
          0.9360484292283046,
          0.7923013493905913,
          0.911783746976493,
          1.0821032136825427e-8,
          1.0385547910567852,
          0.3349537677275269,
          1.1760190969072406,
          0.9965336742566144,
          0.9512683916165962,
          0.0005606982055916,
          0.0260821507535492,
          1.2256657730298797,
          0.5108740187688061,
          1.0509764540387458,
          0.7317488109413363,
          0.9716819945010002,
          0.9606526506491618,
          0.9898916623836675,
          1.0368704249523508,
          0.8188485931321801,
          0.6568142139636738,
          0.0004975633370597,
          1.278713583669757,
          0.8227425738601323,
          0.6690546482578736,
          0.694377870904521,
          0.481891451390146,
          0.000008981013232433716,
          0.2485452894014424,
          0.0004068473225113,
          0.8272567057977382,
          0.9801090411695356,
          0.5388794744793943,
          0.541666963978074,
          1.014189096798498,
          1.2778719730857775,
          0.4636126305588168,
          1.5822411190183132,
          0.5880520936936271,
          0.530786774839314,
          0.9467514616998136,
          0.6731813860410976,
          0.9298348482900244,
          0.1032974181041732,
          0.6738147661450227,
          1.0261869338910126,
          0.486283489376808,
          1.0289696421511385,
          0.8590929242548597,
          0.6449448386311802,
          0.775862854853238,
          1.839629494774353e-9,
          0.0137860685243864,
          0.6456614333596876,
          0.902758549265041,
          9.67402148021914e-8,
          0.6732749834619547,
          0.7527685549130592,
          0.5799222129798364,
          0.6106141777287305,
          7.362150330316912e-9,
          0.924509634230785,
          1.58090000463368e-8,
          3.0682630447061273e-9,
          6.061766117170077e-9,
          0.0001538850211238,
          0.6943687023696239,
          0.4579890457776763,
          1.210288201509913,
          0.8722164166211739,
          1.187294400110079,
          0.9707878709494748,
          1.214651211253508,
          0.0001242077568032,
          0.8116119086359699,
          0.9205531421325828,
          0.4832020133685537,
          0.0005873178439407,
          0.9828007594997868,
          0.770995096078824,
          0.8197116775646608,
          0.5400365733170633,
          0.9903748237437764,
          1.0035303088328684,
          0.6781482562919603,
          0.923725404876614,
          0.4246611955373613,
          0.325833859835184,
          0.00002739001306120013
         ],
         "xaxis": "x",
         "y": [
          -0.101864811268,
          -0.826987145149,
          -0.233279674374,
          -0.252912771241,
          -0.402160681987,
          -0.418404172155,
          -0.244748889791,
          -0.20760617838,
          -0.229127524004,
          -0.106827019386,
          -0.344926833683,
          -0.367030154006,
          -0.377647696478,
          -0.235079785757,
          -0.192938463461,
          -0.243707533555,
          -0.507275495555,
          -0.356635837973,
          -0.475082713188,
          -0.559791570702,
          -0.185568192693,
          -0.302510875245,
          -0.138887133219,
          -0.465109655276,
          -0.161692932508,
          -0.41530793365,
          -0.104666743932,
          -1.72008593771,
          -0.206110360487,
          -0.0201023594429,
          -0.276644526005,
          -0.403181618755,
          -0.049019179224,
          -0.535659581886,
          -0.408746751576,
          -0.394167851511,
          -0.131102774752,
          -0.349449772989,
          -0.136779911875,
          -0.508586897896,
          -0.399297802201,
          -0.120018998711,
          -0.348101416185,
          -0.483422771754,
          -0.56116599783,
          -0.192345226722,
          -0.18365863644,
          -0.127666573469,
          -0.0950608039996,
          -0.062079595635,
          -0.506997242639,
          -0.145961907346,
          -0.300396472651,
          -0.176628829905,
          0.093880521926,
          -0.762991867892,
          -0.339990056888,
          -0.152471500534,
          -0.59355981314,
          -0.334249185402,
          -0.179129152092,
          -0.52481415692,
          -0.310599299132,
          -0.642549657845,
          -0.468192176081,
          -0.302380953514,
          -0.267799371028,
          -0.165336280065,
          0.128984805817,
          -0.366839979,
          -0.173197072731,
          -0.275376852414,
          -0.764992391347,
          -0.141992302387,
          0.0266057808919,
          -0.110427010199,
          -0.251728650239,
          -0.553732504902,
          -0.148655470916,
          -0.274205614335,
          -0.397911903112,
          0.0172085839273,
          -0.156909710873,
          -0.468504251509,
          -0.305311698702,
          -0.71890046869,
          -0.374436535353,
          -0.590947511139,
          -0.0511597503474,
          -0.638231854027,
          -0.430193912736,
          -0.240077312266,
          -0.0935833905799,
          -0.451723336391,
          -0.491123030962,
          -0.224199341528,
          -0.601029119206,
          -0.278501136551,
          -0.219329005729,
          -0.622594245459,
          -0.187125755588,
          -0.350049661034,
          -0.21547037515,
          -0.293295435458,
          -0.142240193483,
          0.0755950083784,
          -0.327172910168,
          -0.244790998925,
          -0.267337409334,
          -0.122899346283,
          -0.138083569462,
          -0.358283821402,
          -0.0668562805698,
          -0.15117217627,
          -0.424112820263,
          -0.204823671045,
          0.0342105310972,
          -0.318151579987,
          0.029365597081,
          -0.27838082702,
          -0.211037202389,
          -0.36089835155,
          -0.5900598051
         ],
         "yaxis": "y"
        },
        {
         "hovertemplate": "<b>OLS trendline</b><br>WDR77 = 0.284331 * Copy Number Public 23Q4 MTAP + -0.497087<br>R<sup>2</sup>=0.212083<br><br>lineage_1=Lung<br>Copy Number Public 23Q4 MTAP=%{x}<br>WDR77=%{y} <b>(trend)</b><extra></extra>",
         "legendgroup": "Lung",
         "marker": {
          "color": "#00cc96",
          "symbol": "circle"
         },
         "mode": "lines",
         "name": "Lung",
         "showlegend": false,
         "type": "scatter",
         "x": [
          1.839629494774353e-9,
          3.0682630447061273e-9,
          6.061766117170077e-9,
          7.362150330316912e-9,
          1.0821032136825427e-8,
          1.58090000463368e-8,
          9.67402148021914e-8,
          0.000008981013232433716,
          0.00002739001306120013,
          0.0001242077568032,
          0.0001538850211238,
          0.0004068473225113,
          0.0004975633370597,
          0.0005606982055916,
          0.0005873178439407,
          0.0011784741162125,
          0.0137860685243864,
          0.0260821507535492,
          0.1032974181041732,
          0.1643757754902748,
          0.2426983284516021,
          0.2485452894014424,
          0.325833859835184,
          0.3349537677275269,
          0.4246611955373613,
          0.4382043241359664,
          0.4436346832783809,
          0.4579890457776763,
          0.4636126305588168,
          0.469342696973184,
          0.481891451390146,
          0.4832020133685537,
          0.486283489376808,
          0.5108740187688061,
          0.530786774839314,
          0.5388794744793943,
          0.5400365733170633,
          0.541666963978074,
          0.5799222129798364,
          0.580609368784768,
          0.5838683316115674,
          0.5880520936936271,
          0.6090931993995718,
          0.6106141777287305,
          0.6300176483835648,
          0.6449448386311802,
          0.6456614333596876,
          0.6568142139636738,
          0.6690546482578736,
          0.6731813860410976,
          0.6732749834619547,
          0.6738147661450227,
          0.6781482562919603,
          0.6943687023696239,
          0.694377870904521,
          0.7261749364840064,
          0.7317488109413363,
          0.7348701241113468,
          0.7456898461400265,
          0.7527685549130592,
          0.7657604898125298,
          0.770995096078824,
          0.775862854853238,
          0.7781297222066572,
          0.7923013493905913,
          0.7981520091266209,
          0.8116119086359699,
          0.8188485931321801,
          0.8197116775646608,
          0.8227425738601323,
          0.8272567057977382,
          0.8296931607767103,
          0.8480738401799577,
          0.8510605603997867,
          0.8590929242548597,
          0.8702743717873911,
          0.8722164166211739,
          0.8745252127855473,
          0.902758549265041,
          0.909358439724536,
          0.911783746976493,
          0.9205531421325828,
          0.923725404876614,
          0.924509634230785,
          0.9298348482900244,
          0.9360484292283046,
          0.9467514616998136,
          0.9512683916165962,
          0.9606526506491618,
          0.9707878709494748,
          0.9716819945010002,
          0.9801090411695356,
          0.9817454695886272,
          0.9828007594997868,
          0.9876250337328016,
          0.9898916623836675,
          0.9903748237437764,
          0.9965336742566144,
          1.0035303088328684,
          1.0092097095727304,
          1.0097879797002118,
          1.0136050510362715,
          1.014189096798498,
          1.015440754777824,
          1.0261869338910126,
          1.0267693361857588,
          1.0289696421511385,
          1.0368704249523508,
          1.0385547910567852,
          1.0395281012670876,
          1.0509764540387458,
          1.0570980087674808,
          1.1441262820905924,
          1.1760190969072406,
          1.187294400110079,
          1.210288201509913,
          1.214651211253508,
          1.2256657730298797,
          1.2778719730857775,
          1.278713583669757,
          1.5822411190183132
         ],
         "xaxis": "x",
         "y": [
          -0.4970869866980837,
          -0.49708698634874526,
          -0.4970869854976,
          -0.49708698512786065,
          -0.49708698414439384,
          -0.49708698272616064,
          -0.49708695971491923,
          -0.4970844336419812,
          -0.49707919939533074,
          -0.49705167112352905,
          -0.4970432329616078,
          -0.49697130797431693,
          -0.49694551461239034,
          -0.4969275634212767,
          -0.4969199946367604,
          -0.4967519106687666,
          -0.49316718257844583,
          -0.48967102701214704,
          -0.467716344071684,
          -0.45034988252921404,
          -0.4280803641249672,
          -0.42641789272230907,
          -0.40444236745359124,
          -0.4018492962502834,
          -0.3763427066528381,
          -0.3724919773268081,
          -0.37094795867201036,
          -0.36686657051785854,
          -0.3652676118521051,
          -0.3636383771725957,
          -0.3600703791072505,
          -0.35969774590015285,
          -0.35882158719383556,
          -0.3518297409610439,
          -0.3461679300135585,
          -0.343866925810289,
          -0.34353792690912033,
          -0.3430743565394285,
          -0.33219720890451365,
          -0.3320018293073743,
          -0.33107520562229087,
          -0.3298856329747877,
          -0.3239029974113682,
          -0.3234705363434765,
          -0.31795353095337575,
          -0.31370927019610567,
          -0.31350552020467265,
          -0.310334440566326,
          -0.30685410742492214,
          -0.3056807485450299,
          -0.3056541359103856,
          -0.30550065903890505,
          -0.30426851408278366,
          -0.2996565407903658,
          -0.2996539338930047,
          -0.29061304706857966,
          -0.289028222581669,
          -0.2881407369411117,
          -0.28506435613205544,
          -0.28305166081839284,
          -0.27935765286779146,
          -0.27786929279551725,
          -0.27648523878405296,
          -0.27584069845258696,
          -0.27181126758678553,
          -0.2701477445050898,
          -0.2663206797771211,
          -0.264263067091109,
          -0.2640176655569808,
          -0.2631558882236156,
          -0.26187238123280865,
          -0.2611796219068693,
          -0.2559534276272307,
          -0.2551042109151981,
          -0.2528203620372321,
          -0.2496411315065984,
          -0.24908894823967714,
          -0.24843248625356754,
          -0.24040487756908263,
          -0.23852832507562255,
          -0.23783873539243033,
          -0.23534532577490824,
          -0.23444335359843704,
          -0.23422037299610038,
          -0.23270625033264047,
          -0.23093953755541996,
          -0.2278963351878565,
          -0.2266120326452396,
          -0.223943798256364,
          -0.22106204240858973,
          -0.22080781549522294,
          -0.21841174611567832,
          -0.21794645902507254,
          -0.21764640754296638,
          -0.21627471752831245,
          -0.2156302450673474,
          -0.21549286738500245,
          -0.21374171615641097,
          -0.21175235706924467,
          -0.21013752820425735,
          -0.20997310816482206,
          -0.2088877970104388,
          -0.20872173477984163,
          -0.2083658497971319,
          -0.20531037950807413,
          -0.20514478456598984,
          -0.20451916969085682,
          -0.20227273336636126,
          -0.2017938161127228,
          -0.20151707398900687,
          -0.1982619540636817,
          -0.19652140717725064,
          -0.1717765838641519,
          -0.16270847257731386,
          -0.15950255598374913,
          -0.15296470878525398,
          -0.15172417049699272,
          -0.14859239073599922,
          -0.13374855726781976,
          -0.1335092614113837,
          -0.04720701794419346
         ],
         "yaxis": "y"
        },
        {
         "hovertemplate": "lineage_1=Pleura<br>Copy Number Public 23Q4 MTAP=%{x}<br>WDR77=%{y}<extra></extra>",
         "legendgroup": "Pleura",
         "marker": {
          "color": "#ab63fa",
          "symbol": "circle"
         },
         "mode": "markers",
         "name": "Pleura",
         "orientation": "v",
         "showlegend": true,
         "type": "scatter",
         "x": [
          0.7357420132803791,
          0.5809798790955485,
          1.0372698056826355,
          0.0001485502860438,
          2.742141274100821e-7,
          0.5968464014407435
         ],
         "xaxis": "x",
         "y": [
          0.0121471600389,
          0.0860284968239,
          -0.125391901017,
          -1.06585416739,
          -0.562727092528,
          0.0415314519023
         ],
         "yaxis": "y"
        },
        {
         "hovertemplate": "<b>OLS trendline</b><br>WDR77 = 0.869486 * Copy Number Public 23Q4 MTAP + -0.696685<br>R<sup>2</sup>=0.622851<br><br>lineage_1=Pleura<br>Copy Number Public 23Q4 MTAP=%{x}<br>WDR77=%{y} <b>(trend)</b><extra></extra>",
         "legendgroup": "Pleura",
         "marker": {
          "color": "#ab63fa",
          "symbol": "circle"
         },
         "mode": "lines",
         "name": "Pleura",
         "showlegend": false,
         "type": "scatter",
         "x": [
          2.742141274100821e-7,
          0.0001485502860438,
          0.5809798790955485,
          0.5968464014407435,
          0.7357420132803791,
          1.0372698056826355
         ],
         "xaxis": "x",
         "y": [
          -0.6966844952595225,
          -0.6965555712640579,
          -0.19153075752774895,
          -0.17773503561231985,
          -0.05696722055338321,
          0.20520702804713076
         ],
         "yaxis": "y"
        },
        {
         "hovertemplate": "lineage_1=Myeloid<br>Copy Number Public 23Q4 MTAP=%{x}<br>WDR77=%{y}<extra></extra>",
         "legendgroup": "Myeloid",
         "marker": {
          "color": "#FFA15A",
          "symbol": "circle"
         },
         "mode": "markers",
         "name": "Myeloid",
         "orientation": "v",
         "showlegend": true,
         "type": "scatter",
         "x": [
          0.9571018785212078,
          0.0004926701612381,
          0.0030735040415514,
          0.0205803590289535,
          0.0001501844665933,
          2.2094087038144108e-9,
          0.5923537137422702,
          null,
          0.0147951304466468,
          0.583501649125584,
          0.7791257067498178,
          0.4212052821116744,
          1.0415645147082695,
          1.0084601612252695,
          1.01922997615665,
          0.9913376626933568,
          0.0446890799859616,
          2.274100668525505e-8,
          0.9698522316876984,
          0.961437077123314,
          0.815819923037299,
          null,
          1.3732721058818154,
          0.0001153784215903,
          0.8530385824217575
         ],
         "xaxis": "x",
         "y": [
          -0.540546321599,
          -1.7717732769,
          -0.442711274918,
          -0.506018061173,
          -0.696260947852,
          -0.57712850581,
          -0.652285158717,
          -0.0723898726509,
          -0.481492149558,
          -0.503215728444,
          -0.368079601426,
          -0.412713004269,
          -0.271128403844,
          -0.366258284894,
          -0.308803907414,
          -0.308734444559,
          -0.42043806784,
          -0.343083175212,
          -0.0741830719317,
          -0.316984753686,
          -0.147750716022,
          -0.474083068281,
          -0.181999310917,
          -0.403025912613,
          -0.394255782655
         ],
         "yaxis": "y"
        },
        {
         "hovertemplate": "<b>OLS trendline</b><br>WDR77 = 0.33028 * Copy Number Public 23Q4 MTAP + -0.634837<br>R<sup>2</sup>=0.232818<br><br>lineage_1=Myeloid<br>Copy Number Public 23Q4 MTAP=%{x}<br>WDR77=%{y} <b>(trend)</b><extra></extra>",
         "legendgroup": "Myeloid",
         "marker": {
          "color": "#FFA15A",
          "symbol": "circle"
         },
         "mode": "lines",
         "name": "Myeloid",
         "showlegend": false,
         "type": "scatter",
         "x": [
          2.2094087038144108e-9,
          2.274100668525505e-8,
          0.0001153784215903,
          0.0001501844665933,
          0.0004926701612381,
          0.0030735040415514,
          0.0147951304466468,
          0.0205803590289535,
          0.0446890799859616,
          0.4212052821116744,
          0.583501649125584,
          0.5923537137422702,
          0.7791257067498178,
          0.815819923037299,
          0.8530385824217575,
          0.9571018785212078,
          0.961437077123314,
          0.9698522316876984,
          0.9913376626933568,
          1.0084601612252695,
          1.01922997615665,
          1.0415645147082695,
          1.3732721058818154
         ],
         "xaxis": "x",
         "y": [
          -0.6348369744970468,
          -0.6348369677158718,
          -0.634798868048267,
          -0.6347873723097083,
          -0.6346742561540117,
          -0.6338218584871979,
          -0.6299504403865664,
          -0.6280396954203137,
          -0.6200770684374695,
          -0.4957213186707972,
          -0.44211808382863993,
          -0.43919442443184326,
          -0.37750738123226696,
          -0.3653880175693811,
          -0.35309544087033273,
          -0.31872542136897375,
          -0.31729359222189135,
          -0.3145142354522535,
          -0.307418028524944,
          -0.3017628106862603,
          -0.29820575682488903,
          -0.2908291067057211,
          -0.1812727424090515
         ],
         "yaxis": "y"
        },
        {
         "hovertemplate": "lineage_1=Uterus<br>Copy Number Public 23Q4 MTAP=%{x}<br>WDR77=%{y}<extra></extra>",
         "legendgroup": "Uterus",
         "marker": {
          "color": "#19d3f3",
          "symbol": "circle"
         },
         "mode": "markers",
         "name": "Uterus",
         "orientation": "v",
         "showlegend": true,
         "type": "scatter",
         "x": [
          0.9927532921547644,
          0.9885750990283232,
          0.943742535903242,
          1.0034160347172538,
          1.0167324201323116,
          0.662785087256818,
          0.9996880337368592,
          0.9969068230532496,
          0.1090342970252943,
          1.010496407964309,
          1.082529890179088,
          1.044445201989716,
          0.9648782026501116,
          0.98244660350851,
          1.0396621341688883,
          1.0535301716494117,
          1.036367119134992,
          1.0281498826065187,
          0.8625386047395747,
          0.6884617149619614
         ],
         "xaxis": "x",
         "y": [
          -0.251404835075,
          -0.212811820794,
          -0.236606825994,
          -0.543942559067,
          -0.295066284098,
          -0.0810633035467,
          -0.320168923913,
          -0.262518450322,
          -0.434945664267,
          -0.422832901869,
          -0.157473439545,
          -0.59029287202,
          -0.294605691136,
          -0.0641603437482,
          -0.346929396934,
          -0.597512093838,
          -0.406094170909,
          -0.209670527401,
          -0.248435164764,
          -0.38535671509
         ],
         "yaxis": "y"
        },
        {
         "hovertemplate": "<b>OLS trendline</b><br>WDR77 = 0.00778226 * Copy Number Public 23Q4 MTAP + -0.325296<br>R<sup>2</sup>=0.000131<br><br>lineage_1=Uterus<br>Copy Number Public 23Q4 MTAP=%{x}<br>WDR77=%{y} <b>(trend)</b><extra></extra>",
         "legendgroup": "Uterus",
         "marker": {
          "color": "#19d3f3",
          "symbol": "circle"
         },
         "mode": "lines",
         "name": "Uterus",
         "showlegend": false,
         "type": "scatter",
         "x": [
          0.1090342970252943,
          0.662785087256818,
          0.6884617149619614,
          0.8625386047395747,
          0.943742535903242,
          0.9648782026501116,
          0.98244660350851,
          0.9885750990283232,
          0.9927532921547644,
          0.9969068230532496,
          0.9996880337368592,
          1.0034160347172538,
          1.010496407964309,
          1.0167324201323116,
          1.0281498826065187,
          1.036367119134992,
          1.0396621341688883,
          1.044445201989716,
          1.0535301716494117,
          1.082529890179088
         ],
         "xaxis": "x",
         "y": [
          -0.32444743657945757,
          -0.32013800258643693,
          -0.3199381803302693,
          -0.3185834682839112,
          -0.317951517977931,
          -0.31778703467181046,
          -0.31765031276513733,
          -0.31760261920445076,
          -0.3175701034088869,
          -0.3175377795412541,
          -0.31751613542972756,
          -0.3174871231476065,
          -0.3174320218246064,
          -0.3173834915411436,
          -0.31729463785141826,
          -0.31723068915996866,
          -0.31720504648812947,
          -0.31716782339893196,
          -0.31709712178050053,
          -0.3168714383593219
         ],
         "yaxis": "y"
        },
        {
         "hovertemplate": "lineage_1=Pancreas<br>Copy Number Public 23Q4 MTAP=%{x}<br>WDR77=%{y}<extra></extra>",
         "legendgroup": "Pancreas",
         "marker": {
          "color": "#FF6692",
          "symbol": "circle"
         },
         "mode": "markers",
         "name": "Pancreas",
         "orientation": "v",
         "showlegend": true,
         "type": "scatter",
         "x": [
          0.5125803192465677,
          1.1153821698353e-8,
          0.6720314569696988,
          0.00005067025402507645,
          1.0859585896533632,
          0.8905035361182941,
          1.0940695243674246,
          1.8018630183979398e-9,
          0.3194993769107407,
          0.3221458582533975,
          0.5334400805251296,
          0.778136392272222,
          3.631473794509249e-9,
          0.9847652976558152,
          4.5703641747366456e-8,
          0.6600714781943908,
          0.7640117673403861,
          0.8064623615927318,
          0.8502787558185392,
          1.200376322105988,
          1.1021296691497422,
          0.2304382417601205,
          1.121218670972971,
          0.7962000417500834,
          0.5689863039055016,
          0.0999954633273773,
          0.8499243333906111,
          0.0988112272378211,
          0.0157303984760968,
          1.12128296725653,
          0.6528723805657817,
          0.0005775392406903
         ],
         "xaxis": "x",
         "y": [
          -0.38101214943,
          -0.348310927228,
          -0.158005401884,
          -0.547328332097,
          -0.142715843636,
          -0.347010656065,
          -0.26706771055,
          -0.59452479912,
          -0.824818459066,
          -0.965870693037,
          0.00869464093576,
          -0.0376285219542,
          -1.10179882199,
          -0.345560368179,
          -0.462399951179,
          -0.150472382486,
          -0.200899232491,
          -0.232695003117,
          -0.260296268449,
          -0.196305336745,
          -0.409933531998,
          -0.48146999251,
          -0.316765861278,
          -0.30172744947,
          -0.190417701617,
          -0.536901249625,
          0.101204324421,
          null,
          -0.682251699397,
          -0.258113174664,
          -0.648223858561,
          -0.513752812197
         ],
         "yaxis": "y"
        },
        {
         "hovertemplate": "<b>OLS trendline</b><br>WDR77 = 0.386948 * Copy Number Public 23Q4 MTAP + -0.605564<br>R<sup>2</sup>=0.353794<br><br>lineage_1=Pancreas<br>Copy Number Public 23Q4 MTAP=%{x}<br>WDR77=%{y} <b>(trend)</b><extra></extra>",
         "legendgroup": "Pancreas",
         "marker": {
          "color": "#FF6692",
          "symbol": "circle"
         },
         "mode": "lines",
         "name": "Pancreas",
         "showlegend": false,
         "type": "scatter",
         "x": [
          1.8018630183979398e-9,
          3.631473794509249e-9,
          1.1153821698353e-8,
          4.5703641747366456e-8,
          0.00005067025402507645,
          0.0005775392406903,
          0.0157303984760968,
          0.0999954633273773,
          0.2304382417601205,
          0.3194993769107407,
          0.3221458582533975,
          0.5125803192465677,
          0.5334400805251296,
          0.5689863039055016,
          0.6528723805657817,
          0.6600714781943908,
          0.6720314569696988,
          0.7640117673403861,
          0.778136392272222,
          0.7962000417500834,
          0.8064623615927318,
          0.8499243333906111,
          0.8502787558185392,
          0.8905035361182941,
          0.9847652976558152,
          1.0859585896533632,
          1.0940695243674246,
          1.1021296691497422,
          1.121218670972971,
          1.12128296725653,
          1.200376322105988
         ],
         "xaxis": "x",
         "y": [
          -0.6055644853396702,
          -0.6055644846317059,
          -0.605564481720948,
          -0.6055644683519622,
          -0.6055448792805062,
          -0.6053410083493156,
          -0.5994776388956007,
          -0.5668714356973403,
          -0.5163968559075991,
          -0.48193482262115916,
          -0.48091077180518493,
          -0.40722252695480277,
          -0.3991508828385085,
          -0.3853963407335836,
          -0.3529367862798215,
          -0.35015110943335104,
          -0.34552321887297666,
          -0.3099316164042804,
          -0.30446612021746233,
          -0.29747642613229425,
          -0.2935054413989947,
          -0.27668791581659813,
          -0.27655077274641315,
          -0.2609858721274675,
          -0.22451146656042936,
          -0.1853549187431781,
          -0.182216408307314,
          -0.17909755093690222,
          -0.17171109875296725,
          -0.1716862194309099,
          -0.14108119937419838
         ],
         "yaxis": "y"
        },
        {
         "hovertemplate": "lineage_1=Breast<br>Copy Number Public 23Q4 MTAP=%{x}<br>WDR77=%{y}<extra></extra>",
         "legendgroup": "Breast",
         "marker": {
          "color": "#B6E880",
          "symbol": "circle"
         },
         "mode": "markers",
         "name": "Breast",
         "orientation": "v",
         "showlegend": true,
         "type": "scatter",
         "x": [
          0.9334757099620136,
          0.9473348040002616,
          0.413072402257499,
          0.8580976790092747,
          1.569957787216207,
          0.828386680192014,
          0.9941538930434812,
          1.0234693445211118,
          1.407246051722497,
          1.1048283650527393,
          1.0476513513184522,
          0.6334281344548817,
          0.0006860612966673,
          0.7783677868709755,
          0.4364400133478417,
          1.2673148648576733,
          0.0126111113108236,
          0.6796530697465822,
          0.9710940126890972,
          0.0001268178470747,
          1.0425361467330578,
          1.1062221995876165,
          0.4249990975799408,
          1.050708485499071,
          0.832565854750309,
          1.3768919426757136,
          1.0197503666575995,
          0.3768742765060908,
          1.839034314444817,
          0.8142698172869994,
          0.0216862902730971,
          0.8460048927799357,
          0.8501375972048983,
          0.2112526567514218,
          0.2874646413701638,
          1.0526033670006882,
          1.276805761885042,
          0.8966846774485928,
          0.0001201704922568,
          1.0320237132526178,
          0.61498819461937,
          0.9292406565018654,
          0.6839011417232936,
          0.606102913819557,
          0.8364103248704371,
          0.5314655751714443,
          0.6816615442427185,
          0.920247049378806,
          3.177980402224273e-9,
          2.945754405176078e-9,
          4.667302932928005e-8,
          0.5557762983457583,
          0.7441770509779108,
          0.8269076402814759,
          1.5276775797983574e-9,
          0.6903455879250175,
          0.8457551298410397,
          0.8651795468597546,
          0.8341818985912952,
          0.7686509060292022,
          1.027879786371216,
          0.8507945540134743
         ],
         "xaxis": "x",
         "y": [
          -0.381112662465,
          -0.0732695311958,
          -0.391029783343,
          -0.0490753002339,
          -0.0564912679675,
          0.00757974075302,
          -0.264111669665,
          -0.100099910975,
          -0.0434898706135,
          0.0636418795054,
          -0.306320458873,
          -0.0759008392951,
          -0.727060914873,
          -0.191522290108,
          -0.162059012515,
          -0.403351958238,
          -0.130438992754,
          -0.404175323681,
          -0.188074637834,
          -0.614274403303,
          -0.369425647307,
          -0.591964755613,
          -0.184582499834,
          -0.242887709332,
          -0.254117781973,
          0.0556598875044,
          -0.350798076503,
          -0.472827213736,
          -0.0792036690228,
          -0.427043925573,
          -0.837267615968,
          0.0425519188805,
          -0.381043309656,
          -0.379367717895,
          -0.968478339165,
          0.107893043741,
          -0.0956605536419,
          -0.351094129031,
          -0.269940548294,
          -0.658532345473,
          -0.0764877531389,
          -0.339280360954,
          -0.321346246093,
          -0.376582924006,
          -0.114493556132,
          -0.126716282394,
          -0.870509072164,
          -0.808979544662,
          -0.691756133515,
          -0.205137010029,
          -0.383362595343,
          -0.325274189204,
          -0.25589931839,
          -0.274158823565,
          -0.447700643433,
          -0.171816562219,
          -0.287854059724,
          -0.155304168058,
          -0.145138497277,
          -0.541450579813,
          -0.148290466532,
          -0.523955352636
         ],
         "yaxis": "y"
        },
        {
         "hovertemplate": "<b>OLS trendline</b><br>WDR77 = 0.243802 * Copy Number Public 23Q4 MTAP + -0.484267<br>R<sup>2</sup>=0.176537<br><br>lineage_1=Breast<br>Copy Number Public 23Q4 MTAP=%{x}<br>WDR77=%{y} <b>(trend)</b><extra></extra>",
         "legendgroup": "Breast",
         "marker": {
          "color": "#B6E880",
          "symbol": "circle"
         },
         "mode": "lines",
         "name": "Breast",
         "showlegend": false,
         "type": "scatter",
         "x": [
          1.5276775797983574e-9,
          2.945754405176078e-9,
          3.177980402224273e-9,
          4.667302932928005e-8,
          0.0001201704922568,
          0.0001268178470747,
          0.0006860612966673,
          0.0126111113108236,
          0.0216862902730971,
          0.2112526567514218,
          0.2874646413701638,
          0.3768742765060908,
          0.413072402257499,
          0.4249990975799408,
          0.4364400133478417,
          0.5314655751714443,
          0.5557762983457583,
          0.606102913819557,
          0.61498819461937,
          0.6334281344548817,
          0.6796530697465822,
          0.6816615442427185,
          0.6839011417232936,
          0.6903455879250175,
          0.7441770509779108,
          0.7686509060292022,
          0.7783677868709755,
          0.8142698172869994,
          0.8269076402814759,
          0.828386680192014,
          0.832565854750309,
          0.8341818985912952,
          0.8364103248704371,
          0.8457551298410397,
          0.8460048927799357,
          0.8501375972048983,
          0.8507945540134743,
          0.8580976790092747,
          0.8651795468597546,
          0.8966846774485928,
          0.920247049378806,
          0.9292406565018654,
          0.9334757099620136,
          0.9473348040002616,
          0.9710940126890972,
          0.9941538930434812,
          1.0197503666575995,
          1.0234693445211118,
          1.027879786371216,
          1.0320237132526178,
          1.0425361467330578,
          1.0476513513184522,
          1.050708485499071,
          1.0526033670006882,
          1.1048283650527393,
          1.1062221995876165,
          1.2673148648576733,
          1.276805761885042,
          1.3768919426757136,
          1.407246051722497,
          1.569957787216207,
          1.839034314444817
         ],
         "xaxis": "x",
         "y": [
          -0.4842674203875391,
          -0.4842674200418093,
          -0.4842674199851921,
          -0.48426740938101676,
          -0.4842381229661422,
          -0.4842365023284347,
          -0.4841001577151352,
          -0.48119280791257346,
          -0.47898026207562877,
          -0.4327636225228511,
          -0.4141829961798918,
          -0.3923847576189655,
          -0.38355958593150663,
          -0.3806518349996655,
          -0.3778625180442275,
          -0.3546951059094182,
          -0.3487681055079884,
          -0.3364983812395236,
          -0.33433213293462116,
          -0.3298364406418104,
          -0.31856671377825696,
          -0.3180770438881634,
          -0.3175310257762697,
          -0.3159598575740432,
          -0.3028356448208347,
          -0.29686887255851047,
          -0.2944998785867191,
          -0.28574689550340426,
          -0.2826657702968698,
          -0.2823051775625182,
          -0.2812862868817658,
          -0.28089229232942053,
          -0.2803489977776161,
          -0.2780707166086476,
          -0.2780098239306107,
          -0.277002262756469,
          -0.2768420954409913,
          -0.2750615797207705,
          -0.2733350069120679,
          -0.2656539963428538,
          -0.2599094453935604,
          -0.257716786925671,
          -0.2566842728627041,
          -0.25330539946024855,
          -0.24751285933601347,
          -0.24189081678559826,
          -0.23565034798924583,
          -0.23474365413518414,
          -0.23366838005022111,
          -0.23265808281992256,
          -0.23009513160650885,
          -0.22884803503049822,
          -0.22810269992113807,
          -0.2276407242184731,
          -0.21490817067822182,
          -0.21456835117600015,
          -0.1752936539620628,
          -0.17297975527267384,
          -0.14857855463909247,
          -0.1411781653040925,
          -0.10150873569997781,
          -0.035907368210245594
         ],
         "yaxis": "y"
        },
        {
         "hovertemplate": "lineage_1=Bladder/Urinary Tract<br>Copy Number Public 23Q4 MTAP=%{x}<br>WDR77=%{y}<extra></extra>",
         "legendgroup": "Bladder/Urinary Tract",
         "marker": {
          "color": "#FF97FF",
          "symbol": "circle"
         },
         "mode": "markers",
         "name": "Bladder/Urinary Tract",
         "orientation": "v",
         "showlegend": true,
         "type": "scatter",
         "x": [
          0.4691036432977413,
          7.815142034362841e-8,
          0.7192253350909819,
          0.9878287780741752,
          1.131504462185485,
          5.583428087315147e-7,
          0.0004191575258217,
          0.7887256541205179,
          0.00004164110886301237,
          0.6975711803177876,
          0.9899815289012462,
          0.7779967467776021,
          0.0032477239601623
         ],
         "xaxis": "x",
         "y": [
          -0.328453621211,
          -0.981302680979,
          -0.143198934857,
          -0.00479210659925,
          -0.277649464415,
          -0.0403267396851,
          -0.63990990731,
          -0.29207168571,
          -0.777796633054,
          -0.37086446463,
          -0.401669746298,
          -0.285917554824,
          -0.459493136301
         ],
         "yaxis": "y"
        },
        {
         "hovertemplate": "<b>OLS trendline</b><br>WDR77 = 0.354234 * Copy Number Public 23Q4 MTAP + -0.563786<br>R<sup>2</sup>=0.317973<br><br>lineage_1=Bladder/Urinary Tract<br>Copy Number Public 23Q4 MTAP=%{x}<br>WDR77=%{y} <b>(trend)</b><extra></extra>",
         "legendgroup": "Bladder/Urinary Tract",
         "marker": {
          "color": "#FF97FF",
          "symbol": "circle"
         },
         "mode": "lines",
         "name": "Bladder/Urinary Tract",
         "showlegend": false,
         "type": "scatter",
         "x": [
          7.815142034362841e-8,
          5.583428087315147e-7,
          0.00004164110886301237,
          0.0004191575258217,
          0.0032477239601623,
          0.4691036432977413,
          0.6975711803177876,
          0.7192253350909819,
          0.7779967467776021,
          0.7887256541205179,
          0.9878287780741752,
          0.9899815289012462,
          1.131504462185485
         ],
         "xaxis": "x",
         "y": [
          -0.5637861584135554,
          -0.5637859883135469,
          -0.5637714354102232,
          -0.5636377063445651,
          -0.5626357325775336,
          -0.3976138314739786,
          -0.31668291327698495,
          -0.30901228027838673,
          -0.2881934612305219,
          -0.2843929198764281,
          -0.21386386858260914,
          -0.21310129152962104,
          -0.16296908856539705
         ],
         "yaxis": "y"
        },
        {
         "hovertemplate": "lineage_1=Bowel<br>Copy Number Public 23Q4 MTAP=%{x}<br>WDR77=%{y}<extra></extra>",
         "legendgroup": "Bowel",
         "marker": {
          "color": "#FECB52",
          "symbol": "circle"
         },
         "mode": "markers",
         "name": "Bowel",
         "orientation": "v",
         "showlegend": true,
         "type": "scatter",
         "x": [
          0.6535182904190842,
          null,
          0.8918440751102936,
          1.014772364321169,
          1.0097990541191697,
          1.0785499246766483,
          0.9650893836054656,
          0.6590606303359559,
          4.946387471047608e-9,
          1.0123105792717155,
          1.01514365491117,
          1.034912469905627,
          0.9882313955110464,
          1.0063403714256436,
          1.1385956466290408,
          0.9710489443781336,
          0.7776970938720993,
          0.9992047193187747,
          1.0486588746482388,
          0.9692723649493044,
          1.0542091780942715,
          1.070228775954213,
          1.290960928026124,
          1.0172696408172437,
          1.051578259151618,
          0.4557632587500345,
          0.7851352372543845,
          null,
          0.8205316261167173,
          1.013159979216624,
          1.4889727325360331,
          0.9905019725937656,
          0.8234329871741577,
          0.9968684062005436,
          1.1244245623601463,
          0.6198321241735618,
          1.0096294233532512,
          0.8239915447768313,
          0.9404822155635316,
          1.04088900586942,
          0.934891871178236,
          1.0273315897221529,
          0.912678844278465,
          1.0258296629086396,
          0.8035689238251605
         ],
         "xaxis": "x",
         "y": [
          -0.313249934328,
          -0.468845047947,
          -0.341622514369,
          -0.355196074206,
          -0.270168481562,
          -0.241686023135,
          -0.0859456394123,
          -0.375260241487,
          -0.156972959174,
          -0.359460866786,
          -0.477624849135,
          -0.20962832164,
          -0.534391314531,
          -0.596194552253,
          -0.0472157234594,
          -0.168927190046,
          -0.0935983708427,
          -0.185179234672,
          -0.241353956652,
          -0.346743560613,
          -0.159664489732,
          -0.330837707351,
          -0.504330956804,
          -0.191236568549,
          -0.135535422054,
          -0.156169328626,
          -0.432554781179,
          -0.00874681790019,
          0.0228886532431,
          -0.325286098661,
          -0.210109709954,
          -0.312080772894,
          -0.264062526375,
          -0.584291404853,
          -0.59862615257,
          -0.275604569854,
          -0.652724263052,
          -0.31517644704,
          0.0517132718608,
          -0.0560807552845,
          -0.218499987132,
          -0.24296141837,
          -0.1964487503,
          -0.208032718409,
          -0.0133732887598
         ],
         "yaxis": "y"
        },
        {
         "hovertemplate": "<b>OLS trendline</b><br>WDR77 = -0.132751 * Copy Number Public 23Q4 MTAP + -0.147725<br>R<sup>2</sup>=0.031143<br><br>lineage_1=Bowel<br>Copy Number Public 23Q4 MTAP=%{x}<br>WDR77=%{y} <b>(trend)</b><extra></extra>",
         "legendgroup": "Bowel",
         "marker": {
          "color": "#FECB52",
          "symbol": "circle"
         },
         "mode": "lines",
         "name": "Bowel",
         "showlegend": false,
         "type": "scatter",
         "x": [
          4.946387471047608e-9,
          0.4557632587500345,
          0.6198321241735618,
          0.6535182904190842,
          0.6590606303359559,
          0.7776970938720993,
          0.7851352372543845,
          0.8035689238251605,
          0.8205316261167173,
          0.8234329871741577,
          0.8239915447768313,
          0.8918440751102936,
          0.912678844278465,
          0.934891871178236,
          0.9404822155635316,
          0.9650893836054656,
          0.9692723649493044,
          0.9710489443781336,
          0.9882313955110464,
          0.9905019725937656,
          0.9968684062005436,
          0.9992047193187747,
          1.0063403714256436,
          1.0096294233532512,
          1.0097990541191697,
          1.0123105792717155,
          1.013159979216624,
          1.014772364321169,
          1.01514365491117,
          1.0172696408172437,
          1.0258296629086396,
          1.0273315897221529,
          1.034912469905627,
          1.04088900586942,
          1.0486588746482388,
          1.051578259151618,
          1.0542091780942715,
          1.070228775954213,
          1.0785499246766483,
          1.1244245623601463,
          1.1385956466290408,
          1.290960928026124,
          1.4889727325360331
         ],
         "xaxis": "x",
         "y": [
          -0.14772501618369807,
          -0.20822807500871174,
          -0.23000839216510444,
          -0.2344802667204412,
          -0.23521601826517452,
          -0.25096513553650956,
          -0.25195255701652464,
          -0.2543996486011262,
          -0.2566514654512389,
          -0.2570366242310789,
          -0.25711077334952953,
          -0.26611826923676957,
          -0.26888410710120286,
          -0.2718329101518706,
          -0.2725750343410694,
          -0.2758416621859714,
          -0.27639695742795956,
          -0.2766328002450202,
          -0.2789137889885761,
          -0.2792152105219182,
          -0.2800603613843491,
          -0.2803705094466299,
          -0.2813177748866882,
          -0.2817544000437051,
          -0.2817769187090939,
          -0.2821103263561054,
          -0.2822230851061886,
          -0.2824371309512951,
          -0.2824864201737598,
          -0.28276864707393845,
          -0.2839049991510681,
          -0.28410438154003975,
          -0.28511075148289544,
          -0.2859041430167003,
          -0.28693560139748076,
          -0.2873231528090232,
          -0.2876724101092174,
          -0.28979902883853403,
          -0.2909036702207506,
          -0.29699357738017385,
          -0.29887480395554966,
          -0.319101457829732,
          -0.34538773641039067
         ],
         "yaxis": "y"
        },
        {
         "hovertemplate": "lineage_1=Cervix<br>Copy Number Public 23Q4 MTAP=%{x}<br>WDR77=%{y}<extra></extra>",
         "legendgroup": "Cervix",
         "marker": {
          "color": "#636efa",
          "symbol": "circle"
         },
         "mode": "markers",
         "name": "Cervix",
         "orientation": "v",
         "showlegend": true,
         "type": "scatter",
         "x": [
          1.4842764279115703,
          1.5524392615658222,
          1.0249435791430952,
          0.7944760569890675
         ],
         "xaxis": "x",
         "y": [
          -0.0644443322696,
          -0.0244470191606,
          -0.297663568019,
          -0.0169474999764
         ],
         "yaxis": "y"
        },
        {
         "hovertemplate": "<b>OLS trendline</b><br>WDR77 = 0.0944252 * Copy Number Public 23Q4 MTAP + -0.215511<br>R<sup>2</sup>=0.067258<br><br>lineage_1=Cervix<br>Copy Number Public 23Q4 MTAP=%{x}<br>WDR77=%{y} <b>(trend)</b><extra></extra>",
         "legendgroup": "Cervix",
         "marker": {
          "color": "#636efa",
          "symbol": "circle"
         },
         "mode": "lines",
         "name": "Cervix",
         "showlegend": false,
         "type": "scatter",
         "x": [
          0.7944760569890675,
          1.0249435791430952,
          1.4842764279115703,
          1.5524392615658222
         ],
         "xaxis": "x",
         "y": [
          -0.14049244702930358,
          -0.11873049669022684,
          -0.07535788370519364,
          -0.06892159200087614
         ],
         "yaxis": "y"
        },
        {
         "hovertemplate": "lineage_1=Liver<br>Copy Number Public 23Q4 MTAP=%{x}<br>WDR77=%{y}<extra></extra>",
         "legendgroup": "Liver",
         "marker": {
          "color": "#EF553B",
          "symbol": "circle"
         },
         "mode": "markers",
         "name": "Liver",
         "orientation": "v",
         "showlegend": true,
         "type": "scatter",
         "x": [
          1.0146814502820816,
          0.9510067272814112,
          0.745888446078416,
          0.8015801930728957,
          0.4256806616601377,
          0.8791164337086567,
          0.8535645398771899,
          1.051561697323517,
          0.6624764730490358,
          0.9896325211265624,
          0.7431990786838111,
          0.0117492036374137,
          0.5295016722875036,
          0.0005826338377099,
          0.968020487335638,
          0.0000014074062187009909,
          0.9412444301219102,
          0.6085998472709993
         ],
         "xaxis": "x",
         "y": [
          -0.13210277376,
          -0.30169350621,
          0.0503193006399,
          -0.103671687484,
          -0.192384763896,
          -0.465177816699,
          -0.0327936809377,
          -0.240153014085,
          -0.38138470262,
          -0.124227178265,
          -0.223350367206,
          -0.534407875807,
          -0.435565593303,
          -0.378263756803,
          -0.126590924597,
          -0.828349893655,
          0.356836805405,
          -0.00227629170322
         ],
         "yaxis": "y"
        },
        {
         "hovertemplate": "<b>OLS trendline</b><br>WDR77 = 0.454255 * Copy Number Public 23Q4 MTAP + -0.534844<br>R<sup>2</sup>=0.378002<br><br>lineage_1=Liver<br>Copy Number Public 23Q4 MTAP=%{x}<br>WDR77=%{y} <b>(trend)</b><extra></extra>",
         "legendgroup": "Liver",
         "marker": {
          "color": "#EF553B",
          "symbol": "circle"
         },
         "mode": "lines",
         "name": "Liver",
         "showlegend": false,
         "type": "scatter",
         "x": [
          0.0000014074062187009909,
          0.0005826338377099,
          0.0117492036374137,
          0.4256806616601377,
          0.5295016722875036,
          0.6085998472709993,
          0.6624764730490358,
          0.7431990786838111,
          0.745888446078416,
          0.8015801930728957,
          0.8535645398771899,
          0.8791164337086567,
          0.9412444301219102,
          0.9510067272814112,
          0.968020487335638,
          0.9896325211265624,
          1.0146814502820816,
          1.051561697323517
         ],
         "xaxis": "x",
         "y": [
          -0.5348436329946442,
          -0.5345796078932414,
          -0.5295071360235026,
          -0.3414766383431905,
          -0.2943154093049643,
          -0.25838465574785097,
          -0.23391092087693421,
          -0.19724226132623845,
          -0.19602060232967822,
          -0.1707223392933782,
          -0.1471081818966703,
          -0.13550110246193592,
          -0.10727913996295768,
          -0.10284456617585663,
          -0.0951159780040583,
          -0.08529860029374142,
          -0.07391999515469305,
          -0.05716695290248219
         ],
         "yaxis": "y"
        },
        {
         "hovertemplate": "lineage_1=Peripheral Nervous System<br>Copy Number Public 23Q4 MTAP=%{x}<br>WDR77=%{y}<extra></extra>",
         "legendgroup": "Peripheral Nervous System",
         "marker": {
          "color": "#00cc96",
          "symbol": "circle"
         },
         "mode": "markers",
         "name": "Peripheral Nervous System",
         "orientation": "v",
         "showlegend": true,
         "type": "scatter",
         "x": [
          0.9620267876280676,
          1.0154837078436791,
          1.0045095259038697,
          0.8816766949512875,
          0.618230361701817,
          1.0328619473086014,
          0.3738245826554157,
          1.021040729452785,
          1.0027060330744773
         ],
         "xaxis": "x",
         "y": [
          -0.0409228486682,
          -0.210889916094,
          -0.218501518089,
          -0.233262944378,
          -0.342694609779,
          -0.261915366248,
          -0.0944702638871,
          -0.233638406509,
          -0.423627638814
         ],
         "yaxis": "y"
        },
        {
         "hovertemplate": "<b>OLS trendline</b><br>WDR77 = -0.115003 * Copy Number Public 23Q4 MTAP + -0.127775<br>R<sup>2</sup>=0.052938<br><br>lineage_1=Peripheral Nervous System<br>Copy Number Public 23Q4 MTAP=%{x}<br>WDR77=%{y} <b>(trend)</b><extra></extra>",
         "legendgroup": "Peripheral Nervous System",
         "marker": {
          "color": "#00cc96",
          "symbol": "circle"
         },
         "mode": "lines",
         "name": "Peripheral Nervous System",
         "showlegend": false,
         "type": "scatter",
         "x": [
          0.3738245826554157,
          0.618230361701817,
          0.8816766949512875,
          0.9620267876280676,
          1.0027060330744773,
          1.0045095259038697,
          1.0154837078436791,
          1.021040729452785,
          1.0328619473086014
         ],
         "xaxis": "x",
         "y": [
          -0.17076606954443774,
          -0.19887358790077758,
          -0.22917083650353703,
          -0.23841137784285382,
          -0.2430896331712188,
          -0.24329704114661715,
          -0.24455911040505496,
          -0.2451981873020659,
          -0.24655766864973722
         ],
         "yaxis": "y"
        },
        {
         "hovertemplate": "lineage_1=Biliary Tract<br>Copy Number Public 23Q4 MTAP=%{x}<br>WDR77=%{y}<extra></extra>",
         "legendgroup": "Biliary Tract",
         "marker": {
          "color": "#ab63fa",
          "symbol": "circle"
         },
         "mode": "markers",
         "name": "Biliary Tract",
         "orientation": "v",
         "showlegend": true,
         "type": "scatter",
         "x": [
          0.7990145096295476
         ],
         "xaxis": "x",
         "y": [
          0.00841359901575
         ],
         "yaxis": "y"
        },
        {
         "hovertemplate": "lineage_1=Biliary Tract<extra></extra>",
         "legendgroup": "Biliary Tract",
         "marker": {
          "color": "#ab63fa",
          "symbol": "circle"
         },
         "mode": "lines",
         "name": "Biliary Tract",
         "showlegend": false,
         "type": "scatter",
         "xaxis": "x",
         "yaxis": "y"
        }
       ],
       "layout": {
        "legend": {
         "title": {
          "text": "lineage_1"
         },
         "tracegroupgap": 0
        },
        "margin": {
         "t": 60
        },
        "template": {
         "data": {
          "bar": [
           {
            "error_x": {
             "color": "#2a3f5f"
            },
            "error_y": {
             "color": "#2a3f5f"
            },
            "marker": {
             "line": {
              "color": "#E5ECF6",
              "width": 0.5
             },
             "pattern": {
              "fillmode": "overlay",
              "size": 10,
              "solidity": 0.2
             }
            },
            "type": "bar"
           }
          ],
          "barpolar": [
           {
            "marker": {
             "line": {
              "color": "#E5ECF6",
              "width": 0.5
             },
             "pattern": {
              "fillmode": "overlay",
              "size": 10,
              "solidity": 0.2
             }
            },
            "type": "barpolar"
           }
          ],
          "carpet": [
           {
            "aaxis": {
             "endlinecolor": "#2a3f5f",
             "gridcolor": "white",
             "linecolor": "white",
             "minorgridcolor": "white",
             "startlinecolor": "#2a3f5f"
            },
            "baxis": {
             "endlinecolor": "#2a3f5f",
             "gridcolor": "white",
             "linecolor": "white",
             "minorgridcolor": "white",
             "startlinecolor": "#2a3f5f"
            },
            "type": "carpet"
           }
          ],
          "choropleth": [
           {
            "colorbar": {
             "outlinewidth": 0,
             "ticks": ""
            },
            "type": "choropleth"
           }
          ],
          "contour": [
           {
            "colorbar": {
             "outlinewidth": 0,
             "ticks": ""
            },
            "colorscale": [
             [
              0,
              "#0d0887"
             ],
             [
              0.1111111111111111,
              "#46039f"
             ],
             [
              0.2222222222222222,
              "#7201a8"
             ],
             [
              0.3333333333333333,
              "#9c179e"
             ],
             [
              0.4444444444444444,
              "#bd3786"
             ],
             [
              0.5555555555555556,
              "#d8576b"
             ],
             [
              0.6666666666666666,
              "#ed7953"
             ],
             [
              0.7777777777777778,
              "#fb9f3a"
             ],
             [
              0.8888888888888888,
              "#fdca26"
             ],
             [
              1,
              "#f0f921"
             ]
            ],
            "type": "contour"
           }
          ],
          "contourcarpet": [
           {
            "colorbar": {
             "outlinewidth": 0,
             "ticks": ""
            },
            "type": "contourcarpet"
           }
          ],
          "heatmap": [
           {
            "colorbar": {
             "outlinewidth": 0,
             "ticks": ""
            },
            "colorscale": [
             [
              0,
              "#0d0887"
             ],
             [
              0.1111111111111111,
              "#46039f"
             ],
             [
              0.2222222222222222,
              "#7201a8"
             ],
             [
              0.3333333333333333,
              "#9c179e"
             ],
             [
              0.4444444444444444,
              "#bd3786"
             ],
             [
              0.5555555555555556,
              "#d8576b"
             ],
             [
              0.6666666666666666,
              "#ed7953"
             ],
             [
              0.7777777777777778,
              "#fb9f3a"
             ],
             [
              0.8888888888888888,
              "#fdca26"
             ],
             [
              1,
              "#f0f921"
             ]
            ],
            "type": "heatmap"
           }
          ],
          "heatmapgl": [
           {
            "colorbar": {
             "outlinewidth": 0,
             "ticks": ""
            },
            "colorscale": [
             [
              0,
              "#0d0887"
             ],
             [
              0.1111111111111111,
              "#46039f"
             ],
             [
              0.2222222222222222,
              "#7201a8"
             ],
             [
              0.3333333333333333,
              "#9c179e"
             ],
             [
              0.4444444444444444,
              "#bd3786"
             ],
             [
              0.5555555555555556,
              "#d8576b"
             ],
             [
              0.6666666666666666,
              "#ed7953"
             ],
             [
              0.7777777777777778,
              "#fb9f3a"
             ],
             [
              0.8888888888888888,
              "#fdca26"
             ],
             [
              1,
              "#f0f921"
             ]
            ],
            "type": "heatmapgl"
           }
          ],
          "histogram": [
           {
            "marker": {
             "pattern": {
              "fillmode": "overlay",
              "size": 10,
              "solidity": 0.2
             }
            },
            "type": "histogram"
           }
          ],
          "histogram2d": [
           {
            "colorbar": {
             "outlinewidth": 0,
             "ticks": ""
            },
            "colorscale": [
             [
              0,
              "#0d0887"
             ],
             [
              0.1111111111111111,
              "#46039f"
             ],
             [
              0.2222222222222222,
              "#7201a8"
             ],
             [
              0.3333333333333333,
              "#9c179e"
             ],
             [
              0.4444444444444444,
              "#bd3786"
             ],
             [
              0.5555555555555556,
              "#d8576b"
             ],
             [
              0.6666666666666666,
              "#ed7953"
             ],
             [
              0.7777777777777778,
              "#fb9f3a"
             ],
             [
              0.8888888888888888,
              "#fdca26"
             ],
             [
              1,
              "#f0f921"
             ]
            ],
            "type": "histogram2d"
           }
          ],
          "histogram2dcontour": [
           {
            "colorbar": {
             "outlinewidth": 0,
             "ticks": ""
            },
            "colorscale": [
             [
              0,
              "#0d0887"
             ],
             [
              0.1111111111111111,
              "#46039f"
             ],
             [
              0.2222222222222222,
              "#7201a8"
             ],
             [
              0.3333333333333333,
              "#9c179e"
             ],
             [
              0.4444444444444444,
              "#bd3786"
             ],
             [
              0.5555555555555556,
              "#d8576b"
             ],
             [
              0.6666666666666666,
              "#ed7953"
             ],
             [
              0.7777777777777778,
              "#fb9f3a"
             ],
             [
              0.8888888888888888,
              "#fdca26"
             ],
             [
              1,
              "#f0f921"
             ]
            ],
            "type": "histogram2dcontour"
           }
          ],
          "mesh3d": [
           {
            "colorbar": {
             "outlinewidth": 0,
             "ticks": ""
            },
            "type": "mesh3d"
           }
          ],
          "parcoords": [
           {
            "line": {
             "colorbar": {
              "outlinewidth": 0,
              "ticks": ""
             }
            },
            "type": "parcoords"
           }
          ],
          "pie": [
           {
            "automargin": true,
            "type": "pie"
           }
          ],
          "scatter": [
           {
            "fillpattern": {
             "fillmode": "overlay",
             "size": 10,
             "solidity": 0.2
            },
            "type": "scatter"
           }
          ],
          "scatter3d": [
           {
            "line": {
             "colorbar": {
              "outlinewidth": 0,
              "ticks": ""
             }
            },
            "marker": {
             "colorbar": {
              "outlinewidth": 0,
              "ticks": ""
             }
            },
            "type": "scatter3d"
           }
          ],
          "scattercarpet": [
           {
            "marker": {
             "colorbar": {
              "outlinewidth": 0,
              "ticks": ""
             }
            },
            "type": "scattercarpet"
           }
          ],
          "scattergeo": [
           {
            "marker": {
             "colorbar": {
              "outlinewidth": 0,
              "ticks": ""
             }
            },
            "type": "scattergeo"
           }
          ],
          "scattergl": [
           {
            "marker": {
             "colorbar": {
              "outlinewidth": 0,
              "ticks": ""
             }
            },
            "type": "scattergl"
           }
          ],
          "scattermapbox": [
           {
            "marker": {
             "colorbar": {
              "outlinewidth": 0,
              "ticks": ""
             }
            },
            "type": "scattermapbox"
           }
          ],
          "scatterpolar": [
           {
            "marker": {
             "colorbar": {
              "outlinewidth": 0,
              "ticks": ""
             }
            },
            "type": "scatterpolar"
           }
          ],
          "scatterpolargl": [
           {
            "marker": {
             "colorbar": {
              "outlinewidth": 0,
              "ticks": ""
             }
            },
            "type": "scatterpolargl"
           }
          ],
          "scatterternary": [
           {
            "marker": {
             "colorbar": {
              "outlinewidth": 0,
              "ticks": ""
             }
            },
            "type": "scatterternary"
           }
          ],
          "surface": [
           {
            "colorbar": {
             "outlinewidth": 0,
             "ticks": ""
            },
            "colorscale": [
             [
              0,
              "#0d0887"
             ],
             [
              0.1111111111111111,
              "#46039f"
             ],
             [
              0.2222222222222222,
              "#7201a8"
             ],
             [
              0.3333333333333333,
              "#9c179e"
             ],
             [
              0.4444444444444444,
              "#bd3786"
             ],
             [
              0.5555555555555556,
              "#d8576b"
             ],
             [
              0.6666666666666666,
              "#ed7953"
             ],
             [
              0.7777777777777778,
              "#fb9f3a"
             ],
             [
              0.8888888888888888,
              "#fdca26"
             ],
             [
              1,
              "#f0f921"
             ]
            ],
            "type": "surface"
           }
          ],
          "table": [
           {
            "cells": {
             "fill": {
              "color": "#EBF0F8"
             },
             "line": {
              "color": "white"
             }
            },
            "header": {
             "fill": {
              "color": "#C8D4E3"
             },
             "line": {
              "color": "white"
             }
            },
            "type": "table"
           }
          ]
         },
         "layout": {
          "annotationdefaults": {
           "arrowcolor": "#2a3f5f",
           "arrowhead": 0,
           "arrowwidth": 1
          },
          "autotypenumbers": "strict",
          "coloraxis": {
           "colorbar": {
            "outlinewidth": 0,
            "ticks": ""
           }
          },
          "colorscale": {
           "diverging": [
            [
             0,
             "#8e0152"
            ],
            [
             0.1,
             "#c51b7d"
            ],
            [
             0.2,
             "#de77ae"
            ],
            [
             0.3,
             "#f1b6da"
            ],
            [
             0.4,
             "#fde0ef"
            ],
            [
             0.5,
             "#f7f7f7"
            ],
            [
             0.6,
             "#e6f5d0"
            ],
            [
             0.7,
             "#b8e186"
            ],
            [
             0.8,
             "#7fbc41"
            ],
            [
             0.9,
             "#4d9221"
            ],
            [
             1,
             "#276419"
            ]
           ],
           "sequential": [
            [
             0,
             "#0d0887"
            ],
            [
             0.1111111111111111,
             "#46039f"
            ],
            [
             0.2222222222222222,
             "#7201a8"
            ],
            [
             0.3333333333333333,
             "#9c179e"
            ],
            [
             0.4444444444444444,
             "#bd3786"
            ],
            [
             0.5555555555555556,
             "#d8576b"
            ],
            [
             0.6666666666666666,
             "#ed7953"
            ],
            [
             0.7777777777777778,
             "#fb9f3a"
            ],
            [
             0.8888888888888888,
             "#fdca26"
            ],
            [
             1,
             "#f0f921"
            ]
           ],
           "sequentialminus": [
            [
             0,
             "#0d0887"
            ],
            [
             0.1111111111111111,
             "#46039f"
            ],
            [
             0.2222222222222222,
             "#7201a8"
            ],
            [
             0.3333333333333333,
             "#9c179e"
            ],
            [
             0.4444444444444444,
             "#bd3786"
            ],
            [
             0.5555555555555556,
             "#d8576b"
            ],
            [
             0.6666666666666666,
             "#ed7953"
            ],
            [
             0.7777777777777778,
             "#fb9f3a"
            ],
            [
             0.8888888888888888,
             "#fdca26"
            ],
            [
             1,
             "#f0f921"
            ]
           ]
          },
          "colorway": [
           "#636efa",
           "#EF553B",
           "#00cc96",
           "#ab63fa",
           "#FFA15A",
           "#19d3f3",
           "#FF6692",
           "#B6E880",
           "#FF97FF",
           "#FECB52"
          ],
          "font": {
           "color": "#2a3f5f"
          },
          "geo": {
           "bgcolor": "white",
           "lakecolor": "white",
           "landcolor": "#E5ECF6",
           "showlakes": true,
           "showland": true,
           "subunitcolor": "white"
          },
          "hoverlabel": {
           "align": "left"
          },
          "hovermode": "closest",
          "mapbox": {
           "style": "light"
          },
          "paper_bgcolor": "white",
          "plot_bgcolor": "#E5ECF6",
          "polar": {
           "angularaxis": {
            "gridcolor": "white",
            "linecolor": "white",
            "ticks": ""
           },
           "bgcolor": "#E5ECF6",
           "radialaxis": {
            "gridcolor": "white",
            "linecolor": "white",
            "ticks": ""
           }
          },
          "scene": {
           "xaxis": {
            "backgroundcolor": "#E5ECF6",
            "gridcolor": "white",
            "gridwidth": 2,
            "linecolor": "white",
            "showbackground": true,
            "ticks": "",
            "zerolinecolor": "white"
           },
           "yaxis": {
            "backgroundcolor": "#E5ECF6",
            "gridcolor": "white",
            "gridwidth": 2,
            "linecolor": "white",
            "showbackground": true,
            "ticks": "",
            "zerolinecolor": "white"
           },
           "zaxis": {
            "backgroundcolor": "#E5ECF6",
            "gridcolor": "white",
            "gridwidth": 2,
            "linecolor": "white",
            "showbackground": true,
            "ticks": "",
            "zerolinecolor": "white"
           }
          },
          "shapedefaults": {
           "line": {
            "color": "#2a3f5f"
           }
          },
          "ternary": {
           "aaxis": {
            "gridcolor": "white",
            "linecolor": "white",
            "ticks": ""
           },
           "baxis": {
            "gridcolor": "white",
            "linecolor": "white",
            "ticks": ""
           },
           "bgcolor": "#E5ECF6",
           "caxis": {
            "gridcolor": "white",
            "linecolor": "white",
            "ticks": ""
           }
          },
          "title": {
           "x": 0.05
          },
          "xaxis": {
           "automargin": true,
           "gridcolor": "white",
           "linecolor": "white",
           "ticks": "",
           "title": {
            "standoff": 15
           },
           "zerolinecolor": "white",
           "zerolinewidth": 2
          },
          "yaxis": {
           "automargin": true,
           "gridcolor": "white",
           "linecolor": "white",
           "ticks": "",
           "title": {
            "standoff": 15
           },
           "zerolinecolor": "white",
           "zerolinewidth": 2
          }
         }
        },
        "xaxis": {
         "anchor": "y",
         "domain": [
          0,
          1
         ],
         "title": {
          "text": "Copy Number Public 23Q4 MTAP"
         }
        },
        "yaxis": {
         "anchor": "x",
         "domain": [
          0,
          1
         ],
         "title": {
          "text": "WDR77"
         }
        }
       }
      }
     },
     "metadata": {},
     "output_type": "display_data"
    }
   ],
   "source": [
    "import plotly.express as px\n",
    "\n",
    "joint_data = pd.concat([df, additional], axis=1, join='inner')\n",
    "px.scatter( joint_data, y = 'WDR77', x = 'Copy Number Public 23Q4 MTAP', color = joint_data['lineage_1'], trendline='ols' )"
   ]
  },
  {
   "cell_type": "markdown",
   "metadata": {},
   "source": [
    "What we see above is quite interesting: there's a number of cell lines for which MTAP's copy number is zero, and for these cell lines we see that PRMT5's gene effect is more negative (i.e., stronger dependency). \n",
    "\n",
    "\n",
    "This is nice but also not the best way to visualize the data. Let's try bucketing the copy number in bins and seeing the average effect. The code below will cut the MTAP copy number into 6 groups, and look at the distribution of PRMT5's, MAT2A's and RIOK1's gene effect. "
   ]
  },
  {
   "cell_type": "code",
   "execution_count": 153,
   "metadata": {},
   "outputs": [
    {
     "data": {
      "application/vnd.plotly.v1+json": {
       "config": {
        "plotlyServerURL": "https://plot.ly"
       },
       "data": [
        {
         "alignmentgroup": "True",
         "box": {
          "visible": true
         },
         "hovertemplate": "MTAP Copy Number Quantile=%{x}<br>PRMT5=%{y}<extra></extra>",
         "legendgroup": "",
         "marker": {
          "color": "#636efa"
         },
         "name": "",
         "offsetgroup": "",
         "orientation": "v",
         "points": "all",
         "scalegroup": "True",
         "showlegend": false,
         "type": "violin",
         "x": [
          5,
          0,
          4,
          4,
          4,
          1,
          3,
          5,
          2,
          3,
          0,
          0,
          0,
          5,
          4,
          2,
          5,
          5,
          0,
          2,
          3,
          4,
          1,
          1,
          1,
          1,
          2,
          0,
          4,
          0,
          3,
          3,
          4,
          1,
          3,
          1,
          2,
          0,
          2,
          4,
          4,
          4,
          1,
          2,
          4,
          3,
          1,
          3,
          5,
          0,
          1,
          1,
          4,
          null,
          0,
          3,
          2,
          3,
          3,
          4,
          5,
          0,
          4,
          4,
          0,
          5,
          3,
          2,
          3,
          5,
          2,
          3,
          1,
          3,
          2,
          1,
          1,
          5,
          4,
          4,
          0,
          0,
          5,
          4,
          2,
          0,
          1,
          2,
          4,
          0,
          2,
          3,
          2,
          1,
          1,
          5,
          4,
          3,
          2,
          4,
          1,
          3,
          4,
          1,
          4,
          2,
          2,
          0,
          0,
          1,
          5,
          2,
          0,
          4,
          2,
          4,
          3,
          3,
          3,
          5,
          1,
          5,
          5,
          3,
          1,
          0,
          2,
          1,
          2,
          4,
          5,
          5,
          4,
          2,
          2,
          2,
          0,
          3,
          3,
          5,
          2,
          4,
          4,
          1,
          0,
          4,
          5,
          2,
          5,
          1,
          5,
          0,
          0,
          2,
          4,
          0,
          5,
          5,
          1,
          1,
          1,
          5,
          3,
          5,
          4,
          4,
          4,
          null,
          5,
          null,
          3,
          1,
          0,
          4,
          3,
          2,
          5,
          4,
          5,
          2,
          4,
          4,
          2,
          2,
          4,
          4,
          0,
          4,
          5,
          null,
          0,
          5,
          0,
          4,
          3,
          0,
          5,
          1,
          2,
          2,
          0,
          null,
          3,
          5,
          3,
          null,
          3,
          0,
          3,
          2,
          5,
          1,
          3,
          2,
          4,
          5,
          1,
          5,
          2,
          4,
          1,
          4,
          2,
          0,
          1,
          3,
          3,
          0,
          1,
          4,
          2,
          0,
          1,
          1,
          5,
          5,
          4,
          null,
          2,
          5,
          0,
          5,
          2,
          4,
          2,
          2,
          0,
          0,
          4,
          3,
          2,
          1,
          5,
          5,
          1,
          0,
          5,
          4,
          1,
          4,
          5,
          4,
          3,
          3,
          5,
          4,
          3,
          5,
          2,
          5,
          4,
          5,
          4,
          2,
          3,
          3,
          5,
          1,
          1,
          2,
          0,
          0,
          4,
          4,
          0,
          0,
          3,
          5,
          5,
          2,
          3,
          2,
          3,
          5,
          3,
          1,
          3,
          4,
          4,
          2,
          0,
          5,
          1,
          0,
          5,
          0,
          0,
          3,
          3,
          3,
          5,
          2,
          0,
          1,
          0,
          1,
          4,
          3,
          4,
          4,
          2,
          5,
          5,
          5,
          3,
          0,
          0,
          5,
          5,
          1,
          5,
          5,
          3,
          0,
          5,
          1,
          3,
          5,
          2,
          1,
          3,
          4,
          4,
          5,
          5,
          2,
          1,
          1,
          4,
          5,
          5,
          1,
          3,
          0,
          2,
          0,
          1,
          1,
          1,
          5,
          4,
          4,
          1,
          5,
          4,
          0,
          3,
          0,
          0,
          5,
          2,
          4,
          3,
          4,
          5,
          2,
          1,
          0,
          5,
          2,
          2,
          2,
          1,
          0,
          1,
          0,
          3,
          4,
          1,
          1,
          4,
          5,
          1,
          5,
          1,
          1,
          3,
          2,
          4,
          3,
          0,
          2,
          0,
          4,
          1,
          5,
          3,
          1,
          2,
          0,
          0,
          1,
          3,
          0,
          2,
          2,
          1,
          1,
          0,
          0,
          3,
          1,
          0,
          0,
          0,
          0,
          2,
          1,
          5,
          3,
          5,
          5,
          4,
          5,
          0,
          2,
          3,
          3,
          1,
          1,
          2,
          0,
          4,
          null,
          5,
          5,
          0,
          3,
          3,
          4,
          4,
          3,
          2,
          5,
          2,
          4,
          3,
          5,
          null,
          2,
          null,
          4,
          0,
          2,
          3,
          2,
          3,
          3,
          5,
          3,
          3,
          2,
          2,
          2,
          3,
          5,
          5,
          0,
          5,
          2,
          2,
          2,
          2,
          1,
          4,
          4,
          1,
          null,
          1,
          null,
          0,
          3,
          4,
          1,
          1,
          0,
          2,
          1,
          4,
          3,
          2,
          5,
          4,
          5,
          4,
          3,
          1,
          3,
          3,
          0,
          0,
          2,
          3,
          4,
          1,
          2,
          4,
          1,
          0,
          0,
          1,
          4,
          0,
          2,
          2,
          1,
          3,
          5,
          1,
          0,
          3,
          2,
          2,
          1,
          0,
          3,
          1,
          1,
          5,
          1,
          0,
          4,
          4,
          5,
          4,
          1,
          2,
          null,
          3,
          2,
          null,
          null,
          2,
          5,
          1,
          2,
          0,
          4,
          1,
          2,
          4,
          0,
          4,
          0,
          1,
          3,
          2,
          3,
          3,
          0,
          3,
          4,
          0,
          1,
          5,
          5,
          1,
          4,
          1,
          0,
          4,
          4,
          5,
          5,
          0,
          0,
          0,
          1,
          2,
          3,
          0,
          2,
          3,
          5,
          2,
          0,
          1,
          4,
          3,
          3,
          0,
          5,
          1,
          5,
          3,
          5,
          0,
          3,
          0,
          4,
          2,
          4,
          2,
          3,
          2,
          1,
          0,
          4,
          0,
          5,
          0,
          1,
          3,
          1,
          0,
          5,
          1,
          2,
          0,
          4,
          5,
          4,
          4,
          5,
          1,
          0,
          1,
          3,
          2,
          0,
          5,
          3,
          3,
          3,
          0,
          3,
          2,
          3,
          3,
          2,
          2,
          0,
          2,
          5,
          4,
          1,
          2,
          2,
          3,
          1,
          1,
          4,
          4,
          3,
          2,
          5,
          3
         ],
         "x0": " ",
         "xaxis": "x",
         "y": [
          -0.199513275241,
          -0.780585164911,
          -0.502752029504,
          -0.432277065343,
          -0.217635418829,
          -0.32327172507,
          -0.30704867506,
          -0.115114566872,
          -0.21204842612,
          -0.250883691649,
          -1.10418887451,
          -0.718384298456,
          -1.57255701858,
          -0.308067355857,
          -0.462999719223,
          -0.330329313989,
          -0.40942847641,
          -0.310836672861,
          -0.3687364445,
          -0.289682798352,
          -0.160017754441,
          -0.402041181862,
          -0.968611547406,
          -0.300742897875,
          -0.297006627241,
          -0.644868521904,
          -0.189718126752,
          -1.09806010074,
          -0.256672812807,
          -0.867132433045,
          -0.241060559277,
          -0.156411421817,
          -0.264124219772,
          -0.531267315515,
          -0.217797220286,
          -0.151627481759,
          -0.340543624378,
          -1.41515956783,
          -0.0997360356784,
          -0.396298295164,
          0.0695079577119,
          -0.134330450265,
          -0.191160399059,
          -0.208289558525,
          -0.319043457834,
          -0.261594358243,
          -0.194823127531,
          0.220079956,
          -0.246651907426,
          -0.481849536628,
          -0.203366820123,
          -0.163926446503,
          -0.0818287019251,
          -0.491220415701,
          -1.03599230942,
          -0.343568066306,
          -0.237090913251,
          -0.251275520996,
          -0.169715038873,
          -0.247899875701,
          -0.389698131693,
          -1.01708934376,
          -0.520270343805,
          -0.233318417657,
          -0.858340847078,
          -0.470373020275,
          -0.340114091085,
          -0.362378082953,
          -0.209448436017,
          -0.122470657709,
          -0.307144149833,
          -0.227214579856,
          -2.08548786355,
          -0.286349723392,
          -0.142979121012,
          -0.963407895064,
          -0.294307929612,
          -0.152057335308,
          -0.12426595425,
          -0.255323808146,
          -1.78134587412,
          -0.765606187874,
          -0.179742922137,
          -0.221327358495,
          -0.218013281478,
          -0.316017189997,
          -0.165536173155,
          -0.310340209958,
          -0.224170720976,
          -0.386891454691,
          -0.256240626365,
          -0.609858619782,
          -0.340780037538,
          -0.137598656738,
          -0.125705091886,
          -0.211774440115,
          -0.422799889375,
          -0.147729418359,
          -0.295217746361,
          -0.211868293642,
          -1.08109795106,
          -0.324277138515,
          -0.181394760611,
          -0.922107110499,
          0.0950373555093,
          0.0517357161517,
          -0.35520579622,
          -0.83172155119,
          -0.690351724314,
          -0.0444838968382,
          -0.680209279377,
          -0.221481379658,
          -0.576555564924,
          -0.179819021853,
          -0.242286853394,
          -0.122039793247,
          -0.549296187591,
          -0.120390112089,
          -0.2554850575,
          -0.376807352566,
          -0.44120287261,
          -0.207506873244,
          -0.28300999527,
          -0.351246550106,
          -0.128068572918,
          -0.528825933943,
          -0.191362183575,
          -0.206667507531,
          -0.184591406607,
          -0.259971041951,
          0.0751739337407,
          -0.41768751913,
          -0.302008234393,
          -0.397432082797,
          -0.339017682147,
          -0.28261761791,
          -0.924157763745,
          -0.228887797152,
          -0.277526746252,
          -0.222286327272,
          -0.179572621244,
          -0.382046338983,
          -0.306923512073,
          -0.23234782086,
          -0.426856179624,
          -0.293665831428,
          -0.109797639489,
          -0.302709512665,
          -0.416022245784,
          -0.385941205552,
          -0.539388939036,
          -0.92029151336,
          0.0548867630301,
          -0.536962094664,
          -0.166917626632,
          -0.670587064873,
          -0.654133847217,
          -0.413396721598,
          -1.10419931053,
          -0.192105239386,
          -0.241655947458,
          -0.48954646743,
          -0.185764503545,
          -0.249261724849,
          -0.0388717431174,
          -0.274118570214,
          -0.422761180701,
          -0.335698779126,
          -0.502530646182,
          -0.268892618896,
          -0.161637770359,
          -0.712164004347,
          -1.45490355653,
          -0.0418142868541,
          -0.121572556429,
          -0.173166232159,
          -0.31450795447,
          -0.225643517955,
          -0.112121532158,
          -0.333748281639,
          -0.22923882622,
          -0.44312892858,
          -0.0865153486451,
          -0.439110918846,
          -0.259194900869,
          -0.388522929624,
          -1.13444091421,
          -0.0762879412664,
          -0.221212924475,
          -0.575139698631,
          -1.27370316673,
          -0.0906264459503,
          -1.11571536742,
          -0.336923581916,
          -0.369283510001,
          -1.08674126917,
          -0.299731180246,
          -0.323395732145,
          -0.132204967599,
          -0.0969168001568,
          -0.501721401906,
          -0.649636478606,
          -0.168730896927,
          -0.278033265972,
          -0.355792965776,
          -0.754615192439,
          -0.154368137736,
          -0.307944527651,
          -0.309619407368,
          -0.648044537664,
          -0.297251313019,
          -0.49076399114,
          -0.108726976764,
          -0.12554968456,
          -0.328999512942,
          -0.227477464377,
          -0.813016804156,
          -0.294621940682,
          -0.180289754062,
          -0.0515315049642,
          -0.39006926668,
          -0.509078038634,
          -0.286611899688,
          -1.0590852482,
          -0.273946058417,
          -0.441973550333,
          -0.230628612988,
          -0.762525035665,
          -0.731937969868,
          -0.59881850456,
          -0.416288677689,
          -0.604597705421,
          -0.32520350686,
          -0.135604731904,
          -0.174005207449,
          -0.316990378396,
          -0.24421156535,
          -0.546541993835,
          -0.154733106695,
          -0.392979033964,
          -0.728212263876,
          -0.261616865597,
          -0.305546325326,
          -0.264805482754,
          -0.243437362204,
          -0.120162083592,
          -0.347045304616,
          -1.3193955141,
          -0.491606502846,
          -0.358903966828,
          -0.533375458479,
          -0.1432450697,
          -0.181514023827,
          -0.0898393687364,
          -0.350775042933,
          -0.322096946197,
          -0.471315324692,
          -0.283352678895,
          -0.124133410885,
          -0.175443113066,
          -0.352947271364,
          -0.169213027498,
          -0.333810951118,
          -0.427053178794,
          -0.393014305669,
          -0.562329547632,
          -0.14306735367,
          -0.374532298353,
          -0.268885977862,
          -0.455306857444,
          -0.350275074382,
          -0.371259986303,
          -0.457723839251,
          -0.544866305299,
          -0.427569086749,
          -0.19743347519,
          -0.424300094673,
          -1.03297114058,
          -0.0932979131434,
          -0.364162116421,
          -1.09160681338,
          -0.565750811482,
          -0.463402045279,
          -0.427275440533,
          -1.18280828285,
          -0.722873522087,
          -0.330695606553,
          -0.943173812705,
          -0.163653553844,
          -0.258228734742,
          -0.237661694557,
          -0.647508269081,
          -0.176005668618,
          -0.272066670869,
          -0.197153063805,
          -0.621323201916,
          -0.352589150117,
          -0.204179256764,
          -0.0715797983684,
          -0.195115559995,
          -0.222684359915,
          -0.215605376227,
          -1.05377197711,
          -0.406054330636,
          -0.409129853839,
          -0.27111372532,
          -0.602534975479,
          -0.381763290024,
          -0.354852126612,
          0.192601628006,
          -0.12914452001,
          -0.330754929531,
          -0.477343533657,
          -0.607108204766,
          -1.18361318418,
          -0.426672004928,
          -0.10966831974,
          0.0871084988512,
          -0.321060500136,
          -0.145537872068,
          -0.519085075481,
          -0.316021842953,
          -0.158505963809,
          0.0125879952621,
          -0.264905102678,
          -0.977075043472,
          -0.470239812308,
          -0.391771776035,
          -0.296680087673,
          -0.667858889438,
          -0.31426858477,
          -0.37818554503,
          -0.27557778329,
          -0.656389929569,
          -0.419251300489,
          -0.144109059798,
          -0.314337160165,
          -0.311211680313,
          -0.265344971504,
          -0.106283622682,
          -0.337661414922,
          -0.098794984339,
          -0.185860620609,
          -0.278147167639,
          -0.064215887075,
          -0.0787601980288,
          -0.736433896921,
          -0.43262521243,
          -0.192709759353,
          -0.353635920233,
          -0.354609235121,
          -0.269551392493,
          -0.229986734545,
          -0.926547191447,
          -0.307277808182,
          -0.65129041721,
          -0.348454100225,
          -1.04002784491,
          -0.399216118242,
          -0.240943554574,
          -0.2528088714,
          -0.195816202897,
          -0.150480204818,
          -0.0735829744965,
          -0.774082650984,
          -0.816776914138,
          -0.27991581346,
          -0.982156539076,
          -0.855244352312,
          -0.296632579582,
          -0.380673980288,
          -0.423134752983,
          -0.253261027003,
          -0.152325289235,
          -0.265989157248,
          -0.11977706121,
          -0.0672471461495,
          -1.09334538392,
          -0.493302653251,
          -0.20773141421,
          0.0811709594531,
          -0.195991901102,
          -0.23177446631,
          -0.687539851344,
          -0.847359830831,
          -0.834952396162,
          -0.227136844281,
          -0.479877318527,
          -0.219812154403,
          -0.244968904939,
          -0.200193924806,
          -0.347523225122,
          -0.150471117739,
          -0.377776695552,
          -0.184306165879,
          -0.313581356203,
          -0.176371340271,
          -0.221138288094,
          0.0356281375727,
          -0.405080898317,
          -0.972560576308,
          -0.0711813140464,
          -1.22090705809,
          -0.23975906325,
          0.105721864308,
          -0.556948487149,
          -0.284419457662,
          -0.294586387837,
          -0.316005498126,
          -0.797329973348,
          -0.457683611237,
          -0.187300591733,
          -0.0344588393662,
          -0.787735096155,
          -0.352909305825,
          -0.14080764348,
          -0.150932511536,
          -0.23419251551,
          -0.507476279657,
          -0.508267966117,
          -0.790253030398,
          -0.583585219157,
          -0.499798796972,
          -0.439904465335,
          -0.404073496215,
          -0.763382077119,
          -0.291182044633,
          -0.272284513889,
          -0.262273753334,
          -0.25916788725,
          -0.280309249347,
          -0.284495563234,
          -0.0697697132519,
          -0.67634405111,
          -1.00708942274,
          -0.26815347282,
          -0.195188784633,
          -0.0479342818588,
          -0.13824826058,
          -0.236761298968,
          -0.52988225901,
          -0.840018198883,
          -0.237115463273,
          -0.443266484991,
          -0.560541640623,
          -0.319467199444,
          -0.467318704735,
          -0.302752061534,
          -0.146375403663,
          0.00513076768166,
          -0.552548149869,
          -0.299340714456,
          -0.389781038304,
          -0.158387440662,
          -0.0175540699385,
          -0.30875048902,
          -0.263027408453,
          -0.416519456916,
          -0.803716794446,
          -0.151034923551,
          0.0335050553387,
          -0.257746484912,
          -1.09933385097,
          -0.136917471231,
          -0.211501237027,
          -0.466576863977,
          -0.6540095526,
          -0.218493651127,
          -0.111059760889,
          null,
          -0.0906621975382,
          -0.267186375097,
          -0.401217518448,
          -0.146525543519,
          -0.0628853202764,
          -0.305053480126,
          -0.407875097844,
          -0.826601287426,
          -0.317589851682,
          -0.345192246965,
          -0.348657619575,
          -0.120048456776,
          -0.303816197225,
          -0.320005248674,
          -0.677921977602,
          -0.390827323583,
          -0.184010828227,
          -0.346329440881,
          -0.211547651268,
          -0.75979544904,
          -0.814094247814,
          -0.143424120427,
          -0.269937756934,
          -0.442666398135,
          -0.243991511677,
          -0.847388434752,
          -0.257773826635,
          -0.0374467611431,
          -0.180030897866,
          -0.202198736441,
          -0.166286830451,
          -0.127902422517,
          -0.561791049378,
          -0.166676937548,
          -0.539589875024,
          -0.260486925504,
          -0.195639860246,
          -0.180789744882,
          -0.409335427269,
          -0.483221709166,
          -1.07725258066,
          -0.0231780423587,
          -0.416825816875,
          -0.27455049098,
          -0.173015564342,
          -0.150076540865,
          -0.326112132963,
          -0.472461220695,
          -0.759442538175,
          -1.11643128375,
          -0.200447303908,
          -0.324747910242,
          -0.916083587829,
          -0.243992358641,
          -0.128827720976,
          -0.404864987392,
          -0.628828690326,
          -0.270562793239,
          -0.181395463618,
          -1.21910549364,
          -0.154749352445,
          -0.119850828392,
          -0.163274410707,
          -0.517572828555,
          -0.477136961949,
          -0.513591182104,
          -0.168703252502,
          -0.0920024982084,
          -0.236450264064,
          -0.155202308532,
          -0.69208827894,
          -0.203462210341,
          -0.279261671056,
          -0.13844271776,
          -0.351668345051,
          0.0793501833702,
          -0.252447566197,
          -0.203167234644,
          0.0969628285016,
          -0.660962070995,
          -0.307160584421,
          -0.788624116618,
          -0.236831184278,
          -0.0745859857688,
          -0.35927914929,
          -0.305918882995,
          -1.15883817608,
          -0.701990434285,
          -0.0613726942679,
          -0.179019015503,
          -0.0347036879701,
          null,
          -0.229128083562,
          -0.998721745039,
          -0.304317380837,
          -0.400832454181,
          -0.107561433234,
          -0.308400479969,
          -0.0736642237393,
          -0.551006074235,
          -0.229320541256,
          -0.100304600029,
          -0.809194494862,
          -0.13314144359,
          -0.0449242793548,
          -0.505599086622,
          -0.167545902643,
          -0.326721679518,
          -0.160000984241,
          -1.06792243294,
          -0.292311121637,
          -0.292010627744,
          -0.482297124793,
          -0.232392412067,
          -0.311352398334,
          -0.296011308955,
          -0.873117660322,
          -0.448545684574,
          -0.325857617826,
          -0.250604642114,
          -0.847924163607,
          -0.554293768025,
          -0.149609779851,
          -0.250626368337,
          -0.320673485335,
          -1.59133267353,
          -0.290089263787,
          -0.231456811703,
          -0.2657944176,
          -0.143467329868,
          -0.998329103581,
          -0.0655260765151,
          -0.388975067248,
          -0.433835602537,
          -0.363965918505,
          -0.214922674231,
          -0.792697069161,
          -0.29787185115,
          -1.12464910642,
          -0.425158774644,
          -0.225977370548,
          -0.267774017457,
          -0.227365976059,
          -0.207872513495,
          -0.160802213835,
          -0.247236774287,
          -0.562813709166,
          -0.42093813215,
          -0.492443878133,
          -0.244977554187,
          -1.10563991246,
          -0.568269601009,
          -0.424379672524,
          -0.760364289967,
          -0.433152103708,
          -0.480405524048,
          -0.131597358299,
          -0.344882719482,
          -0.500296442799,
          -0.319333600447,
          -0.263995080086,
          -0.403757310134,
          -0.164882090755,
          -0.418098811577,
          -0.268846455829,
          -0.577425768544,
          -0.339766216759,
          -0.23679505904,
          -0.264467810978,
          -0.574882625678,
          -0.436344571459,
          -0.240815312932,
          -0.240013243866,
          -0.581849431568,
          -0.551996310145,
          -0.520126612073,
          -0.0774899402355,
          -0.211856877565,
          -0.261664205223,
          -0.133823331001,
          -0.524300814477,
          -0.492159238636,
          -0.0484712466374,
          -0.243778025675,
          -0.279944080765,
          -0.142273207793,
          -0.138290762874,
          -0.195937699363,
          -0.208866234974,
          -0.178711132246,
          -0.467874425832,
          -0.23085763909,
          -0.364889362036,
          -0.466801553104,
          -0.176427847108,
          -0.305439737438,
          -0.219602428283
         ],
         "y0": " ",
         "yaxis": "y"
        }
       ],
       "layout": {
        "legend": {
         "tracegroupgap": 0
        },
        "margin": {
         "t": 60
        },
        "template": {
         "data": {
          "bar": [
           {
            "error_x": {
             "color": "#2a3f5f"
            },
            "error_y": {
             "color": "#2a3f5f"
            },
            "marker": {
             "line": {
              "color": "#E5ECF6",
              "width": 0.5
             },
             "pattern": {
              "fillmode": "overlay",
              "size": 10,
              "solidity": 0.2
             }
            },
            "type": "bar"
           }
          ],
          "barpolar": [
           {
            "marker": {
             "line": {
              "color": "#E5ECF6",
              "width": 0.5
             },
             "pattern": {
              "fillmode": "overlay",
              "size": 10,
              "solidity": 0.2
             }
            },
            "type": "barpolar"
           }
          ],
          "carpet": [
           {
            "aaxis": {
             "endlinecolor": "#2a3f5f",
             "gridcolor": "white",
             "linecolor": "white",
             "minorgridcolor": "white",
             "startlinecolor": "#2a3f5f"
            },
            "baxis": {
             "endlinecolor": "#2a3f5f",
             "gridcolor": "white",
             "linecolor": "white",
             "minorgridcolor": "white",
             "startlinecolor": "#2a3f5f"
            },
            "type": "carpet"
           }
          ],
          "choropleth": [
           {
            "colorbar": {
             "outlinewidth": 0,
             "ticks": ""
            },
            "type": "choropleth"
           }
          ],
          "contour": [
           {
            "colorbar": {
             "outlinewidth": 0,
             "ticks": ""
            },
            "colorscale": [
             [
              0,
              "#0d0887"
             ],
             [
              0.1111111111111111,
              "#46039f"
             ],
             [
              0.2222222222222222,
              "#7201a8"
             ],
             [
              0.3333333333333333,
              "#9c179e"
             ],
             [
              0.4444444444444444,
              "#bd3786"
             ],
             [
              0.5555555555555556,
              "#d8576b"
             ],
             [
              0.6666666666666666,
              "#ed7953"
             ],
             [
              0.7777777777777778,
              "#fb9f3a"
             ],
             [
              0.8888888888888888,
              "#fdca26"
             ],
             [
              1,
              "#f0f921"
             ]
            ],
            "type": "contour"
           }
          ],
          "contourcarpet": [
           {
            "colorbar": {
             "outlinewidth": 0,
             "ticks": ""
            },
            "type": "contourcarpet"
           }
          ],
          "heatmap": [
           {
            "colorbar": {
             "outlinewidth": 0,
             "ticks": ""
            },
            "colorscale": [
             [
              0,
              "#0d0887"
             ],
             [
              0.1111111111111111,
              "#46039f"
             ],
             [
              0.2222222222222222,
              "#7201a8"
             ],
             [
              0.3333333333333333,
              "#9c179e"
             ],
             [
              0.4444444444444444,
              "#bd3786"
             ],
             [
              0.5555555555555556,
              "#d8576b"
             ],
             [
              0.6666666666666666,
              "#ed7953"
             ],
             [
              0.7777777777777778,
              "#fb9f3a"
             ],
             [
              0.8888888888888888,
              "#fdca26"
             ],
             [
              1,
              "#f0f921"
             ]
            ],
            "type": "heatmap"
           }
          ],
          "heatmapgl": [
           {
            "colorbar": {
             "outlinewidth": 0,
             "ticks": ""
            },
            "colorscale": [
             [
              0,
              "#0d0887"
             ],
             [
              0.1111111111111111,
              "#46039f"
             ],
             [
              0.2222222222222222,
              "#7201a8"
             ],
             [
              0.3333333333333333,
              "#9c179e"
             ],
             [
              0.4444444444444444,
              "#bd3786"
             ],
             [
              0.5555555555555556,
              "#d8576b"
             ],
             [
              0.6666666666666666,
              "#ed7953"
             ],
             [
              0.7777777777777778,
              "#fb9f3a"
             ],
             [
              0.8888888888888888,
              "#fdca26"
             ],
             [
              1,
              "#f0f921"
             ]
            ],
            "type": "heatmapgl"
           }
          ],
          "histogram": [
           {
            "marker": {
             "pattern": {
              "fillmode": "overlay",
              "size": 10,
              "solidity": 0.2
             }
            },
            "type": "histogram"
           }
          ],
          "histogram2d": [
           {
            "colorbar": {
             "outlinewidth": 0,
             "ticks": ""
            },
            "colorscale": [
             [
              0,
              "#0d0887"
             ],
             [
              0.1111111111111111,
              "#46039f"
             ],
             [
              0.2222222222222222,
              "#7201a8"
             ],
             [
              0.3333333333333333,
              "#9c179e"
             ],
             [
              0.4444444444444444,
              "#bd3786"
             ],
             [
              0.5555555555555556,
              "#d8576b"
             ],
             [
              0.6666666666666666,
              "#ed7953"
             ],
             [
              0.7777777777777778,
              "#fb9f3a"
             ],
             [
              0.8888888888888888,
              "#fdca26"
             ],
             [
              1,
              "#f0f921"
             ]
            ],
            "type": "histogram2d"
           }
          ],
          "histogram2dcontour": [
           {
            "colorbar": {
             "outlinewidth": 0,
             "ticks": ""
            },
            "colorscale": [
             [
              0,
              "#0d0887"
             ],
             [
              0.1111111111111111,
              "#46039f"
             ],
             [
              0.2222222222222222,
              "#7201a8"
             ],
             [
              0.3333333333333333,
              "#9c179e"
             ],
             [
              0.4444444444444444,
              "#bd3786"
             ],
             [
              0.5555555555555556,
              "#d8576b"
             ],
             [
              0.6666666666666666,
              "#ed7953"
             ],
             [
              0.7777777777777778,
              "#fb9f3a"
             ],
             [
              0.8888888888888888,
              "#fdca26"
             ],
             [
              1,
              "#f0f921"
             ]
            ],
            "type": "histogram2dcontour"
           }
          ],
          "mesh3d": [
           {
            "colorbar": {
             "outlinewidth": 0,
             "ticks": ""
            },
            "type": "mesh3d"
           }
          ],
          "parcoords": [
           {
            "line": {
             "colorbar": {
              "outlinewidth": 0,
              "ticks": ""
             }
            },
            "type": "parcoords"
           }
          ],
          "pie": [
           {
            "automargin": true,
            "type": "pie"
           }
          ],
          "scatter": [
           {
            "fillpattern": {
             "fillmode": "overlay",
             "size": 10,
             "solidity": 0.2
            },
            "type": "scatter"
           }
          ],
          "scatter3d": [
           {
            "line": {
             "colorbar": {
              "outlinewidth": 0,
              "ticks": ""
             }
            },
            "marker": {
             "colorbar": {
              "outlinewidth": 0,
              "ticks": ""
             }
            },
            "type": "scatter3d"
           }
          ],
          "scattercarpet": [
           {
            "marker": {
             "colorbar": {
              "outlinewidth": 0,
              "ticks": ""
             }
            },
            "type": "scattercarpet"
           }
          ],
          "scattergeo": [
           {
            "marker": {
             "colorbar": {
              "outlinewidth": 0,
              "ticks": ""
             }
            },
            "type": "scattergeo"
           }
          ],
          "scattergl": [
           {
            "marker": {
             "colorbar": {
              "outlinewidth": 0,
              "ticks": ""
             }
            },
            "type": "scattergl"
           }
          ],
          "scattermapbox": [
           {
            "marker": {
             "colorbar": {
              "outlinewidth": 0,
              "ticks": ""
             }
            },
            "type": "scattermapbox"
           }
          ],
          "scatterpolar": [
           {
            "marker": {
             "colorbar": {
              "outlinewidth": 0,
              "ticks": ""
             }
            },
            "type": "scatterpolar"
           }
          ],
          "scatterpolargl": [
           {
            "marker": {
             "colorbar": {
              "outlinewidth": 0,
              "ticks": ""
             }
            },
            "type": "scatterpolargl"
           }
          ],
          "scatterternary": [
           {
            "marker": {
             "colorbar": {
              "outlinewidth": 0,
              "ticks": ""
             }
            },
            "type": "scatterternary"
           }
          ],
          "surface": [
           {
            "colorbar": {
             "outlinewidth": 0,
             "ticks": ""
            },
            "colorscale": [
             [
              0,
              "#0d0887"
             ],
             [
              0.1111111111111111,
              "#46039f"
             ],
             [
              0.2222222222222222,
              "#7201a8"
             ],
             [
              0.3333333333333333,
              "#9c179e"
             ],
             [
              0.4444444444444444,
              "#bd3786"
             ],
             [
              0.5555555555555556,
              "#d8576b"
             ],
             [
              0.6666666666666666,
              "#ed7953"
             ],
             [
              0.7777777777777778,
              "#fb9f3a"
             ],
             [
              0.8888888888888888,
              "#fdca26"
             ],
             [
              1,
              "#f0f921"
             ]
            ],
            "type": "surface"
           }
          ],
          "table": [
           {
            "cells": {
             "fill": {
              "color": "#EBF0F8"
             },
             "line": {
              "color": "white"
             }
            },
            "header": {
             "fill": {
              "color": "#C8D4E3"
             },
             "line": {
              "color": "white"
             }
            },
            "type": "table"
           }
          ]
         },
         "layout": {
          "annotationdefaults": {
           "arrowcolor": "#2a3f5f",
           "arrowhead": 0,
           "arrowwidth": 1
          },
          "autotypenumbers": "strict",
          "coloraxis": {
           "colorbar": {
            "outlinewidth": 0,
            "ticks": ""
           }
          },
          "colorscale": {
           "diverging": [
            [
             0,
             "#8e0152"
            ],
            [
             0.1,
             "#c51b7d"
            ],
            [
             0.2,
             "#de77ae"
            ],
            [
             0.3,
             "#f1b6da"
            ],
            [
             0.4,
             "#fde0ef"
            ],
            [
             0.5,
             "#f7f7f7"
            ],
            [
             0.6,
             "#e6f5d0"
            ],
            [
             0.7,
             "#b8e186"
            ],
            [
             0.8,
             "#7fbc41"
            ],
            [
             0.9,
             "#4d9221"
            ],
            [
             1,
             "#276419"
            ]
           ],
           "sequential": [
            [
             0,
             "#0d0887"
            ],
            [
             0.1111111111111111,
             "#46039f"
            ],
            [
             0.2222222222222222,
             "#7201a8"
            ],
            [
             0.3333333333333333,
             "#9c179e"
            ],
            [
             0.4444444444444444,
             "#bd3786"
            ],
            [
             0.5555555555555556,
             "#d8576b"
            ],
            [
             0.6666666666666666,
             "#ed7953"
            ],
            [
             0.7777777777777778,
             "#fb9f3a"
            ],
            [
             0.8888888888888888,
             "#fdca26"
            ],
            [
             1,
             "#f0f921"
            ]
           ],
           "sequentialminus": [
            [
             0,
             "#0d0887"
            ],
            [
             0.1111111111111111,
             "#46039f"
            ],
            [
             0.2222222222222222,
             "#7201a8"
            ],
            [
             0.3333333333333333,
             "#9c179e"
            ],
            [
             0.4444444444444444,
             "#bd3786"
            ],
            [
             0.5555555555555556,
             "#d8576b"
            ],
            [
             0.6666666666666666,
             "#ed7953"
            ],
            [
             0.7777777777777778,
             "#fb9f3a"
            ],
            [
             0.8888888888888888,
             "#fdca26"
            ],
            [
             1,
             "#f0f921"
            ]
           ]
          },
          "colorway": [
           "#636efa",
           "#EF553B",
           "#00cc96",
           "#ab63fa",
           "#FFA15A",
           "#19d3f3",
           "#FF6692",
           "#B6E880",
           "#FF97FF",
           "#FECB52"
          ],
          "font": {
           "color": "#2a3f5f"
          },
          "geo": {
           "bgcolor": "white",
           "lakecolor": "white",
           "landcolor": "#E5ECF6",
           "showlakes": true,
           "showland": true,
           "subunitcolor": "white"
          },
          "hoverlabel": {
           "align": "left"
          },
          "hovermode": "closest",
          "mapbox": {
           "style": "light"
          },
          "paper_bgcolor": "white",
          "plot_bgcolor": "#E5ECF6",
          "polar": {
           "angularaxis": {
            "gridcolor": "white",
            "linecolor": "white",
            "ticks": ""
           },
           "bgcolor": "#E5ECF6",
           "radialaxis": {
            "gridcolor": "white",
            "linecolor": "white",
            "ticks": ""
           }
          },
          "scene": {
           "xaxis": {
            "backgroundcolor": "#E5ECF6",
            "gridcolor": "white",
            "gridwidth": 2,
            "linecolor": "white",
            "showbackground": true,
            "ticks": "",
            "zerolinecolor": "white"
           },
           "yaxis": {
            "backgroundcolor": "#E5ECF6",
            "gridcolor": "white",
            "gridwidth": 2,
            "linecolor": "white",
            "showbackground": true,
            "ticks": "",
            "zerolinecolor": "white"
           },
           "zaxis": {
            "backgroundcolor": "#E5ECF6",
            "gridcolor": "white",
            "gridwidth": 2,
            "linecolor": "white",
            "showbackground": true,
            "ticks": "",
            "zerolinecolor": "white"
           }
          },
          "shapedefaults": {
           "line": {
            "color": "#2a3f5f"
           }
          },
          "ternary": {
           "aaxis": {
            "gridcolor": "white",
            "linecolor": "white",
            "ticks": ""
           },
           "baxis": {
            "gridcolor": "white",
            "linecolor": "white",
            "ticks": ""
           },
           "bgcolor": "#E5ECF6",
           "caxis": {
            "gridcolor": "white",
            "linecolor": "white",
            "ticks": ""
           }
          },
          "title": {
           "x": 0.05
          },
          "xaxis": {
           "automargin": true,
           "gridcolor": "white",
           "linecolor": "white",
           "ticks": "",
           "title": {
            "standoff": 15
           },
           "zerolinecolor": "white",
           "zerolinewidth": 2
          },
          "yaxis": {
           "automargin": true,
           "gridcolor": "white",
           "linecolor": "white",
           "ticks": "",
           "title": {
            "standoff": 15
           },
           "zerolinecolor": "white",
           "zerolinewidth": 2
          }
         }
        },
        "violinmode": "group",
        "xaxis": {
         "anchor": "y",
         "domain": [
          0,
          1
         ],
         "title": {
          "text": "MTAP Copy Number Quantile"
         }
        },
        "yaxis": {
         "anchor": "x",
         "domain": [
          0,
          1
         ],
         "title": {
          "text": "PRMT5"
         }
        }
       }
      }
     },
     "metadata": {},
     "output_type": "display_data"
    },
    {
     "data": {
      "application/vnd.plotly.v1+json": {
       "config": {
        "plotlyServerURL": "https://plot.ly"
       },
       "data": [
        {
         "alignmentgroup": "True",
         "box": {
          "visible": true
         },
         "hovertemplate": "MTAP Copy Number Quantile=%{x}<br>MAT2A=%{y}<extra></extra>",
         "legendgroup": "",
         "marker": {
          "color": "#636efa"
         },
         "name": "",
         "offsetgroup": "",
         "orientation": "v",
         "points": "all",
         "scalegroup": "True",
         "showlegend": false,
         "type": "violin",
         "x": [
          5,
          0,
          4,
          4,
          4,
          1,
          3,
          5,
          2,
          3,
          0,
          0,
          0,
          5,
          4,
          2,
          5,
          5,
          0,
          2,
          3,
          4,
          1,
          1,
          1,
          1,
          2,
          0,
          4,
          0,
          3,
          3,
          4,
          1,
          3,
          1,
          2,
          0,
          2,
          4,
          4,
          4,
          1,
          2,
          4,
          3,
          1,
          3,
          5,
          0,
          1,
          1,
          4,
          null,
          0,
          3,
          2,
          3,
          3,
          4,
          5,
          0,
          4,
          4,
          0,
          5,
          3,
          2,
          3,
          5,
          2,
          3,
          1,
          3,
          2,
          1,
          1,
          5,
          4,
          4,
          0,
          0,
          5,
          4,
          2,
          0,
          1,
          2,
          4,
          0,
          2,
          3,
          2,
          1,
          1,
          5,
          4,
          3,
          2,
          4,
          1,
          3,
          4,
          1,
          4,
          2,
          2,
          0,
          0,
          1,
          5,
          2,
          0,
          4,
          2,
          4,
          3,
          3,
          3,
          5,
          1,
          5,
          5,
          3,
          1,
          0,
          2,
          1,
          2,
          4,
          5,
          5,
          4,
          2,
          2,
          2,
          0,
          3,
          3,
          5,
          2,
          4,
          4,
          1,
          0,
          4,
          5,
          2,
          5,
          1,
          5,
          0,
          0,
          2,
          4,
          0,
          5,
          5,
          1,
          1,
          1,
          5,
          3,
          5,
          4,
          4,
          4,
          null,
          5,
          null,
          3,
          1,
          0,
          4,
          3,
          2,
          5,
          4,
          5,
          2,
          4,
          4,
          2,
          2,
          4,
          4,
          0,
          4,
          5,
          null,
          0,
          5,
          0,
          4,
          3,
          0,
          5,
          1,
          2,
          2,
          0,
          null,
          3,
          5,
          3,
          null,
          3,
          0,
          3,
          2,
          5,
          1,
          3,
          2,
          4,
          5,
          1,
          5,
          2,
          4,
          1,
          4,
          2,
          0,
          1,
          3,
          3,
          0,
          1,
          4,
          2,
          0,
          1,
          1,
          5,
          5,
          4,
          null,
          2,
          5,
          0,
          5,
          2,
          4,
          2,
          2,
          0,
          0,
          4,
          3,
          2,
          1,
          5,
          5,
          1,
          0,
          5,
          4,
          1,
          4,
          5,
          4,
          3,
          3,
          5,
          4,
          3,
          5,
          2,
          5,
          4,
          5,
          4,
          2,
          3,
          3,
          5,
          1,
          1,
          2,
          0,
          0,
          4,
          4,
          0,
          0,
          3,
          5,
          5,
          2,
          3,
          2,
          3,
          5,
          3,
          1,
          3,
          4,
          4,
          2,
          0,
          5,
          1,
          0,
          5,
          0,
          0,
          3,
          3,
          3,
          5,
          2,
          0,
          1,
          0,
          1,
          4,
          3,
          4,
          4,
          2,
          5,
          5,
          5,
          3,
          0,
          0,
          5,
          5,
          1,
          5,
          5,
          3,
          0,
          5,
          1,
          3,
          5,
          2,
          1,
          3,
          4,
          4,
          5,
          5,
          2,
          1,
          1,
          4,
          5,
          5,
          1,
          3,
          0,
          2,
          0,
          1,
          1,
          1,
          5,
          4,
          4,
          1,
          5,
          4,
          0,
          3,
          0,
          0,
          5,
          2,
          4,
          3,
          4,
          5,
          2,
          1,
          0,
          5,
          2,
          2,
          2,
          1,
          0,
          1,
          0,
          3,
          4,
          1,
          1,
          4,
          5,
          1,
          5,
          1,
          1,
          3,
          2,
          4,
          3,
          0,
          2,
          0,
          4,
          1,
          5,
          3,
          1,
          2,
          0,
          0,
          1,
          3,
          0,
          2,
          2,
          1,
          1,
          0,
          0,
          3,
          1,
          0,
          0,
          0,
          0,
          2,
          1,
          5,
          3,
          5,
          5,
          4,
          5,
          0,
          2,
          3,
          3,
          1,
          1,
          2,
          0,
          4,
          null,
          5,
          5,
          0,
          3,
          3,
          4,
          4,
          3,
          2,
          5,
          2,
          4,
          3,
          5,
          null,
          2,
          null,
          4,
          0,
          2,
          3,
          2,
          3,
          3,
          5,
          3,
          3,
          2,
          2,
          2,
          3,
          5,
          5,
          0,
          5,
          2,
          2,
          2,
          2,
          1,
          4,
          4,
          1,
          null,
          1,
          null,
          0,
          3,
          4,
          1,
          1,
          0,
          2,
          1,
          4,
          3,
          2,
          5,
          4,
          5,
          4,
          3,
          1,
          3,
          3,
          0,
          0,
          2,
          3,
          4,
          1,
          2,
          4,
          1,
          0,
          0,
          1,
          4,
          0,
          2,
          2,
          1,
          3,
          5,
          1,
          0,
          3,
          2,
          2,
          1,
          0,
          3,
          1,
          1,
          5,
          1,
          0,
          4,
          4,
          5,
          4,
          1,
          2,
          null,
          3,
          2,
          null,
          null,
          2,
          5,
          1,
          2,
          0,
          4,
          1,
          2,
          4,
          0,
          4,
          0,
          1,
          3,
          2,
          3,
          3,
          0,
          3,
          4,
          0,
          1,
          5,
          5,
          1,
          4,
          1,
          0,
          4,
          4,
          5,
          5,
          0,
          0,
          0,
          1,
          2,
          3,
          0,
          2,
          3,
          5,
          2,
          0,
          1,
          4,
          3,
          3,
          0,
          5,
          1,
          5,
          3,
          5,
          0,
          3,
          0,
          4,
          2,
          4,
          2,
          3,
          2,
          1,
          0,
          4,
          0,
          5,
          0,
          1,
          3,
          1,
          0,
          5,
          1,
          2,
          0,
          4,
          5,
          4,
          4,
          5,
          1,
          0,
          1,
          3,
          2,
          0,
          5,
          3,
          3,
          3,
          0,
          3,
          2,
          3,
          3,
          2,
          2,
          0,
          2,
          5,
          4,
          1,
          2,
          2,
          3,
          1,
          1,
          4,
          4,
          3,
          2,
          5,
          3
         ],
         "x0": " ",
         "xaxis": "x",
         "y": [
          0.0893226680474,
          -0.355223049176,
          0.0701251777207,
          -0.374843946719,
          -0.21756508901,
          -0.464902029319,
          -0.402880444191,
          -0.230821969678,
          -0.433277790889,
          -0.244001300272,
          -0.524097939404,
          -0.106283661228,
          -0.588040358609,
          -0.152788571209,
          -0.318389167948,
          -0.348599152129,
          -0.048385503868,
          -0.211006582509,
          -0.379490604917,
          -0.0944405208529,
          -0.0827727148745,
          -0.100248941973,
          -0.311760104417,
          -0.204772152311,
          -0.873333665658,
          -0.406691690651,
          0.268070265126,
          -0.295402005682,
          -0.479926970922,
          -0.0802062120251,
          -0.0169096800296,
          -0.392722867864,
          -0.64372907364,
          -0.408903230203,
          -0.0383884210555,
          -0.205734864351,
          -0.0187244940454,
          -1.00979978301,
          -0.120741105501,
          -0.158322745489,
          -0.228985617958,
          0.0673628433314,
          -0.219543914033,
          -0.0665108923247,
          -0.0347317384057,
          -0.502734834433,
          -0.11548762153,
          -0.480973481893,
          -0.0286998943717,
          -0.0161901602163,
          -0.207780449175,
          -0.0879347671213,
          -0.335454029463,
          -0.303629324564,
          -0.582653934863,
          -0.105081924873,
          -0.232836659317,
          -0.41793807732,
          -0.332403159183,
          -0.183470517777,
          -0.283067461986,
          -1.26667089987,
          -0.376251459274,
          -0.420599289818,
          -0.344125054233,
          -0.680238885943,
          -0.462192687381,
          -0.247054603707,
          -0.205616180502,
          -0.0884240559215,
          -0.46429908342,
          -0.481092351765,
          -0.720757338256,
          -0.457379761134,
          -0.458378744829,
          -0.382785602995,
          -0.909134951028,
          -0.355967709533,
          -0.268827248128,
          -0.24690424873,
          -1.44239588552,
          -0.795763345632,
          -0.319340365019,
          -0.170030877299,
          -0.137291531905,
          -0.303465372791,
          -0.0799175657919,
          -0.710249739436,
          -0.224232583696,
          -0.103680801815,
          -0.0577952162943,
          -0.425499667325,
          0.0090349693297,
          -0.0520045911511,
          -0.189443626274,
          -0.211072283383,
          -0.0159040232695,
          0.291021556608,
          -0.430687145272,
          -0.3067030497,
          -0.616386686825,
          -0.787600897941,
          0.0801310574905,
          -0.40220860383,
          -0.416093085514,
          0.066224336055,
          -0.225828972676,
          -0.589678870704,
          -0.524107203436,
          -0.425876990102,
          -0.397738559522,
          -0.309793936657,
          -0.372722358485,
          -0.0652111730137,
          -0.0833387525496,
          -0.222577961978,
          -0.0574086323846,
          -0.398900703196,
          -0.539430237516,
          -0.0591792331231,
          -0.811763020082,
          0.0301901138066,
          -0.239884345203,
          -0.420951652095,
          -1.12101686102,
          -0.62021483153,
          -0.663488548716,
          -0.331018163968,
          -0.168662910388,
          -0.769739838866,
          -0.420161843305,
          -0.548169460922,
          -0.140410817404,
          -0.241406697279,
          -0.229556501369,
          -0.296981712699,
          -0.390036825687,
          -0.212934420246,
          -0.294981491601,
          0.0574067693457,
          -0.111782569099,
          -0.201187160835,
          -0.27966187847,
          0.126120762606,
          -0.303183850767,
          0.318245219699,
          -0.113044614945,
          -0.244331970336,
          -0.111605456805,
          -0.411726003465,
          -0.488681837436,
          -0.299299986409,
          -0.32614609526,
          -0.11257625964,
          -0.609062764623,
          -0.398270513166,
          -0.206269517231,
          -0.178373161573,
          -0.727766826873,
          -0.110337891774,
          -0.515015380919,
          -0.264844604248,
          -0.495495441377,
          -0.155740935638,
          -0.501604408246,
          -0.560713177838,
          -0.386827165417,
          -0.471866902398,
          -0.421371566591,
          -0.393933381495,
          -0.0882842213288,
          -0.445524466774,
          -0.946829865138,
          -0.167859167505,
          -0.203783332588,
          -0.302890038234,
          -0.390707380436,
          -0.0732710243664,
          -0.0586855684416,
          -0.333188095962,
          -0.0986249233662,
          -0.0801625684265,
          -0.405107262094,
          -0.284741363364,
          -0.0741573761092,
          -0.21772828013,
          -0.440025766512,
          -0.16517479223,
          null,
          -0.509238098565,
          -1.42547514987,
          -0.127149525243,
          -0.532960830042,
          -0.227078138128,
          0.14235123615,
          -0.130358850254,
          -0.0928626619593,
          -0.445106579859,
          0.465906689494,
          0.0323969266608,
          -0.349497301697,
          -0.0749544503053,
          -0.229001448153,
          -0.162561293247,
          -0.0257030033265,
          -0.36527767498,
          -0.282156243075,
          -0.381754744681,
          -0.576430557387,
          -0.30631209037,
          -0.517821843733,
          -0.883849449954,
          -0.126626575049,
          -0.261318280876,
          -0.199374281781,
          -0.0356468208044,
          -0.616727125912,
          -0.411677016383,
          -0.161228369429,
          -0.51999195281,
          -0.0933639523515,
          -0.350430918924,
          -0.436884587766,
          -0.420601835496,
          -0.579526011039,
          0.0253180919647,
          0.00413723264511,
          -0.697329677492,
          -1.03183051734,
          -0.737417368442,
          -0.450715536615,
          0.0482588979892,
          -0.0837385019727,
          -0.403502751563,
          -0.325275786944,
          -0.254274132308,
          -0.131200465552,
          -0.121735866028,
          -0.131097548771,
          -0.425185258079,
          -0.475515041442,
          -0.350081054615,
          -0.301467177228,
          -0.469824416338,
          -0.211576770905,
          -0.233649731325,
          -0.0036152253194,
          -0.645084419356,
          -0.32221901288,
          -0.14425737831,
          -0.0475472122697,
          -0.0291435731448,
          0.0066793401979,
          -0.239912959458,
          -0.284892248868,
          -0.194770871827,
          -0.313193501221,
          -0.296035813098,
          -0.411086918253,
          -0.300081244949,
          -0.398915617871,
          -0.289874893516,
          -0.236450731655,
          -0.504872387965,
          -0.212379018338,
          -0.461770898634,
          -0.225832768045,
          -0.565846473585,
          -0.521783867147,
          -0.210661017567,
          -0.820481555373,
          -0.566692766358,
          -0.414259534522,
          -0.241198403979,
          -0.347493046452,
          0.0668748227099,
          -0.237116827427,
          -0.463967618685,
          -0.348354943225,
          -0.203248107126,
          -0.949789964424,
          -0.364424034396,
          0.231191181624,
          -0.237877855934,
          -0.328575288231,
          -0.25870056779,
          -0.410074295441,
          -0.364780461148,
          -0.266784869849,
          -0.414783037247,
          -0.226680789609,
          -0.331572650184,
          -0.323771061979,
          -0.133710715964,
          -0.0854033209707,
          -0.2495441677,
          -0.311375572749,
          -0.180147982046,
          -0.488618017988,
          -0.461989937422,
          -1.16616986863,
          -0.424737010199,
          -0.42317771515,
          -0.374105791227,
          -0.127982713363,
          -0.2074653005,
          -0.691509445765,
          -0.168795742047,
          -0.463390316227,
          -0.263068734239,
          -0.137343071985,
          -0.130970964759,
          -0.129240296116,
          -0.178591714932,
          -0.543122358816,
          -0.373484509071,
          -0.329968909051,
          -0.162420536736,
          -0.587599278762,
          -0.0891272628022,
          -0.351991614592,
          -0.0847880614046,
          -0.225763339548,
          -0.0637991115993,
          -0.210700125419,
          -0.431969683504,
          -0.175822883389,
          -0.48904570749,
          -0.39838370876,
          -0.774716705708,
          -0.483384523001,
          -0.144301056344,
          -0.305208254344,
          -1.27345483521,
          -0.503201293041,
          -0.0538958002879,
          -0.408685763867,
          -0.460177267548,
          -0.261966663775,
          -0.109698440195,
          -0.577638584788,
          -0.192567182642,
          -0.304613540986,
          -0.0897165205077,
          0.234356648843,
          0.00120624477099,
          -0.445377450552,
          -0.184886333172,
          0.0747038252305,
          -0.222244678317,
          -0.467640353547,
          -0.289766763903,
          -0.540284018213,
          -0.760974715975,
          -0.297163834059,
          -0.494121457519,
          -0.648508798756,
          -0.610510070377,
          -0.115141870363,
          -0.0985595885088,
          -0.212733283937,
          -0.103461373142,
          -0.245679015906,
          0.0346360327092,
          -0.233252810142,
          -0.3898301842,
          -0.0165107514382,
          -0.504913261111,
          -0.224673485993,
          -0.0439928865959,
          0.00512118873942,
          -0.0185288059856,
          -0.269247021932,
          -0.0438342476241,
          -0.281044451828,
          -0.407196838116,
          -0.426805321979,
          -0.540513950974,
          0.0539208743973,
          -0.784598867899,
          0.215350630723,
          -0.205732405185,
          -0.20730386212,
          -0.199036093528,
          -0.521375772558,
          -0.641819317386,
          -0.75670826606,
          -0.311029578014,
          -0.439639105574,
          -0.100534413384,
          -0.0290165135398,
          0.00132768132201,
          -0.339680195986,
          -0.0299352489096,
          0.0323387099583,
          -0.311282361055,
          -0.728297453058,
          -0.231221634421,
          -0.54101974357,
          -0.188521683549,
          -0.285408877447,
          -0.30952154614,
          -0.4382261805,
          0.104809072802,
          -0.186626234417,
          -0.0421066199305,
          -0.140618886722,
          -0.131141915799,
          -0.282347785475,
          -1.1970786319,
          -0.218104864502,
          -0.171112738361,
          -0.504525010686,
          -0.308229355904,
          -0.494225617442,
          -0.323430512434,
          -0.0693694541587,
          -0.049084392814,
          -0.68328992068,
          -0.540847473714,
          -0.342735162701,
          -0.400915071423,
          -0.361680875102,
          -0.322563291676,
          -0.334734736554,
          -0.283244330775,
          -0.699976882026,
          -0.759397545959,
          -0.454493359806,
          0.0321718569308,
          -0.146378988979,
          -0.399041739915,
          0.100251399096,
          -0.117864844038,
          -0.637737446672,
          -0.479830270119,
          -0.089248320488,
          -0.0190411153859,
          -0.0651951328316,
          -0.287208095656,
          -0.323247033473,
          -1.26880104293,
          -0.12431526462,
          0.0261511671775,
          -0.103906833881,
          -0.515355707329,
          -0.35775785379,
          -0.538225762858,
          -0.0341747565999,
          -0.313415055449,
          -0.170617768269,
          -0.298575863899,
          -0.371230928396,
          -0.443184468806,
          -0.309856914915,
          -0.121172348435,
          -0.313723052789,
          -0.831593404731,
          -0.328739452452,
          -0.00102829345468,
          -0.263748799332,
          -0.259705514084,
          -1.11535258147,
          -0.268237367448,
          -0.281647430177,
          -0.250993032493,
          -0.473412292829,
          -0.0641382248284,
          -0.470541888565,
          -0.75886480019,
          0.205046049789,
          -0.111336640172,
          -0.655213442828,
          -0.402374589937,
          -0.0459637060006,
          -0.773415659299,
          -0.505297210356,
          -0.506143871838,
          -0.7882514059,
          -0.553041615695,
          -0.500445426342,
          -0.257324486657,
          -0.312887835888,
          -0.129155869315,
          -0.501259933689,
          -0.533208022535,
          -0.0574422552148,
          -0.397787069293,
          -0.14764272595,
          -0.0869919808432,
          -0.409294542634,
          -0.313214169501,
          -0.243721191524,
          -0.0851384708293,
          -0.0489494657474,
          -0.637668301666,
          -0.796280333455,
          -0.483298193043,
          -0.0686870614629,
          -0.162477497557,
          -0.131043088229,
          -0.0543018569229,
          -0.530396450212,
          -0.593040414809,
          0.0745207882915,
          -0.297890504425,
          -0.130745047199,
          -0.181037609782,
          -0.147517901639,
          -0.174901059735,
          -0.458328608394,
          0.154274146423,
          -0.35642409528,
          -0.525010255183,
          -0.280890243266,
          0.103558668193,
          -0.204499478632,
          -0.149172320717,
          -0.997760163308,
          -0.664892506714,
          -0.151463442613,
          -0.259774828449,
          -0.312698215718,
          -0.488254699898,
          -0.277646276415,
          -0.161759298254,
          -0.36169830164,
          -0.27686715078,
          -0.451928288577,
          -0.292491795732,
          -0.16384563554,
          -0.23041001294,
          -0.136724080879,
          -0.00269485615323,
          0.0990050369075,
          -0.488839779215,
          -0.304461391422,
          0.129692393731,
          -0.302596366003,
          -0.0525738019481,
          -0.133044916975,
          -0.607398201304,
          -0.291391187465,
          -0.320434235604,
          0.112728448316,
          -0.0850696631361,
          -0.288519621657,
          -0.172040072882,
          -0.755133107178,
          -0.336563867462,
          -0.847849594901,
          -0.244148225682,
          -0.00947427245949,
          -0.507386585483,
          -0.22768075356,
          0.100506412072,
          -0.19044252319,
          0.114214829582,
          -0.466467832374,
          -0.0909715538318,
          -0.0269435957234,
          -0.69637839371,
          -0.595779078158,
          -1.10203148945,
          -0.105522125576,
          -0.256096052866,
          -0.159929797914,
          -0.180475901448,
          -0.089961599907,
          0.515424326928,
          -0.375000408176,
          -0.140739848176,
          -0.243078533732,
          -0.268003497185,
          -0.737841571584,
          -0.326886691765,
          -0.159429415956,
          -0.125905392432,
          -0.683640921613,
          -0.825185795192,
          -0.51617310849,
          -0.428759573063,
          -0.0609428697355,
          -0.69873468715,
          -0.209820993169,
          -0.257310780894,
          -0.0892760499444,
          -0.268327989146,
          -0.263989242024,
          -0.489377716707,
          -0.10421279466,
          -0.305362549261,
          -0.330365754897,
          -0.0475280826639,
          -0.259000046875,
          -0.690350968002,
          -0.526719365013,
          0.00265243595228,
          -0.590014919542,
          -0.281753703329,
          -0.780452518466,
          -0.0609852240379,
          -1.0566998414,
          null,
          -0.220249812425,
          0.0295692719456,
          -0.658100327961,
          -0.271957566955,
          -0.22141891378,
          -0.155188657216,
          -0.0244832611906,
          -0.262617103384,
          -0.326517492073,
          -0.338354000691,
          -0.326537109922,
          -0.0581273290066,
          -0.593448175506,
          -0.113915808264,
          -0.67937303277,
          -0.215014376089,
          -0.977395965955,
          -0.360991892712,
          -0.21128769232,
          -0.386799137848,
          -0.349402903865,
          -0.207116962998,
          -0.285270988907,
          0.18261325292,
          -0.502368970942,
          -0.419866504448,
          -0.414545851625,
          -0.129683819745,
          -0.375134763008,
          -0.137724137789,
          -0.186293046115,
          -0.503364592905,
          -0.0680920061518,
          -0.467864170295,
          -0.107331421062,
          -0.035676327752,
          -0.00576723224778,
          -0.18644305413,
          -0.300041469007,
          -0.393795865796,
          -0.490541102155,
          -0.479210065776,
          -0.180465307887,
          0.147778747032,
          -0.122189719096,
          -0.130612834418,
          -0.396464315407,
          -0.371718450554,
          0.0280075999179,
          0.0498475591494,
          -0.571136282755,
          -0.233401339506,
          -0.326073004198,
          -0.146722558408,
          -0.511305918275,
          -0.267866030494,
          0.00136592362775,
          -0.638073839554,
          -0.23451444395,
          -0.280548588243,
          0.00862643599678,
          -0.241466663941,
          -0.0900949229839
         ],
         "y0": " ",
         "yaxis": "y"
        }
       ],
       "layout": {
        "legend": {
         "tracegroupgap": 0
        },
        "margin": {
         "t": 60
        },
        "template": {
         "data": {
          "bar": [
           {
            "error_x": {
             "color": "#2a3f5f"
            },
            "error_y": {
             "color": "#2a3f5f"
            },
            "marker": {
             "line": {
              "color": "#E5ECF6",
              "width": 0.5
             },
             "pattern": {
              "fillmode": "overlay",
              "size": 10,
              "solidity": 0.2
             }
            },
            "type": "bar"
           }
          ],
          "barpolar": [
           {
            "marker": {
             "line": {
              "color": "#E5ECF6",
              "width": 0.5
             },
             "pattern": {
              "fillmode": "overlay",
              "size": 10,
              "solidity": 0.2
             }
            },
            "type": "barpolar"
           }
          ],
          "carpet": [
           {
            "aaxis": {
             "endlinecolor": "#2a3f5f",
             "gridcolor": "white",
             "linecolor": "white",
             "minorgridcolor": "white",
             "startlinecolor": "#2a3f5f"
            },
            "baxis": {
             "endlinecolor": "#2a3f5f",
             "gridcolor": "white",
             "linecolor": "white",
             "minorgridcolor": "white",
             "startlinecolor": "#2a3f5f"
            },
            "type": "carpet"
           }
          ],
          "choropleth": [
           {
            "colorbar": {
             "outlinewidth": 0,
             "ticks": ""
            },
            "type": "choropleth"
           }
          ],
          "contour": [
           {
            "colorbar": {
             "outlinewidth": 0,
             "ticks": ""
            },
            "colorscale": [
             [
              0,
              "#0d0887"
             ],
             [
              0.1111111111111111,
              "#46039f"
             ],
             [
              0.2222222222222222,
              "#7201a8"
             ],
             [
              0.3333333333333333,
              "#9c179e"
             ],
             [
              0.4444444444444444,
              "#bd3786"
             ],
             [
              0.5555555555555556,
              "#d8576b"
             ],
             [
              0.6666666666666666,
              "#ed7953"
             ],
             [
              0.7777777777777778,
              "#fb9f3a"
             ],
             [
              0.8888888888888888,
              "#fdca26"
             ],
             [
              1,
              "#f0f921"
             ]
            ],
            "type": "contour"
           }
          ],
          "contourcarpet": [
           {
            "colorbar": {
             "outlinewidth": 0,
             "ticks": ""
            },
            "type": "contourcarpet"
           }
          ],
          "heatmap": [
           {
            "colorbar": {
             "outlinewidth": 0,
             "ticks": ""
            },
            "colorscale": [
             [
              0,
              "#0d0887"
             ],
             [
              0.1111111111111111,
              "#46039f"
             ],
             [
              0.2222222222222222,
              "#7201a8"
             ],
             [
              0.3333333333333333,
              "#9c179e"
             ],
             [
              0.4444444444444444,
              "#bd3786"
             ],
             [
              0.5555555555555556,
              "#d8576b"
             ],
             [
              0.6666666666666666,
              "#ed7953"
             ],
             [
              0.7777777777777778,
              "#fb9f3a"
             ],
             [
              0.8888888888888888,
              "#fdca26"
             ],
             [
              1,
              "#f0f921"
             ]
            ],
            "type": "heatmap"
           }
          ],
          "heatmapgl": [
           {
            "colorbar": {
             "outlinewidth": 0,
             "ticks": ""
            },
            "colorscale": [
             [
              0,
              "#0d0887"
             ],
             [
              0.1111111111111111,
              "#46039f"
             ],
             [
              0.2222222222222222,
              "#7201a8"
             ],
             [
              0.3333333333333333,
              "#9c179e"
             ],
             [
              0.4444444444444444,
              "#bd3786"
             ],
             [
              0.5555555555555556,
              "#d8576b"
             ],
             [
              0.6666666666666666,
              "#ed7953"
             ],
             [
              0.7777777777777778,
              "#fb9f3a"
             ],
             [
              0.8888888888888888,
              "#fdca26"
             ],
             [
              1,
              "#f0f921"
             ]
            ],
            "type": "heatmapgl"
           }
          ],
          "histogram": [
           {
            "marker": {
             "pattern": {
              "fillmode": "overlay",
              "size": 10,
              "solidity": 0.2
             }
            },
            "type": "histogram"
           }
          ],
          "histogram2d": [
           {
            "colorbar": {
             "outlinewidth": 0,
             "ticks": ""
            },
            "colorscale": [
             [
              0,
              "#0d0887"
             ],
             [
              0.1111111111111111,
              "#46039f"
             ],
             [
              0.2222222222222222,
              "#7201a8"
             ],
             [
              0.3333333333333333,
              "#9c179e"
             ],
             [
              0.4444444444444444,
              "#bd3786"
             ],
             [
              0.5555555555555556,
              "#d8576b"
             ],
             [
              0.6666666666666666,
              "#ed7953"
             ],
             [
              0.7777777777777778,
              "#fb9f3a"
             ],
             [
              0.8888888888888888,
              "#fdca26"
             ],
             [
              1,
              "#f0f921"
             ]
            ],
            "type": "histogram2d"
           }
          ],
          "histogram2dcontour": [
           {
            "colorbar": {
             "outlinewidth": 0,
             "ticks": ""
            },
            "colorscale": [
             [
              0,
              "#0d0887"
             ],
             [
              0.1111111111111111,
              "#46039f"
             ],
             [
              0.2222222222222222,
              "#7201a8"
             ],
             [
              0.3333333333333333,
              "#9c179e"
             ],
             [
              0.4444444444444444,
              "#bd3786"
             ],
             [
              0.5555555555555556,
              "#d8576b"
             ],
             [
              0.6666666666666666,
              "#ed7953"
             ],
             [
              0.7777777777777778,
              "#fb9f3a"
             ],
             [
              0.8888888888888888,
              "#fdca26"
             ],
             [
              1,
              "#f0f921"
             ]
            ],
            "type": "histogram2dcontour"
           }
          ],
          "mesh3d": [
           {
            "colorbar": {
             "outlinewidth": 0,
             "ticks": ""
            },
            "type": "mesh3d"
           }
          ],
          "parcoords": [
           {
            "line": {
             "colorbar": {
              "outlinewidth": 0,
              "ticks": ""
             }
            },
            "type": "parcoords"
           }
          ],
          "pie": [
           {
            "automargin": true,
            "type": "pie"
           }
          ],
          "scatter": [
           {
            "fillpattern": {
             "fillmode": "overlay",
             "size": 10,
             "solidity": 0.2
            },
            "type": "scatter"
           }
          ],
          "scatter3d": [
           {
            "line": {
             "colorbar": {
              "outlinewidth": 0,
              "ticks": ""
             }
            },
            "marker": {
             "colorbar": {
              "outlinewidth": 0,
              "ticks": ""
             }
            },
            "type": "scatter3d"
           }
          ],
          "scattercarpet": [
           {
            "marker": {
             "colorbar": {
              "outlinewidth": 0,
              "ticks": ""
             }
            },
            "type": "scattercarpet"
           }
          ],
          "scattergeo": [
           {
            "marker": {
             "colorbar": {
              "outlinewidth": 0,
              "ticks": ""
             }
            },
            "type": "scattergeo"
           }
          ],
          "scattergl": [
           {
            "marker": {
             "colorbar": {
              "outlinewidth": 0,
              "ticks": ""
             }
            },
            "type": "scattergl"
           }
          ],
          "scattermapbox": [
           {
            "marker": {
             "colorbar": {
              "outlinewidth": 0,
              "ticks": ""
             }
            },
            "type": "scattermapbox"
           }
          ],
          "scatterpolar": [
           {
            "marker": {
             "colorbar": {
              "outlinewidth": 0,
              "ticks": ""
             }
            },
            "type": "scatterpolar"
           }
          ],
          "scatterpolargl": [
           {
            "marker": {
             "colorbar": {
              "outlinewidth": 0,
              "ticks": ""
             }
            },
            "type": "scatterpolargl"
           }
          ],
          "scatterternary": [
           {
            "marker": {
             "colorbar": {
              "outlinewidth": 0,
              "ticks": ""
             }
            },
            "type": "scatterternary"
           }
          ],
          "surface": [
           {
            "colorbar": {
             "outlinewidth": 0,
             "ticks": ""
            },
            "colorscale": [
             [
              0,
              "#0d0887"
             ],
             [
              0.1111111111111111,
              "#46039f"
             ],
             [
              0.2222222222222222,
              "#7201a8"
             ],
             [
              0.3333333333333333,
              "#9c179e"
             ],
             [
              0.4444444444444444,
              "#bd3786"
             ],
             [
              0.5555555555555556,
              "#d8576b"
             ],
             [
              0.6666666666666666,
              "#ed7953"
             ],
             [
              0.7777777777777778,
              "#fb9f3a"
             ],
             [
              0.8888888888888888,
              "#fdca26"
             ],
             [
              1,
              "#f0f921"
             ]
            ],
            "type": "surface"
           }
          ],
          "table": [
           {
            "cells": {
             "fill": {
              "color": "#EBF0F8"
             },
             "line": {
              "color": "white"
             }
            },
            "header": {
             "fill": {
              "color": "#C8D4E3"
             },
             "line": {
              "color": "white"
             }
            },
            "type": "table"
           }
          ]
         },
         "layout": {
          "annotationdefaults": {
           "arrowcolor": "#2a3f5f",
           "arrowhead": 0,
           "arrowwidth": 1
          },
          "autotypenumbers": "strict",
          "coloraxis": {
           "colorbar": {
            "outlinewidth": 0,
            "ticks": ""
           }
          },
          "colorscale": {
           "diverging": [
            [
             0,
             "#8e0152"
            ],
            [
             0.1,
             "#c51b7d"
            ],
            [
             0.2,
             "#de77ae"
            ],
            [
             0.3,
             "#f1b6da"
            ],
            [
             0.4,
             "#fde0ef"
            ],
            [
             0.5,
             "#f7f7f7"
            ],
            [
             0.6,
             "#e6f5d0"
            ],
            [
             0.7,
             "#b8e186"
            ],
            [
             0.8,
             "#7fbc41"
            ],
            [
             0.9,
             "#4d9221"
            ],
            [
             1,
             "#276419"
            ]
           ],
           "sequential": [
            [
             0,
             "#0d0887"
            ],
            [
             0.1111111111111111,
             "#46039f"
            ],
            [
             0.2222222222222222,
             "#7201a8"
            ],
            [
             0.3333333333333333,
             "#9c179e"
            ],
            [
             0.4444444444444444,
             "#bd3786"
            ],
            [
             0.5555555555555556,
             "#d8576b"
            ],
            [
             0.6666666666666666,
             "#ed7953"
            ],
            [
             0.7777777777777778,
             "#fb9f3a"
            ],
            [
             0.8888888888888888,
             "#fdca26"
            ],
            [
             1,
             "#f0f921"
            ]
           ],
           "sequentialminus": [
            [
             0,
             "#0d0887"
            ],
            [
             0.1111111111111111,
             "#46039f"
            ],
            [
             0.2222222222222222,
             "#7201a8"
            ],
            [
             0.3333333333333333,
             "#9c179e"
            ],
            [
             0.4444444444444444,
             "#bd3786"
            ],
            [
             0.5555555555555556,
             "#d8576b"
            ],
            [
             0.6666666666666666,
             "#ed7953"
            ],
            [
             0.7777777777777778,
             "#fb9f3a"
            ],
            [
             0.8888888888888888,
             "#fdca26"
            ],
            [
             1,
             "#f0f921"
            ]
           ]
          },
          "colorway": [
           "#636efa",
           "#EF553B",
           "#00cc96",
           "#ab63fa",
           "#FFA15A",
           "#19d3f3",
           "#FF6692",
           "#B6E880",
           "#FF97FF",
           "#FECB52"
          ],
          "font": {
           "color": "#2a3f5f"
          },
          "geo": {
           "bgcolor": "white",
           "lakecolor": "white",
           "landcolor": "#E5ECF6",
           "showlakes": true,
           "showland": true,
           "subunitcolor": "white"
          },
          "hoverlabel": {
           "align": "left"
          },
          "hovermode": "closest",
          "mapbox": {
           "style": "light"
          },
          "paper_bgcolor": "white",
          "plot_bgcolor": "#E5ECF6",
          "polar": {
           "angularaxis": {
            "gridcolor": "white",
            "linecolor": "white",
            "ticks": ""
           },
           "bgcolor": "#E5ECF6",
           "radialaxis": {
            "gridcolor": "white",
            "linecolor": "white",
            "ticks": ""
           }
          },
          "scene": {
           "xaxis": {
            "backgroundcolor": "#E5ECF6",
            "gridcolor": "white",
            "gridwidth": 2,
            "linecolor": "white",
            "showbackground": true,
            "ticks": "",
            "zerolinecolor": "white"
           },
           "yaxis": {
            "backgroundcolor": "#E5ECF6",
            "gridcolor": "white",
            "gridwidth": 2,
            "linecolor": "white",
            "showbackground": true,
            "ticks": "",
            "zerolinecolor": "white"
           },
           "zaxis": {
            "backgroundcolor": "#E5ECF6",
            "gridcolor": "white",
            "gridwidth": 2,
            "linecolor": "white",
            "showbackground": true,
            "ticks": "",
            "zerolinecolor": "white"
           }
          },
          "shapedefaults": {
           "line": {
            "color": "#2a3f5f"
           }
          },
          "ternary": {
           "aaxis": {
            "gridcolor": "white",
            "linecolor": "white",
            "ticks": ""
           },
           "baxis": {
            "gridcolor": "white",
            "linecolor": "white",
            "ticks": ""
           },
           "bgcolor": "#E5ECF6",
           "caxis": {
            "gridcolor": "white",
            "linecolor": "white",
            "ticks": ""
           }
          },
          "title": {
           "x": 0.05
          },
          "xaxis": {
           "automargin": true,
           "gridcolor": "white",
           "linecolor": "white",
           "ticks": "",
           "title": {
            "standoff": 15
           },
           "zerolinecolor": "white",
           "zerolinewidth": 2
          },
          "yaxis": {
           "automargin": true,
           "gridcolor": "white",
           "linecolor": "white",
           "ticks": "",
           "title": {
            "standoff": 15
           },
           "zerolinecolor": "white",
           "zerolinewidth": 2
          }
         }
        },
        "violinmode": "group",
        "xaxis": {
         "anchor": "y",
         "domain": [
          0,
          1
         ],
         "title": {
          "text": "MTAP Copy Number Quantile"
         }
        },
        "yaxis": {
         "anchor": "x",
         "domain": [
          0,
          1
         ],
         "title": {
          "text": "MAT2A"
         }
        }
       }
      }
     },
     "metadata": {},
     "output_type": "display_data"
    },
    {
     "data": {
      "application/vnd.plotly.v1+json": {
       "config": {
        "plotlyServerURL": "https://plot.ly"
       },
       "data": [
        {
         "alignmentgroup": "True",
         "box": {
          "visible": true
         },
         "hovertemplate": "MTAP Copy Number Quantile=%{x}<br>RIOK1=%{y}<extra></extra>",
         "legendgroup": "",
         "marker": {
          "color": "#636efa"
         },
         "name": "",
         "offsetgroup": "",
         "orientation": "v",
         "points": "all",
         "scalegroup": "True",
         "showlegend": false,
         "type": "violin",
         "x": [
          5,
          0,
          4,
          4,
          4,
          1,
          3,
          5,
          2,
          3,
          0,
          0,
          0,
          5,
          4,
          2,
          5,
          5,
          0,
          2,
          3,
          4,
          1,
          1,
          1,
          1,
          2,
          0,
          4,
          0,
          3,
          3,
          4,
          1,
          3,
          1,
          2,
          0,
          2,
          4,
          4,
          4,
          1,
          2,
          4,
          3,
          1,
          3,
          5,
          0,
          1,
          1,
          4,
          null,
          0,
          3,
          2,
          3,
          3,
          4,
          5,
          0,
          4,
          4,
          0,
          5,
          3,
          2,
          3,
          5,
          2,
          3,
          1,
          3,
          2,
          1,
          1,
          5,
          4,
          4,
          0,
          0,
          5,
          4,
          2,
          0,
          1,
          2,
          4,
          0,
          2,
          3,
          2,
          1,
          1,
          5,
          4,
          3,
          2,
          4,
          1,
          3,
          4,
          1,
          4,
          2,
          2,
          0,
          0,
          1,
          5,
          2,
          0,
          4,
          2,
          4,
          3,
          3,
          3,
          5,
          1,
          5,
          5,
          3,
          1,
          0,
          2,
          1,
          2,
          4,
          5,
          5,
          4,
          2,
          2,
          2,
          0,
          3,
          3,
          5,
          2,
          4,
          4,
          1,
          0,
          4,
          5,
          2,
          5,
          1,
          5,
          0,
          0,
          2,
          4,
          0,
          5,
          5,
          1,
          1,
          1,
          5,
          3,
          5,
          4,
          4,
          4,
          null,
          5,
          null,
          3,
          1,
          0,
          4,
          3,
          2,
          5,
          4,
          5,
          2,
          4,
          4,
          2,
          2,
          4,
          4,
          0,
          4,
          5,
          null,
          0,
          5,
          0,
          4,
          3,
          0,
          5,
          1,
          2,
          2,
          0,
          null,
          3,
          5,
          3,
          null,
          3,
          0,
          3,
          2,
          5,
          1,
          3,
          2,
          4,
          5,
          1,
          5,
          2,
          4,
          1,
          4,
          2,
          0,
          1,
          3,
          3,
          0,
          1,
          4,
          2,
          0,
          1,
          1,
          5,
          5,
          4,
          null,
          2,
          5,
          0,
          5,
          2,
          4,
          2,
          2,
          0,
          0,
          4,
          3,
          2,
          1,
          5,
          5,
          1,
          0,
          5,
          4,
          1,
          4,
          5,
          4,
          3,
          3,
          5,
          4,
          3,
          5,
          2,
          5,
          4,
          5,
          4,
          2,
          3,
          3,
          5,
          1,
          1,
          2,
          0,
          0,
          4,
          4,
          0,
          0,
          3,
          5,
          5,
          2,
          3,
          2,
          3,
          5,
          3,
          1,
          3,
          4,
          4,
          2,
          0,
          5,
          1,
          0,
          5,
          0,
          0,
          3,
          3,
          3,
          5,
          2,
          0,
          1,
          0,
          1,
          4,
          3,
          4,
          4,
          2,
          5,
          5,
          5,
          3,
          0,
          0,
          5,
          5,
          1,
          5,
          5,
          3,
          0,
          5,
          1,
          3,
          5,
          2,
          1,
          3,
          4,
          4,
          5,
          5,
          2,
          1,
          1,
          4,
          5,
          5,
          1,
          3,
          0,
          2,
          0,
          1,
          1,
          1,
          5,
          4,
          4,
          1,
          5,
          4,
          0,
          3,
          0,
          0,
          5,
          2,
          4,
          3,
          4,
          5,
          2,
          1,
          0,
          5,
          2,
          2,
          2,
          1,
          0,
          1,
          0,
          3,
          4,
          1,
          1,
          4,
          5,
          1,
          5,
          1,
          1,
          3,
          2,
          4,
          3,
          0,
          2,
          0,
          4,
          1,
          5,
          3,
          1,
          2,
          0,
          0,
          1,
          3,
          0,
          2,
          2,
          1,
          1,
          0,
          0,
          3,
          1,
          0,
          0,
          0,
          0,
          2,
          1,
          5,
          3,
          5,
          5,
          4,
          5,
          0,
          2,
          3,
          3,
          1,
          1,
          2,
          0,
          4,
          null,
          5,
          5,
          0,
          3,
          3,
          4,
          4,
          3,
          2,
          5,
          2,
          4,
          3,
          5,
          null,
          2,
          null,
          4,
          0,
          2,
          3,
          2,
          3,
          3,
          5,
          3,
          3,
          2,
          2,
          2,
          3,
          5,
          5,
          0,
          5,
          2,
          2,
          2,
          2,
          1,
          4,
          4,
          1,
          null,
          1,
          null,
          0,
          3,
          4,
          1,
          1,
          0,
          2,
          1,
          4,
          3,
          2,
          5,
          4,
          5,
          4,
          3,
          1,
          3,
          3,
          0,
          0,
          2,
          3,
          4,
          1,
          2,
          4,
          1,
          0,
          0,
          1,
          4,
          0,
          2,
          2,
          1,
          3,
          5,
          1,
          0,
          3,
          2,
          2,
          1,
          0,
          3,
          1,
          1,
          5,
          1,
          0,
          4,
          4,
          5,
          4,
          1,
          2,
          null,
          3,
          2,
          null,
          null,
          2,
          5,
          1,
          2,
          0,
          4,
          1,
          2,
          4,
          0,
          4,
          0,
          1,
          3,
          2,
          3,
          3,
          0,
          3,
          4,
          0,
          1,
          5,
          5,
          1,
          4,
          1,
          0,
          4,
          4,
          5,
          5,
          0,
          0,
          0,
          1,
          2,
          3,
          0,
          2,
          3,
          5,
          2,
          0,
          1,
          4,
          3,
          3,
          0,
          5,
          1,
          5,
          3,
          5,
          0,
          3,
          0,
          4,
          2,
          4,
          2,
          3,
          2,
          1,
          0,
          4,
          0,
          5,
          0,
          1,
          3,
          1,
          0,
          5,
          1,
          2,
          0,
          4,
          5,
          4,
          4,
          5,
          1,
          0,
          1,
          3,
          2,
          0,
          5,
          3,
          3,
          3,
          0,
          3,
          2,
          3,
          3,
          2,
          2,
          0,
          2,
          5,
          4,
          1,
          2,
          2,
          3,
          1,
          1,
          4,
          4,
          3,
          2,
          5,
          3
         ],
         "x0": " ",
         "xaxis": "x",
         "y": [
          -0.0822488499668,
          -0.610289015655,
          -0.395289853244,
          -0.254385339028,
          -0.206646409492,
          -0.344653941595,
          -0.444628937114,
          -0.347070616576,
          -0.169371900661,
          0.0749952337799,
          -0.516402249026,
          -0.262658054782,
          -0.620673949184,
          -0.741493133565,
          -0.262552057203,
          -0.378871364233,
          -0.375597955351,
          -0.544614306315,
          -0.779210831016,
          -0.315199430012,
          -0.888865350663,
          -0.311017292701,
          -1.49296322808,
          -0.206451484537,
          -0.243987646359,
          -0.201173718356,
          -0.463820106881,
          -0.772024818258,
          -0.223518127272,
          -0.39023950751,
          -0.540014298135,
          -0.352881497819,
          0.012871284264,
          -0.549303091496,
          -0.443490914972,
          -0.273126979418,
          -0.33846493217,
          -0.437716739767,
          -0.248703306352,
          -0.254553344657,
          -0.323270068183,
          -0.319385878289,
          -0.266759792549,
          -0.26386956782,
          -0.327047381034,
          -0.179467968858,
          -0.196764013273,
          -0.05840517524,
          -0.189951508794,
          -0.294458293635,
          -0.505138074807,
          -0.299686099871,
          -0.260083603955,
          -0.404689490852,
          -0.530322078087,
          -0.672912021553,
          -0.225935992359,
          -0.123419064505,
          -0.389075643954,
          -0.234977134432,
          -0.270357163521,
          -0.312017927078,
          -0.226287075562,
          -0.299139176439,
          -1.02583531161,
          -0.151105284981,
          -0.194539340242,
          -0.125283004064,
          -0.304353655012,
          -0.156992098455,
          -0.249959884548,
          -0.32445211693,
          -0.706929010914,
          -0.571668948748,
          -0.103791508135,
          -0.920602940083,
          -0.12917607613,
          -0.276764048699,
          -0.0895737286696,
          -0.441734833003,
          0.0137598242933,
          -0.465560378297,
          -0.421986427678,
          -0.313317304668,
          0.0319156451122,
          -0.41690468399,
          -0.275324909215,
          -0.308350024742,
          -0.278507642874,
          -0.107242435437,
          -0.540596561685,
          -0.251291233023,
          -0.179015288007,
          -0.26552823784,
          -0.219753035636,
          -0.305700943338,
          -0.338188449235,
          -0.298854420183,
          -0.140132180083,
          -0.682847768877,
          -0.535253982371,
          -0.635502424035,
          -0.449612178056,
          -0.577393148087,
          -0.0563074905707,
          -0.299221697126,
          -0.264716016726,
          -0.586469548737,
          -0.349849090491,
          -0.563784425305,
          -0.36105776796,
          -0.198581766026,
          -0.640948766816,
          -0.0896458886006,
          -0.119888384246,
          -0.224559417857,
          -0.130041511209,
          -0.360884458778,
          -0.117457854578,
          -0.46059667188,
          -0.0320513068245,
          -0.259404580263,
          -0.490578936741,
          -0.0537372439229,
          -0.169319487315,
          -0.0358649630189,
          0.0363844072188,
          -0.244944072681,
          -0.246994469609,
          -0.69709918146,
          -0.371307214669,
          -0.296493516791,
          -0.333976987204,
          -0.244822912242,
          -0.630900553148,
          -0.378918762936,
          -0.300202370978,
          -0.121402370604,
          -0.444655786158,
          -0.217780232221,
          0.118983358203,
          -0.0710668107088,
          -0.329370653001,
          -0.262742377424,
          -0.253081686536,
          -0.200723822823,
          -0.247292425909,
          -0.153932757006,
          -0.358493277654,
          -0.00937246620923,
          0.0637842303052,
          -0.140405145668,
          -0.324357445811,
          -0.120004316946,
          -0.086269966517,
          -0.328187593392,
          -0.297303886251,
          0.0555543333812,
          -0.216455926563,
          -0.140786654986,
          -0.274571360229,
          -0.20085903187,
          -0.261855956773,
          -0.26065164361,
          -0.242177452181,
          -0.350849484642,
          0.0057857030652,
          -0.153547814479,
          -0.153940273248,
          -0.444111583047,
          -0.259569315189,
          -0.164908274657,
          -0.493833599413,
          -0.375290612076,
          -0.403833085546,
          -0.177617206103,
          0.0831830088839,
          -0.480579428766,
          -0.264355609597,
          -0.544812084904,
          -0.156418879552,
          -0.279717438422,
          -0.588950533135,
          -0.248123425182,
          -0.24784579638,
          -0.460041944762,
          -0.501208778659,
          -0.354836013016,
          null,
          -0.353285190876,
          -0.849261228176,
          -0.143583539341,
          -0.494481691462,
          -0.0766748247649,
          -0.321120404124,
          -1.30649822666,
          -0.306924441281,
          -0.484051796687,
          -0.0971678804769,
          -0.0761678020688,
          -0.964783864359,
          -0.600023654683,
          -0.296870546433,
          -0.428265387332,
          -0.0750837192592,
          -0.431267755136,
          -0.306806467339,
          -0.629114500311,
          null,
          -0.0747946079341,
          -0.246701618334,
          0.0591382684063,
          -0.233625123518,
          -0.118379241494,
          -0.362127879482,
          -0.256194795026,
          -0.779804073206,
          -0.0293966093157,
          -0.182117172963,
          -0.2000119805,
          -0.332413142334,
          -0.410336979343,
          -0.405316490337,
          -0.161714924662,
          -0.558772804312,
          -0.296749083889,
          -0.243059184671,
          -0.689470578452,
          -0.475556627652,
          -0.127558925177,
          -0.150859259404,
          -0.355882370179,
          -0.102558560725,
          -0.338283036296,
          -0.03990318155,
          -0.208454785976,
          -0.38386390122,
          -0.442508137589,
          -0.209240894794,
          -0.219675939502,
          -0.641793934248,
          -0.259635096122,
          -0.281242007287,
          -0.309242051603,
          -0.366786347051,
          -0.178367917223,
          -0.570798553467,
          -0.320170000616,
          -0.357958412648,
          -0.163302120292,
          -0.283187175107,
          -0.253278288449,
          -0.1532174786,
          -0.309691248499,
          -0.134084030941,
          -0.358172830311,
          -0.279501465914,
          -0.553373644477,
          0.0755486633864,
          -0.31157489211,
          -0.237000872597,
          -0.275789947824,
          -0.239366278783,
          -0.3696350424,
          -0.610815568838,
          -0.325021247887,
          -0.411254091256,
          -0.105886453121,
          -0.412360810856,
          -0.263597760755,
          -0.265684464031,
          -0.153090427504,
          -0.170033041796,
          -0.131783234329,
          -0.0488197404446,
          -0.333258093999,
          -0.149530666361,
          -0.387198703561,
          -0.726019757211,
          -0.239200828623,
          -0.365278752837,
          -0.469934123727,
          -0.254892624133,
          -0.0495608473967,
          -1.21542196882,
          -0.851274985658,
          -0.175639803925,
          -0.547790492605,
          -0.179990308085,
          -0.20126442686,
          -0.162764554331,
          -0.740710500702,
          -0.479486015817,
          -0.269649515645,
          -0.282873761316,
          -0.330353113817,
          -0.31587079861,
          -0.429918155299,
          -0.0252984071253,
          -0.272560846908,
          -0.434953155149,
          -0.138485233869,
          -0.678710637981,
          -0.364898668494,
          -0.252267079846,
          -0.272224173067,
          -0.277041636734,
          -0.14974855807,
          -0.590972654393,
          -0.516688193351,
          -0.499775817571,
          -0.506577639315,
          -0.117917513021,
          -0.361849366906,
          -0.332490675606,
          -0.530889170112,
          -0.454932304232,
          -0.0651662560127,
          -0.291320950892,
          -0.163998800093,
          -1.12980777366,
          -0.341037648402,
          -0.117794643747,
          -0.601149557106,
          -0.207442195176,
          -0.360709486308,
          -0.362396002697,
          -0.240220988444,
          -0.172318284947,
          -0.487425047053,
          -0.75988124332,
          -0.453989707193,
          -0.333056910999,
          -0.295254305685,
          -0.0698401741128,
          -0.282067376277,
          -0.321645751764,
          -0.412197348947,
          -0.177802002873,
          -0.0804960255979,
          -0.084767294098,
          -0.313290634668,
          -0.453913124011,
          -0.282039282358,
          -0.661531949014,
          -0.1608823753,
          -0.641807473852,
          -0.392901411549,
          -0.10707237216,
          -0.389508620243,
          -0.276990156349,
          -0.256042710466,
          -0.255796601523,
          -0.693632254163,
          -0.294330974369,
          -0.339098128591,
          -0.119016423609,
          -0.798603485996,
          -0.462085995096,
          -0.330240109096,
          -0.0710161617108,
          -0.0422163246446,
          -0.242718795581,
          -0.00825223707792,
          -0.21048615155,
          -0.286324636309,
          -0.245976905751,
          -0.471093573186,
          -0.545361298948,
          -0.294345121367,
          -0.28871462138,
          -0.216099878119,
          -0.149968211349,
          -0.191954062503,
          -0.425557314307,
          -0.222453043939,
          -0.0739076125136,
          -0.831677193863,
          -0.390367290794,
          -0.18029649495,
          -0.0956702970447,
          -0.217926747716,
          -0.180403520368,
          -0.602120676672,
          -0.605716781972,
          -0.373376930387,
          -0.162340621903,
          -0.33486156259,
          -0.0937737354311,
          -0.240460953971,
          -0.207343363898,
          -0.319802168396,
          -0.50478760645,
          -0.41620435878,
          -0.472463270436,
          -0.352777256306,
          -0.135141085476,
          -0.14010104587,
          -0.415742410842,
          -0.220091542068,
          -0.893880836286,
          0.0167383034791,
          -1.23340929611,
          -0.185189991861,
          -0.265381186182,
          -0.314671831056,
          -0.1439993003,
          -0.350866381898,
          -0.744620796618,
          -0.259992119735,
          -0.255686940814,
          -0.383550642272,
          -0.109984599065,
          0.0146947808029,
          -0.158803653009,
          -0.158843478537,
          -0.118070443792,
          -0.21402212667,
          -0.408826444824,
          -0.515413357229,
          -0.248975383505,
          -0.304524775686,
          -0.362467494264,
          -0.323044648864,
          -0.331988781555,
          -0.248106729891,
          -0.162816063963,
          -0.217568423826,
          -0.0539553168103,
          -0.329747063706,
          -0.543502270713,
          -0.0794127748029,
          -0.468709636257,
          -0.305219499499,
          -0.356798747132,
          -0.259851667614,
          -0.384774283828,
          -0.200702415117,
          -0.155798739923,
          -0.177953754799,
          -0.09734600366,
          -0.545075062248,
          -0.169045770955,
          -0.179695762273,
          -0.37321785454,
          -0.226592324053,
          -0.275608639693,
          -0.199194950418,
          -0.0851203658768,
          -0.191857061489,
          -0.142256723336,
          -0.341376256423,
          -0.587856396827,
          -0.143778448518,
          -0.628117843626,
          -0.542778734437,
          -0.4498929447,
          -0.0876215532073,
          -0.525467719006,
          -0.260784398588,
          -0.471616420247,
          -0.540386205728,
          -0.240009815373,
          -0.303705831113,
          -0.235025060122,
          -0.373633113732,
          -0.156128581185,
          -0.0576997586586,
          -0.48200635468,
          0.0223478159801,
          -0.513659980927,
          -0.454074403163,
          -0.488580127885,
          -0.471187087363,
          -0.581294260472,
          -0.413157507815,
          0.00476448506024,
          -0.155089676465,
          -0.367216219311,
          null,
          -0.182721443228,
          -0.198335185747,
          -0.393658412462,
          -0.142709977362,
          -0.264094611403,
          -0.0246505984972,
          -0.462310721153,
          -0.156916256098,
          -0.2001908114,
          -0.582585233883,
          -0.572450871517,
          -0.158493621368,
          -0.0920780944287,
          -0.392091911959,
          -0.397710713388,
          -0.345134069248,
          -0.245429108668,
          -0.39007049399,
          -0.361112601678,
          -0.252610702553,
          -0.47519447185,
          -0.0537405346164,
          -0.665582368263,
          -0.308789337475,
          -0.67541570762,
          -0.392793342176,
          -0.269099098026,
          -0.310397318925,
          -0.386509431542,
          -0.385573776527,
          -0.818111359125,
          -0.260226406775,
          -0.381137104643,
          -0.27913986501,
          -0.186843819213,
          -0.350732366707,
          -0.274935826154,
          -0.108474804744,
          -0.680125396448,
          -0.48758498563,
          -0.368425038828,
          -0.419063636731,
          -0.338210184733,
          -0.310757175569,
          -0.321434867076,
          -0.119050434284,
          -0.699564428612,
          -0.474470284192,
          -0.430342883265,
          -0.609163305764,
          -0.213733593916,
          -0.256995506341,
          -0.283727118476,
          -0.121074511481,
          -0.4588099866,
          -0.426980267953,
          -0.397312883051,
          -0.153677748923,
          -0.210300330512,
          -0.21281150429,
          -0.332033364746,
          -0.270818259114,
          0.0155660989871,
          -0.0580077007133,
          -0.579501364954,
          -0.461063545525,
          -0.226753737327,
          -0.173379488958,
          -0.380101425304,
          -0.212103552711,
          0.0266967107447,
          -0.566477566354,
          -0.338874127328,
          -0.224110446796,
          -0.34298107732,
          -0.679302010914,
          -0.292573317596,
          0.0463742811446,
          -0.281614838247,
          -0.223545505516,
          -0.407502836098,
          null,
          -0.183457421442,
          -0.691638824203,
          -0.256245921081,
          -0.225001718792,
          -0.196175156097,
          -0.196369474857,
          -0.176419523127,
          -0.283542884212,
          -0.126313733692,
          -0.170795731003,
          -0.844925218158,
          -0.17133731684,
          -0.267076858921,
          -0.518938643255,
          -0.365774088182,
          -0.341149796064,
          -0.00641228914094,
          -0.905770158841,
          -0.548747994574,
          -0.528635043436,
          -0.419610435206,
          -0.261775315186,
          -0.919007147355,
          -0.210589822808,
          -0.273344371501,
          -0.670088296954,
          -0.399359457679,
          -0.145073486445,
          -0.148474410407,
          0.193041506597,
          -0.0794881415077,
          -0.239104994008,
          -0.236678667177,
          -0.272168398931,
          -0.267525063011,
          -0.114669645531,
          -0.228663090313,
          -0.24300888133,
          -0.645209018865,
          -0.00935615964511,
          -0.168880758554,
          -0.192187609442,
          -0.113119038278,
          -0.118488397544,
          -0.422663888513,
          -0.0855087395152,
          -0.576170624407,
          -0.285982793929,
          -0.27511461053,
          -0.425990262062,
          -0.335010854675,
          -0.260056118775,
          0.0850906893569,
          -0.30140393107,
          -0.350771935012,
          -0.261990770216,
          -0.270316446159,
          -0.417149684491,
          -0.724638532025,
          -0.301075115898,
          -0.196815543541,
          -0.458451996175,
          -0.360194488789,
          -0.173001627383,
          -0.103862688558,
          -0.213300134955,
          -0.190531574744,
          -0.237636999801,
          -0.440508652242,
          -0.452497913629,
          -0.222928195096,
          -0.264461916431,
          -0.418695639594,
          -0.287564142684,
          -0.547064645539,
          -0.196786358153,
          -0.0187268899911,
          -0.156526486713,
          -0.277503512068,
          -0.0861247373929,
          -0.384933435938,
          -0.430896351114,
          -0.807259270272,
          -0.236801522164,
          -0.182945908083,
          -0.320651453475,
          -0.281469050765,
          -0.811844453603,
          -0.192062809951,
          -0.460839364687,
          -0.488191637554,
          -0.415047809441,
          -0.00195514836894,
          -0.143526075087,
          -0.309320503114,
          -0.200842374603,
          -0.260123216479,
          -0.370083243411,
          -0.130869359201,
          -0.269500686076,
          -0.454920611961,
          -0.00593290795741,
          -0.0200174746726,
          -0.217992827174,
          -0.0320757811497
         ],
         "y0": " ",
         "yaxis": "y"
        }
       ],
       "layout": {
        "legend": {
         "tracegroupgap": 0
        },
        "margin": {
         "t": 60
        },
        "template": {
         "data": {
          "bar": [
           {
            "error_x": {
             "color": "#2a3f5f"
            },
            "error_y": {
             "color": "#2a3f5f"
            },
            "marker": {
             "line": {
              "color": "#E5ECF6",
              "width": 0.5
             },
             "pattern": {
              "fillmode": "overlay",
              "size": 10,
              "solidity": 0.2
             }
            },
            "type": "bar"
           }
          ],
          "barpolar": [
           {
            "marker": {
             "line": {
              "color": "#E5ECF6",
              "width": 0.5
             },
             "pattern": {
              "fillmode": "overlay",
              "size": 10,
              "solidity": 0.2
             }
            },
            "type": "barpolar"
           }
          ],
          "carpet": [
           {
            "aaxis": {
             "endlinecolor": "#2a3f5f",
             "gridcolor": "white",
             "linecolor": "white",
             "minorgridcolor": "white",
             "startlinecolor": "#2a3f5f"
            },
            "baxis": {
             "endlinecolor": "#2a3f5f",
             "gridcolor": "white",
             "linecolor": "white",
             "minorgridcolor": "white",
             "startlinecolor": "#2a3f5f"
            },
            "type": "carpet"
           }
          ],
          "choropleth": [
           {
            "colorbar": {
             "outlinewidth": 0,
             "ticks": ""
            },
            "type": "choropleth"
           }
          ],
          "contour": [
           {
            "colorbar": {
             "outlinewidth": 0,
             "ticks": ""
            },
            "colorscale": [
             [
              0,
              "#0d0887"
             ],
             [
              0.1111111111111111,
              "#46039f"
             ],
             [
              0.2222222222222222,
              "#7201a8"
             ],
             [
              0.3333333333333333,
              "#9c179e"
             ],
             [
              0.4444444444444444,
              "#bd3786"
             ],
             [
              0.5555555555555556,
              "#d8576b"
             ],
             [
              0.6666666666666666,
              "#ed7953"
             ],
             [
              0.7777777777777778,
              "#fb9f3a"
             ],
             [
              0.8888888888888888,
              "#fdca26"
             ],
             [
              1,
              "#f0f921"
             ]
            ],
            "type": "contour"
           }
          ],
          "contourcarpet": [
           {
            "colorbar": {
             "outlinewidth": 0,
             "ticks": ""
            },
            "type": "contourcarpet"
           }
          ],
          "heatmap": [
           {
            "colorbar": {
             "outlinewidth": 0,
             "ticks": ""
            },
            "colorscale": [
             [
              0,
              "#0d0887"
             ],
             [
              0.1111111111111111,
              "#46039f"
             ],
             [
              0.2222222222222222,
              "#7201a8"
             ],
             [
              0.3333333333333333,
              "#9c179e"
             ],
             [
              0.4444444444444444,
              "#bd3786"
             ],
             [
              0.5555555555555556,
              "#d8576b"
             ],
             [
              0.6666666666666666,
              "#ed7953"
             ],
             [
              0.7777777777777778,
              "#fb9f3a"
             ],
             [
              0.8888888888888888,
              "#fdca26"
             ],
             [
              1,
              "#f0f921"
             ]
            ],
            "type": "heatmap"
           }
          ],
          "heatmapgl": [
           {
            "colorbar": {
             "outlinewidth": 0,
             "ticks": ""
            },
            "colorscale": [
             [
              0,
              "#0d0887"
             ],
             [
              0.1111111111111111,
              "#46039f"
             ],
             [
              0.2222222222222222,
              "#7201a8"
             ],
             [
              0.3333333333333333,
              "#9c179e"
             ],
             [
              0.4444444444444444,
              "#bd3786"
             ],
             [
              0.5555555555555556,
              "#d8576b"
             ],
             [
              0.6666666666666666,
              "#ed7953"
             ],
             [
              0.7777777777777778,
              "#fb9f3a"
             ],
             [
              0.8888888888888888,
              "#fdca26"
             ],
             [
              1,
              "#f0f921"
             ]
            ],
            "type": "heatmapgl"
           }
          ],
          "histogram": [
           {
            "marker": {
             "pattern": {
              "fillmode": "overlay",
              "size": 10,
              "solidity": 0.2
             }
            },
            "type": "histogram"
           }
          ],
          "histogram2d": [
           {
            "colorbar": {
             "outlinewidth": 0,
             "ticks": ""
            },
            "colorscale": [
             [
              0,
              "#0d0887"
             ],
             [
              0.1111111111111111,
              "#46039f"
             ],
             [
              0.2222222222222222,
              "#7201a8"
             ],
             [
              0.3333333333333333,
              "#9c179e"
             ],
             [
              0.4444444444444444,
              "#bd3786"
             ],
             [
              0.5555555555555556,
              "#d8576b"
             ],
             [
              0.6666666666666666,
              "#ed7953"
             ],
             [
              0.7777777777777778,
              "#fb9f3a"
             ],
             [
              0.8888888888888888,
              "#fdca26"
             ],
             [
              1,
              "#f0f921"
             ]
            ],
            "type": "histogram2d"
           }
          ],
          "histogram2dcontour": [
           {
            "colorbar": {
             "outlinewidth": 0,
             "ticks": ""
            },
            "colorscale": [
             [
              0,
              "#0d0887"
             ],
             [
              0.1111111111111111,
              "#46039f"
             ],
             [
              0.2222222222222222,
              "#7201a8"
             ],
             [
              0.3333333333333333,
              "#9c179e"
             ],
             [
              0.4444444444444444,
              "#bd3786"
             ],
             [
              0.5555555555555556,
              "#d8576b"
             ],
             [
              0.6666666666666666,
              "#ed7953"
             ],
             [
              0.7777777777777778,
              "#fb9f3a"
             ],
             [
              0.8888888888888888,
              "#fdca26"
             ],
             [
              1,
              "#f0f921"
             ]
            ],
            "type": "histogram2dcontour"
           }
          ],
          "mesh3d": [
           {
            "colorbar": {
             "outlinewidth": 0,
             "ticks": ""
            },
            "type": "mesh3d"
           }
          ],
          "parcoords": [
           {
            "line": {
             "colorbar": {
              "outlinewidth": 0,
              "ticks": ""
             }
            },
            "type": "parcoords"
           }
          ],
          "pie": [
           {
            "automargin": true,
            "type": "pie"
           }
          ],
          "scatter": [
           {
            "fillpattern": {
             "fillmode": "overlay",
             "size": 10,
             "solidity": 0.2
            },
            "type": "scatter"
           }
          ],
          "scatter3d": [
           {
            "line": {
             "colorbar": {
              "outlinewidth": 0,
              "ticks": ""
             }
            },
            "marker": {
             "colorbar": {
              "outlinewidth": 0,
              "ticks": ""
             }
            },
            "type": "scatter3d"
           }
          ],
          "scattercarpet": [
           {
            "marker": {
             "colorbar": {
              "outlinewidth": 0,
              "ticks": ""
             }
            },
            "type": "scattercarpet"
           }
          ],
          "scattergeo": [
           {
            "marker": {
             "colorbar": {
              "outlinewidth": 0,
              "ticks": ""
             }
            },
            "type": "scattergeo"
           }
          ],
          "scattergl": [
           {
            "marker": {
             "colorbar": {
              "outlinewidth": 0,
              "ticks": ""
             }
            },
            "type": "scattergl"
           }
          ],
          "scattermapbox": [
           {
            "marker": {
             "colorbar": {
              "outlinewidth": 0,
              "ticks": ""
             }
            },
            "type": "scattermapbox"
           }
          ],
          "scatterpolar": [
           {
            "marker": {
             "colorbar": {
              "outlinewidth": 0,
              "ticks": ""
             }
            },
            "type": "scatterpolar"
           }
          ],
          "scatterpolargl": [
           {
            "marker": {
             "colorbar": {
              "outlinewidth": 0,
              "ticks": ""
             }
            },
            "type": "scatterpolargl"
           }
          ],
          "scatterternary": [
           {
            "marker": {
             "colorbar": {
              "outlinewidth": 0,
              "ticks": ""
             }
            },
            "type": "scatterternary"
           }
          ],
          "surface": [
           {
            "colorbar": {
             "outlinewidth": 0,
             "ticks": ""
            },
            "colorscale": [
             [
              0,
              "#0d0887"
             ],
             [
              0.1111111111111111,
              "#46039f"
             ],
             [
              0.2222222222222222,
              "#7201a8"
             ],
             [
              0.3333333333333333,
              "#9c179e"
             ],
             [
              0.4444444444444444,
              "#bd3786"
             ],
             [
              0.5555555555555556,
              "#d8576b"
             ],
             [
              0.6666666666666666,
              "#ed7953"
             ],
             [
              0.7777777777777778,
              "#fb9f3a"
             ],
             [
              0.8888888888888888,
              "#fdca26"
             ],
             [
              1,
              "#f0f921"
             ]
            ],
            "type": "surface"
           }
          ],
          "table": [
           {
            "cells": {
             "fill": {
              "color": "#EBF0F8"
             },
             "line": {
              "color": "white"
             }
            },
            "header": {
             "fill": {
              "color": "#C8D4E3"
             },
             "line": {
              "color": "white"
             }
            },
            "type": "table"
           }
          ]
         },
         "layout": {
          "annotationdefaults": {
           "arrowcolor": "#2a3f5f",
           "arrowhead": 0,
           "arrowwidth": 1
          },
          "autotypenumbers": "strict",
          "coloraxis": {
           "colorbar": {
            "outlinewidth": 0,
            "ticks": ""
           }
          },
          "colorscale": {
           "diverging": [
            [
             0,
             "#8e0152"
            ],
            [
             0.1,
             "#c51b7d"
            ],
            [
             0.2,
             "#de77ae"
            ],
            [
             0.3,
             "#f1b6da"
            ],
            [
             0.4,
             "#fde0ef"
            ],
            [
             0.5,
             "#f7f7f7"
            ],
            [
             0.6,
             "#e6f5d0"
            ],
            [
             0.7,
             "#b8e186"
            ],
            [
             0.8,
             "#7fbc41"
            ],
            [
             0.9,
             "#4d9221"
            ],
            [
             1,
             "#276419"
            ]
           ],
           "sequential": [
            [
             0,
             "#0d0887"
            ],
            [
             0.1111111111111111,
             "#46039f"
            ],
            [
             0.2222222222222222,
             "#7201a8"
            ],
            [
             0.3333333333333333,
             "#9c179e"
            ],
            [
             0.4444444444444444,
             "#bd3786"
            ],
            [
             0.5555555555555556,
             "#d8576b"
            ],
            [
             0.6666666666666666,
             "#ed7953"
            ],
            [
             0.7777777777777778,
             "#fb9f3a"
            ],
            [
             0.8888888888888888,
             "#fdca26"
            ],
            [
             1,
             "#f0f921"
            ]
           ],
           "sequentialminus": [
            [
             0,
             "#0d0887"
            ],
            [
             0.1111111111111111,
             "#46039f"
            ],
            [
             0.2222222222222222,
             "#7201a8"
            ],
            [
             0.3333333333333333,
             "#9c179e"
            ],
            [
             0.4444444444444444,
             "#bd3786"
            ],
            [
             0.5555555555555556,
             "#d8576b"
            ],
            [
             0.6666666666666666,
             "#ed7953"
            ],
            [
             0.7777777777777778,
             "#fb9f3a"
            ],
            [
             0.8888888888888888,
             "#fdca26"
            ],
            [
             1,
             "#f0f921"
            ]
           ]
          },
          "colorway": [
           "#636efa",
           "#EF553B",
           "#00cc96",
           "#ab63fa",
           "#FFA15A",
           "#19d3f3",
           "#FF6692",
           "#B6E880",
           "#FF97FF",
           "#FECB52"
          ],
          "font": {
           "color": "#2a3f5f"
          },
          "geo": {
           "bgcolor": "white",
           "lakecolor": "white",
           "landcolor": "#E5ECF6",
           "showlakes": true,
           "showland": true,
           "subunitcolor": "white"
          },
          "hoverlabel": {
           "align": "left"
          },
          "hovermode": "closest",
          "mapbox": {
           "style": "light"
          },
          "paper_bgcolor": "white",
          "plot_bgcolor": "#E5ECF6",
          "polar": {
           "angularaxis": {
            "gridcolor": "white",
            "linecolor": "white",
            "ticks": ""
           },
           "bgcolor": "#E5ECF6",
           "radialaxis": {
            "gridcolor": "white",
            "linecolor": "white",
            "ticks": ""
           }
          },
          "scene": {
           "xaxis": {
            "backgroundcolor": "#E5ECF6",
            "gridcolor": "white",
            "gridwidth": 2,
            "linecolor": "white",
            "showbackground": true,
            "ticks": "",
            "zerolinecolor": "white"
           },
           "yaxis": {
            "backgroundcolor": "#E5ECF6",
            "gridcolor": "white",
            "gridwidth": 2,
            "linecolor": "white",
            "showbackground": true,
            "ticks": "",
            "zerolinecolor": "white"
           },
           "zaxis": {
            "backgroundcolor": "#E5ECF6",
            "gridcolor": "white",
            "gridwidth": 2,
            "linecolor": "white",
            "showbackground": true,
            "ticks": "",
            "zerolinecolor": "white"
           }
          },
          "shapedefaults": {
           "line": {
            "color": "#2a3f5f"
           }
          },
          "ternary": {
           "aaxis": {
            "gridcolor": "white",
            "linecolor": "white",
            "ticks": ""
           },
           "baxis": {
            "gridcolor": "white",
            "linecolor": "white",
            "ticks": ""
           },
           "bgcolor": "#E5ECF6",
           "caxis": {
            "gridcolor": "white",
            "linecolor": "white",
            "ticks": ""
           }
          },
          "title": {
           "x": 0.05
          },
          "xaxis": {
           "automargin": true,
           "gridcolor": "white",
           "linecolor": "white",
           "ticks": "",
           "title": {
            "standoff": 15
           },
           "zerolinecolor": "white",
           "zerolinewidth": 2
          },
          "yaxis": {
           "automargin": true,
           "gridcolor": "white",
           "linecolor": "white",
           "ticks": "",
           "title": {
            "standoff": 15
           },
           "zerolinecolor": "white",
           "zerolinewidth": 2
          }
         }
        },
        "violinmode": "group",
        "xaxis": {
         "anchor": "y",
         "domain": [
          0,
          1
         ],
         "title": {
          "text": "MTAP Copy Number Quantile"
         }
        },
        "yaxis": {
         "anchor": "x",
         "domain": [
          0,
          1
         ],
         "title": {
          "text": "RIOK1"
         }
        }
       }
      }
     },
     "metadata": {},
     "output_type": "display_data"
    }
   ],
   "source": [
    "joint_data['MTAP Copy Number Quantile'] = pd.qcut( joint_data['Copy Number Public 23Q4 MTAP'], 6, labels=False, duplicates='drop' )\n",
    "\n",
    "for gene in ['PRMT5', 'MAT2A', 'RIOK1']:\n",
    "    fig = px.violin( joint_data, x = 'MTAP Copy Number Quantile', y = gene,  points = 'all', box=True  )\n",
    "    fig.show()"
   ]
  },
  {
   "cell_type": "markdown",
   "metadata": {},
   "source": [
    "That's better, now we see how there's a significant effect - especially for PRMT5 - whenever MTAP's copy number is low. Let's try the same exercise, but now using expression data."
   ]
  },
  {
   "cell_type": "code",
   "execution_count": 154,
   "metadata": {},
   "outputs": [
    {
     "data": {
      "application/vnd.plotly.v1+json": {
       "config": {
        "plotlyServerURL": "https://plot.ly"
       },
       "data": [
        {
         "alignmentgroup": "True",
         "box": {
          "visible": true
         },
         "hovertemplate": "MTAP Expression Quantile=%{x}<br>PRMT5=%{y}<extra></extra>",
         "legendgroup": "",
         "marker": {
          "color": "#636efa"
         },
         "name": "",
         "offsetgroup": "",
         "orientation": "v",
         "points": "all",
         "scalegroup": "True",
         "showlegend": false,
         "type": "violin",
         "x": [
          4,
          0,
          4,
          4,
          3,
          1,
          4,
          5,
          4,
          1,
          0,
          0,
          0,
          3,
          5,
          5,
          2,
          5,
          0,
          5,
          4,
          3,
          0,
          1,
          1,
          1,
          1,
          0,
          5,
          0,
          4,
          1,
          2,
          3,
          3,
          1,
          2,
          0,
          4,
          5,
          1,
          2,
          1,
          1,
          3,
          5,
          1,
          1,
          5,
          0,
          2,
          1,
          3,
          2,
          0,
          2,
          2,
          2,
          4,
          2,
          5,
          0,
          5,
          4,
          0,
          5,
          5,
          5,
          2,
          3,
          2,
          1,
          2,
          4,
          4,
          1,
          1,
          4,
          4,
          4,
          0,
          0,
          5,
          null,
          1,
          0,
          3,
          3,
          1,
          0,
          5,
          1,
          5,
          4,
          5,
          5,
          5,
          1,
          2,
          1,
          1,
          2,
          3,
          0,
          2,
          1,
          1,
          0,
          0,
          2,
          5,
          4,
          0,
          4,
          1,
          4,
          4,
          3,
          null,
          2,
          5,
          4,
          2,
          2,
          1,
          0,
          4,
          1,
          2,
          3,
          4,
          5,
          4,
          null,
          1,
          2,
          0,
          3,
          2,
          5,
          3,
          3,
          3,
          4,
          0,
          4,
          2,
          2,
          3,
          1,
          4,
          0,
          0,
          1,
          3,
          0,
          5,
          3,
          1,
          1,
          1,
          5,
          5,
          4,
          2,
          4,
          3,
          2,
          5,
          5,
          3,
          1,
          5,
          3,
          4,
          2,
          5,
          5,
          5,
          2,
          5,
          5,
          2,
          3,
          4,
          5,
          2,
          5,
          5,
          4,
          0,
          5,
          0,
          4,
          2,
          0,
          3,
          1,
          null,
          4,
          0,
          4,
          2,
          5,
          5,
          0,
          1,
          0,
          1,
          2,
          5,
          1,
          5,
          4,
          1,
          5,
          1,
          3,
          3,
          4,
          5,
          5,
          1,
          0,
          1,
          2,
          2,
          0,
          0,
          5,
          3,
          0,
          3,
          1,
          3,
          4,
          3,
          5,
          3,
          3,
          0,
          2,
          3,
          4,
          4,
          3,
          1,
          0,
          4,
          3,
          3,
          1,
          5,
          5,
          2,
          0,
          5,
          4,
          1,
          4,
          5,
          1,
          3,
          3,
          3,
          4,
          1,
          3,
          1,
          5,
          2,
          4,
          4,
          2,
          4,
          4,
          4,
          null,
          2,
          4,
          0,
          0,
          3,
          3,
          0,
          0,
          2,
          0,
          5,
          3,
          5,
          2,
          4,
          5,
          3,
          1,
          2,
          4,
          2,
          1,
          0,
          4,
          2,
          0,
          5,
          0,
          0,
          4,
          5,
          4,
          3,
          4,
          0,
          1,
          0,
          2,
          2,
          3,
          3,
          5,
          1,
          4,
          4,
          3,
          5,
          0,
          0,
          5,
          5,
          0,
          1,
          2,
          3,
          0,
          null,
          5,
          2,
          5,
          3,
          1,
          4,
          3,
          2,
          null,
          4,
          3,
          1,
          5,
          4,
          3,
          3,
          1,
          2,
          0,
          2,
          0,
          1,
          2,
          1,
          4,
          5,
          5,
          1,
          2,
          2,
          0,
          2,
          0,
          0,
          3,
          2,
          5,
          4,
          4,
          5,
          1,
          2,
          0,
          5,
          4,
          2,
          1,
          1,
          0,
          0,
          0,
          3,
          5,
          3,
          3,
          2,
          5,
          2,
          5,
          3,
          1,
          4,
          2,
          1,
          5,
          1,
          2,
          0,
          null,
          2,
          3,
          4,
          2,
          4,
          0,
          0,
          2,
          3,
          0,
          3,
          4,
          1,
          5,
          0,
          0,
          5,
          2,
          0,
          0,
          0,
          0,
          4,
          2,
          4,
          3,
          2,
          5,
          5,
          4,
          0,
          4,
          4,
          1,
          1,
          2,
          5,
          0,
          5,
          2,
          5,
          5,
          0,
          3,
          1,
          4,
          3,
          2,
          3,
          1,
          null,
          5,
          2,
          5,
          3,
          2,
          4,
          3,
          0,
          4,
          4,
          1,
          2,
          3,
          3,
          1,
          3,
          3,
          4,
          4,
          2,
          5,
          5,
          1,
          5,
          3,
          2,
          2,
          5,
          1,
          1,
          4,
          4,
          1,
          1,
          3,
          1,
          2,
          4,
          1,
          2,
          0,
          3,
          2,
          3,
          1,
          2,
          4,
          5,
          4,
          3,
          1,
          1,
          3,
          3,
          0,
          0,
          3,
          4,
          2,
          1,
          1,
          5,
          2,
          0,
          0,
          2,
          5,
          0,
          3,
          3,
          1,
          2,
          5,
          2,
          0,
          4,
          5,
          2,
          3,
          0,
          4,
          1,
          2,
          5,
          1,
          0,
          4,
          4,
          2,
          2,
          2,
          4,
          4,
          null,
          1,
          2,
          5,
          3,
          2,
          1,
          1,
          0,
          2,
          3,
          1,
          3,
          0,
          5,
          0,
          5,
          3,
          2,
          2,
          5,
          0,
          2,
          5,
          0,
          2,
          4,
          3,
          2,
          5,
          5,
          0,
          4,
          2,
          4,
          5,
          0,
          0,
          0,
          0,
          1,
          1,
          0,
          1,
          1,
          2,
          5,
          0,
          1,
          4,
          3,
          3,
          0,
          4,
          1,
          4,
          1,
          5,
          0,
          4,
          0,
          5,
          2,
          2,
          3,
          2,
          3,
          1,
          0,
          4,
          0,
          5,
          1,
          0,
          4,
          2,
          1,
          5,
          3,
          4,
          0,
          1,
          4,
          3,
          2,
          2,
          1,
          0,
          3,
          3,
          4,
          0,
          1,
          4,
          3,
          1,
          0,
          3,
          4,
          5,
          1,
          3,
          4,
          0,
          3,
          2,
          5,
          3,
          3,
          3,
          4,
          4,
          3,
          3,
          5,
          3,
          3,
          3,
          1
         ],
         "x0": " ",
         "xaxis": "x",
         "y": [
          -0.199513275241,
          -0.780585164911,
          -0.502752029504,
          -0.432277065343,
          -0.217635418829,
          -0.32327172507,
          -0.30704867506,
          -0.115114566872,
          -0.21204842612,
          -0.250883691649,
          -1.10418887451,
          -0.718384298456,
          -1.57255701858,
          -0.308067355857,
          -0.462999719223,
          -0.330329313989,
          -0.40942847641,
          -0.310836672861,
          -0.3687364445,
          -0.289682798352,
          -0.160017754441,
          -0.402041181862,
          -0.968611547406,
          -0.300742897875,
          -0.297006627241,
          -0.644868521904,
          -0.189718126752,
          -1.09806010074,
          -0.256672812807,
          -0.867132433045,
          -0.241060559277,
          -0.156411421817,
          -0.264124219772,
          -0.531267315515,
          -0.217797220286,
          -0.151627481759,
          -0.340543624378,
          -1.41515956783,
          -0.0997360356784,
          -0.396298295164,
          0.0695079577119,
          -0.134330450265,
          -0.191160399059,
          -0.208289558525,
          -0.319043457834,
          -0.261594358243,
          -0.194823127531,
          0.220079956,
          -0.246651907426,
          -0.481849536628,
          -0.203366820123,
          -0.163926446503,
          -0.0818287019251,
          -0.491220415701,
          -1.03599230942,
          -0.343568066306,
          -0.237090913251,
          -0.251275520996,
          -0.169715038873,
          -0.247899875701,
          -0.389698131693,
          -1.01708934376,
          -0.520270343805,
          -0.233318417657,
          -0.858340847078,
          -0.470373020275,
          -0.340114091085,
          -0.362378082953,
          -0.209448436017,
          -0.122470657709,
          -0.307144149833,
          -0.227214579856,
          -2.08548786355,
          -0.286349723392,
          -0.142979121012,
          -0.963407895064,
          -0.294307929612,
          -0.152057335308,
          -0.12426595425,
          -0.255323808146,
          -1.78134587412,
          -0.765606187874,
          -0.179742922137,
          -0.221327358495,
          -0.218013281478,
          -0.316017189997,
          -0.165536173155,
          -0.310340209958,
          -0.224170720976,
          -0.386891454691,
          -0.256240626365,
          -0.609858619782,
          -0.340780037538,
          -0.137598656738,
          -0.125705091886,
          -0.211774440115,
          -0.422799889375,
          -0.147729418359,
          -0.295217746361,
          -0.211868293642,
          -1.08109795106,
          -0.324277138515,
          -0.181394760611,
          -0.922107110499,
          0.0950373555093,
          0.0517357161517,
          -0.35520579622,
          -0.83172155119,
          -0.690351724314,
          -0.0444838968382,
          -0.680209279377,
          -0.221481379658,
          -0.576555564924,
          -0.179819021853,
          -0.242286853394,
          -0.122039793247,
          -0.549296187591,
          -0.120390112089,
          -0.2554850575,
          -0.376807352566,
          -0.44120287261,
          -0.207506873244,
          -0.28300999527,
          -0.351246550106,
          -0.128068572918,
          -0.528825933943,
          -0.191362183575,
          -0.206667507531,
          -0.184591406607,
          -0.259971041951,
          0.0751739337407,
          -0.41768751913,
          -0.302008234393,
          -0.397432082797,
          -0.339017682147,
          -0.28261761791,
          -0.924157763745,
          -0.228887797152,
          -0.277526746252,
          -0.222286327272,
          -0.179572621244,
          -0.382046338983,
          -0.306923512073,
          -0.23234782086,
          -0.426856179624,
          -0.293665831428,
          -0.109797639489,
          -0.302709512665,
          -0.416022245784,
          -0.385941205552,
          -0.539388939036,
          -0.92029151336,
          0.0548867630301,
          -0.536962094664,
          -0.166917626632,
          -0.670587064873,
          -0.654133847217,
          -0.413396721598,
          -1.10419931053,
          -0.192105239386,
          -0.241655947458,
          -0.48954646743,
          -0.185764503545,
          -0.249261724849,
          -0.0388717431174,
          -0.274118570214,
          -0.422761180701,
          -0.335698779126,
          -0.502530646182,
          -0.268892618896,
          -0.161637770359,
          -0.712164004347,
          -1.45490355653,
          -0.0418142868541,
          -0.121572556429,
          -0.173166232159,
          -0.31450795447,
          -0.225643517955,
          -0.112121532158,
          -0.333748281639,
          -0.22923882622,
          -0.44312892858,
          -0.0865153486451,
          -0.439110918846,
          -0.259194900869,
          -0.388522929624,
          -1.13444091421,
          -0.0762879412664,
          -0.221212924475,
          -0.575139698631,
          -1.27370316673,
          -0.0906264459503,
          -1.11571536742,
          -0.336923581916,
          -0.369283510001,
          -1.08674126917,
          -0.299731180246,
          -0.323395732145,
          -0.132204967599,
          -0.0969168001568,
          -0.501721401906,
          -0.649636478606,
          -0.168730896927,
          -0.278033265972,
          -0.355792965776,
          -0.754615192439,
          -0.154368137736,
          -0.307944527651,
          -0.309619407368,
          -0.648044537664,
          -0.297251313019,
          -0.49076399114,
          -0.108726976764,
          -0.12554968456,
          -0.328999512942,
          -0.227477464377,
          -0.813016804156,
          -0.294621940682,
          -0.180289754062,
          -0.0515315049642,
          -0.39006926668,
          -0.509078038634,
          -0.286611899688,
          -1.0590852482,
          -0.273946058417,
          -0.441973550333,
          -0.230628612988,
          -0.762525035665,
          -0.731937969868,
          -0.59881850456,
          -0.416288677689,
          -0.604597705421,
          -0.32520350686,
          -0.135604731904,
          -0.174005207449,
          -0.316990378396,
          -0.24421156535,
          -0.546541993835,
          -0.154733106695,
          -0.392979033964,
          -0.728212263876,
          -0.261616865597,
          -0.305546325326,
          -0.264805482754,
          -0.243437362204,
          -0.120162083592,
          -0.347045304616,
          -1.3193955141,
          -0.491606502846,
          -0.358903966828,
          -0.533375458479,
          -0.1432450697,
          -0.181514023827,
          -0.0898393687364,
          -0.350775042933,
          -0.322096946197,
          -0.471315324692,
          -0.283352678895,
          -0.124133410885,
          -0.175443113066,
          -0.352947271364,
          -0.169213027498,
          -0.333810951118,
          -0.427053178794,
          -0.393014305669,
          -0.562329547632,
          -0.14306735367,
          -0.374532298353,
          -0.268885977862,
          -0.455306857444,
          -0.350275074382,
          -0.371259986303,
          -0.457723839251,
          -0.544866305299,
          -0.427569086749,
          -0.19743347519,
          -0.424300094673,
          -1.03297114058,
          -0.0932979131434,
          -0.364162116421,
          -1.09160681338,
          -0.565750811482,
          -0.463402045279,
          -0.427275440533,
          -1.18280828285,
          -0.722873522087,
          -0.330695606553,
          -0.943173812705,
          -0.163653553844,
          -0.258228734742,
          -0.237661694557,
          -0.647508269081,
          -0.176005668618,
          -0.272066670869,
          -0.197153063805,
          -0.621323201916,
          -0.352589150117,
          -0.204179256764,
          -0.0715797983684,
          -0.195115559995,
          -0.222684359915,
          -0.215605376227,
          -1.05377197711,
          -0.406054330636,
          -0.409129853839,
          -0.27111372532,
          -0.602534975479,
          -0.381763290024,
          -0.354852126612,
          0.192601628006,
          -0.12914452001,
          -0.330754929531,
          -0.477343533657,
          -0.607108204766,
          -1.18361318418,
          -0.426672004928,
          -0.10966831974,
          0.0871084988512,
          -0.321060500136,
          -0.145537872068,
          -0.519085075481,
          -0.316021842953,
          -0.158505963809,
          0.0125879952621,
          -0.264905102678,
          -0.977075043472,
          -0.470239812308,
          -0.391771776035,
          -0.296680087673,
          -0.667858889438,
          -0.31426858477,
          -0.37818554503,
          -0.27557778329,
          -0.656389929569,
          -0.419251300489,
          -0.144109059798,
          -0.314337160165,
          -0.311211680313,
          -0.265344971504,
          -0.106283622682,
          -0.337661414922,
          -0.098794984339,
          -0.185860620609,
          -0.278147167639,
          -0.064215887075,
          -0.0787601980288,
          -0.736433896921,
          -0.43262521243,
          -0.192709759353,
          -0.353635920233,
          -0.354609235121,
          -0.269551392493,
          -0.229986734545,
          -0.926547191447,
          -0.307277808182,
          -0.65129041721,
          -0.348454100225,
          -1.04002784491,
          -0.399216118242,
          -0.240943554574,
          -0.2528088714,
          -0.195816202897,
          -0.150480204818,
          -0.0735829744965,
          -0.774082650984,
          -0.816776914138,
          -0.27991581346,
          -0.982156539076,
          -0.855244352312,
          -0.296632579582,
          -0.380673980288,
          -0.423134752983,
          -0.253261027003,
          -0.152325289235,
          -0.265989157248,
          -0.11977706121,
          -0.0672471461495,
          -1.09334538392,
          -0.493302653251,
          -0.20773141421,
          0.0811709594531,
          -0.195991901102,
          -0.23177446631,
          -0.687539851344,
          -0.847359830831,
          -0.834952396162,
          -0.227136844281,
          -0.479877318527,
          -0.219812154403,
          -0.244968904939,
          -0.200193924806,
          -0.347523225122,
          -0.150471117739,
          -0.377776695552,
          -0.184306165879,
          -0.313581356203,
          -0.176371340271,
          -0.221138288094,
          0.0356281375727,
          -0.405080898317,
          -0.972560576308,
          -0.0711813140464,
          -1.22090705809,
          -0.23975906325,
          0.105721864308,
          -0.556948487149,
          -0.284419457662,
          -0.294586387837,
          -0.316005498126,
          -0.797329973348,
          -0.457683611237,
          -0.187300591733,
          -0.0344588393662,
          -0.787735096155,
          -0.352909305825,
          -0.14080764348,
          -0.150932511536,
          -0.23419251551,
          -0.507476279657,
          -0.508267966117,
          -0.790253030398,
          -0.583585219157,
          -0.499798796972,
          -0.439904465335,
          -0.404073496215,
          -0.763382077119,
          -0.291182044633,
          -0.272284513889,
          -0.262273753334,
          -0.25916788725,
          -0.280309249347,
          -0.284495563234,
          -0.0697697132519,
          -0.67634405111,
          -1.00708942274,
          -0.26815347282,
          -0.195188784633,
          -0.0479342818588,
          -0.13824826058,
          -0.236761298968,
          -0.52988225901,
          -0.840018198883,
          -0.237115463273,
          -0.443266484991,
          -0.560541640623,
          -0.319467199444,
          -0.467318704735,
          -0.302752061534,
          -0.146375403663,
          0.00513076768166,
          -0.552548149869,
          -0.299340714456,
          -0.389781038304,
          -0.158387440662,
          -0.0175540699385,
          -0.30875048902,
          -0.263027408453,
          -0.416519456916,
          -0.803716794446,
          -0.151034923551,
          0.0335050553387,
          -0.257746484912,
          -1.09933385097,
          -0.136917471231,
          -0.211501237027,
          -0.466576863977,
          -0.6540095526,
          -0.218493651127,
          -0.111059760889,
          null,
          -0.0906621975382,
          -0.267186375097,
          -0.401217518448,
          -0.146525543519,
          -0.0628853202764,
          -0.305053480126,
          -0.407875097844,
          -0.826601287426,
          -0.317589851682,
          -0.345192246965,
          -0.348657619575,
          -0.120048456776,
          -0.303816197225,
          -0.320005248674,
          -0.677921977602,
          -0.390827323583,
          -0.184010828227,
          -0.346329440881,
          -0.211547651268,
          -0.75979544904,
          -0.814094247814,
          -0.143424120427,
          -0.269937756934,
          -0.442666398135,
          -0.243991511677,
          -0.847388434752,
          -0.257773826635,
          -0.0374467611431,
          -0.180030897866,
          -0.202198736441,
          -0.166286830451,
          -0.127902422517,
          -0.561791049378,
          -0.166676937548,
          -0.539589875024,
          -0.260486925504,
          -0.195639860246,
          -0.180789744882,
          -0.409335427269,
          -0.483221709166,
          -1.07725258066,
          -0.0231780423587,
          -0.416825816875,
          -0.27455049098,
          -0.173015564342,
          -0.150076540865,
          -0.326112132963,
          -0.472461220695,
          -0.759442538175,
          -1.11643128375,
          -0.200447303908,
          -0.324747910242,
          -0.916083587829,
          -0.243992358641,
          -0.128827720976,
          -0.404864987392,
          -0.628828690326,
          -0.270562793239,
          -0.181395463618,
          -1.21910549364,
          -0.154749352445,
          -0.119850828392,
          -0.163274410707,
          -0.517572828555,
          -0.477136961949,
          -0.513591182104,
          -0.168703252502,
          -0.0920024982084,
          -0.236450264064,
          -0.155202308532,
          -0.69208827894,
          -0.203462210341,
          -0.279261671056,
          -0.13844271776,
          -0.351668345051,
          0.0793501833702,
          -0.252447566197,
          -0.203167234644,
          0.0969628285016,
          -0.660962070995,
          -0.307160584421,
          -0.788624116618,
          -0.236831184278,
          -0.0745859857688,
          -0.35927914929,
          -0.305918882995,
          -1.15883817608,
          -0.701990434285,
          -0.0613726942679,
          -0.179019015503,
          -0.0347036879701,
          null,
          -0.229128083562,
          -0.998721745039,
          -0.304317380837,
          -0.400832454181,
          -0.107561433234,
          -0.308400479969,
          -0.0736642237393,
          -0.551006074235,
          -0.229320541256,
          -0.100304600029,
          -0.809194494862,
          -0.13314144359,
          -0.0449242793548,
          -0.505599086622,
          -0.167545902643,
          -0.326721679518,
          -0.160000984241,
          -1.06792243294,
          -0.292311121637,
          -0.292010627744,
          -0.482297124793,
          -0.232392412067,
          -0.311352398334,
          -0.296011308955,
          -0.873117660322,
          -0.448545684574,
          -0.325857617826,
          -0.250604642114,
          -0.847924163607,
          -0.554293768025,
          -0.149609779851,
          -0.250626368337,
          -0.320673485335,
          -1.59133267353,
          -0.290089263787,
          -0.231456811703,
          -0.2657944176,
          -0.143467329868,
          -0.998329103581,
          -0.0655260765151,
          -0.388975067248,
          -0.433835602537,
          -0.363965918505,
          -0.214922674231,
          -0.792697069161,
          -0.29787185115,
          -1.12464910642,
          -0.425158774644,
          -0.225977370548,
          -0.267774017457,
          -0.227365976059,
          -0.207872513495,
          -0.160802213835,
          -0.247236774287,
          -0.562813709166,
          -0.42093813215,
          -0.492443878133,
          -0.244977554187,
          -1.10563991246,
          -0.568269601009,
          -0.424379672524,
          -0.760364289967,
          -0.433152103708,
          -0.480405524048,
          -0.131597358299,
          -0.344882719482,
          -0.500296442799,
          -0.319333600447,
          -0.263995080086,
          -0.403757310134,
          -0.164882090755,
          -0.418098811577,
          -0.268846455829,
          -0.577425768544,
          -0.339766216759,
          -0.23679505904,
          -0.264467810978,
          -0.574882625678,
          -0.436344571459,
          -0.240815312932,
          -0.240013243866,
          -0.581849431568,
          -0.551996310145,
          -0.520126612073,
          -0.0774899402355,
          -0.211856877565,
          -0.261664205223,
          -0.133823331001,
          -0.524300814477,
          -0.492159238636,
          -0.0484712466374,
          -0.243778025675,
          -0.279944080765,
          -0.142273207793,
          -0.138290762874,
          -0.195937699363,
          -0.208866234974,
          -0.178711132246,
          -0.467874425832,
          -0.23085763909,
          -0.364889362036,
          -0.466801553104,
          -0.176427847108,
          -0.305439737438,
          -0.219602428283
         ],
         "y0": " ",
         "yaxis": "y"
        }
       ],
       "layout": {
        "legend": {
         "tracegroupgap": 0
        },
        "margin": {
         "t": 60
        },
        "template": {
         "data": {
          "bar": [
           {
            "error_x": {
             "color": "#2a3f5f"
            },
            "error_y": {
             "color": "#2a3f5f"
            },
            "marker": {
             "line": {
              "color": "#E5ECF6",
              "width": 0.5
             },
             "pattern": {
              "fillmode": "overlay",
              "size": 10,
              "solidity": 0.2
             }
            },
            "type": "bar"
           }
          ],
          "barpolar": [
           {
            "marker": {
             "line": {
              "color": "#E5ECF6",
              "width": 0.5
             },
             "pattern": {
              "fillmode": "overlay",
              "size": 10,
              "solidity": 0.2
             }
            },
            "type": "barpolar"
           }
          ],
          "carpet": [
           {
            "aaxis": {
             "endlinecolor": "#2a3f5f",
             "gridcolor": "white",
             "linecolor": "white",
             "minorgridcolor": "white",
             "startlinecolor": "#2a3f5f"
            },
            "baxis": {
             "endlinecolor": "#2a3f5f",
             "gridcolor": "white",
             "linecolor": "white",
             "minorgridcolor": "white",
             "startlinecolor": "#2a3f5f"
            },
            "type": "carpet"
           }
          ],
          "choropleth": [
           {
            "colorbar": {
             "outlinewidth": 0,
             "ticks": ""
            },
            "type": "choropleth"
           }
          ],
          "contour": [
           {
            "colorbar": {
             "outlinewidth": 0,
             "ticks": ""
            },
            "colorscale": [
             [
              0,
              "#0d0887"
             ],
             [
              0.1111111111111111,
              "#46039f"
             ],
             [
              0.2222222222222222,
              "#7201a8"
             ],
             [
              0.3333333333333333,
              "#9c179e"
             ],
             [
              0.4444444444444444,
              "#bd3786"
             ],
             [
              0.5555555555555556,
              "#d8576b"
             ],
             [
              0.6666666666666666,
              "#ed7953"
             ],
             [
              0.7777777777777778,
              "#fb9f3a"
             ],
             [
              0.8888888888888888,
              "#fdca26"
             ],
             [
              1,
              "#f0f921"
             ]
            ],
            "type": "contour"
           }
          ],
          "contourcarpet": [
           {
            "colorbar": {
             "outlinewidth": 0,
             "ticks": ""
            },
            "type": "contourcarpet"
           }
          ],
          "heatmap": [
           {
            "colorbar": {
             "outlinewidth": 0,
             "ticks": ""
            },
            "colorscale": [
             [
              0,
              "#0d0887"
             ],
             [
              0.1111111111111111,
              "#46039f"
             ],
             [
              0.2222222222222222,
              "#7201a8"
             ],
             [
              0.3333333333333333,
              "#9c179e"
             ],
             [
              0.4444444444444444,
              "#bd3786"
             ],
             [
              0.5555555555555556,
              "#d8576b"
             ],
             [
              0.6666666666666666,
              "#ed7953"
             ],
             [
              0.7777777777777778,
              "#fb9f3a"
             ],
             [
              0.8888888888888888,
              "#fdca26"
             ],
             [
              1,
              "#f0f921"
             ]
            ],
            "type": "heatmap"
           }
          ],
          "heatmapgl": [
           {
            "colorbar": {
             "outlinewidth": 0,
             "ticks": ""
            },
            "colorscale": [
             [
              0,
              "#0d0887"
             ],
             [
              0.1111111111111111,
              "#46039f"
             ],
             [
              0.2222222222222222,
              "#7201a8"
             ],
             [
              0.3333333333333333,
              "#9c179e"
             ],
             [
              0.4444444444444444,
              "#bd3786"
             ],
             [
              0.5555555555555556,
              "#d8576b"
             ],
             [
              0.6666666666666666,
              "#ed7953"
             ],
             [
              0.7777777777777778,
              "#fb9f3a"
             ],
             [
              0.8888888888888888,
              "#fdca26"
             ],
             [
              1,
              "#f0f921"
             ]
            ],
            "type": "heatmapgl"
           }
          ],
          "histogram": [
           {
            "marker": {
             "pattern": {
              "fillmode": "overlay",
              "size": 10,
              "solidity": 0.2
             }
            },
            "type": "histogram"
           }
          ],
          "histogram2d": [
           {
            "colorbar": {
             "outlinewidth": 0,
             "ticks": ""
            },
            "colorscale": [
             [
              0,
              "#0d0887"
             ],
             [
              0.1111111111111111,
              "#46039f"
             ],
             [
              0.2222222222222222,
              "#7201a8"
             ],
             [
              0.3333333333333333,
              "#9c179e"
             ],
             [
              0.4444444444444444,
              "#bd3786"
             ],
             [
              0.5555555555555556,
              "#d8576b"
             ],
             [
              0.6666666666666666,
              "#ed7953"
             ],
             [
              0.7777777777777778,
              "#fb9f3a"
             ],
             [
              0.8888888888888888,
              "#fdca26"
             ],
             [
              1,
              "#f0f921"
             ]
            ],
            "type": "histogram2d"
           }
          ],
          "histogram2dcontour": [
           {
            "colorbar": {
             "outlinewidth": 0,
             "ticks": ""
            },
            "colorscale": [
             [
              0,
              "#0d0887"
             ],
             [
              0.1111111111111111,
              "#46039f"
             ],
             [
              0.2222222222222222,
              "#7201a8"
             ],
             [
              0.3333333333333333,
              "#9c179e"
             ],
             [
              0.4444444444444444,
              "#bd3786"
             ],
             [
              0.5555555555555556,
              "#d8576b"
             ],
             [
              0.6666666666666666,
              "#ed7953"
             ],
             [
              0.7777777777777778,
              "#fb9f3a"
             ],
             [
              0.8888888888888888,
              "#fdca26"
             ],
             [
              1,
              "#f0f921"
             ]
            ],
            "type": "histogram2dcontour"
           }
          ],
          "mesh3d": [
           {
            "colorbar": {
             "outlinewidth": 0,
             "ticks": ""
            },
            "type": "mesh3d"
           }
          ],
          "parcoords": [
           {
            "line": {
             "colorbar": {
              "outlinewidth": 0,
              "ticks": ""
             }
            },
            "type": "parcoords"
           }
          ],
          "pie": [
           {
            "automargin": true,
            "type": "pie"
           }
          ],
          "scatter": [
           {
            "fillpattern": {
             "fillmode": "overlay",
             "size": 10,
             "solidity": 0.2
            },
            "type": "scatter"
           }
          ],
          "scatter3d": [
           {
            "line": {
             "colorbar": {
              "outlinewidth": 0,
              "ticks": ""
             }
            },
            "marker": {
             "colorbar": {
              "outlinewidth": 0,
              "ticks": ""
             }
            },
            "type": "scatter3d"
           }
          ],
          "scattercarpet": [
           {
            "marker": {
             "colorbar": {
              "outlinewidth": 0,
              "ticks": ""
             }
            },
            "type": "scattercarpet"
           }
          ],
          "scattergeo": [
           {
            "marker": {
             "colorbar": {
              "outlinewidth": 0,
              "ticks": ""
             }
            },
            "type": "scattergeo"
           }
          ],
          "scattergl": [
           {
            "marker": {
             "colorbar": {
              "outlinewidth": 0,
              "ticks": ""
             }
            },
            "type": "scattergl"
           }
          ],
          "scattermapbox": [
           {
            "marker": {
             "colorbar": {
              "outlinewidth": 0,
              "ticks": ""
             }
            },
            "type": "scattermapbox"
           }
          ],
          "scatterpolar": [
           {
            "marker": {
             "colorbar": {
              "outlinewidth": 0,
              "ticks": ""
             }
            },
            "type": "scatterpolar"
           }
          ],
          "scatterpolargl": [
           {
            "marker": {
             "colorbar": {
              "outlinewidth": 0,
              "ticks": ""
             }
            },
            "type": "scatterpolargl"
           }
          ],
          "scatterternary": [
           {
            "marker": {
             "colorbar": {
              "outlinewidth": 0,
              "ticks": ""
             }
            },
            "type": "scatterternary"
           }
          ],
          "surface": [
           {
            "colorbar": {
             "outlinewidth": 0,
             "ticks": ""
            },
            "colorscale": [
             [
              0,
              "#0d0887"
             ],
             [
              0.1111111111111111,
              "#46039f"
             ],
             [
              0.2222222222222222,
              "#7201a8"
             ],
             [
              0.3333333333333333,
              "#9c179e"
             ],
             [
              0.4444444444444444,
              "#bd3786"
             ],
             [
              0.5555555555555556,
              "#d8576b"
             ],
             [
              0.6666666666666666,
              "#ed7953"
             ],
             [
              0.7777777777777778,
              "#fb9f3a"
             ],
             [
              0.8888888888888888,
              "#fdca26"
             ],
             [
              1,
              "#f0f921"
             ]
            ],
            "type": "surface"
           }
          ],
          "table": [
           {
            "cells": {
             "fill": {
              "color": "#EBF0F8"
             },
             "line": {
              "color": "white"
             }
            },
            "header": {
             "fill": {
              "color": "#C8D4E3"
             },
             "line": {
              "color": "white"
             }
            },
            "type": "table"
           }
          ]
         },
         "layout": {
          "annotationdefaults": {
           "arrowcolor": "#2a3f5f",
           "arrowhead": 0,
           "arrowwidth": 1
          },
          "autotypenumbers": "strict",
          "coloraxis": {
           "colorbar": {
            "outlinewidth": 0,
            "ticks": ""
           }
          },
          "colorscale": {
           "diverging": [
            [
             0,
             "#8e0152"
            ],
            [
             0.1,
             "#c51b7d"
            ],
            [
             0.2,
             "#de77ae"
            ],
            [
             0.3,
             "#f1b6da"
            ],
            [
             0.4,
             "#fde0ef"
            ],
            [
             0.5,
             "#f7f7f7"
            ],
            [
             0.6,
             "#e6f5d0"
            ],
            [
             0.7,
             "#b8e186"
            ],
            [
             0.8,
             "#7fbc41"
            ],
            [
             0.9,
             "#4d9221"
            ],
            [
             1,
             "#276419"
            ]
           ],
           "sequential": [
            [
             0,
             "#0d0887"
            ],
            [
             0.1111111111111111,
             "#46039f"
            ],
            [
             0.2222222222222222,
             "#7201a8"
            ],
            [
             0.3333333333333333,
             "#9c179e"
            ],
            [
             0.4444444444444444,
             "#bd3786"
            ],
            [
             0.5555555555555556,
             "#d8576b"
            ],
            [
             0.6666666666666666,
             "#ed7953"
            ],
            [
             0.7777777777777778,
             "#fb9f3a"
            ],
            [
             0.8888888888888888,
             "#fdca26"
            ],
            [
             1,
             "#f0f921"
            ]
           ],
           "sequentialminus": [
            [
             0,
             "#0d0887"
            ],
            [
             0.1111111111111111,
             "#46039f"
            ],
            [
             0.2222222222222222,
             "#7201a8"
            ],
            [
             0.3333333333333333,
             "#9c179e"
            ],
            [
             0.4444444444444444,
             "#bd3786"
            ],
            [
             0.5555555555555556,
             "#d8576b"
            ],
            [
             0.6666666666666666,
             "#ed7953"
            ],
            [
             0.7777777777777778,
             "#fb9f3a"
            ],
            [
             0.8888888888888888,
             "#fdca26"
            ],
            [
             1,
             "#f0f921"
            ]
           ]
          },
          "colorway": [
           "#636efa",
           "#EF553B",
           "#00cc96",
           "#ab63fa",
           "#FFA15A",
           "#19d3f3",
           "#FF6692",
           "#B6E880",
           "#FF97FF",
           "#FECB52"
          ],
          "font": {
           "color": "#2a3f5f"
          },
          "geo": {
           "bgcolor": "white",
           "lakecolor": "white",
           "landcolor": "#E5ECF6",
           "showlakes": true,
           "showland": true,
           "subunitcolor": "white"
          },
          "hoverlabel": {
           "align": "left"
          },
          "hovermode": "closest",
          "mapbox": {
           "style": "light"
          },
          "paper_bgcolor": "white",
          "plot_bgcolor": "#E5ECF6",
          "polar": {
           "angularaxis": {
            "gridcolor": "white",
            "linecolor": "white",
            "ticks": ""
           },
           "bgcolor": "#E5ECF6",
           "radialaxis": {
            "gridcolor": "white",
            "linecolor": "white",
            "ticks": ""
           }
          },
          "scene": {
           "xaxis": {
            "backgroundcolor": "#E5ECF6",
            "gridcolor": "white",
            "gridwidth": 2,
            "linecolor": "white",
            "showbackground": true,
            "ticks": "",
            "zerolinecolor": "white"
           },
           "yaxis": {
            "backgroundcolor": "#E5ECF6",
            "gridcolor": "white",
            "gridwidth": 2,
            "linecolor": "white",
            "showbackground": true,
            "ticks": "",
            "zerolinecolor": "white"
           },
           "zaxis": {
            "backgroundcolor": "#E5ECF6",
            "gridcolor": "white",
            "gridwidth": 2,
            "linecolor": "white",
            "showbackground": true,
            "ticks": "",
            "zerolinecolor": "white"
           }
          },
          "shapedefaults": {
           "line": {
            "color": "#2a3f5f"
           }
          },
          "ternary": {
           "aaxis": {
            "gridcolor": "white",
            "linecolor": "white",
            "ticks": ""
           },
           "baxis": {
            "gridcolor": "white",
            "linecolor": "white",
            "ticks": ""
           },
           "bgcolor": "#E5ECF6",
           "caxis": {
            "gridcolor": "white",
            "linecolor": "white",
            "ticks": ""
           }
          },
          "title": {
           "x": 0.05
          },
          "xaxis": {
           "automargin": true,
           "gridcolor": "white",
           "linecolor": "white",
           "ticks": "",
           "title": {
            "standoff": 15
           },
           "zerolinecolor": "white",
           "zerolinewidth": 2
          },
          "yaxis": {
           "automargin": true,
           "gridcolor": "white",
           "linecolor": "white",
           "ticks": "",
           "title": {
            "standoff": 15
           },
           "zerolinecolor": "white",
           "zerolinewidth": 2
          }
         }
        },
        "violinmode": "group",
        "xaxis": {
         "anchor": "y",
         "domain": [
          0,
          1
         ],
         "title": {
          "text": "MTAP Expression Quantile"
         }
        },
        "yaxis": {
         "anchor": "x",
         "domain": [
          0,
          1
         ],
         "title": {
          "text": "PRMT5"
         }
        }
       }
      }
     },
     "metadata": {},
     "output_type": "display_data"
    },
    {
     "data": {
      "application/vnd.plotly.v1+json": {
       "config": {
        "plotlyServerURL": "https://plot.ly"
       },
       "data": [
        {
         "alignmentgroup": "True",
         "box": {
          "visible": true
         },
         "hovertemplate": "MTAP Expression Quantile=%{x}<br>MAT2A=%{y}<extra></extra>",
         "legendgroup": "",
         "marker": {
          "color": "#636efa"
         },
         "name": "",
         "offsetgroup": "",
         "orientation": "v",
         "points": "all",
         "scalegroup": "True",
         "showlegend": false,
         "type": "violin",
         "x": [
          4,
          0,
          4,
          4,
          3,
          1,
          4,
          5,
          4,
          1,
          0,
          0,
          0,
          3,
          5,
          5,
          2,
          5,
          0,
          5,
          4,
          3,
          0,
          1,
          1,
          1,
          1,
          0,
          5,
          0,
          4,
          1,
          2,
          3,
          3,
          1,
          2,
          0,
          4,
          5,
          1,
          2,
          1,
          1,
          3,
          5,
          1,
          1,
          5,
          0,
          2,
          1,
          3,
          2,
          0,
          2,
          2,
          2,
          4,
          2,
          5,
          0,
          5,
          4,
          0,
          5,
          5,
          5,
          2,
          3,
          2,
          1,
          2,
          4,
          4,
          1,
          1,
          4,
          4,
          4,
          0,
          0,
          5,
          null,
          1,
          0,
          3,
          3,
          1,
          0,
          5,
          1,
          5,
          4,
          5,
          5,
          5,
          1,
          2,
          1,
          1,
          2,
          3,
          0,
          2,
          1,
          1,
          0,
          0,
          2,
          5,
          4,
          0,
          4,
          1,
          4,
          4,
          3,
          null,
          2,
          5,
          4,
          2,
          2,
          1,
          0,
          4,
          1,
          2,
          3,
          4,
          5,
          4,
          null,
          1,
          2,
          0,
          3,
          2,
          5,
          3,
          3,
          3,
          4,
          0,
          4,
          2,
          2,
          3,
          1,
          4,
          0,
          0,
          1,
          3,
          0,
          5,
          3,
          1,
          1,
          1,
          5,
          5,
          4,
          2,
          4,
          3,
          2,
          5,
          5,
          3,
          1,
          5,
          3,
          4,
          2,
          5,
          5,
          5,
          2,
          5,
          5,
          2,
          3,
          4,
          5,
          2,
          5,
          5,
          4,
          0,
          5,
          0,
          4,
          2,
          0,
          3,
          1,
          null,
          4,
          0,
          4,
          2,
          5,
          5,
          0,
          1,
          0,
          1,
          2,
          5,
          1,
          5,
          4,
          1,
          5,
          1,
          3,
          3,
          4,
          5,
          5,
          1,
          0,
          1,
          2,
          2,
          0,
          0,
          5,
          3,
          0,
          3,
          1,
          3,
          4,
          3,
          5,
          3,
          3,
          0,
          2,
          3,
          4,
          4,
          3,
          1,
          0,
          4,
          3,
          3,
          1,
          5,
          5,
          2,
          0,
          5,
          4,
          1,
          4,
          5,
          1,
          3,
          3,
          3,
          4,
          1,
          3,
          1,
          5,
          2,
          4,
          4,
          2,
          4,
          4,
          4,
          null,
          2,
          4,
          0,
          0,
          3,
          3,
          0,
          0,
          2,
          0,
          5,
          3,
          5,
          2,
          4,
          5,
          3,
          1,
          2,
          4,
          2,
          1,
          0,
          4,
          2,
          0,
          5,
          0,
          0,
          4,
          5,
          4,
          3,
          4,
          0,
          1,
          0,
          2,
          2,
          3,
          3,
          5,
          1,
          4,
          4,
          3,
          5,
          0,
          0,
          5,
          5,
          0,
          1,
          2,
          3,
          0,
          null,
          5,
          2,
          5,
          3,
          1,
          4,
          3,
          2,
          null,
          4,
          3,
          1,
          5,
          4,
          3,
          3,
          1,
          2,
          0,
          2,
          0,
          1,
          2,
          1,
          4,
          5,
          5,
          1,
          2,
          2,
          0,
          2,
          0,
          0,
          3,
          2,
          5,
          4,
          4,
          5,
          1,
          2,
          0,
          5,
          4,
          2,
          1,
          1,
          0,
          0,
          0,
          3,
          5,
          3,
          3,
          2,
          5,
          2,
          5,
          3,
          1,
          4,
          2,
          1,
          5,
          1,
          2,
          0,
          null,
          2,
          3,
          4,
          2,
          4,
          0,
          0,
          2,
          3,
          0,
          3,
          4,
          1,
          5,
          0,
          0,
          5,
          2,
          0,
          0,
          0,
          0,
          4,
          2,
          4,
          3,
          2,
          5,
          5,
          4,
          0,
          4,
          4,
          1,
          1,
          2,
          5,
          0,
          5,
          2,
          5,
          5,
          0,
          3,
          1,
          4,
          3,
          2,
          3,
          1,
          null,
          5,
          2,
          5,
          3,
          2,
          4,
          3,
          0,
          4,
          4,
          1,
          2,
          3,
          3,
          1,
          3,
          3,
          4,
          4,
          2,
          5,
          5,
          1,
          5,
          3,
          2,
          2,
          5,
          1,
          1,
          4,
          4,
          1,
          1,
          3,
          1,
          2,
          4,
          1,
          2,
          0,
          3,
          2,
          3,
          1,
          2,
          4,
          5,
          4,
          3,
          1,
          1,
          3,
          3,
          0,
          0,
          3,
          4,
          2,
          1,
          1,
          5,
          2,
          0,
          0,
          2,
          5,
          0,
          3,
          3,
          1,
          2,
          5,
          2,
          0,
          4,
          5,
          2,
          3,
          0,
          4,
          1,
          2,
          5,
          1,
          0,
          4,
          4,
          2,
          2,
          2,
          4,
          4,
          null,
          1,
          2,
          5,
          3,
          2,
          1,
          1,
          0,
          2,
          3,
          1,
          3,
          0,
          5,
          0,
          5,
          3,
          2,
          2,
          5,
          0,
          2,
          5,
          0,
          2,
          4,
          3,
          2,
          5,
          5,
          0,
          4,
          2,
          4,
          5,
          0,
          0,
          0,
          0,
          1,
          1,
          0,
          1,
          1,
          2,
          5,
          0,
          1,
          4,
          3,
          3,
          0,
          4,
          1,
          4,
          1,
          5,
          0,
          4,
          0,
          5,
          2,
          2,
          3,
          2,
          3,
          1,
          0,
          4,
          0,
          5,
          1,
          0,
          4,
          2,
          1,
          5,
          3,
          4,
          0,
          1,
          4,
          3,
          2,
          2,
          1,
          0,
          3,
          3,
          4,
          0,
          1,
          4,
          3,
          1,
          0,
          3,
          4,
          5,
          1,
          3,
          4,
          0,
          3,
          2,
          5,
          3,
          3,
          3,
          4,
          4,
          3,
          3,
          5,
          3,
          3,
          3,
          1
         ],
         "x0": " ",
         "xaxis": "x",
         "y": [
          0.0893226680474,
          -0.355223049176,
          0.0701251777207,
          -0.374843946719,
          -0.21756508901,
          -0.464902029319,
          -0.402880444191,
          -0.230821969678,
          -0.433277790889,
          -0.244001300272,
          -0.524097939404,
          -0.106283661228,
          -0.588040358609,
          -0.152788571209,
          -0.318389167948,
          -0.348599152129,
          -0.048385503868,
          -0.211006582509,
          -0.379490604917,
          -0.0944405208529,
          -0.0827727148745,
          -0.100248941973,
          -0.311760104417,
          -0.204772152311,
          -0.873333665658,
          -0.406691690651,
          0.268070265126,
          -0.295402005682,
          -0.479926970922,
          -0.0802062120251,
          -0.0169096800296,
          -0.392722867864,
          -0.64372907364,
          -0.408903230203,
          -0.0383884210555,
          -0.205734864351,
          -0.0187244940454,
          -1.00979978301,
          -0.120741105501,
          -0.158322745489,
          -0.228985617958,
          0.0673628433314,
          -0.219543914033,
          -0.0665108923247,
          -0.0347317384057,
          -0.502734834433,
          -0.11548762153,
          -0.480973481893,
          -0.0286998943717,
          -0.0161901602163,
          -0.207780449175,
          -0.0879347671213,
          -0.335454029463,
          -0.303629324564,
          -0.582653934863,
          -0.105081924873,
          -0.232836659317,
          -0.41793807732,
          -0.332403159183,
          -0.183470517777,
          -0.283067461986,
          -1.26667089987,
          -0.376251459274,
          -0.420599289818,
          -0.344125054233,
          -0.680238885943,
          -0.462192687381,
          -0.247054603707,
          -0.205616180502,
          -0.0884240559215,
          -0.46429908342,
          -0.481092351765,
          -0.720757338256,
          -0.457379761134,
          -0.458378744829,
          -0.382785602995,
          -0.909134951028,
          -0.355967709533,
          -0.268827248128,
          -0.24690424873,
          -1.44239588552,
          -0.795763345632,
          -0.319340365019,
          -0.170030877299,
          -0.137291531905,
          -0.303465372791,
          -0.0799175657919,
          -0.710249739436,
          -0.224232583696,
          -0.103680801815,
          -0.0577952162943,
          -0.425499667325,
          0.0090349693297,
          -0.0520045911511,
          -0.189443626274,
          -0.211072283383,
          -0.0159040232695,
          0.291021556608,
          -0.430687145272,
          -0.3067030497,
          -0.616386686825,
          -0.787600897941,
          0.0801310574905,
          -0.40220860383,
          -0.416093085514,
          0.066224336055,
          -0.225828972676,
          -0.589678870704,
          -0.524107203436,
          -0.425876990102,
          -0.397738559522,
          -0.309793936657,
          -0.372722358485,
          -0.0652111730137,
          -0.0833387525496,
          -0.222577961978,
          -0.0574086323846,
          -0.398900703196,
          -0.539430237516,
          -0.0591792331231,
          -0.811763020082,
          0.0301901138066,
          -0.239884345203,
          -0.420951652095,
          -1.12101686102,
          -0.62021483153,
          -0.663488548716,
          -0.331018163968,
          -0.168662910388,
          -0.769739838866,
          -0.420161843305,
          -0.548169460922,
          -0.140410817404,
          -0.241406697279,
          -0.229556501369,
          -0.296981712699,
          -0.390036825687,
          -0.212934420246,
          -0.294981491601,
          0.0574067693457,
          -0.111782569099,
          -0.201187160835,
          -0.27966187847,
          0.126120762606,
          -0.303183850767,
          0.318245219699,
          -0.113044614945,
          -0.244331970336,
          -0.111605456805,
          -0.411726003465,
          -0.488681837436,
          -0.299299986409,
          -0.32614609526,
          -0.11257625964,
          -0.609062764623,
          -0.398270513166,
          -0.206269517231,
          -0.178373161573,
          -0.727766826873,
          -0.110337891774,
          -0.515015380919,
          -0.264844604248,
          -0.495495441377,
          -0.155740935638,
          -0.501604408246,
          -0.560713177838,
          -0.386827165417,
          -0.471866902398,
          -0.421371566591,
          -0.393933381495,
          -0.0882842213288,
          -0.445524466774,
          -0.946829865138,
          -0.167859167505,
          -0.203783332588,
          -0.302890038234,
          -0.390707380436,
          -0.0732710243664,
          -0.0586855684416,
          -0.333188095962,
          -0.0986249233662,
          -0.0801625684265,
          -0.405107262094,
          -0.284741363364,
          -0.0741573761092,
          -0.21772828013,
          -0.440025766512,
          -0.16517479223,
          null,
          -0.509238098565,
          -1.42547514987,
          -0.127149525243,
          -0.532960830042,
          -0.227078138128,
          0.14235123615,
          -0.130358850254,
          -0.0928626619593,
          -0.445106579859,
          0.465906689494,
          0.0323969266608,
          -0.349497301697,
          -0.0749544503053,
          -0.229001448153,
          -0.162561293247,
          -0.0257030033265,
          -0.36527767498,
          -0.282156243075,
          -0.381754744681,
          -0.576430557387,
          -0.30631209037,
          -0.517821843733,
          -0.883849449954,
          -0.126626575049,
          -0.261318280876,
          -0.199374281781,
          -0.0356468208044,
          -0.616727125912,
          -0.411677016383,
          -0.161228369429,
          -0.51999195281,
          -0.0933639523515,
          -0.350430918924,
          -0.436884587766,
          -0.420601835496,
          -0.579526011039,
          0.0253180919647,
          0.00413723264511,
          -0.697329677492,
          -1.03183051734,
          -0.737417368442,
          -0.450715536615,
          0.0482588979892,
          -0.0837385019727,
          -0.403502751563,
          -0.325275786944,
          -0.254274132308,
          -0.131200465552,
          -0.121735866028,
          -0.131097548771,
          -0.425185258079,
          -0.475515041442,
          -0.350081054615,
          -0.301467177228,
          -0.469824416338,
          -0.211576770905,
          -0.233649731325,
          -0.0036152253194,
          -0.645084419356,
          -0.32221901288,
          -0.14425737831,
          -0.0475472122697,
          -0.0291435731448,
          0.0066793401979,
          -0.239912959458,
          -0.284892248868,
          -0.194770871827,
          -0.313193501221,
          -0.296035813098,
          -0.411086918253,
          -0.300081244949,
          -0.398915617871,
          -0.289874893516,
          -0.236450731655,
          -0.504872387965,
          -0.212379018338,
          -0.461770898634,
          -0.225832768045,
          -0.565846473585,
          -0.521783867147,
          -0.210661017567,
          -0.820481555373,
          -0.566692766358,
          -0.414259534522,
          -0.241198403979,
          -0.347493046452,
          0.0668748227099,
          -0.237116827427,
          -0.463967618685,
          -0.348354943225,
          -0.203248107126,
          -0.949789964424,
          -0.364424034396,
          0.231191181624,
          -0.237877855934,
          -0.328575288231,
          -0.25870056779,
          -0.410074295441,
          -0.364780461148,
          -0.266784869849,
          -0.414783037247,
          -0.226680789609,
          -0.331572650184,
          -0.323771061979,
          -0.133710715964,
          -0.0854033209707,
          -0.2495441677,
          -0.311375572749,
          -0.180147982046,
          -0.488618017988,
          -0.461989937422,
          -1.16616986863,
          -0.424737010199,
          -0.42317771515,
          -0.374105791227,
          -0.127982713363,
          -0.2074653005,
          -0.691509445765,
          -0.168795742047,
          -0.463390316227,
          -0.263068734239,
          -0.137343071985,
          -0.130970964759,
          -0.129240296116,
          -0.178591714932,
          -0.543122358816,
          -0.373484509071,
          -0.329968909051,
          -0.162420536736,
          -0.587599278762,
          -0.0891272628022,
          -0.351991614592,
          -0.0847880614046,
          -0.225763339548,
          -0.0637991115993,
          -0.210700125419,
          -0.431969683504,
          -0.175822883389,
          -0.48904570749,
          -0.39838370876,
          -0.774716705708,
          -0.483384523001,
          -0.144301056344,
          -0.305208254344,
          -1.27345483521,
          -0.503201293041,
          -0.0538958002879,
          -0.408685763867,
          -0.460177267548,
          -0.261966663775,
          -0.109698440195,
          -0.577638584788,
          -0.192567182642,
          -0.304613540986,
          -0.0897165205077,
          0.234356648843,
          0.00120624477099,
          -0.445377450552,
          -0.184886333172,
          0.0747038252305,
          -0.222244678317,
          -0.467640353547,
          -0.289766763903,
          -0.540284018213,
          -0.760974715975,
          -0.297163834059,
          -0.494121457519,
          -0.648508798756,
          -0.610510070377,
          -0.115141870363,
          -0.0985595885088,
          -0.212733283937,
          -0.103461373142,
          -0.245679015906,
          0.0346360327092,
          -0.233252810142,
          -0.3898301842,
          -0.0165107514382,
          -0.504913261111,
          -0.224673485993,
          -0.0439928865959,
          0.00512118873942,
          -0.0185288059856,
          -0.269247021932,
          -0.0438342476241,
          -0.281044451828,
          -0.407196838116,
          -0.426805321979,
          -0.540513950974,
          0.0539208743973,
          -0.784598867899,
          0.215350630723,
          -0.205732405185,
          -0.20730386212,
          -0.199036093528,
          -0.521375772558,
          -0.641819317386,
          -0.75670826606,
          -0.311029578014,
          -0.439639105574,
          -0.100534413384,
          -0.0290165135398,
          0.00132768132201,
          -0.339680195986,
          -0.0299352489096,
          0.0323387099583,
          -0.311282361055,
          -0.728297453058,
          -0.231221634421,
          -0.54101974357,
          -0.188521683549,
          -0.285408877447,
          -0.30952154614,
          -0.4382261805,
          0.104809072802,
          -0.186626234417,
          -0.0421066199305,
          -0.140618886722,
          -0.131141915799,
          -0.282347785475,
          -1.1970786319,
          -0.218104864502,
          -0.171112738361,
          -0.504525010686,
          -0.308229355904,
          -0.494225617442,
          -0.323430512434,
          -0.0693694541587,
          -0.049084392814,
          -0.68328992068,
          -0.540847473714,
          -0.342735162701,
          -0.400915071423,
          -0.361680875102,
          -0.322563291676,
          -0.334734736554,
          -0.283244330775,
          -0.699976882026,
          -0.759397545959,
          -0.454493359806,
          0.0321718569308,
          -0.146378988979,
          -0.399041739915,
          0.100251399096,
          -0.117864844038,
          -0.637737446672,
          -0.479830270119,
          -0.089248320488,
          -0.0190411153859,
          -0.0651951328316,
          -0.287208095656,
          -0.323247033473,
          -1.26880104293,
          -0.12431526462,
          0.0261511671775,
          -0.103906833881,
          -0.515355707329,
          -0.35775785379,
          -0.538225762858,
          -0.0341747565999,
          -0.313415055449,
          -0.170617768269,
          -0.298575863899,
          -0.371230928396,
          -0.443184468806,
          -0.309856914915,
          -0.121172348435,
          -0.313723052789,
          -0.831593404731,
          -0.328739452452,
          -0.00102829345468,
          -0.263748799332,
          -0.259705514084,
          -1.11535258147,
          -0.268237367448,
          -0.281647430177,
          -0.250993032493,
          -0.473412292829,
          -0.0641382248284,
          -0.470541888565,
          -0.75886480019,
          0.205046049789,
          -0.111336640172,
          -0.655213442828,
          -0.402374589937,
          -0.0459637060006,
          -0.773415659299,
          -0.505297210356,
          -0.506143871838,
          -0.7882514059,
          -0.553041615695,
          -0.500445426342,
          -0.257324486657,
          -0.312887835888,
          -0.129155869315,
          -0.501259933689,
          -0.533208022535,
          -0.0574422552148,
          -0.397787069293,
          -0.14764272595,
          -0.0869919808432,
          -0.409294542634,
          -0.313214169501,
          -0.243721191524,
          -0.0851384708293,
          -0.0489494657474,
          -0.637668301666,
          -0.796280333455,
          -0.483298193043,
          -0.0686870614629,
          -0.162477497557,
          -0.131043088229,
          -0.0543018569229,
          -0.530396450212,
          -0.593040414809,
          0.0745207882915,
          -0.297890504425,
          -0.130745047199,
          -0.181037609782,
          -0.147517901639,
          -0.174901059735,
          -0.458328608394,
          0.154274146423,
          -0.35642409528,
          -0.525010255183,
          -0.280890243266,
          0.103558668193,
          -0.204499478632,
          -0.149172320717,
          -0.997760163308,
          -0.664892506714,
          -0.151463442613,
          -0.259774828449,
          -0.312698215718,
          -0.488254699898,
          -0.277646276415,
          -0.161759298254,
          -0.36169830164,
          -0.27686715078,
          -0.451928288577,
          -0.292491795732,
          -0.16384563554,
          -0.23041001294,
          -0.136724080879,
          -0.00269485615323,
          0.0990050369075,
          -0.488839779215,
          -0.304461391422,
          0.129692393731,
          -0.302596366003,
          -0.0525738019481,
          -0.133044916975,
          -0.607398201304,
          -0.291391187465,
          -0.320434235604,
          0.112728448316,
          -0.0850696631361,
          -0.288519621657,
          -0.172040072882,
          -0.755133107178,
          -0.336563867462,
          -0.847849594901,
          -0.244148225682,
          -0.00947427245949,
          -0.507386585483,
          -0.22768075356,
          0.100506412072,
          -0.19044252319,
          0.114214829582,
          -0.466467832374,
          -0.0909715538318,
          -0.0269435957234,
          -0.69637839371,
          -0.595779078158,
          -1.10203148945,
          -0.105522125576,
          -0.256096052866,
          -0.159929797914,
          -0.180475901448,
          -0.089961599907,
          0.515424326928,
          -0.375000408176,
          -0.140739848176,
          -0.243078533732,
          -0.268003497185,
          -0.737841571584,
          -0.326886691765,
          -0.159429415956,
          -0.125905392432,
          -0.683640921613,
          -0.825185795192,
          -0.51617310849,
          -0.428759573063,
          -0.0609428697355,
          -0.69873468715,
          -0.209820993169,
          -0.257310780894,
          -0.0892760499444,
          -0.268327989146,
          -0.263989242024,
          -0.489377716707,
          -0.10421279466,
          -0.305362549261,
          -0.330365754897,
          -0.0475280826639,
          -0.259000046875,
          -0.690350968002,
          -0.526719365013,
          0.00265243595228,
          -0.590014919542,
          -0.281753703329,
          -0.780452518466,
          -0.0609852240379,
          -1.0566998414,
          null,
          -0.220249812425,
          0.0295692719456,
          -0.658100327961,
          -0.271957566955,
          -0.22141891378,
          -0.155188657216,
          -0.0244832611906,
          -0.262617103384,
          -0.326517492073,
          -0.338354000691,
          -0.326537109922,
          -0.0581273290066,
          -0.593448175506,
          -0.113915808264,
          -0.67937303277,
          -0.215014376089,
          -0.977395965955,
          -0.360991892712,
          -0.21128769232,
          -0.386799137848,
          -0.349402903865,
          -0.207116962998,
          -0.285270988907,
          0.18261325292,
          -0.502368970942,
          -0.419866504448,
          -0.414545851625,
          -0.129683819745,
          -0.375134763008,
          -0.137724137789,
          -0.186293046115,
          -0.503364592905,
          -0.0680920061518,
          -0.467864170295,
          -0.107331421062,
          -0.035676327752,
          -0.00576723224778,
          -0.18644305413,
          -0.300041469007,
          -0.393795865796,
          -0.490541102155,
          -0.479210065776,
          -0.180465307887,
          0.147778747032,
          -0.122189719096,
          -0.130612834418,
          -0.396464315407,
          -0.371718450554,
          0.0280075999179,
          0.0498475591494,
          -0.571136282755,
          -0.233401339506,
          -0.326073004198,
          -0.146722558408,
          -0.511305918275,
          -0.267866030494,
          0.00136592362775,
          -0.638073839554,
          -0.23451444395,
          -0.280548588243,
          0.00862643599678,
          -0.241466663941,
          -0.0900949229839
         ],
         "y0": " ",
         "yaxis": "y"
        }
       ],
       "layout": {
        "legend": {
         "tracegroupgap": 0
        },
        "margin": {
         "t": 60
        },
        "template": {
         "data": {
          "bar": [
           {
            "error_x": {
             "color": "#2a3f5f"
            },
            "error_y": {
             "color": "#2a3f5f"
            },
            "marker": {
             "line": {
              "color": "#E5ECF6",
              "width": 0.5
             },
             "pattern": {
              "fillmode": "overlay",
              "size": 10,
              "solidity": 0.2
             }
            },
            "type": "bar"
           }
          ],
          "barpolar": [
           {
            "marker": {
             "line": {
              "color": "#E5ECF6",
              "width": 0.5
             },
             "pattern": {
              "fillmode": "overlay",
              "size": 10,
              "solidity": 0.2
             }
            },
            "type": "barpolar"
           }
          ],
          "carpet": [
           {
            "aaxis": {
             "endlinecolor": "#2a3f5f",
             "gridcolor": "white",
             "linecolor": "white",
             "minorgridcolor": "white",
             "startlinecolor": "#2a3f5f"
            },
            "baxis": {
             "endlinecolor": "#2a3f5f",
             "gridcolor": "white",
             "linecolor": "white",
             "minorgridcolor": "white",
             "startlinecolor": "#2a3f5f"
            },
            "type": "carpet"
           }
          ],
          "choropleth": [
           {
            "colorbar": {
             "outlinewidth": 0,
             "ticks": ""
            },
            "type": "choropleth"
           }
          ],
          "contour": [
           {
            "colorbar": {
             "outlinewidth": 0,
             "ticks": ""
            },
            "colorscale": [
             [
              0,
              "#0d0887"
             ],
             [
              0.1111111111111111,
              "#46039f"
             ],
             [
              0.2222222222222222,
              "#7201a8"
             ],
             [
              0.3333333333333333,
              "#9c179e"
             ],
             [
              0.4444444444444444,
              "#bd3786"
             ],
             [
              0.5555555555555556,
              "#d8576b"
             ],
             [
              0.6666666666666666,
              "#ed7953"
             ],
             [
              0.7777777777777778,
              "#fb9f3a"
             ],
             [
              0.8888888888888888,
              "#fdca26"
             ],
             [
              1,
              "#f0f921"
             ]
            ],
            "type": "contour"
           }
          ],
          "contourcarpet": [
           {
            "colorbar": {
             "outlinewidth": 0,
             "ticks": ""
            },
            "type": "contourcarpet"
           }
          ],
          "heatmap": [
           {
            "colorbar": {
             "outlinewidth": 0,
             "ticks": ""
            },
            "colorscale": [
             [
              0,
              "#0d0887"
             ],
             [
              0.1111111111111111,
              "#46039f"
             ],
             [
              0.2222222222222222,
              "#7201a8"
             ],
             [
              0.3333333333333333,
              "#9c179e"
             ],
             [
              0.4444444444444444,
              "#bd3786"
             ],
             [
              0.5555555555555556,
              "#d8576b"
             ],
             [
              0.6666666666666666,
              "#ed7953"
             ],
             [
              0.7777777777777778,
              "#fb9f3a"
             ],
             [
              0.8888888888888888,
              "#fdca26"
             ],
             [
              1,
              "#f0f921"
             ]
            ],
            "type": "heatmap"
           }
          ],
          "heatmapgl": [
           {
            "colorbar": {
             "outlinewidth": 0,
             "ticks": ""
            },
            "colorscale": [
             [
              0,
              "#0d0887"
             ],
             [
              0.1111111111111111,
              "#46039f"
             ],
             [
              0.2222222222222222,
              "#7201a8"
             ],
             [
              0.3333333333333333,
              "#9c179e"
             ],
             [
              0.4444444444444444,
              "#bd3786"
             ],
             [
              0.5555555555555556,
              "#d8576b"
             ],
             [
              0.6666666666666666,
              "#ed7953"
             ],
             [
              0.7777777777777778,
              "#fb9f3a"
             ],
             [
              0.8888888888888888,
              "#fdca26"
             ],
             [
              1,
              "#f0f921"
             ]
            ],
            "type": "heatmapgl"
           }
          ],
          "histogram": [
           {
            "marker": {
             "pattern": {
              "fillmode": "overlay",
              "size": 10,
              "solidity": 0.2
             }
            },
            "type": "histogram"
           }
          ],
          "histogram2d": [
           {
            "colorbar": {
             "outlinewidth": 0,
             "ticks": ""
            },
            "colorscale": [
             [
              0,
              "#0d0887"
             ],
             [
              0.1111111111111111,
              "#46039f"
             ],
             [
              0.2222222222222222,
              "#7201a8"
             ],
             [
              0.3333333333333333,
              "#9c179e"
             ],
             [
              0.4444444444444444,
              "#bd3786"
             ],
             [
              0.5555555555555556,
              "#d8576b"
             ],
             [
              0.6666666666666666,
              "#ed7953"
             ],
             [
              0.7777777777777778,
              "#fb9f3a"
             ],
             [
              0.8888888888888888,
              "#fdca26"
             ],
             [
              1,
              "#f0f921"
             ]
            ],
            "type": "histogram2d"
           }
          ],
          "histogram2dcontour": [
           {
            "colorbar": {
             "outlinewidth": 0,
             "ticks": ""
            },
            "colorscale": [
             [
              0,
              "#0d0887"
             ],
             [
              0.1111111111111111,
              "#46039f"
             ],
             [
              0.2222222222222222,
              "#7201a8"
             ],
             [
              0.3333333333333333,
              "#9c179e"
             ],
             [
              0.4444444444444444,
              "#bd3786"
             ],
             [
              0.5555555555555556,
              "#d8576b"
             ],
             [
              0.6666666666666666,
              "#ed7953"
             ],
             [
              0.7777777777777778,
              "#fb9f3a"
             ],
             [
              0.8888888888888888,
              "#fdca26"
             ],
             [
              1,
              "#f0f921"
             ]
            ],
            "type": "histogram2dcontour"
           }
          ],
          "mesh3d": [
           {
            "colorbar": {
             "outlinewidth": 0,
             "ticks": ""
            },
            "type": "mesh3d"
           }
          ],
          "parcoords": [
           {
            "line": {
             "colorbar": {
              "outlinewidth": 0,
              "ticks": ""
             }
            },
            "type": "parcoords"
           }
          ],
          "pie": [
           {
            "automargin": true,
            "type": "pie"
           }
          ],
          "scatter": [
           {
            "fillpattern": {
             "fillmode": "overlay",
             "size": 10,
             "solidity": 0.2
            },
            "type": "scatter"
           }
          ],
          "scatter3d": [
           {
            "line": {
             "colorbar": {
              "outlinewidth": 0,
              "ticks": ""
             }
            },
            "marker": {
             "colorbar": {
              "outlinewidth": 0,
              "ticks": ""
             }
            },
            "type": "scatter3d"
           }
          ],
          "scattercarpet": [
           {
            "marker": {
             "colorbar": {
              "outlinewidth": 0,
              "ticks": ""
             }
            },
            "type": "scattercarpet"
           }
          ],
          "scattergeo": [
           {
            "marker": {
             "colorbar": {
              "outlinewidth": 0,
              "ticks": ""
             }
            },
            "type": "scattergeo"
           }
          ],
          "scattergl": [
           {
            "marker": {
             "colorbar": {
              "outlinewidth": 0,
              "ticks": ""
             }
            },
            "type": "scattergl"
           }
          ],
          "scattermapbox": [
           {
            "marker": {
             "colorbar": {
              "outlinewidth": 0,
              "ticks": ""
             }
            },
            "type": "scattermapbox"
           }
          ],
          "scatterpolar": [
           {
            "marker": {
             "colorbar": {
              "outlinewidth": 0,
              "ticks": ""
             }
            },
            "type": "scatterpolar"
           }
          ],
          "scatterpolargl": [
           {
            "marker": {
             "colorbar": {
              "outlinewidth": 0,
              "ticks": ""
             }
            },
            "type": "scatterpolargl"
           }
          ],
          "scatterternary": [
           {
            "marker": {
             "colorbar": {
              "outlinewidth": 0,
              "ticks": ""
             }
            },
            "type": "scatterternary"
           }
          ],
          "surface": [
           {
            "colorbar": {
             "outlinewidth": 0,
             "ticks": ""
            },
            "colorscale": [
             [
              0,
              "#0d0887"
             ],
             [
              0.1111111111111111,
              "#46039f"
             ],
             [
              0.2222222222222222,
              "#7201a8"
             ],
             [
              0.3333333333333333,
              "#9c179e"
             ],
             [
              0.4444444444444444,
              "#bd3786"
             ],
             [
              0.5555555555555556,
              "#d8576b"
             ],
             [
              0.6666666666666666,
              "#ed7953"
             ],
             [
              0.7777777777777778,
              "#fb9f3a"
             ],
             [
              0.8888888888888888,
              "#fdca26"
             ],
             [
              1,
              "#f0f921"
             ]
            ],
            "type": "surface"
           }
          ],
          "table": [
           {
            "cells": {
             "fill": {
              "color": "#EBF0F8"
             },
             "line": {
              "color": "white"
             }
            },
            "header": {
             "fill": {
              "color": "#C8D4E3"
             },
             "line": {
              "color": "white"
             }
            },
            "type": "table"
           }
          ]
         },
         "layout": {
          "annotationdefaults": {
           "arrowcolor": "#2a3f5f",
           "arrowhead": 0,
           "arrowwidth": 1
          },
          "autotypenumbers": "strict",
          "coloraxis": {
           "colorbar": {
            "outlinewidth": 0,
            "ticks": ""
           }
          },
          "colorscale": {
           "diverging": [
            [
             0,
             "#8e0152"
            ],
            [
             0.1,
             "#c51b7d"
            ],
            [
             0.2,
             "#de77ae"
            ],
            [
             0.3,
             "#f1b6da"
            ],
            [
             0.4,
             "#fde0ef"
            ],
            [
             0.5,
             "#f7f7f7"
            ],
            [
             0.6,
             "#e6f5d0"
            ],
            [
             0.7,
             "#b8e186"
            ],
            [
             0.8,
             "#7fbc41"
            ],
            [
             0.9,
             "#4d9221"
            ],
            [
             1,
             "#276419"
            ]
           ],
           "sequential": [
            [
             0,
             "#0d0887"
            ],
            [
             0.1111111111111111,
             "#46039f"
            ],
            [
             0.2222222222222222,
             "#7201a8"
            ],
            [
             0.3333333333333333,
             "#9c179e"
            ],
            [
             0.4444444444444444,
             "#bd3786"
            ],
            [
             0.5555555555555556,
             "#d8576b"
            ],
            [
             0.6666666666666666,
             "#ed7953"
            ],
            [
             0.7777777777777778,
             "#fb9f3a"
            ],
            [
             0.8888888888888888,
             "#fdca26"
            ],
            [
             1,
             "#f0f921"
            ]
           ],
           "sequentialminus": [
            [
             0,
             "#0d0887"
            ],
            [
             0.1111111111111111,
             "#46039f"
            ],
            [
             0.2222222222222222,
             "#7201a8"
            ],
            [
             0.3333333333333333,
             "#9c179e"
            ],
            [
             0.4444444444444444,
             "#bd3786"
            ],
            [
             0.5555555555555556,
             "#d8576b"
            ],
            [
             0.6666666666666666,
             "#ed7953"
            ],
            [
             0.7777777777777778,
             "#fb9f3a"
            ],
            [
             0.8888888888888888,
             "#fdca26"
            ],
            [
             1,
             "#f0f921"
            ]
           ]
          },
          "colorway": [
           "#636efa",
           "#EF553B",
           "#00cc96",
           "#ab63fa",
           "#FFA15A",
           "#19d3f3",
           "#FF6692",
           "#B6E880",
           "#FF97FF",
           "#FECB52"
          ],
          "font": {
           "color": "#2a3f5f"
          },
          "geo": {
           "bgcolor": "white",
           "lakecolor": "white",
           "landcolor": "#E5ECF6",
           "showlakes": true,
           "showland": true,
           "subunitcolor": "white"
          },
          "hoverlabel": {
           "align": "left"
          },
          "hovermode": "closest",
          "mapbox": {
           "style": "light"
          },
          "paper_bgcolor": "white",
          "plot_bgcolor": "#E5ECF6",
          "polar": {
           "angularaxis": {
            "gridcolor": "white",
            "linecolor": "white",
            "ticks": ""
           },
           "bgcolor": "#E5ECF6",
           "radialaxis": {
            "gridcolor": "white",
            "linecolor": "white",
            "ticks": ""
           }
          },
          "scene": {
           "xaxis": {
            "backgroundcolor": "#E5ECF6",
            "gridcolor": "white",
            "gridwidth": 2,
            "linecolor": "white",
            "showbackground": true,
            "ticks": "",
            "zerolinecolor": "white"
           },
           "yaxis": {
            "backgroundcolor": "#E5ECF6",
            "gridcolor": "white",
            "gridwidth": 2,
            "linecolor": "white",
            "showbackground": true,
            "ticks": "",
            "zerolinecolor": "white"
           },
           "zaxis": {
            "backgroundcolor": "#E5ECF6",
            "gridcolor": "white",
            "gridwidth": 2,
            "linecolor": "white",
            "showbackground": true,
            "ticks": "",
            "zerolinecolor": "white"
           }
          },
          "shapedefaults": {
           "line": {
            "color": "#2a3f5f"
           }
          },
          "ternary": {
           "aaxis": {
            "gridcolor": "white",
            "linecolor": "white",
            "ticks": ""
           },
           "baxis": {
            "gridcolor": "white",
            "linecolor": "white",
            "ticks": ""
           },
           "bgcolor": "#E5ECF6",
           "caxis": {
            "gridcolor": "white",
            "linecolor": "white",
            "ticks": ""
           }
          },
          "title": {
           "x": 0.05
          },
          "xaxis": {
           "automargin": true,
           "gridcolor": "white",
           "linecolor": "white",
           "ticks": "",
           "title": {
            "standoff": 15
           },
           "zerolinecolor": "white",
           "zerolinewidth": 2
          },
          "yaxis": {
           "automargin": true,
           "gridcolor": "white",
           "linecolor": "white",
           "ticks": "",
           "title": {
            "standoff": 15
           },
           "zerolinecolor": "white",
           "zerolinewidth": 2
          }
         }
        },
        "violinmode": "group",
        "xaxis": {
         "anchor": "y",
         "domain": [
          0,
          1
         ],
         "title": {
          "text": "MTAP Expression Quantile"
         }
        },
        "yaxis": {
         "anchor": "x",
         "domain": [
          0,
          1
         ],
         "title": {
          "text": "MAT2A"
         }
        }
       }
      }
     },
     "metadata": {},
     "output_type": "display_data"
    },
    {
     "data": {
      "application/vnd.plotly.v1+json": {
       "config": {
        "plotlyServerURL": "https://plot.ly"
       },
       "data": [
        {
         "alignmentgroup": "True",
         "box": {
          "visible": true
         },
         "hovertemplate": "MTAP Expression Quantile=%{x}<br>RIOK1=%{y}<extra></extra>",
         "legendgroup": "",
         "marker": {
          "color": "#636efa"
         },
         "name": "",
         "offsetgroup": "",
         "orientation": "v",
         "points": "all",
         "scalegroup": "True",
         "showlegend": false,
         "type": "violin",
         "x": [
          4,
          0,
          4,
          4,
          3,
          1,
          4,
          5,
          4,
          1,
          0,
          0,
          0,
          3,
          5,
          5,
          2,
          5,
          0,
          5,
          4,
          3,
          0,
          1,
          1,
          1,
          1,
          0,
          5,
          0,
          4,
          1,
          2,
          3,
          3,
          1,
          2,
          0,
          4,
          5,
          1,
          2,
          1,
          1,
          3,
          5,
          1,
          1,
          5,
          0,
          2,
          1,
          3,
          2,
          0,
          2,
          2,
          2,
          4,
          2,
          5,
          0,
          5,
          4,
          0,
          5,
          5,
          5,
          2,
          3,
          2,
          1,
          2,
          4,
          4,
          1,
          1,
          4,
          4,
          4,
          0,
          0,
          5,
          null,
          1,
          0,
          3,
          3,
          1,
          0,
          5,
          1,
          5,
          4,
          5,
          5,
          5,
          1,
          2,
          1,
          1,
          2,
          3,
          0,
          2,
          1,
          1,
          0,
          0,
          2,
          5,
          4,
          0,
          4,
          1,
          4,
          4,
          3,
          null,
          2,
          5,
          4,
          2,
          2,
          1,
          0,
          4,
          1,
          2,
          3,
          4,
          5,
          4,
          null,
          1,
          2,
          0,
          3,
          2,
          5,
          3,
          3,
          3,
          4,
          0,
          4,
          2,
          2,
          3,
          1,
          4,
          0,
          0,
          1,
          3,
          0,
          5,
          3,
          1,
          1,
          1,
          5,
          5,
          4,
          2,
          4,
          3,
          2,
          5,
          5,
          3,
          1,
          5,
          3,
          4,
          2,
          5,
          5,
          5,
          2,
          5,
          5,
          2,
          3,
          4,
          5,
          2,
          5,
          5,
          4,
          0,
          5,
          0,
          4,
          2,
          0,
          3,
          1,
          null,
          4,
          0,
          4,
          2,
          5,
          5,
          0,
          1,
          0,
          1,
          2,
          5,
          1,
          5,
          4,
          1,
          5,
          1,
          3,
          3,
          4,
          5,
          5,
          1,
          0,
          1,
          2,
          2,
          0,
          0,
          5,
          3,
          0,
          3,
          1,
          3,
          4,
          3,
          5,
          3,
          3,
          0,
          2,
          3,
          4,
          4,
          3,
          1,
          0,
          4,
          3,
          3,
          1,
          5,
          5,
          2,
          0,
          5,
          4,
          1,
          4,
          5,
          1,
          3,
          3,
          3,
          4,
          1,
          3,
          1,
          5,
          2,
          4,
          4,
          2,
          4,
          4,
          4,
          null,
          2,
          4,
          0,
          0,
          3,
          3,
          0,
          0,
          2,
          0,
          5,
          3,
          5,
          2,
          4,
          5,
          3,
          1,
          2,
          4,
          2,
          1,
          0,
          4,
          2,
          0,
          5,
          0,
          0,
          4,
          5,
          4,
          3,
          4,
          0,
          1,
          0,
          2,
          2,
          3,
          3,
          5,
          1,
          4,
          4,
          3,
          5,
          0,
          0,
          5,
          5,
          0,
          1,
          2,
          3,
          0,
          null,
          5,
          2,
          5,
          3,
          1,
          4,
          3,
          2,
          null,
          4,
          3,
          1,
          5,
          4,
          3,
          3,
          1,
          2,
          0,
          2,
          0,
          1,
          2,
          1,
          4,
          5,
          5,
          1,
          2,
          2,
          0,
          2,
          0,
          0,
          3,
          2,
          5,
          4,
          4,
          5,
          1,
          2,
          0,
          5,
          4,
          2,
          1,
          1,
          0,
          0,
          0,
          3,
          5,
          3,
          3,
          2,
          5,
          2,
          5,
          3,
          1,
          4,
          2,
          1,
          5,
          1,
          2,
          0,
          null,
          2,
          3,
          4,
          2,
          4,
          0,
          0,
          2,
          3,
          0,
          3,
          4,
          1,
          5,
          0,
          0,
          5,
          2,
          0,
          0,
          0,
          0,
          4,
          2,
          4,
          3,
          2,
          5,
          5,
          4,
          0,
          4,
          4,
          1,
          1,
          2,
          5,
          0,
          5,
          2,
          5,
          5,
          0,
          3,
          1,
          4,
          3,
          2,
          3,
          1,
          null,
          5,
          2,
          5,
          3,
          2,
          4,
          3,
          0,
          4,
          4,
          1,
          2,
          3,
          3,
          1,
          3,
          3,
          4,
          4,
          2,
          5,
          5,
          1,
          5,
          3,
          2,
          2,
          5,
          1,
          1,
          4,
          4,
          1,
          1,
          3,
          1,
          2,
          4,
          1,
          2,
          0,
          3,
          2,
          3,
          1,
          2,
          4,
          5,
          4,
          3,
          1,
          1,
          3,
          3,
          0,
          0,
          3,
          4,
          2,
          1,
          1,
          5,
          2,
          0,
          0,
          2,
          5,
          0,
          3,
          3,
          1,
          2,
          5,
          2,
          0,
          4,
          5,
          2,
          3,
          0,
          4,
          1,
          2,
          5,
          1,
          0,
          4,
          4,
          2,
          2,
          2,
          4,
          4,
          null,
          1,
          2,
          5,
          3,
          2,
          1,
          1,
          0,
          2,
          3,
          1,
          3,
          0,
          5,
          0,
          5,
          3,
          2,
          2,
          5,
          0,
          2,
          5,
          0,
          2,
          4,
          3,
          2,
          5,
          5,
          0,
          4,
          2,
          4,
          5,
          0,
          0,
          0,
          0,
          1,
          1,
          0,
          1,
          1,
          2,
          5,
          0,
          1,
          4,
          3,
          3,
          0,
          4,
          1,
          4,
          1,
          5,
          0,
          4,
          0,
          5,
          2,
          2,
          3,
          2,
          3,
          1,
          0,
          4,
          0,
          5,
          1,
          0,
          4,
          2,
          1,
          5,
          3,
          4,
          0,
          1,
          4,
          3,
          2,
          2,
          1,
          0,
          3,
          3,
          4,
          0,
          1,
          4,
          3,
          1,
          0,
          3,
          4,
          5,
          1,
          3,
          4,
          0,
          3,
          2,
          5,
          3,
          3,
          3,
          4,
          4,
          3,
          3,
          5,
          3,
          3,
          3,
          1
         ],
         "x0": " ",
         "xaxis": "x",
         "y": [
          -0.0822488499668,
          -0.610289015655,
          -0.395289853244,
          -0.254385339028,
          -0.206646409492,
          -0.344653941595,
          -0.444628937114,
          -0.347070616576,
          -0.169371900661,
          0.0749952337799,
          -0.516402249026,
          -0.262658054782,
          -0.620673949184,
          -0.741493133565,
          -0.262552057203,
          -0.378871364233,
          -0.375597955351,
          -0.544614306315,
          -0.779210831016,
          -0.315199430012,
          -0.888865350663,
          -0.311017292701,
          -1.49296322808,
          -0.206451484537,
          -0.243987646359,
          -0.201173718356,
          -0.463820106881,
          -0.772024818258,
          -0.223518127272,
          -0.39023950751,
          -0.540014298135,
          -0.352881497819,
          0.012871284264,
          -0.549303091496,
          -0.443490914972,
          -0.273126979418,
          -0.33846493217,
          -0.437716739767,
          -0.248703306352,
          -0.254553344657,
          -0.323270068183,
          -0.319385878289,
          -0.266759792549,
          -0.26386956782,
          -0.327047381034,
          -0.179467968858,
          -0.196764013273,
          -0.05840517524,
          -0.189951508794,
          -0.294458293635,
          -0.505138074807,
          -0.299686099871,
          -0.260083603955,
          -0.404689490852,
          -0.530322078087,
          -0.672912021553,
          -0.225935992359,
          -0.123419064505,
          -0.389075643954,
          -0.234977134432,
          -0.270357163521,
          -0.312017927078,
          -0.226287075562,
          -0.299139176439,
          -1.02583531161,
          -0.151105284981,
          -0.194539340242,
          -0.125283004064,
          -0.304353655012,
          -0.156992098455,
          -0.249959884548,
          -0.32445211693,
          -0.706929010914,
          -0.571668948748,
          -0.103791508135,
          -0.920602940083,
          -0.12917607613,
          -0.276764048699,
          -0.0895737286696,
          -0.441734833003,
          0.0137598242933,
          -0.465560378297,
          -0.421986427678,
          -0.313317304668,
          0.0319156451122,
          -0.41690468399,
          -0.275324909215,
          -0.308350024742,
          -0.278507642874,
          -0.107242435437,
          -0.540596561685,
          -0.251291233023,
          -0.179015288007,
          -0.26552823784,
          -0.219753035636,
          -0.305700943338,
          -0.338188449235,
          -0.298854420183,
          -0.140132180083,
          -0.682847768877,
          -0.535253982371,
          -0.635502424035,
          -0.449612178056,
          -0.577393148087,
          -0.0563074905707,
          -0.299221697126,
          -0.264716016726,
          -0.586469548737,
          -0.349849090491,
          -0.563784425305,
          -0.36105776796,
          -0.198581766026,
          -0.640948766816,
          -0.0896458886006,
          -0.119888384246,
          -0.224559417857,
          -0.130041511209,
          -0.360884458778,
          -0.117457854578,
          -0.46059667188,
          -0.0320513068245,
          -0.259404580263,
          -0.490578936741,
          -0.0537372439229,
          -0.169319487315,
          -0.0358649630189,
          0.0363844072188,
          -0.244944072681,
          -0.246994469609,
          -0.69709918146,
          -0.371307214669,
          -0.296493516791,
          -0.333976987204,
          -0.244822912242,
          -0.630900553148,
          -0.378918762936,
          -0.300202370978,
          -0.121402370604,
          -0.444655786158,
          -0.217780232221,
          0.118983358203,
          -0.0710668107088,
          -0.329370653001,
          -0.262742377424,
          -0.253081686536,
          -0.200723822823,
          -0.247292425909,
          -0.153932757006,
          -0.358493277654,
          -0.00937246620923,
          0.0637842303052,
          -0.140405145668,
          -0.324357445811,
          -0.120004316946,
          -0.086269966517,
          -0.328187593392,
          -0.297303886251,
          0.0555543333812,
          -0.216455926563,
          -0.140786654986,
          -0.274571360229,
          -0.20085903187,
          -0.261855956773,
          -0.26065164361,
          -0.242177452181,
          -0.350849484642,
          0.0057857030652,
          -0.153547814479,
          -0.153940273248,
          -0.444111583047,
          -0.259569315189,
          -0.164908274657,
          -0.493833599413,
          -0.375290612076,
          -0.403833085546,
          -0.177617206103,
          0.0831830088839,
          -0.480579428766,
          -0.264355609597,
          -0.544812084904,
          -0.156418879552,
          -0.279717438422,
          -0.588950533135,
          -0.248123425182,
          -0.24784579638,
          -0.460041944762,
          -0.501208778659,
          -0.354836013016,
          null,
          -0.353285190876,
          -0.849261228176,
          -0.143583539341,
          -0.494481691462,
          -0.0766748247649,
          -0.321120404124,
          -1.30649822666,
          -0.306924441281,
          -0.484051796687,
          -0.0971678804769,
          -0.0761678020688,
          -0.964783864359,
          -0.600023654683,
          -0.296870546433,
          -0.428265387332,
          -0.0750837192592,
          -0.431267755136,
          -0.306806467339,
          -0.629114500311,
          null,
          -0.0747946079341,
          -0.246701618334,
          0.0591382684063,
          -0.233625123518,
          -0.118379241494,
          -0.362127879482,
          -0.256194795026,
          -0.779804073206,
          -0.0293966093157,
          -0.182117172963,
          -0.2000119805,
          -0.332413142334,
          -0.410336979343,
          -0.405316490337,
          -0.161714924662,
          -0.558772804312,
          -0.296749083889,
          -0.243059184671,
          -0.689470578452,
          -0.475556627652,
          -0.127558925177,
          -0.150859259404,
          -0.355882370179,
          -0.102558560725,
          -0.338283036296,
          -0.03990318155,
          -0.208454785976,
          -0.38386390122,
          -0.442508137589,
          -0.209240894794,
          -0.219675939502,
          -0.641793934248,
          -0.259635096122,
          -0.281242007287,
          -0.309242051603,
          -0.366786347051,
          -0.178367917223,
          -0.570798553467,
          -0.320170000616,
          -0.357958412648,
          -0.163302120292,
          -0.283187175107,
          -0.253278288449,
          -0.1532174786,
          -0.309691248499,
          -0.134084030941,
          -0.358172830311,
          -0.279501465914,
          -0.553373644477,
          0.0755486633864,
          -0.31157489211,
          -0.237000872597,
          -0.275789947824,
          -0.239366278783,
          -0.3696350424,
          -0.610815568838,
          -0.325021247887,
          -0.411254091256,
          -0.105886453121,
          -0.412360810856,
          -0.263597760755,
          -0.265684464031,
          -0.153090427504,
          -0.170033041796,
          -0.131783234329,
          -0.0488197404446,
          -0.333258093999,
          -0.149530666361,
          -0.387198703561,
          -0.726019757211,
          -0.239200828623,
          -0.365278752837,
          -0.469934123727,
          -0.254892624133,
          -0.0495608473967,
          -1.21542196882,
          -0.851274985658,
          -0.175639803925,
          -0.547790492605,
          -0.179990308085,
          -0.20126442686,
          -0.162764554331,
          -0.740710500702,
          -0.479486015817,
          -0.269649515645,
          -0.282873761316,
          -0.330353113817,
          -0.31587079861,
          -0.429918155299,
          -0.0252984071253,
          -0.272560846908,
          -0.434953155149,
          -0.138485233869,
          -0.678710637981,
          -0.364898668494,
          -0.252267079846,
          -0.272224173067,
          -0.277041636734,
          -0.14974855807,
          -0.590972654393,
          -0.516688193351,
          -0.499775817571,
          -0.506577639315,
          -0.117917513021,
          -0.361849366906,
          -0.332490675606,
          -0.530889170112,
          -0.454932304232,
          -0.0651662560127,
          -0.291320950892,
          -0.163998800093,
          -1.12980777366,
          -0.341037648402,
          -0.117794643747,
          -0.601149557106,
          -0.207442195176,
          -0.360709486308,
          -0.362396002697,
          -0.240220988444,
          -0.172318284947,
          -0.487425047053,
          -0.75988124332,
          -0.453989707193,
          -0.333056910999,
          -0.295254305685,
          -0.0698401741128,
          -0.282067376277,
          -0.321645751764,
          -0.412197348947,
          -0.177802002873,
          -0.0804960255979,
          -0.084767294098,
          -0.313290634668,
          -0.453913124011,
          -0.282039282358,
          -0.661531949014,
          -0.1608823753,
          -0.641807473852,
          -0.392901411549,
          -0.10707237216,
          -0.389508620243,
          -0.276990156349,
          -0.256042710466,
          -0.255796601523,
          -0.693632254163,
          -0.294330974369,
          -0.339098128591,
          -0.119016423609,
          -0.798603485996,
          -0.462085995096,
          -0.330240109096,
          -0.0710161617108,
          -0.0422163246446,
          -0.242718795581,
          -0.00825223707792,
          -0.21048615155,
          -0.286324636309,
          -0.245976905751,
          -0.471093573186,
          -0.545361298948,
          -0.294345121367,
          -0.28871462138,
          -0.216099878119,
          -0.149968211349,
          -0.191954062503,
          -0.425557314307,
          -0.222453043939,
          -0.0739076125136,
          -0.831677193863,
          -0.390367290794,
          -0.18029649495,
          -0.0956702970447,
          -0.217926747716,
          -0.180403520368,
          -0.602120676672,
          -0.605716781972,
          -0.373376930387,
          -0.162340621903,
          -0.33486156259,
          -0.0937737354311,
          -0.240460953971,
          -0.207343363898,
          -0.319802168396,
          -0.50478760645,
          -0.41620435878,
          -0.472463270436,
          -0.352777256306,
          -0.135141085476,
          -0.14010104587,
          -0.415742410842,
          -0.220091542068,
          -0.893880836286,
          0.0167383034791,
          -1.23340929611,
          -0.185189991861,
          -0.265381186182,
          -0.314671831056,
          -0.1439993003,
          -0.350866381898,
          -0.744620796618,
          -0.259992119735,
          -0.255686940814,
          -0.383550642272,
          -0.109984599065,
          0.0146947808029,
          -0.158803653009,
          -0.158843478537,
          -0.118070443792,
          -0.21402212667,
          -0.408826444824,
          -0.515413357229,
          -0.248975383505,
          -0.304524775686,
          -0.362467494264,
          -0.323044648864,
          -0.331988781555,
          -0.248106729891,
          -0.162816063963,
          -0.217568423826,
          -0.0539553168103,
          -0.329747063706,
          -0.543502270713,
          -0.0794127748029,
          -0.468709636257,
          -0.305219499499,
          -0.356798747132,
          -0.259851667614,
          -0.384774283828,
          -0.200702415117,
          -0.155798739923,
          -0.177953754799,
          -0.09734600366,
          -0.545075062248,
          -0.169045770955,
          -0.179695762273,
          -0.37321785454,
          -0.226592324053,
          -0.275608639693,
          -0.199194950418,
          -0.0851203658768,
          -0.191857061489,
          -0.142256723336,
          -0.341376256423,
          -0.587856396827,
          -0.143778448518,
          -0.628117843626,
          -0.542778734437,
          -0.4498929447,
          -0.0876215532073,
          -0.525467719006,
          -0.260784398588,
          -0.471616420247,
          -0.540386205728,
          -0.240009815373,
          -0.303705831113,
          -0.235025060122,
          -0.373633113732,
          -0.156128581185,
          -0.0576997586586,
          -0.48200635468,
          0.0223478159801,
          -0.513659980927,
          -0.454074403163,
          -0.488580127885,
          -0.471187087363,
          -0.581294260472,
          -0.413157507815,
          0.00476448506024,
          -0.155089676465,
          -0.367216219311,
          null,
          -0.182721443228,
          -0.198335185747,
          -0.393658412462,
          -0.142709977362,
          -0.264094611403,
          -0.0246505984972,
          -0.462310721153,
          -0.156916256098,
          -0.2001908114,
          -0.582585233883,
          -0.572450871517,
          -0.158493621368,
          -0.0920780944287,
          -0.392091911959,
          -0.397710713388,
          -0.345134069248,
          -0.245429108668,
          -0.39007049399,
          -0.361112601678,
          -0.252610702553,
          -0.47519447185,
          -0.0537405346164,
          -0.665582368263,
          -0.308789337475,
          -0.67541570762,
          -0.392793342176,
          -0.269099098026,
          -0.310397318925,
          -0.386509431542,
          -0.385573776527,
          -0.818111359125,
          -0.260226406775,
          -0.381137104643,
          -0.27913986501,
          -0.186843819213,
          -0.350732366707,
          -0.274935826154,
          -0.108474804744,
          -0.680125396448,
          -0.48758498563,
          -0.368425038828,
          -0.419063636731,
          -0.338210184733,
          -0.310757175569,
          -0.321434867076,
          -0.119050434284,
          -0.699564428612,
          -0.474470284192,
          -0.430342883265,
          -0.609163305764,
          -0.213733593916,
          -0.256995506341,
          -0.283727118476,
          -0.121074511481,
          -0.4588099866,
          -0.426980267953,
          -0.397312883051,
          -0.153677748923,
          -0.210300330512,
          -0.21281150429,
          -0.332033364746,
          -0.270818259114,
          0.0155660989871,
          -0.0580077007133,
          -0.579501364954,
          -0.461063545525,
          -0.226753737327,
          -0.173379488958,
          -0.380101425304,
          -0.212103552711,
          0.0266967107447,
          -0.566477566354,
          -0.338874127328,
          -0.224110446796,
          -0.34298107732,
          -0.679302010914,
          -0.292573317596,
          0.0463742811446,
          -0.281614838247,
          -0.223545505516,
          -0.407502836098,
          null,
          -0.183457421442,
          -0.691638824203,
          -0.256245921081,
          -0.225001718792,
          -0.196175156097,
          -0.196369474857,
          -0.176419523127,
          -0.283542884212,
          -0.126313733692,
          -0.170795731003,
          -0.844925218158,
          -0.17133731684,
          -0.267076858921,
          -0.518938643255,
          -0.365774088182,
          -0.341149796064,
          -0.00641228914094,
          -0.905770158841,
          -0.548747994574,
          -0.528635043436,
          -0.419610435206,
          -0.261775315186,
          -0.919007147355,
          -0.210589822808,
          -0.273344371501,
          -0.670088296954,
          -0.399359457679,
          -0.145073486445,
          -0.148474410407,
          0.193041506597,
          -0.0794881415077,
          -0.239104994008,
          -0.236678667177,
          -0.272168398931,
          -0.267525063011,
          -0.114669645531,
          -0.228663090313,
          -0.24300888133,
          -0.645209018865,
          -0.00935615964511,
          -0.168880758554,
          -0.192187609442,
          -0.113119038278,
          -0.118488397544,
          -0.422663888513,
          -0.0855087395152,
          -0.576170624407,
          -0.285982793929,
          -0.27511461053,
          -0.425990262062,
          -0.335010854675,
          -0.260056118775,
          0.0850906893569,
          -0.30140393107,
          -0.350771935012,
          -0.261990770216,
          -0.270316446159,
          -0.417149684491,
          -0.724638532025,
          -0.301075115898,
          -0.196815543541,
          -0.458451996175,
          -0.360194488789,
          -0.173001627383,
          -0.103862688558,
          -0.213300134955,
          -0.190531574744,
          -0.237636999801,
          -0.440508652242,
          -0.452497913629,
          -0.222928195096,
          -0.264461916431,
          -0.418695639594,
          -0.287564142684,
          -0.547064645539,
          -0.196786358153,
          -0.0187268899911,
          -0.156526486713,
          -0.277503512068,
          -0.0861247373929,
          -0.384933435938,
          -0.430896351114,
          -0.807259270272,
          -0.236801522164,
          -0.182945908083,
          -0.320651453475,
          -0.281469050765,
          -0.811844453603,
          -0.192062809951,
          -0.460839364687,
          -0.488191637554,
          -0.415047809441,
          -0.00195514836894,
          -0.143526075087,
          -0.309320503114,
          -0.200842374603,
          -0.260123216479,
          -0.370083243411,
          -0.130869359201,
          -0.269500686076,
          -0.454920611961,
          -0.00593290795741,
          -0.0200174746726,
          -0.217992827174,
          -0.0320757811497
         ],
         "y0": " ",
         "yaxis": "y"
        }
       ],
       "layout": {
        "legend": {
         "tracegroupgap": 0
        },
        "margin": {
         "t": 60
        },
        "template": {
         "data": {
          "bar": [
           {
            "error_x": {
             "color": "#2a3f5f"
            },
            "error_y": {
             "color": "#2a3f5f"
            },
            "marker": {
             "line": {
              "color": "#E5ECF6",
              "width": 0.5
             },
             "pattern": {
              "fillmode": "overlay",
              "size": 10,
              "solidity": 0.2
             }
            },
            "type": "bar"
           }
          ],
          "barpolar": [
           {
            "marker": {
             "line": {
              "color": "#E5ECF6",
              "width": 0.5
             },
             "pattern": {
              "fillmode": "overlay",
              "size": 10,
              "solidity": 0.2
             }
            },
            "type": "barpolar"
           }
          ],
          "carpet": [
           {
            "aaxis": {
             "endlinecolor": "#2a3f5f",
             "gridcolor": "white",
             "linecolor": "white",
             "minorgridcolor": "white",
             "startlinecolor": "#2a3f5f"
            },
            "baxis": {
             "endlinecolor": "#2a3f5f",
             "gridcolor": "white",
             "linecolor": "white",
             "minorgridcolor": "white",
             "startlinecolor": "#2a3f5f"
            },
            "type": "carpet"
           }
          ],
          "choropleth": [
           {
            "colorbar": {
             "outlinewidth": 0,
             "ticks": ""
            },
            "type": "choropleth"
           }
          ],
          "contour": [
           {
            "colorbar": {
             "outlinewidth": 0,
             "ticks": ""
            },
            "colorscale": [
             [
              0,
              "#0d0887"
             ],
             [
              0.1111111111111111,
              "#46039f"
             ],
             [
              0.2222222222222222,
              "#7201a8"
             ],
             [
              0.3333333333333333,
              "#9c179e"
             ],
             [
              0.4444444444444444,
              "#bd3786"
             ],
             [
              0.5555555555555556,
              "#d8576b"
             ],
             [
              0.6666666666666666,
              "#ed7953"
             ],
             [
              0.7777777777777778,
              "#fb9f3a"
             ],
             [
              0.8888888888888888,
              "#fdca26"
             ],
             [
              1,
              "#f0f921"
             ]
            ],
            "type": "contour"
           }
          ],
          "contourcarpet": [
           {
            "colorbar": {
             "outlinewidth": 0,
             "ticks": ""
            },
            "type": "contourcarpet"
           }
          ],
          "heatmap": [
           {
            "colorbar": {
             "outlinewidth": 0,
             "ticks": ""
            },
            "colorscale": [
             [
              0,
              "#0d0887"
             ],
             [
              0.1111111111111111,
              "#46039f"
             ],
             [
              0.2222222222222222,
              "#7201a8"
             ],
             [
              0.3333333333333333,
              "#9c179e"
             ],
             [
              0.4444444444444444,
              "#bd3786"
             ],
             [
              0.5555555555555556,
              "#d8576b"
             ],
             [
              0.6666666666666666,
              "#ed7953"
             ],
             [
              0.7777777777777778,
              "#fb9f3a"
             ],
             [
              0.8888888888888888,
              "#fdca26"
             ],
             [
              1,
              "#f0f921"
             ]
            ],
            "type": "heatmap"
           }
          ],
          "heatmapgl": [
           {
            "colorbar": {
             "outlinewidth": 0,
             "ticks": ""
            },
            "colorscale": [
             [
              0,
              "#0d0887"
             ],
             [
              0.1111111111111111,
              "#46039f"
             ],
             [
              0.2222222222222222,
              "#7201a8"
             ],
             [
              0.3333333333333333,
              "#9c179e"
             ],
             [
              0.4444444444444444,
              "#bd3786"
             ],
             [
              0.5555555555555556,
              "#d8576b"
             ],
             [
              0.6666666666666666,
              "#ed7953"
             ],
             [
              0.7777777777777778,
              "#fb9f3a"
             ],
             [
              0.8888888888888888,
              "#fdca26"
             ],
             [
              1,
              "#f0f921"
             ]
            ],
            "type": "heatmapgl"
           }
          ],
          "histogram": [
           {
            "marker": {
             "pattern": {
              "fillmode": "overlay",
              "size": 10,
              "solidity": 0.2
             }
            },
            "type": "histogram"
           }
          ],
          "histogram2d": [
           {
            "colorbar": {
             "outlinewidth": 0,
             "ticks": ""
            },
            "colorscale": [
             [
              0,
              "#0d0887"
             ],
             [
              0.1111111111111111,
              "#46039f"
             ],
             [
              0.2222222222222222,
              "#7201a8"
             ],
             [
              0.3333333333333333,
              "#9c179e"
             ],
             [
              0.4444444444444444,
              "#bd3786"
             ],
             [
              0.5555555555555556,
              "#d8576b"
             ],
             [
              0.6666666666666666,
              "#ed7953"
             ],
             [
              0.7777777777777778,
              "#fb9f3a"
             ],
             [
              0.8888888888888888,
              "#fdca26"
             ],
             [
              1,
              "#f0f921"
             ]
            ],
            "type": "histogram2d"
           }
          ],
          "histogram2dcontour": [
           {
            "colorbar": {
             "outlinewidth": 0,
             "ticks": ""
            },
            "colorscale": [
             [
              0,
              "#0d0887"
             ],
             [
              0.1111111111111111,
              "#46039f"
             ],
             [
              0.2222222222222222,
              "#7201a8"
             ],
             [
              0.3333333333333333,
              "#9c179e"
             ],
             [
              0.4444444444444444,
              "#bd3786"
             ],
             [
              0.5555555555555556,
              "#d8576b"
             ],
             [
              0.6666666666666666,
              "#ed7953"
             ],
             [
              0.7777777777777778,
              "#fb9f3a"
             ],
             [
              0.8888888888888888,
              "#fdca26"
             ],
             [
              1,
              "#f0f921"
             ]
            ],
            "type": "histogram2dcontour"
           }
          ],
          "mesh3d": [
           {
            "colorbar": {
             "outlinewidth": 0,
             "ticks": ""
            },
            "type": "mesh3d"
           }
          ],
          "parcoords": [
           {
            "line": {
             "colorbar": {
              "outlinewidth": 0,
              "ticks": ""
             }
            },
            "type": "parcoords"
           }
          ],
          "pie": [
           {
            "automargin": true,
            "type": "pie"
           }
          ],
          "scatter": [
           {
            "fillpattern": {
             "fillmode": "overlay",
             "size": 10,
             "solidity": 0.2
            },
            "type": "scatter"
           }
          ],
          "scatter3d": [
           {
            "line": {
             "colorbar": {
              "outlinewidth": 0,
              "ticks": ""
             }
            },
            "marker": {
             "colorbar": {
              "outlinewidth": 0,
              "ticks": ""
             }
            },
            "type": "scatter3d"
           }
          ],
          "scattercarpet": [
           {
            "marker": {
             "colorbar": {
              "outlinewidth": 0,
              "ticks": ""
             }
            },
            "type": "scattercarpet"
           }
          ],
          "scattergeo": [
           {
            "marker": {
             "colorbar": {
              "outlinewidth": 0,
              "ticks": ""
             }
            },
            "type": "scattergeo"
           }
          ],
          "scattergl": [
           {
            "marker": {
             "colorbar": {
              "outlinewidth": 0,
              "ticks": ""
             }
            },
            "type": "scattergl"
           }
          ],
          "scattermapbox": [
           {
            "marker": {
             "colorbar": {
              "outlinewidth": 0,
              "ticks": ""
             }
            },
            "type": "scattermapbox"
           }
          ],
          "scatterpolar": [
           {
            "marker": {
             "colorbar": {
              "outlinewidth": 0,
              "ticks": ""
             }
            },
            "type": "scatterpolar"
           }
          ],
          "scatterpolargl": [
           {
            "marker": {
             "colorbar": {
              "outlinewidth": 0,
              "ticks": ""
             }
            },
            "type": "scatterpolargl"
           }
          ],
          "scatterternary": [
           {
            "marker": {
             "colorbar": {
              "outlinewidth": 0,
              "ticks": ""
             }
            },
            "type": "scatterternary"
           }
          ],
          "surface": [
           {
            "colorbar": {
             "outlinewidth": 0,
             "ticks": ""
            },
            "colorscale": [
             [
              0,
              "#0d0887"
             ],
             [
              0.1111111111111111,
              "#46039f"
             ],
             [
              0.2222222222222222,
              "#7201a8"
             ],
             [
              0.3333333333333333,
              "#9c179e"
             ],
             [
              0.4444444444444444,
              "#bd3786"
             ],
             [
              0.5555555555555556,
              "#d8576b"
             ],
             [
              0.6666666666666666,
              "#ed7953"
             ],
             [
              0.7777777777777778,
              "#fb9f3a"
             ],
             [
              0.8888888888888888,
              "#fdca26"
             ],
             [
              1,
              "#f0f921"
             ]
            ],
            "type": "surface"
           }
          ],
          "table": [
           {
            "cells": {
             "fill": {
              "color": "#EBF0F8"
             },
             "line": {
              "color": "white"
             }
            },
            "header": {
             "fill": {
              "color": "#C8D4E3"
             },
             "line": {
              "color": "white"
             }
            },
            "type": "table"
           }
          ]
         },
         "layout": {
          "annotationdefaults": {
           "arrowcolor": "#2a3f5f",
           "arrowhead": 0,
           "arrowwidth": 1
          },
          "autotypenumbers": "strict",
          "coloraxis": {
           "colorbar": {
            "outlinewidth": 0,
            "ticks": ""
           }
          },
          "colorscale": {
           "diverging": [
            [
             0,
             "#8e0152"
            ],
            [
             0.1,
             "#c51b7d"
            ],
            [
             0.2,
             "#de77ae"
            ],
            [
             0.3,
             "#f1b6da"
            ],
            [
             0.4,
             "#fde0ef"
            ],
            [
             0.5,
             "#f7f7f7"
            ],
            [
             0.6,
             "#e6f5d0"
            ],
            [
             0.7,
             "#b8e186"
            ],
            [
             0.8,
             "#7fbc41"
            ],
            [
             0.9,
             "#4d9221"
            ],
            [
             1,
             "#276419"
            ]
           ],
           "sequential": [
            [
             0,
             "#0d0887"
            ],
            [
             0.1111111111111111,
             "#46039f"
            ],
            [
             0.2222222222222222,
             "#7201a8"
            ],
            [
             0.3333333333333333,
             "#9c179e"
            ],
            [
             0.4444444444444444,
             "#bd3786"
            ],
            [
             0.5555555555555556,
             "#d8576b"
            ],
            [
             0.6666666666666666,
             "#ed7953"
            ],
            [
             0.7777777777777778,
             "#fb9f3a"
            ],
            [
             0.8888888888888888,
             "#fdca26"
            ],
            [
             1,
             "#f0f921"
            ]
           ],
           "sequentialminus": [
            [
             0,
             "#0d0887"
            ],
            [
             0.1111111111111111,
             "#46039f"
            ],
            [
             0.2222222222222222,
             "#7201a8"
            ],
            [
             0.3333333333333333,
             "#9c179e"
            ],
            [
             0.4444444444444444,
             "#bd3786"
            ],
            [
             0.5555555555555556,
             "#d8576b"
            ],
            [
             0.6666666666666666,
             "#ed7953"
            ],
            [
             0.7777777777777778,
             "#fb9f3a"
            ],
            [
             0.8888888888888888,
             "#fdca26"
            ],
            [
             1,
             "#f0f921"
            ]
           ]
          },
          "colorway": [
           "#636efa",
           "#EF553B",
           "#00cc96",
           "#ab63fa",
           "#FFA15A",
           "#19d3f3",
           "#FF6692",
           "#B6E880",
           "#FF97FF",
           "#FECB52"
          ],
          "font": {
           "color": "#2a3f5f"
          },
          "geo": {
           "bgcolor": "white",
           "lakecolor": "white",
           "landcolor": "#E5ECF6",
           "showlakes": true,
           "showland": true,
           "subunitcolor": "white"
          },
          "hoverlabel": {
           "align": "left"
          },
          "hovermode": "closest",
          "mapbox": {
           "style": "light"
          },
          "paper_bgcolor": "white",
          "plot_bgcolor": "#E5ECF6",
          "polar": {
           "angularaxis": {
            "gridcolor": "white",
            "linecolor": "white",
            "ticks": ""
           },
           "bgcolor": "#E5ECF6",
           "radialaxis": {
            "gridcolor": "white",
            "linecolor": "white",
            "ticks": ""
           }
          },
          "scene": {
           "xaxis": {
            "backgroundcolor": "#E5ECF6",
            "gridcolor": "white",
            "gridwidth": 2,
            "linecolor": "white",
            "showbackground": true,
            "ticks": "",
            "zerolinecolor": "white"
           },
           "yaxis": {
            "backgroundcolor": "#E5ECF6",
            "gridcolor": "white",
            "gridwidth": 2,
            "linecolor": "white",
            "showbackground": true,
            "ticks": "",
            "zerolinecolor": "white"
           },
           "zaxis": {
            "backgroundcolor": "#E5ECF6",
            "gridcolor": "white",
            "gridwidth": 2,
            "linecolor": "white",
            "showbackground": true,
            "ticks": "",
            "zerolinecolor": "white"
           }
          },
          "shapedefaults": {
           "line": {
            "color": "#2a3f5f"
           }
          },
          "ternary": {
           "aaxis": {
            "gridcolor": "white",
            "linecolor": "white",
            "ticks": ""
           },
           "baxis": {
            "gridcolor": "white",
            "linecolor": "white",
            "ticks": ""
           },
           "bgcolor": "#E5ECF6",
           "caxis": {
            "gridcolor": "white",
            "linecolor": "white",
            "ticks": ""
           }
          },
          "title": {
           "x": 0.05
          },
          "xaxis": {
           "automargin": true,
           "gridcolor": "white",
           "linecolor": "white",
           "ticks": "",
           "title": {
            "standoff": 15
           },
           "zerolinecolor": "white",
           "zerolinewidth": 2
          },
          "yaxis": {
           "automargin": true,
           "gridcolor": "white",
           "linecolor": "white",
           "ticks": "",
           "title": {
            "standoff": 15
           },
           "zerolinecolor": "white",
           "zerolinewidth": 2
          }
         }
        },
        "violinmode": "group",
        "xaxis": {
         "anchor": "y",
         "domain": [
          0,
          1
         ],
         "title": {
          "text": "MTAP Expression Quantile"
         }
        },
        "yaxis": {
         "anchor": "x",
         "domain": [
          0,
          1
         ],
         "title": {
          "text": "RIOK1"
         }
        }
       }
      }
     },
     "metadata": {},
     "output_type": "display_data"
    }
   ],
   "source": [
    "joint_data['MTAP Expression Quantile'] = pd.qcut( joint_data['Expression Public 23Q4 MTAP'], 6, labels=False, duplicates='drop' )\n",
    "\n",
    "for gene in ['PRMT5', 'MAT2A', 'RIOK1']:\n",
    "    fig = px.violin( joint_data, x = 'MTAP Expression Quantile', y = gene,  points = 'all', box=True  )\n",
    "    fig.show()"
   ]
  },
  {
   "cell_type": "markdown",
   "metadata": {},
   "source": [
    "And as expected, we observe the same behavior: whenever MTAP isn't expressed, we observe stronger gene dependency. "
   ]
  },
  {
   "cell_type": "markdown",
   "metadata": {},
   "source": [
    "We've so far done a few things:\n",
    "* Loaded an entire dataset for Gene dependency. This data tells us which genes are essential for the growth of certain cell lines.\n",
    "* Merged this data expression and copy number data for a small subset of genes.  \n",
    "* Found that MAT2A, PRMT5 and RIOK1's dependencies are strongly correlated with MTAP's expression and copy number: corroborating findings that MTAP's deletion presents an opportunity for treatment using MAT2A/PRMT5/RIOK1.\n",
    "\n",
    "Let's now ask a few simpler questions:\n",
    "* What happens on different cancer types? You can use the features lineage_1, lineage_2 and lineage_3 in the joint_data to explore. For instance... which is the gene that has the strongest dependency per lineage type?"
   ]
  },
  {
   "cell_type": "code",
   "execution_count": 155,
   "metadata": {},
   "outputs": [
    {
     "data": {
      "text/html": [
       "<div>\n",
       "<style scoped>\n",
       "    .dataframe tbody tr th:only-of-type {\n",
       "        vertical-align: middle;\n",
       "    }\n",
       "\n",
       "    .dataframe tbody tr th {\n",
       "        vertical-align: top;\n",
       "    }\n",
       "\n",
       "    .dataframe thead th {\n",
       "        text-align: right;\n",
       "    }\n",
       "</style>\n",
       "<table border=\"1\" class=\"dataframe\">\n",
       "  <thead>\n",
       "    <tr style=\"text-align: right;\">\n",
       "      <th></th>\n",
       "      <th>A1BG</th>\n",
       "      <th>NAT2</th>\n",
       "      <th>ADA</th>\n",
       "      <th>CDH2</th>\n",
       "      <th>AKT3</th>\n",
       "      <th>MED6</th>\n",
       "      <th>NR2E3</th>\n",
       "      <th>NAALAD2</th>\n",
       "      <th>DUXB</th>\n",
       "      <th>PDZK1P1</th>\n",
       "      <th>...</th>\n",
       "      <th>RCE1</th>\n",
       "      <th>HNRNPDL</th>\n",
       "      <th>DMTF1</th>\n",
       "      <th>PPP4R1</th>\n",
       "      <th>CDH1</th>\n",
       "      <th>SLC12A6</th>\n",
       "      <th>KCNE2</th>\n",
       "      <th>DGCR2</th>\n",
       "      <th>CASP8AP2</th>\n",
       "      <th>SCO2</th>\n",
       "    </tr>\n",
       "    <tr>\n",
       "      <th>lineage_1</th>\n",
       "      <th></th>\n",
       "      <th></th>\n",
       "      <th></th>\n",
       "      <th></th>\n",
       "      <th></th>\n",
       "      <th></th>\n",
       "      <th></th>\n",
       "      <th></th>\n",
       "      <th></th>\n",
       "      <th></th>\n",
       "      <th></th>\n",
       "      <th></th>\n",
       "      <th></th>\n",
       "      <th></th>\n",
       "      <th></th>\n",
       "      <th></th>\n",
       "      <th></th>\n",
       "      <th></th>\n",
       "      <th></th>\n",
       "      <th></th>\n",
       "      <th></th>\n",
       "    </tr>\n",
       "  </thead>\n",
       "  <tbody>\n",
       "    <tr>\n",
       "      <th>Biliary Tract</th>\n",
       "      <td>NaN</td>\n",
       "      <td>NaN</td>\n",
       "      <td>NaN</td>\n",
       "      <td>-0.134051</td>\n",
       "      <td>0.185132</td>\n",
       "      <td>0.078481</td>\n",
       "      <td>0.015465</td>\n",
       "      <td>NaN</td>\n",
       "      <td>NaN</td>\n",
       "      <td>NaN</td>\n",
       "      <td>...</td>\n",
       "      <td>-0.522300</td>\n",
       "      <td>-0.114177</td>\n",
       "      <td>0.139492</td>\n",
       "      <td>-0.189923</td>\n",
       "      <td>0.105446</td>\n",
       "      <td>NaN</td>\n",
       "      <td>0.000362</td>\n",
       "      <td>NaN</td>\n",
       "      <td>-0.342565</td>\n",
       "      <td>NaN</td>\n",
       "    </tr>\n",
       "    <tr>\n",
       "      <th>Bladder/Urinary Tract</th>\n",
       "      <td>-0.034754</td>\n",
       "      <td>-0.097546</td>\n",
       "      <td>-0.009613</td>\n",
       "      <td>-0.051750</td>\n",
       "      <td>-0.065325</td>\n",
       "      <td>-0.408861</td>\n",
       "      <td>-0.152046</td>\n",
       "      <td>-0.002347</td>\n",
       "      <td>0.120372</td>\n",
       "      <td>0.085327</td>\n",
       "      <td>...</td>\n",
       "      <td>-0.034185</td>\n",
       "      <td>-0.006242</td>\n",
       "      <td>-0.111248</td>\n",
       "      <td>0.080209</td>\n",
       "      <td>-0.066471</td>\n",
       "      <td>0.081051</td>\n",
       "      <td>-0.013882</td>\n",
       "      <td>0.105869</td>\n",
       "      <td>-0.357238</td>\n",
       "      <td>-0.124898</td>\n",
       "    </tr>\n",
       "    <tr>\n",
       "      <th>Bone</th>\n",
       "      <td>0.019898</td>\n",
       "      <td>0.015789</td>\n",
       "      <td>0.068316</td>\n",
       "      <td>0.063047</td>\n",
       "      <td>0.086339</td>\n",
       "      <td>-0.169326</td>\n",
       "      <td>-0.153619</td>\n",
       "      <td>0.132095</td>\n",
       "      <td>0.111490</td>\n",
       "      <td>0.030345</td>\n",
       "      <td>...</td>\n",
       "      <td>0.021702</td>\n",
       "      <td>-0.152583</td>\n",
       "      <td>0.015087</td>\n",
       "      <td>-0.016372</td>\n",
       "      <td>-0.058102</td>\n",
       "      <td>-0.001920</td>\n",
       "      <td>0.027272</td>\n",
       "      <td>0.140220</td>\n",
       "      <td>-0.401351</td>\n",
       "      <td>-0.021490</td>\n",
       "    </tr>\n",
       "    <tr>\n",
       "      <th>Bowel</th>\n",
       "      <td>-0.076850</td>\n",
       "      <td>-0.053574</td>\n",
       "      <td>-0.086468</td>\n",
       "      <td>0.062052</td>\n",
       "      <td>0.070845</td>\n",
       "      <td>-0.326630</td>\n",
       "      <td>-0.085908</td>\n",
       "      <td>0.107212</td>\n",
       "      <td>0.120195</td>\n",
       "      <td>-0.021937</td>\n",
       "      <td>...</td>\n",
       "      <td>-0.079436</td>\n",
       "      <td>-0.079643</td>\n",
       "      <td>-0.019285</td>\n",
       "      <td>-0.039689</td>\n",
       "      <td>-0.023380</td>\n",
       "      <td>0.116260</td>\n",
       "      <td>0.017792</td>\n",
       "      <td>0.061854</td>\n",
       "      <td>-0.524577</td>\n",
       "      <td>0.025850</td>\n",
       "    </tr>\n",
       "    <tr>\n",
       "      <th>Breast</th>\n",
       "      <td>-0.015329</td>\n",
       "      <td>-0.057465</td>\n",
       "      <td>0.007641</td>\n",
       "      <td>0.008477</td>\n",
       "      <td>0.061731</td>\n",
       "      <td>-0.333732</td>\n",
       "      <td>-0.136560</td>\n",
       "      <td>0.096272</td>\n",
       "      <td>0.139046</td>\n",
       "      <td>0.007200</td>\n",
       "      <td>...</td>\n",
       "      <td>-0.068192</td>\n",
       "      <td>-0.041876</td>\n",
       "      <td>0.082791</td>\n",
       "      <td>0.023083</td>\n",
       "      <td>0.021964</td>\n",
       "      <td>0.086839</td>\n",
       "      <td>0.003523</td>\n",
       "      <td>0.073731</td>\n",
       "      <td>-0.507736</td>\n",
       "      <td>0.021587</td>\n",
       "    </tr>\n",
       "  </tbody>\n",
       "</table>\n",
       "<p>5 rows × 17309 columns</p>\n",
       "</div>"
      ],
      "text/plain": [
       "                           A1BG      NAT2       ADA      CDH2      AKT3  \\\n",
       "lineage_1                                                                 \n",
       "Biliary Tract               NaN       NaN       NaN -0.134051  0.185132   \n",
       "Bladder/Urinary Tract -0.034754 -0.097546 -0.009613 -0.051750 -0.065325   \n",
       "Bone                   0.019898  0.015789  0.068316  0.063047  0.086339   \n",
       "Bowel                 -0.076850 -0.053574 -0.086468  0.062052  0.070845   \n",
       "Breast                -0.015329 -0.057465  0.007641  0.008477  0.061731   \n",
       "\n",
       "                           MED6     NR2E3   NAALAD2      DUXB   PDZK1P1  ...  \\\n",
       "lineage_1                                                                ...   \n",
       "Biliary Tract          0.078481  0.015465       NaN       NaN       NaN  ...   \n",
       "Bladder/Urinary Tract -0.408861 -0.152046 -0.002347  0.120372  0.085327  ...   \n",
       "Bone                  -0.169326 -0.153619  0.132095  0.111490  0.030345  ...   \n",
       "Bowel                 -0.326630 -0.085908  0.107212  0.120195 -0.021937  ...   \n",
       "Breast                -0.333732 -0.136560  0.096272  0.139046  0.007200  ...   \n",
       "\n",
       "                           RCE1   HNRNPDL     DMTF1    PPP4R1      CDH1  \\\n",
       "lineage_1                                                                 \n",
       "Biliary Tract         -0.522300 -0.114177  0.139492 -0.189923  0.105446   \n",
       "Bladder/Urinary Tract -0.034185 -0.006242 -0.111248  0.080209 -0.066471   \n",
       "Bone                   0.021702 -0.152583  0.015087 -0.016372 -0.058102   \n",
       "Bowel                 -0.079436 -0.079643 -0.019285 -0.039689 -0.023380   \n",
       "Breast                -0.068192 -0.041876  0.082791  0.023083  0.021964   \n",
       "\n",
       "                        SLC12A6     KCNE2     DGCR2  CASP8AP2      SCO2  \n",
       "lineage_1                                                                \n",
       "Biliary Tract               NaN  0.000362       NaN -0.342565       NaN  \n",
       "Bladder/Urinary Tract  0.081051 -0.013882  0.105869 -0.357238 -0.124898  \n",
       "Bone                  -0.001920  0.027272  0.140220 -0.401351 -0.021490  \n",
       "Bowel                  0.116260  0.017792  0.061854 -0.524577  0.025850  \n",
       "Breast                 0.086839  0.003523  0.073731 -0.507736  0.021587  \n",
       "\n",
       "[5 rows x 17309 columns]"
      ]
     },
     "execution_count": 155,
     "metadata": {},
     "output_type": "execute_result"
    }
   ],
   "source": [
    "genes = df.columns\n",
    "lineages = joint_data['lineage_1'].unique()\n",
    "\n",
    "median_dep_per_lineage = joint_data.groupby('lineage_1')[genes].median()\n",
    "median_dep_per_lineage.head(5)"
   ]
  },
  {
   "cell_type": "code",
   "execution_count": 156,
   "metadata": {},
   "outputs": [
    {
     "data": {
      "text/plain": [
       "LOC100130331   -1.720645\n",
       "SF3B2          -1.649171\n",
       "RBX1           -1.648663\n",
       "RPL14          -1.581234\n",
       "SNRPD1         -1.561428\n",
       "RPL5           -1.524563\n",
       "RPL7           -1.515645\n",
       "CTNNB1         -1.495507\n",
       "COPB1          -1.492408\n",
       "RPS27A         -1.439314\n",
       "Name: Bowel, dtype: float64"
      ]
     },
     "execution_count": 156,
     "metadata": {},
     "output_type": "execute_result"
    }
   ],
   "source": [
    "results = {}\n",
    "for lineage in lineages:\n",
    "    results[lineage] = median_dep_per_lineage.loc[lineage].sort_values(ascending=True).iloc[:10]\n",
    "\n",
    "results['Bowel']"
   ]
  },
  {
   "cell_type": "markdown",
   "metadata": {},
   "source": [
    "### Some light machine learning\n",
    "\n",
    "So previously we identified that whenever MTAP's expression/copy number was low, that presented an opportunity to target MAT2A/PRMT5/RIOK1. But what if we could go more granular and attempt to predict the expected dependency of a given gene using way more features?\n",
    "\n",
    "That's the ultimate goal - i.e., take a series of measurements - and based on these measurements know exactly the right targets for treatment. Well let's create a toy model for that!"
   ]
  },
  {
   "cell_type": "markdown",
   "metadata": {},
   "source": [
    "The following function will do the following: take the joint dataset we create it, subset it on X_features, and use these features to train a model to predict y. It will then use this model to make predictions on a testing data, and use these predictions to evaluate the quality of the model trained with those features. "
   ]
  },
  {
   "cell_type": "code",
   "execution_count": 225,
   "metadata": {},
   "outputs": [],
   "source": [
    "from sklearn.linear_model import LinearRegression\n",
    "from sklearn.metrics import mean_squared_error, r2_score \n",
    "from sklearn.model_selection import train_test_split\n",
    "\n",
    "def get_and_evaluate_linear_model( model, data, X_features, y_feature, random_state = 42  ):\n",
    "    ''' This function takes a model, a dataframe, a list of features and a target feature and returns a dictionary with the model, \n",
    "    the r2, the mse, the predicted values and the test values'''\n",
    "\n",
    "    data_subset = data[ X_features + [ y_feature ] ].dropna()\n",
    "    X = data_subset[ X_features ]\n",
    "    y = data_subset[ y_feature ]\n",
    "\n",
    "    #splitting the data into train and test\n",
    "    X_train, X_test, y_train, y_test = train_test_split(X, y, test_size=0.4, random_state= random_state)\n",
    "    model.fit(X_train, y_train)\n",
    "\n",
    "    #evaluating the model with r2 and mse\n",
    "    y_pred = model.predict(X_test)\n",
    "    r2 = r2_score(y_test, y_pred)\n",
    "    mse = mean_squared_error(y_test, y_pred)\n",
    "    \n",
    "    \n",
    "    output = {}\n",
    "    output['model'] = model\n",
    "    output['r2'] = r2\n",
    "    output['mse'] = mse\n",
    "    output['y_pred_test'] = y_pred\n",
    "    output['y_test'] = y_test\n",
    "    output['features'] = X_features\n",
    "    output['n_features'] = len(X_features)\n",
    "    output['y_feature'] = y_feature\n",
    "    output['model_name'] = str(model)\n",
    "    output['y_pred'] = model.predict(data_subset[X_features])\n",
    "    output['y'] = data_subset[y_feature]\n",
    "    try:\n",
    "        output['coefficients'] = { X_features[i]: model.coef_[i] for i in range(len(X_features))}\n",
    "    except:\n",
    "        output['coefficients'] = None \n",
    "    \n",
    "    return output "
   ]
  },
  {
   "cell_type": "markdown",
   "metadata": {},
   "source": [
    "Let's first try it with a baseline model. This is a simple linear regression that predicts PRMT5 using MTAP's copy number. As we saw a 50% correlation, we expect this model to do quite well."
   ]
  },
  {
   "cell_type": "code",
   "execution_count": 247,
   "metadata": {},
   "outputs": [
    {
     "name": "stdout",
     "output_type": "stream",
     "text": [
      "Features:  Copy Number Public 23Q4 MTAP\n",
      "R-squared (the higher the better):  0.3187891279066697\n",
      "mean squared error (the lower the better):  0.04706268360546403\n",
      "Coefficients: \n",
      "Copy Number Public 23Q4 MTAP 0.44703043574569923\n"
     ]
    }
   ],
   "source": [
    "model = LinearRegression()\n",
    "output = get_and_evaluate_linear_model( model, joint_data, ['Copy Number Public 23Q4 MTAP'], 'PRMT5' )\n",
    "\n",
    "print( 'Features: ', ', '.join(output['features']) )\n",
    "print( 'R-squared (the higher the better): ', output['r2'] )\n",
    "print( 'mean squared error (the lower the better): ', output['mse'] )\n",
    "\n",
    "print( 'Coefficients: ' )\n",
    "for feature, coefficient in sorted( output['coefficients'].items(), key= lambda x: abs(x[1]), reverse=True ):\n",
    "    print( feature, coefficient )"
   ]
  },
  {
   "cell_type": "code",
   "execution_count": 248,
   "metadata": {},
   "outputs": [
    {
     "data": {
      "application/vnd.plotly.v1+json": {
       "config": {
        "plotlyServerURL": "https://plot.ly"
       },
       "data": [
        {
         "hovertemplate": "Predictions (testing data)=%{x}<br>Realized PRMT5 (testing data)=%{y}<extra></extra>",
         "legendgroup": "",
         "marker": {
          "color": "#636efa",
          "symbol": "circle"
         },
         "mode": "markers",
         "name": "",
         "orientation": "v",
         "showlegend": false,
         "type": "scatter",
         "x": [
          -0.27228932677182477,
          -0.32960709538491056,
          -0.34836119840935176,
          -0.7111227037157707,
          -0.3124949780695134,
          -0.7109159685249364,
          -0.26428544625213857,
          -0.25666608677476144,
          -0.40935254243544544,
          -0.7111763677003436,
          -0.7111764201303794,
          -0.041436515112861505,
          -0.1553884644287994,
          -0.22903178078159486,
          -0.26380794428070076,
          -0.4320890289005711,
          -0.3840624337717852,
          -0.4810999576095668,
          -0.3566782181882098,
          -0.7111764226985359,
          -0.2719928903199966,
          -0.7111758150937512,
          -0.17457167325342837,
          -0.30710246899100063,
          -0.3161329930093601,
          -0.3343021556317752,
          -0.2694069122304045,
          -0.7111764198637384,
          -0.2561639703879762,
          -0.3224897031092255,
          -0.24788877872385762,
          -0.3587780192517296,
          -0.25806411594450185,
          -0.2719193665930067,
          -0.32559541525906854,
          -0.18342717576653333,
          -0.344580862426067,
          -0.3560214456379402,
          -0.6012515084767565,
          -0.5211888918005981,
          -0.2696779744003528,
          -0.24135796137587762,
          -0.4345930917625447,
          -0.13573247269698097,
          -0.40645296642937934,
          -0.27552334547260676,
          -0.6000691145596203,
          -0.47271247194191846,
          -0.36288351939424107,
          -0.24023722066176895,
          -0.256591472006318,
          -0.33926476323704513,
          -0.7109890474118739,
          -0.7109257744201206,
          -0.2833227537749252,
          -0.43625798296413015,
          -0.3826671117852966,
          -0.5074363754273803,
          -0.25716782143644557,
          -0.22873916923909182,
          -0.25976551240480067,
          -0.27316082977580247,
          -0.25864278422147186,
          -0.285849555906814,
          -0.30109848205275713,
          -0.3491948422044946,
          -0.5064413808825364,
          -0.20852442150826467,
          -0.2553169728245048,
          -0.2866701478501722,
          -0.34027832838604877,
          -0.7111764031523692,
          -0.7111764185971903,
          -0.7111763010012272,
          -0.5208842119128392,
          -0.25423733413650135,
          -0.22209404736922833,
          -0.5826709796901025,
          -0.31106909414122635,
          -0.7104099408128244,
          -0.26219937055961895,
          -0.20879685516159396,
          -0.17014076148443302,
          -0.37850663221268316,
          -0.2778821759237361,
          -0.4225461116843141,
          -0.35837267126846184,
          -0.24239398990069128,
          -0.27643901891763506,
          -0.7105081052171046,
          -0.21795941654017326,
          -0.5160744542395436,
          -0.265887941714009,
          -0.4276325158643358,
          -0.2849428876038993,
          -0.3408623649711188,
          -0.3351307911341521,
          -0.4735951359305586,
          -0.30358133786654,
          -0.2485390512027178,
          -0.4135191782917662,
          -0.4258862887461943,
          -0.4412035327081437,
          -0.2428443834938297,
          -0.371600813483857,
          -0.699516908366744,
          -0.33827172596484667,
          -0.27975209589658845,
          -0.52618309213613,
          -0.3307264504217924,
          -0.2575422913781024,
          -0.7105518481705958,
          -0.3204007950248561,
          -0.6649993337567738,
          -0.4054517981917429,
          -0.26036403827857774,
          -0.3632223326479403,
          -0.7111763886472245,
          -0.3896608086382199,
          -0.5655187712404627,
          -0.2654243429875089,
          -0.4519493761077596,
          -0.42490052908491305,
          -0.701976376718772,
          -0.2770879908475297,
          -0.4650992053260674,
          -0.49575627808622363,
          -0.417560479311138,
          -0.45146073507172135,
          -0.16786897634289988,
          -0.3372755515942547,
          -0.7103959764561874,
          -0.29041151584267816,
          -0.047933941835649585,
          -0.2772046986161047,
          -0.2738191666719708,
          -0.27303785183097107,
          -0.34282712427092926,
          -0.299661151328687,
          -0.2579806337857081,
          -0.27095636346496577,
          -0.1632665189871516,
          -0.44022997391179347,
          -0.11249547277033445,
          -0.47003874707653237,
          -0.34648008789790147,
          -0.470280897292351,
          -0.7111764161005142,
          -0.3665949452148454,
          -0.32574969076301297,
          -0.3681559802739281,
          -0.2572435005010157,
          -0.24513103562856697,
          -0.7111764227778005,
          -0.1495954286669926,
          -0.7045625499728091,
          -0.32212048537122123,
          -0.017188824016787008,
          -0.4335332134000648,
          -0.29577756799463956,
          -0.24628792069195676,
          -0.33499721365221075,
          -0.26287897903346474,
          -0.26958689447864786,
          -0.3558860488157135,
          -0.453430946942508,
          -0.41075790853930644,
          -0.2907522489488419,
          -0.3407434909828133,
          -0.3633287547985662,
          -0.710223058675947,
          -0.313094239799241,
          -0.7069306801685504,
          -0.5868875862571115,
          -0.3601970763541576,
          -0.2961472412239746,
          -0.2476637857050103,
          -0.41947944619401795,
          -0.23377191573584338,
          -0.4165562628213705,
          -0.16744256357943244,
          -0.29171239126040494,
          -0.7111764080712196,
          -0.7109561850264309,
          -0.48243785310693843,
          -0.47547626495944334,
          -0.7109539976279111,
          -0.40829457283003273,
          -0.26878056643596593,
          -0.24109633981526918,
          -0.265695540945091,
          -0.28112116951087773,
          -0.30223526186573574,
          -0.6167400563832633,
          -0.41502927716490357,
          -0.2682686516793263,
          -0.2021895155325517,
          -0.31538636670723974,
          -0.21336217959029746,
          -0.30915058403524065,
          -0.24748525036312274,
          -0.3643276722818539,
          -0.4025709345980465,
          -0.7111764213721022,
          -0.7059241719615901,
          -0.2813847880547815,
          -0.3812660152486964,
          -0.7014819917927977,
          -0.7111761739870589,
          -0.43889322524595537,
          -0.410202014349612,
          -0.3310759408644155,
          -0.2525993423723751,
          -0.25547463583848884,
          -0.2594537740115391,
          -0.2982430533319228,
          -0.2613116488363938,
          -0.20104265409010091,
          -0.27706784394084133,
          -0.45016950888485463,
          -0.26317766460825676,
          -0.42953935969890233,
          -0.2555496032169022,
          -0.21728451812955352,
          -0.7111763951204946,
          -0.25642593277788467,
          -0.7111764225956151,
          -0.3517786933481246,
          -0.24529869169262292,
          -0.4519335440163016,
          -0.7108218864141409,
          -0.2784418033188737,
          -0.3371905797421541,
          -0.3403277897871384,
          -0.3916353294422677,
          -0.4820374201158253,
          -0.23987065410302094,
          -0.5340691481748456,
          -0.26576064708374514,
          -0.7111764202921828,
          -0.25243963136944564,
          -0.2959626461299416,
          -0.34088130690615326,
          -0.5128582178054482,
          -0.26775565823007547,
          -0.339392084874026,
          -0.442814500037309,
          -0.2352052784444561,
          -0.35929957955725367,
          -0.2655287320759332,
          -0.25722429917326983,
          -0.35936630788266405,
          -0.7109624378099106,
          -0.3239910596899555,
          -0.3271357393075911,
          -0.27833516349116977,
          -0.39114668885280374,
          -0.4163373730827213,
          -0.4193225988126347,
          -0.49517041699394426
         ],
         "xaxis": "x",
         "y": [
          -0.279944080765,
          -0.230628612988,
          -0.26815347282,
          -0.656389929569,
          -0.286349723392,
          -1.21910549364,
          -0.259194900869,
          -0.302008234393,
          -0.154733106695,
          -1.18280828285,
          -0.433152103708,
          -0.163653553844,
          -0.471315324692,
          -0.179742922137,
          -0.164882090755,
          -0.350775042933,
          -0.380673980288,
          -0.467874425832,
          -0.307144149833,
          -1.10418887451,
          -0.192709759353,
          -0.858340847078,
          -0.305053480126,
          -0.343568066306,
          0.0969628285016,
          -0.154749352445,
          -0.22923882622,
          -0.602534975479,
          -0.267774017457,
          -0.156411421817,
          -0.166676937548,
          -0.237090913251,
          -0.225643517955,
          -0.269937756934,
          -0.308400479969,
          -0.227477464377,
          -0.221481379658,
          -0.128827720976,
          -0.813016804156,
          -0.192105239386,
          -0.422761180701,
          -0.296632579582,
          -0.168703252502,
          -0.152057335308,
          -0.0175540699385,
          -0.502752029504,
          -0.847359830831,
          -0.0932979131434,
          -0.195115559995,
          -0.416519456916,
          -0.364889362036,
          -0.609858619782,
          -1.07725258066,
          -0.977075043472,
          -0.241060559277,
          -0.144109059798,
          -0.333748281639,
          -0.13824826058,
          -0.319043457834,
          -0.371259986303,
          -0.255323808146,
          -0.30875048902,
          -0.181394760611,
          0.0871084988512,
          -0.146375403663,
          -0.151034923551,
          -0.272284513889,
          -0.505599086622,
          -0.0388717431174,
          -0.180789744882,
          -0.340114091085,
          -0.926547191447,
          -0.481849536628,
          -0.507476279657,
          -0.273946058417,
          -0.396298295164,
          -0.297251313019,
          -0.667858889438,
          -0.30704867506,
          -0.792697069161,
          -0.279261671056,
          -0.480405524048,
          -0.262273753334,
          -0.325857617826,
          -0.145537872068,
          -0.187300591733,
          -0.310340209958,
          -0.393014305669,
          -0.457723839251,
          -1.10563991246,
          -0.680209279377,
          -0.385941205552,
          -0.134330450265,
          -1.04002784491,
          -0.263027408453,
          -0.251275520996,
          -0.466801553104,
          -0.269551392493,
          -0.19743347519,
          -0.109797639489,
          -0.660962070995,
          -0.0444838968382,
          -0.297006627241,
          -0.376807352566,
          -0.339017682147,
          -0.470239812308,
          -0.261664205223,
          -0.221327358495,
          -0.442666398135,
          -0.161637770359,
          -0.12426595425,
          -0.477136961949,
          -0.227214579856,
          -0.972560576308,
          -0.265344971504,
          -0.2528088714,
          -0.397432082797,
          -1.01708934376,
          -0.180289754062,
          -0.290089263787,
          -0.098794984339,
          -0.43262521243,
          -0.339766216759,
          -0.924157763745,
          -0.509078038634,
          -0.181395463618,
          -0.23177446631,
          -0.0672471461495,
          -0.1432450697,
          -0.244977554187,
          -0.337661414922,
          -0.867132433045,
          -0.229320541256,
          -0.272066670869,
          -0.0697697132519,
          -0.0715797983684,
          -0.479877318527,
          -0.2657944176,
          -0.0479342818588,
          -0.328999512942,
          -0.204179256764,
          -0.391771776035,
          -0.106283622682,
          -0.299731180246,
          -0.131597358299,
          -0.389781038304,
          -0.219812154403,
          -0.477343533657,
          -0.120162083592,
          -0.211856877565,
          0.0517357161517,
          -0.122039793247,
          -0.654133847217,
          -0.762525035665,
          -0.115114566872,
          -0.322096946197,
          -0.202198736441,
          -0.278147167639,
          -0.142273207793,
          -0.314337160165,
          -0.296680087673,
          -0.352589150117,
          -0.382046338983,
          -0.0515315049642,
          -0.208289558525,
          -0.191160399059,
          -0.142979121012,
          -0.143467329868,
          -0.424379672524,
          -0.362378082953,
          -0.718384298456,
          -0.355792965776,
          -0.69208827894,
          -0.568269601009,
          -0.52988225901,
          -0.14306735367,
          -0.265989157248,
          0.0793501833702,
          -0.0655260765151,
          -0.218013281478,
          -0.319467199444,
          -0.240815312932,
          -0.916083587829,
          -1.78134587412,
          -0.300742897875,
          -0.135604731904,
          -1.09334538392,
          -0.160802213835,
          -0.264805482754,
          -0.261616865597,
          -0.321060500136,
          -0.427053178794,
          -0.277526746252,
          -0.565750811482,
          -0.305546325326,
          -0.231456811703,
          -0.294621940682,
          -0.250883691649,
          -0.263995080086,
          -0.381763290024,
          -0.0735829744965,
          -0.0484712466374,
          -0.554293768025,
          -0.316017189997,
          -0.406054330636,
          -0.299340714456,
          -0.648044537664,
          -0.501721401906,
          -0.722873522087,
          -0.125705091886,
          -0.352909305825,
          -0.0628853202764,
          -0.425158774644,
          -0.256672812807,
          -0.0762879412664,
          -0.513591182104,
          -0.44312892858,
          -0.374532298353,
          -0.166917626632,
          -0.294307929612,
          -0.326112132963,
          -0.137598656738,
          -0.195816202897,
          -0.122470657709,
          -0.847388434752,
          -0.185860620609,
          -1.11571536742,
          -0.330329313989,
          -0.560541640623,
          -0.150932511536,
          -0.386891454691,
          -0.229128083562,
          -0.2554850575,
          -0.240013243866,
          -0.166286830451,
          -0.531267315515,
          -0.199513275241,
          -0.178711132246,
          -0.283352678895,
          -0.508267966117,
          -0.23975906325,
          -0.416825816875,
          0.192601628006,
          -0.968611547406,
          -0.520270343805,
          -0.120390112089,
          -0.173015564342,
          -0.174005207449,
          -0.256240626365,
          -0.388522929624,
          -0.463402045279,
          -0.647508269081,
          -0.3687364445,
          -0.409335427269,
          -0.284419457662,
          -0.293665831428,
          -0.0787601980288,
          -0.163274410707,
          -0.388975067248,
          -0.236761298968
         ],
         "yaxis": "y"
        }
       ],
       "layout": {
        "legend": {
         "tracegroupgap": 0
        },
        "margin": {
         "t": 60
        },
        "template": {
         "data": {
          "bar": [
           {
            "error_x": {
             "color": "#2a3f5f"
            },
            "error_y": {
             "color": "#2a3f5f"
            },
            "marker": {
             "line": {
              "color": "#E5ECF6",
              "width": 0.5
             },
             "pattern": {
              "fillmode": "overlay",
              "size": 10,
              "solidity": 0.2
             }
            },
            "type": "bar"
           }
          ],
          "barpolar": [
           {
            "marker": {
             "line": {
              "color": "#E5ECF6",
              "width": 0.5
             },
             "pattern": {
              "fillmode": "overlay",
              "size": 10,
              "solidity": 0.2
             }
            },
            "type": "barpolar"
           }
          ],
          "carpet": [
           {
            "aaxis": {
             "endlinecolor": "#2a3f5f",
             "gridcolor": "white",
             "linecolor": "white",
             "minorgridcolor": "white",
             "startlinecolor": "#2a3f5f"
            },
            "baxis": {
             "endlinecolor": "#2a3f5f",
             "gridcolor": "white",
             "linecolor": "white",
             "minorgridcolor": "white",
             "startlinecolor": "#2a3f5f"
            },
            "type": "carpet"
           }
          ],
          "choropleth": [
           {
            "colorbar": {
             "outlinewidth": 0,
             "ticks": ""
            },
            "type": "choropleth"
           }
          ],
          "contour": [
           {
            "colorbar": {
             "outlinewidth": 0,
             "ticks": ""
            },
            "colorscale": [
             [
              0,
              "#0d0887"
             ],
             [
              0.1111111111111111,
              "#46039f"
             ],
             [
              0.2222222222222222,
              "#7201a8"
             ],
             [
              0.3333333333333333,
              "#9c179e"
             ],
             [
              0.4444444444444444,
              "#bd3786"
             ],
             [
              0.5555555555555556,
              "#d8576b"
             ],
             [
              0.6666666666666666,
              "#ed7953"
             ],
             [
              0.7777777777777778,
              "#fb9f3a"
             ],
             [
              0.8888888888888888,
              "#fdca26"
             ],
             [
              1,
              "#f0f921"
             ]
            ],
            "type": "contour"
           }
          ],
          "contourcarpet": [
           {
            "colorbar": {
             "outlinewidth": 0,
             "ticks": ""
            },
            "type": "contourcarpet"
           }
          ],
          "heatmap": [
           {
            "colorbar": {
             "outlinewidth": 0,
             "ticks": ""
            },
            "colorscale": [
             [
              0,
              "#0d0887"
             ],
             [
              0.1111111111111111,
              "#46039f"
             ],
             [
              0.2222222222222222,
              "#7201a8"
             ],
             [
              0.3333333333333333,
              "#9c179e"
             ],
             [
              0.4444444444444444,
              "#bd3786"
             ],
             [
              0.5555555555555556,
              "#d8576b"
             ],
             [
              0.6666666666666666,
              "#ed7953"
             ],
             [
              0.7777777777777778,
              "#fb9f3a"
             ],
             [
              0.8888888888888888,
              "#fdca26"
             ],
             [
              1,
              "#f0f921"
             ]
            ],
            "type": "heatmap"
           }
          ],
          "heatmapgl": [
           {
            "colorbar": {
             "outlinewidth": 0,
             "ticks": ""
            },
            "colorscale": [
             [
              0,
              "#0d0887"
             ],
             [
              0.1111111111111111,
              "#46039f"
             ],
             [
              0.2222222222222222,
              "#7201a8"
             ],
             [
              0.3333333333333333,
              "#9c179e"
             ],
             [
              0.4444444444444444,
              "#bd3786"
             ],
             [
              0.5555555555555556,
              "#d8576b"
             ],
             [
              0.6666666666666666,
              "#ed7953"
             ],
             [
              0.7777777777777778,
              "#fb9f3a"
             ],
             [
              0.8888888888888888,
              "#fdca26"
             ],
             [
              1,
              "#f0f921"
             ]
            ],
            "type": "heatmapgl"
           }
          ],
          "histogram": [
           {
            "marker": {
             "pattern": {
              "fillmode": "overlay",
              "size": 10,
              "solidity": 0.2
             }
            },
            "type": "histogram"
           }
          ],
          "histogram2d": [
           {
            "colorbar": {
             "outlinewidth": 0,
             "ticks": ""
            },
            "colorscale": [
             [
              0,
              "#0d0887"
             ],
             [
              0.1111111111111111,
              "#46039f"
             ],
             [
              0.2222222222222222,
              "#7201a8"
             ],
             [
              0.3333333333333333,
              "#9c179e"
             ],
             [
              0.4444444444444444,
              "#bd3786"
             ],
             [
              0.5555555555555556,
              "#d8576b"
             ],
             [
              0.6666666666666666,
              "#ed7953"
             ],
             [
              0.7777777777777778,
              "#fb9f3a"
             ],
             [
              0.8888888888888888,
              "#fdca26"
             ],
             [
              1,
              "#f0f921"
             ]
            ],
            "type": "histogram2d"
           }
          ],
          "histogram2dcontour": [
           {
            "colorbar": {
             "outlinewidth": 0,
             "ticks": ""
            },
            "colorscale": [
             [
              0,
              "#0d0887"
             ],
             [
              0.1111111111111111,
              "#46039f"
             ],
             [
              0.2222222222222222,
              "#7201a8"
             ],
             [
              0.3333333333333333,
              "#9c179e"
             ],
             [
              0.4444444444444444,
              "#bd3786"
             ],
             [
              0.5555555555555556,
              "#d8576b"
             ],
             [
              0.6666666666666666,
              "#ed7953"
             ],
             [
              0.7777777777777778,
              "#fb9f3a"
             ],
             [
              0.8888888888888888,
              "#fdca26"
             ],
             [
              1,
              "#f0f921"
             ]
            ],
            "type": "histogram2dcontour"
           }
          ],
          "mesh3d": [
           {
            "colorbar": {
             "outlinewidth": 0,
             "ticks": ""
            },
            "type": "mesh3d"
           }
          ],
          "parcoords": [
           {
            "line": {
             "colorbar": {
              "outlinewidth": 0,
              "ticks": ""
             }
            },
            "type": "parcoords"
           }
          ],
          "pie": [
           {
            "automargin": true,
            "type": "pie"
           }
          ],
          "scatter": [
           {
            "fillpattern": {
             "fillmode": "overlay",
             "size": 10,
             "solidity": 0.2
            },
            "type": "scatter"
           }
          ],
          "scatter3d": [
           {
            "line": {
             "colorbar": {
              "outlinewidth": 0,
              "ticks": ""
             }
            },
            "marker": {
             "colorbar": {
              "outlinewidth": 0,
              "ticks": ""
             }
            },
            "type": "scatter3d"
           }
          ],
          "scattercarpet": [
           {
            "marker": {
             "colorbar": {
              "outlinewidth": 0,
              "ticks": ""
             }
            },
            "type": "scattercarpet"
           }
          ],
          "scattergeo": [
           {
            "marker": {
             "colorbar": {
              "outlinewidth": 0,
              "ticks": ""
             }
            },
            "type": "scattergeo"
           }
          ],
          "scattergl": [
           {
            "marker": {
             "colorbar": {
              "outlinewidth": 0,
              "ticks": ""
             }
            },
            "type": "scattergl"
           }
          ],
          "scattermapbox": [
           {
            "marker": {
             "colorbar": {
              "outlinewidth": 0,
              "ticks": ""
             }
            },
            "type": "scattermapbox"
           }
          ],
          "scatterpolar": [
           {
            "marker": {
             "colorbar": {
              "outlinewidth": 0,
              "ticks": ""
             }
            },
            "type": "scatterpolar"
           }
          ],
          "scatterpolargl": [
           {
            "marker": {
             "colorbar": {
              "outlinewidth": 0,
              "ticks": ""
             }
            },
            "type": "scatterpolargl"
           }
          ],
          "scatterternary": [
           {
            "marker": {
             "colorbar": {
              "outlinewidth": 0,
              "ticks": ""
             }
            },
            "type": "scatterternary"
           }
          ],
          "surface": [
           {
            "colorbar": {
             "outlinewidth": 0,
             "ticks": ""
            },
            "colorscale": [
             [
              0,
              "#0d0887"
             ],
             [
              0.1111111111111111,
              "#46039f"
             ],
             [
              0.2222222222222222,
              "#7201a8"
             ],
             [
              0.3333333333333333,
              "#9c179e"
             ],
             [
              0.4444444444444444,
              "#bd3786"
             ],
             [
              0.5555555555555556,
              "#d8576b"
             ],
             [
              0.6666666666666666,
              "#ed7953"
             ],
             [
              0.7777777777777778,
              "#fb9f3a"
             ],
             [
              0.8888888888888888,
              "#fdca26"
             ],
             [
              1,
              "#f0f921"
             ]
            ],
            "type": "surface"
           }
          ],
          "table": [
           {
            "cells": {
             "fill": {
              "color": "#EBF0F8"
             },
             "line": {
              "color": "white"
             }
            },
            "header": {
             "fill": {
              "color": "#C8D4E3"
             },
             "line": {
              "color": "white"
             }
            },
            "type": "table"
           }
          ]
         },
         "layout": {
          "annotationdefaults": {
           "arrowcolor": "#2a3f5f",
           "arrowhead": 0,
           "arrowwidth": 1
          },
          "autotypenumbers": "strict",
          "coloraxis": {
           "colorbar": {
            "outlinewidth": 0,
            "ticks": ""
           }
          },
          "colorscale": {
           "diverging": [
            [
             0,
             "#8e0152"
            ],
            [
             0.1,
             "#c51b7d"
            ],
            [
             0.2,
             "#de77ae"
            ],
            [
             0.3,
             "#f1b6da"
            ],
            [
             0.4,
             "#fde0ef"
            ],
            [
             0.5,
             "#f7f7f7"
            ],
            [
             0.6,
             "#e6f5d0"
            ],
            [
             0.7,
             "#b8e186"
            ],
            [
             0.8,
             "#7fbc41"
            ],
            [
             0.9,
             "#4d9221"
            ],
            [
             1,
             "#276419"
            ]
           ],
           "sequential": [
            [
             0,
             "#0d0887"
            ],
            [
             0.1111111111111111,
             "#46039f"
            ],
            [
             0.2222222222222222,
             "#7201a8"
            ],
            [
             0.3333333333333333,
             "#9c179e"
            ],
            [
             0.4444444444444444,
             "#bd3786"
            ],
            [
             0.5555555555555556,
             "#d8576b"
            ],
            [
             0.6666666666666666,
             "#ed7953"
            ],
            [
             0.7777777777777778,
             "#fb9f3a"
            ],
            [
             0.8888888888888888,
             "#fdca26"
            ],
            [
             1,
             "#f0f921"
            ]
           ],
           "sequentialminus": [
            [
             0,
             "#0d0887"
            ],
            [
             0.1111111111111111,
             "#46039f"
            ],
            [
             0.2222222222222222,
             "#7201a8"
            ],
            [
             0.3333333333333333,
             "#9c179e"
            ],
            [
             0.4444444444444444,
             "#bd3786"
            ],
            [
             0.5555555555555556,
             "#d8576b"
            ],
            [
             0.6666666666666666,
             "#ed7953"
            ],
            [
             0.7777777777777778,
             "#fb9f3a"
            ],
            [
             0.8888888888888888,
             "#fdca26"
            ],
            [
             1,
             "#f0f921"
            ]
           ]
          },
          "colorway": [
           "#636efa",
           "#EF553B",
           "#00cc96",
           "#ab63fa",
           "#FFA15A",
           "#19d3f3",
           "#FF6692",
           "#B6E880",
           "#FF97FF",
           "#FECB52"
          ],
          "font": {
           "color": "#2a3f5f"
          },
          "geo": {
           "bgcolor": "white",
           "lakecolor": "white",
           "landcolor": "#E5ECF6",
           "showlakes": true,
           "showland": true,
           "subunitcolor": "white"
          },
          "hoverlabel": {
           "align": "left"
          },
          "hovermode": "closest",
          "mapbox": {
           "style": "light"
          },
          "paper_bgcolor": "white",
          "plot_bgcolor": "#E5ECF6",
          "polar": {
           "angularaxis": {
            "gridcolor": "white",
            "linecolor": "white",
            "ticks": ""
           },
           "bgcolor": "#E5ECF6",
           "radialaxis": {
            "gridcolor": "white",
            "linecolor": "white",
            "ticks": ""
           }
          },
          "scene": {
           "xaxis": {
            "backgroundcolor": "#E5ECF6",
            "gridcolor": "white",
            "gridwidth": 2,
            "linecolor": "white",
            "showbackground": true,
            "ticks": "",
            "zerolinecolor": "white"
           },
           "yaxis": {
            "backgroundcolor": "#E5ECF6",
            "gridcolor": "white",
            "gridwidth": 2,
            "linecolor": "white",
            "showbackground": true,
            "ticks": "",
            "zerolinecolor": "white"
           },
           "zaxis": {
            "backgroundcolor": "#E5ECF6",
            "gridcolor": "white",
            "gridwidth": 2,
            "linecolor": "white",
            "showbackground": true,
            "ticks": "",
            "zerolinecolor": "white"
           }
          },
          "shapedefaults": {
           "line": {
            "color": "#2a3f5f"
           }
          },
          "ternary": {
           "aaxis": {
            "gridcolor": "white",
            "linecolor": "white",
            "ticks": ""
           },
           "baxis": {
            "gridcolor": "white",
            "linecolor": "white",
            "ticks": ""
           },
           "bgcolor": "#E5ECF6",
           "caxis": {
            "gridcolor": "white",
            "linecolor": "white",
            "ticks": ""
           }
          },
          "title": {
           "x": 0.05
          },
          "xaxis": {
           "automargin": true,
           "gridcolor": "white",
           "linecolor": "white",
           "ticks": "",
           "title": {
            "standoff": 15
           },
           "zerolinecolor": "white",
           "zerolinewidth": 2
          },
          "yaxis": {
           "automargin": true,
           "gridcolor": "white",
           "linecolor": "white",
           "ticks": "",
           "title": {
            "standoff": 15
           },
           "zerolinecolor": "white",
           "zerolinewidth": 2
          }
         }
        },
        "xaxis": {
         "anchor": "y",
         "domain": [
          0,
          1
         ],
         "title": {
          "text": "Predictions (testing data)"
         }
        },
        "yaxis": {
         "anchor": "x",
         "domain": [
          0,
          1
         ],
         "title": {
          "text": "Realized PRMT5 (testing data)"
         }
        }
       }
      }
     },
     "metadata": {},
     "output_type": "display_data"
    }
   ],
   "source": [
    "px.scatter( x = output['y_pred_test'], y = output['y_test'], labels = {'x': 'Predictions (testing data)', 'y': 'Realized PRMT5 (testing data)'} )"
   ]
  },
  {
   "cell_type": "markdown",
   "metadata": {},
   "source": [
    "Moving on to bigger things, let's now try with more features! Here we'll select all numerical variables we added in our additional dataset."
   ]
  },
  {
   "cell_type": "code",
   "execution_count": 249,
   "metadata": {},
   "outputs": [
    {
     "name": "stdout",
     "output_type": "stream",
     "text": [
      "Features:  Copy Number Public 23Q4 MUCL1, Copy Number Public 23Q4 PRMT5, Copy Number Public 23Q4 MAP1A, Copy Number Public 23Q4 MAT2A, Copy Number Public 23Q4 PDGFRB, Copy Number Public 23Q4 GJA1, Copy Number Public 23Q4 MTAP, Copy Number Public 23Q4 ZNF185, Expression Public 23Q4 MTAP, Expression Public 23Q4 PRMT5, Expression Public 23Q4 PDGFRB, Expression Public 23Q4 ZNF185, Expression Public 23Q4 GJA1, Expression Public 23Q4 MAP1A, Expression Public 23Q4 MAT2A, Expression Public 23Q4 MUCL1\n",
      "R-squared (the higher the better):  0.3849404259859315\n",
      "mean squared error (the lower the better):  0.04713671524328601\n",
      "Coefficients: \n",
      "Copy Number Public 23Q4 MTAP 0.2347538095886346\n",
      "Copy Number Public 23Q4 PRMT5 0.1768962631189619\n",
      "Copy Number Public 23Q4 GJA1 -0.15690046447957026\n",
      "Copy Number Public 23Q4 MAP1A 0.11371081330245937\n",
      "Copy Number Public 23Q4 MUCL1 0.08607494060958937\n",
      "Copy Number Public 23Q4 MAT2A 0.058146249461147166\n",
      "Copy Number Public 23Q4 PDGFRB -0.052558330943991184\n",
      "Expression Public 23Q4 MTAP 0.04833978189901411\n",
      "Copy Number Public 23Q4 ZNF185 0.04651494225416962\n",
      "Expression Public 23Q4 MAT2A -0.0399961813268433\n",
      "Expression Public 23Q4 PDGFRB -0.01778566813639812\n",
      "Expression Public 23Q4 ZNF185 -0.015676587614588483\n",
      "Expression Public 23Q4 MUCL1 0.0067873940627083545\n",
      "Expression Public 23Q4 MAP1A 0.006405888171588624\n",
      "Expression Public 23Q4 PRMT5 0.00606630631030744\n",
      "Expression Public 23Q4 GJA1 0.0011554676355114493\n"
     ]
    }
   ],
   "source": [
    "from pandas.api.types import is_numeric_dtype\n",
    "\n",
    "#here we select only the numeric features from the additional data, we will use them to predict the dependency scores\n",
    "features = [ x for x in additional if is_numeric_dtype(additional[x]) ]\n",
    "\n",
    "model = LinearRegression()\n",
    "output = get_and_evaluate_linear_model( model, joint_data, features, 'PRMT5' )\n",
    "\n",
    "print( 'Features: ', ', '.join(output['features']) )\n",
    "print( 'R-squared (the higher the better): ', output['r2'] )\n",
    "print( 'mean squared error (the lower the better): ', output['mse'] )\n",
    "\n",
    "print( 'Coefficients: ' )\n",
    "for feature, coefficient in sorted( output['coefficients'].items(), key= lambda x: abs(x[1]), reverse=True ):\n",
    "    print( feature, coefficient )"
   ]
  },
  {
   "cell_type": "code",
   "execution_count": 250,
   "metadata": {},
   "outputs": [
    {
     "data": {
      "application/vnd.plotly.v1+json": {
       "config": {
        "plotlyServerURL": "https://plot.ly"
       },
       "data": [
        {
         "hovertemplate": "Predictions (testing data)=%{x}<br>Realized PRMT5 (testing data)=%{y}<extra></extra>",
         "legendgroup": "",
         "marker": {
          "color": "#636efa",
          "symbol": "circle"
         },
         "mode": "markers",
         "name": "",
         "orientation": "v",
         "showlegend": false,
         "type": "scatter",
         "x": [
          -0.31732497928966297,
          -0.43791515277103205,
          -0.60902183677942,
          -0.6225724388760865,
          -0.1532329964144441,
          -0.5367769630608908,
          -0.2564585177430849,
          -0.336944604555459,
          -0.36809644088462157,
          -0.3388811533500663,
          -0.2378459259815473,
          -0.38758664735796194,
          -0.6579081459639147,
          -0.37315643749016597,
          -0.2636990939774579,
          -0.23668274386444926,
          -0.4728046290898817,
          -0.16262501815331754,
          -0.2486734294568067,
          -0.3172276348219636,
          -0.3292026757170448,
          -0.3213649726717138,
          -0.4482636155056866,
          -0.12016073845286956,
          -0.4196137942649749,
          -0.30805820614455603,
          -0.3148609726421326,
          -0.5641543523566122,
          -0.24024423039055698,
          -0.5894812327735769,
          -0.348556867525528,
          -0.22895098608839215,
          -0.14453780183654463,
          -0.7873080850157357,
          -0.7455219634890937,
          -0.06501042666812917,
          -0.15114001957200618,
          -0.39844370127151946,
          -0.21587103212855735,
          -0.3508194648583546,
          -0.3215915872630148,
          -0.27611261945354126,
          -0.3536928164065341,
          -0.26442800683831486,
          -0.7588184433361962,
          -0.1598468369553172,
          -0.36360831816251765,
          -0.30703773381601956,
          -0.23892858536882605,
          -0.059684866490387734,
          -0.3680589071169237,
          -0.27143326005921986,
          -0.35740247490870825,
          -0.1747797095803949,
          -0.4510438377932996,
          -0.2829006380096386,
          -0.22444745138125316,
          -0.29473628193631873,
          -0.19165677108679197,
          -0.3505834194352136,
          -0.29523489038675804,
          -0.22002915182283544,
          -0.18063853368048388,
          -0.6890433762293093,
          -0.5720138957361899,
          -0.6573593715410464,
          -0.4106184090079679,
          -0.3758299469827319,
          -0.7044048414491453,
          -0.31592868533349583,
          -0.3390630796689081,
          -0.3469973832708055,
          -0.6698682478749093,
          -0.38659147703025176,
          -0.34333074121871476,
          -0.22169764033594208,
          -0.2264024245941455,
          -0.7693608204628629,
          -0.3596243550060456,
          -0.14318431462734982,
          -0.25876797331516804,
          -0.214177888105402,
          -0.2858798031183909,
          -0.19556554670744603,
          -0.5614174035237026,
          -0.4663163942645479,
          -0.25245532301837265,
          -0.25489643260072703,
          -0.4649955332311865,
          -0.2961230213661906,
          -0.40534556849865866,
          -0.17682318630269112,
          -0.5743711535314348,
          -0.6910349450046565,
          -0.33116363417408207,
          -0.7061970730435759,
          -0.44248834700650197,
          -0.45926473638816534,
          -0.3208196985446411,
          -0.40838347193071173,
          -0.41592337867001633,
          -0.33438312360528144,
          -0.2954255072951236,
          -0.2203536515232401,
          -0.3481945048564185,
          -0.31966838251572377,
          -0.21928121736080886,
          -0.2886344206115775,
          -0.6715157024182329,
          -0.7085440846634217,
          -0.7033673657682943,
          -0.3317201095339561,
          -0.28624656417699945,
          -0.31591797673952954,
          -0.6929359454997785,
          -0.39238847233668855,
          -0.7554427084428456,
          -0.3696437702314243,
          -0.3970446357863264,
          -0.501678071412216,
          -0.7422615024256847,
          -0.2664467818660978,
          -0.2510823292087076,
          -0.8764829611238333,
          -0.7739797664939458,
          -0.34652689143050625,
          -0.22076838472725485,
          -0.11688427982168725,
          -0.6458415220615848,
          -0.38993729338324573,
          -0.23411802487151906,
          -0.3134288704606856,
          -0.3188806322585227,
          -0.20405810393704016,
          -0.334018468564678,
          -0.36428045695817657,
          -0.4137109778899324,
          -0.2902585266454643,
          -0.2953897079405028,
          -0.26615054271838334,
          -0.2425182085328878,
          -0.40909947382237183,
          -0.7245815748704257,
          -0.5455876053200512,
          -0.26534106584677275,
          -0.808244716167207,
          -0.303824001673706,
          -0.12244964493901456,
          -0.7288297680006712,
          -0.40297508508433033,
          -0.2527989445613453,
          -0.31326197293531977,
          -0.7876987752500499,
          -0.4169469519481737,
          -0.16029273133796074,
          -0.6330731016191788,
          -0.19883209768421378,
          -0.33215135703595217,
          -0.3165711264318065,
          -0.30671239878990203,
          -0.5377417081584615,
          -0.8354480258444718,
          -0.3108209150765356,
          -0.7552109890180531,
          -0.8151957084849288,
          -0.6781736666014488,
          -0.22355302005823402,
          -0.23759091446565445,
          -0.7698051298997528,
          -0.23269150205575717,
          -0.10556524807021872,
          -0.704876709173653,
          -0.28533605048281835,
          -0.3763420473864651,
          -0.209374198391594,
          -0.704035221921156,
          -0.4760449608021834,
          -0.3203737892894306,
          -0.21226857569391439,
          -0.24665594684706793,
          -0.294892295672582,
          -0.32430046929713513,
          -0.44828270114858865,
          -0.3200333275814957,
          -0.41943609490025646,
          -0.22660072408734372,
          -0.611940415484117,
          -0.33418392769897554,
          -0.3104693715871859,
          -0.3072367323790145,
          -0.20635360979510536,
          -0.6504362700743865,
          -0.4345794028296349,
          -0.6835320806287265,
          -0.39252448566521764,
          -0.3510329972846743,
          -0.35047280685416854,
          -0.4338386347341042,
          -0.39126677615602073,
          -0.1879400312940202,
          -0.3029397466382861,
          -0.3792878375899918,
          -0.09607749895694018,
          -0.1505613602913125,
          -0.3535804591823911,
          -0.262617024567018,
          -0.4160278016619757,
          -0.25058071046248126,
          -0.41587009955984644,
          -0.3338936179917661,
          -0.2678154975807706,
          -0.327415294133316,
          -0.17414356874961845,
          -0.249450636165938,
          -0.45780807233482373,
          -0.7577457584189031,
          -0.3258598439543483,
          -0.8555956284002288,
          -0.3409931959670209,
          -0.15403121595341773,
          -0.6625437109096994,
          -0.46565599481036274,
          -0.35021596568259256,
          -0.4169552941684419,
          -0.43487655726370233,
          -0.4278131321064477,
          -0.36222720940220604,
          -0.4451569864330497,
          -0.8703594044068836,
          -0.2952829280644545,
          -0.6930989113063002,
          -0.30515566446462195,
          -0.5820855028654752,
          -0.22178943555005093,
          -0.1558239391236269,
          -0.6666132881448793,
          -0.21029457116486644,
          -0.3383910930318488,
          -0.2791214327015761,
          -0.7639339694303624,
          -0.3574616834988238,
          -0.7262649047995335,
          -0.14052941608108782,
          -0.3548841884258437,
          -0.20834070532654747,
          -0.2846673841500717,
          -0.30617907722703097,
          -0.32899169520171523,
          -0.2814813205691631,
          -0.4101649524747976,
          -0.28964367122718143,
          -0.12526881072842078,
          -0.6923774885143934,
          -0.2855473635735651,
          -0.3899960888251896,
          -0.34275122377610595
         ],
         "xaxis": "x",
         "y": [
          -0.231456811703,
          -0.424300094673,
          -0.406054330636,
          -0.433152103708,
          -0.22923882622,
          -0.124133410885,
          -0.185764503545,
          -0.307144149833,
          -0.156411421817,
          -0.943173812705,
          -0.0697697132519,
          -0.305546325326,
          -1.10418887451,
          0.0793501833702,
          -0.340780037538,
          -0.423134752983,
          -0.660962070995,
          -0.0736642237393,
          -0.457723839251,
          -0.560541640623,
          -0.358903966828,
          -0.389781038304,
          -0.192105239386,
          -0.480405524048,
          -0.0865153486451,
          -0.143467329868,
          0.00513076768166,
          -0.290089263787,
          -0.207506873244,
          -0.404864987392,
          -0.0920024982084,
          -0.364889362036,
          -0.152057335308,
          -0.576555564924,
          -0.858340847078,
          -0.272066670869,
          -0.221481379658,
          -0.286349723392,
          -0.502752029504,
          -0.237090913251,
          -0.0479342818588,
          -0.353635920233,
          -0.441973550333,
          -0.296632579582,
          -0.604597705421,
          -0.0715797983684,
          -0.195991901102,
          -0.241060559277,
          -0.27557778329,
          -0.237661694557,
          -0.225977370548,
          -0.158505963809,
          -0.192709759353,
          -0.179742922137,
          -0.268885977862,
          -0.228887797152,
          -0.509078038634,
          -0.166286830451,
          -0.319043457834,
          -0.416288677689,
          -0.291182044633,
          -0.680209279377,
          -0.292311121637,
          -0.924157763745,
          -0.311352398334,
          -0.759442538175,
          -0.340114091085,
          -0.229986734545,
          -0.481849536628,
          -0.255323808146,
          -0.279944080765,
          -0.396298295164,
          -0.731937969868,
          -0.330695606553,
          -0.30704867506,
          -0.0745859857688,
          -0.224170720976,
          -0.687539851344,
          -0.466801553104,
          -0.371259986303,
          -0.10966831974,
          -0.25916788725,
          -0.363965918505,
          -0.350275074382,
          -0.568269601009,
          -0.385941205552,
          -0.12914452001,
          -0.134330450265,
          -0.648044537664,
          -0.11977706121,
          -0.251275520996,
          -0.305439737438,
          -0.347045304616,
          -0.787735096155,
          -0.0515315049642,
          -0.922107110499,
          -0.297006627241,
          -0.167545902643,
          -0.12554968456,
          -0.439110918846,
          -0.218013281478,
          -0.524300814477,
          -0.261664205223,
          -0.12426595425,
          -0.513591182104,
          -0.227214579856,
          -0.556948487149,
          -0.180289754062,
          -0.322096946197,
          -1.18361318418,
          -1.01708934376,
          -0.28261761791,
          -0.26815347282,
          -0.106283622682,
          -1.10563991246,
          -0.339766216759,
          -0.69208827894,
          -0.328999512942,
          -0.330754929531,
          -0.247236774287,
          -0.467318704735,
          -0.539589875024,
          -0.100304600029,
          -1.00708942274,
          -0.867132433045,
          -0.207872513495,
          -0.222286327272,
          -0.30875048902,
          -0.404073496215,
          -0.169213027498,
          -0.319467199444,
          -0.146375403663,
          -0.269937756934,
          -0.0762879412664,
          -0.43262521243,
          -0.260486925504,
          -0.180789744882,
          -0.131597358299,
          -0.263995080086,
          -0.243778025675,
          -0.352947271364,
          -0.154733106695,
          -1.07725258066,
          -0.35520579622,
          -0.549296187591,
          0.0548867630301,
          -0.39006926668,
          -0.115114566872,
          -0.457683611237,
          -0.240013243866,
          -0.098794984339,
          -0.466576863977,
          -0.656389929569,
          -0.467874425832,
          -0.502530646182,
          -0.426856179624,
          -0.158387440662,
          -0.208289558525,
          -0.191160399059,
          -0.142979121012,
          -0.712164004347,
          -0.998329103581,
          -0.362378082953,
          -0.718384298456,
          -1.0590852482,
          -0.439904465335,
          -0.354609235121,
          -0.175443113066,
          -0.508267966117,
          -0.401217518448,
          -0.347523225122,
          -0.316017189997,
          -0.390827323583,
          0.0871084988512,
          -0.0449242793548,
          -1.78134587412,
          -0.300742897875,
          -0.164882090755,
          -0.185860620609,
          0.0125879952621,
          -0.0672471461495,
          -0.267186375097,
          -1.05377197711,
          -0.382046338983,
          -0.211547651268,
          -0.0906621975382,
          -0.501721401906,
          -0.2657944176,
          -0.250883691649,
          -0.31426858477,
          -0.19743347519,
          -1.09334538392,
          -0.0484712466374,
          -0.855244352312,
          -0.165536173155,
          -0.215605376227,
          -0.236831184278,
          -0.154368137736,
          -0.427275440533,
          -0.211774440115,
          -0.374532298353,
          -0.286611899688,
          -0.256672812807,
          -0.0906264459503,
          -0.168703252502,
          -0.259194900869,
          -0.35927914929,
          -0.413396721598,
          -0.294307929612,
          -0.774082650984,
          -0.125705091886,
          -0.2528088714,
          -0.122470657709,
          -0.265989157248,
          -0.337661414922,
          -1.08674126917,
          -0.330329313989,
          -1.3193955141,
          -0.120162083592,
          -0.256240626365,
          -0.998721745039,
          -0.44120287261,
          -0.6540095526,
          -0.268846455829,
          -0.531267315515,
          -0.199513275241,
          -0.178711132246,
          -0.52988225901,
          -0.507476279657,
          -0.29787185115,
          -0.483221709166,
          -0.208866234974,
          -0.968611547406,
          -0.520270343805,
          -0.376807352566,
          -1.09933385097,
          -0.392979033964,
          -0.609858619782,
          -0.221212924475,
          -1.09160681338,
          -0.258228734742,
          -0.3687364445,
          -0.409129853839,
          -0.244968904939,
          -0.416022245784,
          -0.119850828392,
          -0.144109059798,
          -0.433835602537,
          -0.195188784633,
          -0.552548149869,
          -0.352589150117,
          -0.187300591733,
          -0.814094247814,
          -0.0418142868541,
          -0.343568066306,
          -0.264905102678
         ],
         "yaxis": "y"
        }
       ],
       "layout": {
        "legend": {
         "tracegroupgap": 0
        },
        "margin": {
         "t": 60
        },
        "template": {
         "data": {
          "bar": [
           {
            "error_x": {
             "color": "#2a3f5f"
            },
            "error_y": {
             "color": "#2a3f5f"
            },
            "marker": {
             "line": {
              "color": "#E5ECF6",
              "width": 0.5
             },
             "pattern": {
              "fillmode": "overlay",
              "size": 10,
              "solidity": 0.2
             }
            },
            "type": "bar"
           }
          ],
          "barpolar": [
           {
            "marker": {
             "line": {
              "color": "#E5ECF6",
              "width": 0.5
             },
             "pattern": {
              "fillmode": "overlay",
              "size": 10,
              "solidity": 0.2
             }
            },
            "type": "barpolar"
           }
          ],
          "carpet": [
           {
            "aaxis": {
             "endlinecolor": "#2a3f5f",
             "gridcolor": "white",
             "linecolor": "white",
             "minorgridcolor": "white",
             "startlinecolor": "#2a3f5f"
            },
            "baxis": {
             "endlinecolor": "#2a3f5f",
             "gridcolor": "white",
             "linecolor": "white",
             "minorgridcolor": "white",
             "startlinecolor": "#2a3f5f"
            },
            "type": "carpet"
           }
          ],
          "choropleth": [
           {
            "colorbar": {
             "outlinewidth": 0,
             "ticks": ""
            },
            "type": "choropleth"
           }
          ],
          "contour": [
           {
            "colorbar": {
             "outlinewidth": 0,
             "ticks": ""
            },
            "colorscale": [
             [
              0,
              "#0d0887"
             ],
             [
              0.1111111111111111,
              "#46039f"
             ],
             [
              0.2222222222222222,
              "#7201a8"
             ],
             [
              0.3333333333333333,
              "#9c179e"
             ],
             [
              0.4444444444444444,
              "#bd3786"
             ],
             [
              0.5555555555555556,
              "#d8576b"
             ],
             [
              0.6666666666666666,
              "#ed7953"
             ],
             [
              0.7777777777777778,
              "#fb9f3a"
             ],
             [
              0.8888888888888888,
              "#fdca26"
             ],
             [
              1,
              "#f0f921"
             ]
            ],
            "type": "contour"
           }
          ],
          "contourcarpet": [
           {
            "colorbar": {
             "outlinewidth": 0,
             "ticks": ""
            },
            "type": "contourcarpet"
           }
          ],
          "heatmap": [
           {
            "colorbar": {
             "outlinewidth": 0,
             "ticks": ""
            },
            "colorscale": [
             [
              0,
              "#0d0887"
             ],
             [
              0.1111111111111111,
              "#46039f"
             ],
             [
              0.2222222222222222,
              "#7201a8"
             ],
             [
              0.3333333333333333,
              "#9c179e"
             ],
             [
              0.4444444444444444,
              "#bd3786"
             ],
             [
              0.5555555555555556,
              "#d8576b"
             ],
             [
              0.6666666666666666,
              "#ed7953"
             ],
             [
              0.7777777777777778,
              "#fb9f3a"
             ],
             [
              0.8888888888888888,
              "#fdca26"
             ],
             [
              1,
              "#f0f921"
             ]
            ],
            "type": "heatmap"
           }
          ],
          "heatmapgl": [
           {
            "colorbar": {
             "outlinewidth": 0,
             "ticks": ""
            },
            "colorscale": [
             [
              0,
              "#0d0887"
             ],
             [
              0.1111111111111111,
              "#46039f"
             ],
             [
              0.2222222222222222,
              "#7201a8"
             ],
             [
              0.3333333333333333,
              "#9c179e"
             ],
             [
              0.4444444444444444,
              "#bd3786"
             ],
             [
              0.5555555555555556,
              "#d8576b"
             ],
             [
              0.6666666666666666,
              "#ed7953"
             ],
             [
              0.7777777777777778,
              "#fb9f3a"
             ],
             [
              0.8888888888888888,
              "#fdca26"
             ],
             [
              1,
              "#f0f921"
             ]
            ],
            "type": "heatmapgl"
           }
          ],
          "histogram": [
           {
            "marker": {
             "pattern": {
              "fillmode": "overlay",
              "size": 10,
              "solidity": 0.2
             }
            },
            "type": "histogram"
           }
          ],
          "histogram2d": [
           {
            "colorbar": {
             "outlinewidth": 0,
             "ticks": ""
            },
            "colorscale": [
             [
              0,
              "#0d0887"
             ],
             [
              0.1111111111111111,
              "#46039f"
             ],
             [
              0.2222222222222222,
              "#7201a8"
             ],
             [
              0.3333333333333333,
              "#9c179e"
             ],
             [
              0.4444444444444444,
              "#bd3786"
             ],
             [
              0.5555555555555556,
              "#d8576b"
             ],
             [
              0.6666666666666666,
              "#ed7953"
             ],
             [
              0.7777777777777778,
              "#fb9f3a"
             ],
             [
              0.8888888888888888,
              "#fdca26"
             ],
             [
              1,
              "#f0f921"
             ]
            ],
            "type": "histogram2d"
           }
          ],
          "histogram2dcontour": [
           {
            "colorbar": {
             "outlinewidth": 0,
             "ticks": ""
            },
            "colorscale": [
             [
              0,
              "#0d0887"
             ],
             [
              0.1111111111111111,
              "#46039f"
             ],
             [
              0.2222222222222222,
              "#7201a8"
             ],
             [
              0.3333333333333333,
              "#9c179e"
             ],
             [
              0.4444444444444444,
              "#bd3786"
             ],
             [
              0.5555555555555556,
              "#d8576b"
             ],
             [
              0.6666666666666666,
              "#ed7953"
             ],
             [
              0.7777777777777778,
              "#fb9f3a"
             ],
             [
              0.8888888888888888,
              "#fdca26"
             ],
             [
              1,
              "#f0f921"
             ]
            ],
            "type": "histogram2dcontour"
           }
          ],
          "mesh3d": [
           {
            "colorbar": {
             "outlinewidth": 0,
             "ticks": ""
            },
            "type": "mesh3d"
           }
          ],
          "parcoords": [
           {
            "line": {
             "colorbar": {
              "outlinewidth": 0,
              "ticks": ""
             }
            },
            "type": "parcoords"
           }
          ],
          "pie": [
           {
            "automargin": true,
            "type": "pie"
           }
          ],
          "scatter": [
           {
            "fillpattern": {
             "fillmode": "overlay",
             "size": 10,
             "solidity": 0.2
            },
            "type": "scatter"
           }
          ],
          "scatter3d": [
           {
            "line": {
             "colorbar": {
              "outlinewidth": 0,
              "ticks": ""
             }
            },
            "marker": {
             "colorbar": {
              "outlinewidth": 0,
              "ticks": ""
             }
            },
            "type": "scatter3d"
           }
          ],
          "scattercarpet": [
           {
            "marker": {
             "colorbar": {
              "outlinewidth": 0,
              "ticks": ""
             }
            },
            "type": "scattercarpet"
           }
          ],
          "scattergeo": [
           {
            "marker": {
             "colorbar": {
              "outlinewidth": 0,
              "ticks": ""
             }
            },
            "type": "scattergeo"
           }
          ],
          "scattergl": [
           {
            "marker": {
             "colorbar": {
              "outlinewidth": 0,
              "ticks": ""
             }
            },
            "type": "scattergl"
           }
          ],
          "scattermapbox": [
           {
            "marker": {
             "colorbar": {
              "outlinewidth": 0,
              "ticks": ""
             }
            },
            "type": "scattermapbox"
           }
          ],
          "scatterpolar": [
           {
            "marker": {
             "colorbar": {
              "outlinewidth": 0,
              "ticks": ""
             }
            },
            "type": "scatterpolar"
           }
          ],
          "scatterpolargl": [
           {
            "marker": {
             "colorbar": {
              "outlinewidth": 0,
              "ticks": ""
             }
            },
            "type": "scatterpolargl"
           }
          ],
          "scatterternary": [
           {
            "marker": {
             "colorbar": {
              "outlinewidth": 0,
              "ticks": ""
             }
            },
            "type": "scatterternary"
           }
          ],
          "surface": [
           {
            "colorbar": {
             "outlinewidth": 0,
             "ticks": ""
            },
            "colorscale": [
             [
              0,
              "#0d0887"
             ],
             [
              0.1111111111111111,
              "#46039f"
             ],
             [
              0.2222222222222222,
              "#7201a8"
             ],
             [
              0.3333333333333333,
              "#9c179e"
             ],
             [
              0.4444444444444444,
              "#bd3786"
             ],
             [
              0.5555555555555556,
              "#d8576b"
             ],
             [
              0.6666666666666666,
              "#ed7953"
             ],
             [
              0.7777777777777778,
              "#fb9f3a"
             ],
             [
              0.8888888888888888,
              "#fdca26"
             ],
             [
              1,
              "#f0f921"
             ]
            ],
            "type": "surface"
           }
          ],
          "table": [
           {
            "cells": {
             "fill": {
              "color": "#EBF0F8"
             },
             "line": {
              "color": "white"
             }
            },
            "header": {
             "fill": {
              "color": "#C8D4E3"
             },
             "line": {
              "color": "white"
             }
            },
            "type": "table"
           }
          ]
         },
         "layout": {
          "annotationdefaults": {
           "arrowcolor": "#2a3f5f",
           "arrowhead": 0,
           "arrowwidth": 1
          },
          "autotypenumbers": "strict",
          "coloraxis": {
           "colorbar": {
            "outlinewidth": 0,
            "ticks": ""
           }
          },
          "colorscale": {
           "diverging": [
            [
             0,
             "#8e0152"
            ],
            [
             0.1,
             "#c51b7d"
            ],
            [
             0.2,
             "#de77ae"
            ],
            [
             0.3,
             "#f1b6da"
            ],
            [
             0.4,
             "#fde0ef"
            ],
            [
             0.5,
             "#f7f7f7"
            ],
            [
             0.6,
             "#e6f5d0"
            ],
            [
             0.7,
             "#b8e186"
            ],
            [
             0.8,
             "#7fbc41"
            ],
            [
             0.9,
             "#4d9221"
            ],
            [
             1,
             "#276419"
            ]
           ],
           "sequential": [
            [
             0,
             "#0d0887"
            ],
            [
             0.1111111111111111,
             "#46039f"
            ],
            [
             0.2222222222222222,
             "#7201a8"
            ],
            [
             0.3333333333333333,
             "#9c179e"
            ],
            [
             0.4444444444444444,
             "#bd3786"
            ],
            [
             0.5555555555555556,
             "#d8576b"
            ],
            [
             0.6666666666666666,
             "#ed7953"
            ],
            [
             0.7777777777777778,
             "#fb9f3a"
            ],
            [
             0.8888888888888888,
             "#fdca26"
            ],
            [
             1,
             "#f0f921"
            ]
           ],
           "sequentialminus": [
            [
             0,
             "#0d0887"
            ],
            [
             0.1111111111111111,
             "#46039f"
            ],
            [
             0.2222222222222222,
             "#7201a8"
            ],
            [
             0.3333333333333333,
             "#9c179e"
            ],
            [
             0.4444444444444444,
             "#bd3786"
            ],
            [
             0.5555555555555556,
             "#d8576b"
            ],
            [
             0.6666666666666666,
             "#ed7953"
            ],
            [
             0.7777777777777778,
             "#fb9f3a"
            ],
            [
             0.8888888888888888,
             "#fdca26"
            ],
            [
             1,
             "#f0f921"
            ]
           ]
          },
          "colorway": [
           "#636efa",
           "#EF553B",
           "#00cc96",
           "#ab63fa",
           "#FFA15A",
           "#19d3f3",
           "#FF6692",
           "#B6E880",
           "#FF97FF",
           "#FECB52"
          ],
          "font": {
           "color": "#2a3f5f"
          },
          "geo": {
           "bgcolor": "white",
           "lakecolor": "white",
           "landcolor": "#E5ECF6",
           "showlakes": true,
           "showland": true,
           "subunitcolor": "white"
          },
          "hoverlabel": {
           "align": "left"
          },
          "hovermode": "closest",
          "mapbox": {
           "style": "light"
          },
          "paper_bgcolor": "white",
          "plot_bgcolor": "#E5ECF6",
          "polar": {
           "angularaxis": {
            "gridcolor": "white",
            "linecolor": "white",
            "ticks": ""
           },
           "bgcolor": "#E5ECF6",
           "radialaxis": {
            "gridcolor": "white",
            "linecolor": "white",
            "ticks": ""
           }
          },
          "scene": {
           "xaxis": {
            "backgroundcolor": "#E5ECF6",
            "gridcolor": "white",
            "gridwidth": 2,
            "linecolor": "white",
            "showbackground": true,
            "ticks": "",
            "zerolinecolor": "white"
           },
           "yaxis": {
            "backgroundcolor": "#E5ECF6",
            "gridcolor": "white",
            "gridwidth": 2,
            "linecolor": "white",
            "showbackground": true,
            "ticks": "",
            "zerolinecolor": "white"
           },
           "zaxis": {
            "backgroundcolor": "#E5ECF6",
            "gridcolor": "white",
            "gridwidth": 2,
            "linecolor": "white",
            "showbackground": true,
            "ticks": "",
            "zerolinecolor": "white"
           }
          },
          "shapedefaults": {
           "line": {
            "color": "#2a3f5f"
           }
          },
          "ternary": {
           "aaxis": {
            "gridcolor": "white",
            "linecolor": "white",
            "ticks": ""
           },
           "baxis": {
            "gridcolor": "white",
            "linecolor": "white",
            "ticks": ""
           },
           "bgcolor": "#E5ECF6",
           "caxis": {
            "gridcolor": "white",
            "linecolor": "white",
            "ticks": ""
           }
          },
          "title": {
           "x": 0.05
          },
          "xaxis": {
           "automargin": true,
           "gridcolor": "white",
           "linecolor": "white",
           "ticks": "",
           "title": {
            "standoff": 15
           },
           "zerolinecolor": "white",
           "zerolinewidth": 2
          },
          "yaxis": {
           "automargin": true,
           "gridcolor": "white",
           "linecolor": "white",
           "ticks": "",
           "title": {
            "standoff": 15
           },
           "zerolinecolor": "white",
           "zerolinewidth": 2
          }
         }
        },
        "xaxis": {
         "anchor": "y",
         "domain": [
          0,
          1
         ],
         "title": {
          "text": "Predictions (testing data)"
         }
        },
        "yaxis": {
         "anchor": "x",
         "domain": [
          0,
          1
         ],
         "title": {
          "text": "Realized PRMT5 (testing data)"
         }
        }
       }
      }
     },
     "metadata": {},
     "output_type": "display_data"
    }
   ],
   "source": [
    "px.scatter( x = output['y_pred_test'], y = output['y_test'], labels = {'x': 'Predictions (testing data)', 'y': 'Realized PRMT5 (testing data)'} )"
   ]
  },
  {
   "cell_type": "markdown",
   "metadata": {},
   "source": [
    "Because the training and testing data are chosen randomly, there will be some variability in the numbers we'll see - but these two numbers are very close to each other in my runs, with a difference of ~ 7%. But we can do better, what heppens if we bring in bigger models?"
   ]
  },
  {
   "cell_type": "code",
   "execution_count": 251,
   "metadata": {},
   "outputs": [
    {
     "name": "stdout",
     "output_type": "stream",
     "text": [
      "Features:  Copy Number Public 23Q4 MUCL1, Copy Number Public 23Q4 PRMT5, Copy Number Public 23Q4 MAP1A, Copy Number Public 23Q4 MAT2A, Copy Number Public 23Q4 PDGFRB, Copy Number Public 23Q4 GJA1, Copy Number Public 23Q4 MTAP, Copy Number Public 23Q4 ZNF185, Expression Public 23Q4 MTAP, Expression Public 23Q4 PRMT5, Expression Public 23Q4 PDGFRB, Expression Public 23Q4 ZNF185, Expression Public 23Q4 GJA1, Expression Public 23Q4 MAP1A, Expression Public 23Q4 MAT2A, Expression Public 23Q4 MUCL1\n",
      "R-squared (the higher the better):  0.44102823554399206\n",
      "mean squared error (the lower the better):  0.04283827779192868\n"
     ]
    }
   ],
   "source": [
    "from sklearn.ensemble import RandomForestRegressor\n",
    "\n",
    "model = RandomForestRegressor( max_depth= 4, random_state=42 )\n",
    "output = get_and_evaluate_linear_model( model, joint_data, features, 'PRMT5' )\n",
    "\n",
    "print( 'Features: ', ', '.join(output['features']) )\n",
    "print( 'R-squared (the higher the better): ', output['r2'] )\n",
    "print( 'mean squared error (the lower the better): ', output['mse'] )"
   ]
  },
  {
   "cell_type": "code",
   "execution_count": 266,
   "metadata": {},
   "outputs": [
    {
     "data": {
      "text/plain": [
       "['Copy Number Public 23Q4 MUCL1',\n",
       " 'Copy Number Public 23Q4 PRMT5',\n",
       " 'Copy Number Public 23Q4 MAP1A',\n",
       " 'Copy Number Public 23Q4 MAT2A',\n",
       " 'Copy Number Public 23Q4 PDGFRB',\n",
       " 'Copy Number Public 23Q4 GJA1',\n",
       " 'Copy Number Public 23Q4 MTAP',\n",
       " 'Copy Number Public 23Q4 ZNF185',\n",
       " 'Expression Public 23Q4 MTAP',\n",
       " 'Expression Public 23Q4 PRMT5',\n",
       " 'Expression Public 23Q4 PDGFRB',\n",
       " 'Expression Public 23Q4 ZNF185',\n",
       " 'Expression Public 23Q4 GJA1',\n",
       " 'Expression Public 23Q4 MAP1A',\n",
       " 'Expression Public 23Q4 MAT2A',\n",
       " 'Expression Public 23Q4 MUCL1']"
      ]
     },
     "execution_count": 266,
     "metadata": {},
     "output_type": "execute_result"
    }
   ],
   "source": [
    "features"
   ]
  },
  {
   "cell_type": "code",
   "execution_count": 252,
   "metadata": {},
   "outputs": [
    {
     "data": {
      "application/vnd.plotly.v1+json": {
       "config": {
        "plotlyServerURL": "https://plot.ly"
       },
       "data": [
        {
         "hovertemplate": "Predictions (testing data)=%{x}<br>Realized PRMT5 (testing data)=%{y}<extra></extra>",
         "legendgroup": "",
         "marker": {
          "color": "#636efa",
          "symbol": "circle"
         },
         "mode": "markers",
         "name": "",
         "orientation": "v",
         "showlegend": false,
         "type": "scatter",
         "x": [
          -0.2977032304574734,
          -0.3690857848191465,
          -0.6764816769338501,
          -0.7483394261377728,
          -0.3141470572884641,
          -0.2710890065545401,
          -0.26705242117420414,
          -0.24553835723591944,
          -0.3077488356934938,
          -0.2574185955264296,
          -0.3102788745156674,
          -0.3014624563250612,
          -0.7267580652055678,
          -0.2404470783850421,
          -0.2934974272198367,
          -0.3192143084161623,
          -0.35841646384997405,
          -0.2793410305347093,
          -0.34224684293019847,
          -0.37191102109649093,
          -0.30292448950045886,
          -0.2801037975292615,
          -0.32963052648616675,
          -0.26364797124504125,
          -0.283503925489166,
          -0.2566329769893299,
          -0.3066884975896502,
          -1.090467111459131,
          -0.2728079649523758,
          -0.29382498861146983,
          -0.23646815657009845,
          -0.2816007529265492,
          -0.23786301766862528,
          -0.8909232004459716,
          -0.8984122639817816,
          -0.30259166310105334,
          -0.23020378314489653,
          -0.24983786318407797,
          -0.2710679575736044,
          -0.2786085353202726,
          -0.24400707117480383,
          -0.25818418324834985,
          -0.25850746734178864,
          -0.2639247869754628,
          -0.7290413641609674,
          -0.29100383973196264,
          -0.2412991517980434,
          -0.2905983375795985,
          -0.22455347971129974,
          -0.2628127044081909,
          -0.2869653534717412,
          -0.283479114118811,
          -0.29081341734148203,
          -0.2930379296210252,
          -0.3431988972552755,
          -0.2356478021372633,
          -0.3272060861350098,
          -0.24876003763089805,
          -0.2594821874169577,
          -0.24857332202843616,
          -0.2352634725065162,
          -0.31317357902195886,
          -0.31477875995041016,
          -0.6859678658808537,
          -0.7752152677817544,
          -0.7573188037020923,
          -0.2664045385723903,
          -0.2798830406680879,
          -0.7874400100603886,
          -0.3174334652805397,
          -0.39065107202006977,
          -0.32644798226492716,
          -0.8289532970313759,
          -0.24789838023259606,
          -0.2891325224893358,
          -0.2476898881729982,
          -0.27305313719459884,
          -0.780253670951429,
          -0.24965320020602536,
          -0.25080081131893245,
          -0.24326198846220745,
          -0.2377812192555344,
          -0.295400795393039,
          -0.3096065982283328,
          -0.7465192680864928,
          -0.30446714243375295,
          -0.26277540590862236,
          -0.3148145876233197,
          -0.2779524478769905,
          -0.23073392110081173,
          -0.2808827233470479,
          -0.25457822420992116,
          -0.6999341993295473,
          -0.7970662855767263,
          -0.28913065298682444,
          -0.7649620864867137,
          -0.4213636099283333,
          -0.23992407562050894,
          -0.25317113493584686,
          -0.2756917692021318,
          -0.28584338162264,
          -0.3246608968043111,
          -0.22375297469398134,
          -0.26608544388204214,
          -0.2618081515869717,
          -0.25818430511583584,
          -0.2417976268257541,
          -0.23572034034195297,
          -0.6443289156415516,
          -0.7460727430241135,
          -0.8279226179647915,
          -0.2704184867157473,
          -0.2404044318646512,
          -0.2848553019312826,
          -0.8055702513549821,
          -0.34363194234405947,
          -0.8111217402209366,
          -0.2965776830438137,
          -0.3048294178875699,
          -0.35954789158364237,
          -0.6963529777097243,
          -0.3094959584465673,
          -0.2862293882801075,
          -0.9057941990712501,
          -0.6955955131299605,
          -0.26881711516699275,
          -0.26603407537180584,
          -0.27466629814061005,
          -0.7486655601006892,
          -0.2798939293121572,
          -0.30822957122775607,
          -0.24862181961120144,
          -0.29600178573107,
          -0.27054680077347365,
          -0.28424647664900243,
          -0.26358643803461923,
          -0.29595237820034026,
          -0.24879921884985223,
          -0.28460592358057735,
          -0.3029029802780289,
          -0.309219721119821,
          -0.29679649512234535,
          -0.7999779763203198,
          -0.30504249141098233,
          -0.27831284899793407,
          -0.7883575970416679,
          -0.2634904386149523,
          -0.2787429511318511,
          -0.7294167223528243,
          -0.24512505778347074,
          -0.2874544388542827,
          -0.2519338092401474,
          -0.9681474282974972,
          -0.27770339047501985,
          -0.2914282224821822,
          -0.7486206376495087,
          -0.2527209139816847,
          -0.2703922237641809,
          -0.2541047456060673,
          -0.22842746792431104,
          -0.5436327344476991,
          -0.9254924428150759,
          -0.27952943831207433,
          -0.792495607050926,
          -0.8663774753564765,
          -0.7752259699179234,
          -0.2519851982197602,
          -0.2878761835699056,
          -0.870574061300134,
          -0.22689646122802754,
          -0.2852842482841636,
          -0.838237639721319,
          -0.2834508332686044,
          -0.2965503859435177,
          -0.26212220924630064,
          -0.6839697866372219,
          -0.26793967173603905,
          -0.29258164267305026,
          -0.30041857887506945,
          -0.30100888907857315,
          -0.22875838691008377,
          -0.23169112568015623,
          -0.9841651888049526,
          -0.2926398425199036,
          -0.27900699746010404,
          -0.25229052466841934,
          -0.6346011349117479,
          -0.2706349381115843,
          -0.23187386917636946,
          -0.2590517058859431,
          -0.24280868429363106,
          -0.788121520821807,
          -0.2939533966620215,
          -0.7306322418613415,
          -0.2788426330377271,
          -0.2917315933666376,
          -0.285273747183817,
          -0.3211812512900032,
          -0.28058749980867115,
          -0.27312760918495443,
          -0.3183327547689099,
          -0.2875599175346372,
          -0.27092040989437394,
          -0.29824050139207064,
          -0.24443632472831542,
          -0.30654880058134426,
          -0.3461322410606617,
          -0.32968294068449433,
          -0.27743862934573893,
          -0.29876929010227277,
          -0.2516152467716152,
          -0.30406225201865267,
          -0.2607017371512248,
          -0.2567308437635839,
          -0.29137719273297136,
          -0.8278976236071134,
          -0.276102926867425,
          -0.985057698046409,
          -0.24437644635102462,
          -0.27633674575102957,
          -0.7085051448996232,
          -0.4118609827608202,
          -0.31525926899754586,
          -0.2505324976078011,
          -0.27579602345580556,
          -0.30223352008881227,
          -0.3811002199273603,
          -0.33074683038479036,
          -0.9055244650870619,
          -0.2838649455466753,
          -0.6841212849694313,
          -0.2869318503021965,
          -0.32025378385225556,
          -0.32085884486745714,
          -0.26702938868716214,
          -0.8408012098379943,
          -0.259853264559669,
          -0.28758665660855576,
          -0.2887846588644023,
          -0.8338308344952449,
          -0.2796988655318819,
          -0.70970797416539,
          -0.29777365680553675,
          -0.2582770750341803,
          -0.2556296778611237,
          -0.28329798131817713,
          -0.2484513597181051,
          -0.3214971232202303,
          -0.25654080494658976,
          -0.30004992200320685,
          -0.25686188702570295,
          -0.2550801668469251,
          -0.8775286827673746,
          -0.2504774362597005,
          -0.27766117313849464,
          -0.29748920211443614
         ],
         "xaxis": "x",
         "y": [
          -0.231456811703,
          -0.424300094673,
          -0.406054330636,
          -0.433152103708,
          -0.22923882622,
          -0.124133410885,
          -0.185764503545,
          -0.307144149833,
          -0.156411421817,
          -0.943173812705,
          -0.0697697132519,
          -0.305546325326,
          -1.10418887451,
          0.0793501833702,
          -0.340780037538,
          -0.423134752983,
          -0.660962070995,
          -0.0736642237393,
          -0.457723839251,
          -0.560541640623,
          -0.358903966828,
          -0.389781038304,
          -0.192105239386,
          -0.480405524048,
          -0.0865153486451,
          -0.143467329868,
          0.00513076768166,
          -0.290089263787,
          -0.207506873244,
          -0.404864987392,
          -0.0920024982084,
          -0.364889362036,
          -0.152057335308,
          -0.576555564924,
          -0.858340847078,
          -0.272066670869,
          -0.221481379658,
          -0.286349723392,
          -0.502752029504,
          -0.237090913251,
          -0.0479342818588,
          -0.353635920233,
          -0.441973550333,
          -0.296632579582,
          -0.604597705421,
          -0.0715797983684,
          -0.195991901102,
          -0.241060559277,
          -0.27557778329,
          -0.237661694557,
          -0.225977370548,
          -0.158505963809,
          -0.192709759353,
          -0.179742922137,
          -0.268885977862,
          -0.228887797152,
          -0.509078038634,
          -0.166286830451,
          -0.319043457834,
          -0.416288677689,
          -0.291182044633,
          -0.680209279377,
          -0.292311121637,
          -0.924157763745,
          -0.311352398334,
          -0.759442538175,
          -0.340114091085,
          -0.229986734545,
          -0.481849536628,
          -0.255323808146,
          -0.279944080765,
          -0.396298295164,
          -0.731937969868,
          -0.330695606553,
          -0.30704867506,
          -0.0745859857688,
          -0.224170720976,
          -0.687539851344,
          -0.466801553104,
          -0.371259986303,
          -0.10966831974,
          -0.25916788725,
          -0.363965918505,
          -0.350275074382,
          -0.568269601009,
          -0.385941205552,
          -0.12914452001,
          -0.134330450265,
          -0.648044537664,
          -0.11977706121,
          -0.251275520996,
          -0.305439737438,
          -0.347045304616,
          -0.787735096155,
          -0.0515315049642,
          -0.922107110499,
          -0.297006627241,
          -0.167545902643,
          -0.12554968456,
          -0.439110918846,
          -0.218013281478,
          -0.524300814477,
          -0.261664205223,
          -0.12426595425,
          -0.513591182104,
          -0.227214579856,
          -0.556948487149,
          -0.180289754062,
          -0.322096946197,
          -1.18361318418,
          -1.01708934376,
          -0.28261761791,
          -0.26815347282,
          -0.106283622682,
          -1.10563991246,
          -0.339766216759,
          -0.69208827894,
          -0.328999512942,
          -0.330754929531,
          -0.247236774287,
          -0.467318704735,
          -0.539589875024,
          -0.100304600029,
          -1.00708942274,
          -0.867132433045,
          -0.207872513495,
          -0.222286327272,
          -0.30875048902,
          -0.404073496215,
          -0.169213027498,
          -0.319467199444,
          -0.146375403663,
          -0.269937756934,
          -0.0762879412664,
          -0.43262521243,
          -0.260486925504,
          -0.180789744882,
          -0.131597358299,
          -0.263995080086,
          -0.243778025675,
          -0.352947271364,
          -0.154733106695,
          -1.07725258066,
          -0.35520579622,
          -0.549296187591,
          0.0548867630301,
          -0.39006926668,
          -0.115114566872,
          -0.457683611237,
          -0.240013243866,
          -0.098794984339,
          -0.466576863977,
          -0.656389929569,
          -0.467874425832,
          -0.502530646182,
          -0.426856179624,
          -0.158387440662,
          -0.208289558525,
          -0.191160399059,
          -0.142979121012,
          -0.712164004347,
          -0.998329103581,
          -0.362378082953,
          -0.718384298456,
          -1.0590852482,
          -0.439904465335,
          -0.354609235121,
          -0.175443113066,
          -0.508267966117,
          -0.401217518448,
          -0.347523225122,
          -0.316017189997,
          -0.390827323583,
          0.0871084988512,
          -0.0449242793548,
          -1.78134587412,
          -0.300742897875,
          -0.164882090755,
          -0.185860620609,
          0.0125879952621,
          -0.0672471461495,
          -0.267186375097,
          -1.05377197711,
          -0.382046338983,
          -0.211547651268,
          -0.0906621975382,
          -0.501721401906,
          -0.2657944176,
          -0.250883691649,
          -0.31426858477,
          -0.19743347519,
          -1.09334538392,
          -0.0484712466374,
          -0.855244352312,
          -0.165536173155,
          -0.215605376227,
          -0.236831184278,
          -0.154368137736,
          -0.427275440533,
          -0.211774440115,
          -0.374532298353,
          -0.286611899688,
          -0.256672812807,
          -0.0906264459503,
          -0.168703252502,
          -0.259194900869,
          -0.35927914929,
          -0.413396721598,
          -0.294307929612,
          -0.774082650984,
          -0.125705091886,
          -0.2528088714,
          -0.122470657709,
          -0.265989157248,
          -0.337661414922,
          -1.08674126917,
          -0.330329313989,
          -1.3193955141,
          -0.120162083592,
          -0.256240626365,
          -0.998721745039,
          -0.44120287261,
          -0.6540095526,
          -0.268846455829,
          -0.531267315515,
          -0.199513275241,
          -0.178711132246,
          -0.52988225901,
          -0.507476279657,
          -0.29787185115,
          -0.483221709166,
          -0.208866234974,
          -0.968611547406,
          -0.520270343805,
          -0.376807352566,
          -1.09933385097,
          -0.392979033964,
          -0.609858619782,
          -0.221212924475,
          -1.09160681338,
          -0.258228734742,
          -0.3687364445,
          -0.409129853839,
          -0.244968904939,
          -0.416022245784,
          -0.119850828392,
          -0.144109059798,
          -0.433835602537,
          -0.195188784633,
          -0.552548149869,
          -0.352589150117,
          -0.187300591733,
          -0.814094247814,
          -0.0418142868541,
          -0.343568066306,
          -0.264905102678
         ],
         "yaxis": "y"
        }
       ],
       "layout": {
        "legend": {
         "tracegroupgap": 0
        },
        "margin": {
         "t": 60
        },
        "template": {
         "data": {
          "bar": [
           {
            "error_x": {
             "color": "#2a3f5f"
            },
            "error_y": {
             "color": "#2a3f5f"
            },
            "marker": {
             "line": {
              "color": "#E5ECF6",
              "width": 0.5
             },
             "pattern": {
              "fillmode": "overlay",
              "size": 10,
              "solidity": 0.2
             }
            },
            "type": "bar"
           }
          ],
          "barpolar": [
           {
            "marker": {
             "line": {
              "color": "#E5ECF6",
              "width": 0.5
             },
             "pattern": {
              "fillmode": "overlay",
              "size": 10,
              "solidity": 0.2
             }
            },
            "type": "barpolar"
           }
          ],
          "carpet": [
           {
            "aaxis": {
             "endlinecolor": "#2a3f5f",
             "gridcolor": "white",
             "linecolor": "white",
             "minorgridcolor": "white",
             "startlinecolor": "#2a3f5f"
            },
            "baxis": {
             "endlinecolor": "#2a3f5f",
             "gridcolor": "white",
             "linecolor": "white",
             "minorgridcolor": "white",
             "startlinecolor": "#2a3f5f"
            },
            "type": "carpet"
           }
          ],
          "choropleth": [
           {
            "colorbar": {
             "outlinewidth": 0,
             "ticks": ""
            },
            "type": "choropleth"
           }
          ],
          "contour": [
           {
            "colorbar": {
             "outlinewidth": 0,
             "ticks": ""
            },
            "colorscale": [
             [
              0,
              "#0d0887"
             ],
             [
              0.1111111111111111,
              "#46039f"
             ],
             [
              0.2222222222222222,
              "#7201a8"
             ],
             [
              0.3333333333333333,
              "#9c179e"
             ],
             [
              0.4444444444444444,
              "#bd3786"
             ],
             [
              0.5555555555555556,
              "#d8576b"
             ],
             [
              0.6666666666666666,
              "#ed7953"
             ],
             [
              0.7777777777777778,
              "#fb9f3a"
             ],
             [
              0.8888888888888888,
              "#fdca26"
             ],
             [
              1,
              "#f0f921"
             ]
            ],
            "type": "contour"
           }
          ],
          "contourcarpet": [
           {
            "colorbar": {
             "outlinewidth": 0,
             "ticks": ""
            },
            "type": "contourcarpet"
           }
          ],
          "heatmap": [
           {
            "colorbar": {
             "outlinewidth": 0,
             "ticks": ""
            },
            "colorscale": [
             [
              0,
              "#0d0887"
             ],
             [
              0.1111111111111111,
              "#46039f"
             ],
             [
              0.2222222222222222,
              "#7201a8"
             ],
             [
              0.3333333333333333,
              "#9c179e"
             ],
             [
              0.4444444444444444,
              "#bd3786"
             ],
             [
              0.5555555555555556,
              "#d8576b"
             ],
             [
              0.6666666666666666,
              "#ed7953"
             ],
             [
              0.7777777777777778,
              "#fb9f3a"
             ],
             [
              0.8888888888888888,
              "#fdca26"
             ],
             [
              1,
              "#f0f921"
             ]
            ],
            "type": "heatmap"
           }
          ],
          "heatmapgl": [
           {
            "colorbar": {
             "outlinewidth": 0,
             "ticks": ""
            },
            "colorscale": [
             [
              0,
              "#0d0887"
             ],
             [
              0.1111111111111111,
              "#46039f"
             ],
             [
              0.2222222222222222,
              "#7201a8"
             ],
             [
              0.3333333333333333,
              "#9c179e"
             ],
             [
              0.4444444444444444,
              "#bd3786"
             ],
             [
              0.5555555555555556,
              "#d8576b"
             ],
             [
              0.6666666666666666,
              "#ed7953"
             ],
             [
              0.7777777777777778,
              "#fb9f3a"
             ],
             [
              0.8888888888888888,
              "#fdca26"
             ],
             [
              1,
              "#f0f921"
             ]
            ],
            "type": "heatmapgl"
           }
          ],
          "histogram": [
           {
            "marker": {
             "pattern": {
              "fillmode": "overlay",
              "size": 10,
              "solidity": 0.2
             }
            },
            "type": "histogram"
           }
          ],
          "histogram2d": [
           {
            "colorbar": {
             "outlinewidth": 0,
             "ticks": ""
            },
            "colorscale": [
             [
              0,
              "#0d0887"
             ],
             [
              0.1111111111111111,
              "#46039f"
             ],
             [
              0.2222222222222222,
              "#7201a8"
             ],
             [
              0.3333333333333333,
              "#9c179e"
             ],
             [
              0.4444444444444444,
              "#bd3786"
             ],
             [
              0.5555555555555556,
              "#d8576b"
             ],
             [
              0.6666666666666666,
              "#ed7953"
             ],
             [
              0.7777777777777778,
              "#fb9f3a"
             ],
             [
              0.8888888888888888,
              "#fdca26"
             ],
             [
              1,
              "#f0f921"
             ]
            ],
            "type": "histogram2d"
           }
          ],
          "histogram2dcontour": [
           {
            "colorbar": {
             "outlinewidth": 0,
             "ticks": ""
            },
            "colorscale": [
             [
              0,
              "#0d0887"
             ],
             [
              0.1111111111111111,
              "#46039f"
             ],
             [
              0.2222222222222222,
              "#7201a8"
             ],
             [
              0.3333333333333333,
              "#9c179e"
             ],
             [
              0.4444444444444444,
              "#bd3786"
             ],
             [
              0.5555555555555556,
              "#d8576b"
             ],
             [
              0.6666666666666666,
              "#ed7953"
             ],
             [
              0.7777777777777778,
              "#fb9f3a"
             ],
             [
              0.8888888888888888,
              "#fdca26"
             ],
             [
              1,
              "#f0f921"
             ]
            ],
            "type": "histogram2dcontour"
           }
          ],
          "mesh3d": [
           {
            "colorbar": {
             "outlinewidth": 0,
             "ticks": ""
            },
            "type": "mesh3d"
           }
          ],
          "parcoords": [
           {
            "line": {
             "colorbar": {
              "outlinewidth": 0,
              "ticks": ""
             }
            },
            "type": "parcoords"
           }
          ],
          "pie": [
           {
            "automargin": true,
            "type": "pie"
           }
          ],
          "scatter": [
           {
            "fillpattern": {
             "fillmode": "overlay",
             "size": 10,
             "solidity": 0.2
            },
            "type": "scatter"
           }
          ],
          "scatter3d": [
           {
            "line": {
             "colorbar": {
              "outlinewidth": 0,
              "ticks": ""
             }
            },
            "marker": {
             "colorbar": {
              "outlinewidth": 0,
              "ticks": ""
             }
            },
            "type": "scatter3d"
           }
          ],
          "scattercarpet": [
           {
            "marker": {
             "colorbar": {
              "outlinewidth": 0,
              "ticks": ""
             }
            },
            "type": "scattercarpet"
           }
          ],
          "scattergeo": [
           {
            "marker": {
             "colorbar": {
              "outlinewidth": 0,
              "ticks": ""
             }
            },
            "type": "scattergeo"
           }
          ],
          "scattergl": [
           {
            "marker": {
             "colorbar": {
              "outlinewidth": 0,
              "ticks": ""
             }
            },
            "type": "scattergl"
           }
          ],
          "scattermapbox": [
           {
            "marker": {
             "colorbar": {
              "outlinewidth": 0,
              "ticks": ""
             }
            },
            "type": "scattermapbox"
           }
          ],
          "scatterpolar": [
           {
            "marker": {
             "colorbar": {
              "outlinewidth": 0,
              "ticks": ""
             }
            },
            "type": "scatterpolar"
           }
          ],
          "scatterpolargl": [
           {
            "marker": {
             "colorbar": {
              "outlinewidth": 0,
              "ticks": ""
             }
            },
            "type": "scatterpolargl"
           }
          ],
          "scatterternary": [
           {
            "marker": {
             "colorbar": {
              "outlinewidth": 0,
              "ticks": ""
             }
            },
            "type": "scatterternary"
           }
          ],
          "surface": [
           {
            "colorbar": {
             "outlinewidth": 0,
             "ticks": ""
            },
            "colorscale": [
             [
              0,
              "#0d0887"
             ],
             [
              0.1111111111111111,
              "#46039f"
             ],
             [
              0.2222222222222222,
              "#7201a8"
             ],
             [
              0.3333333333333333,
              "#9c179e"
             ],
             [
              0.4444444444444444,
              "#bd3786"
             ],
             [
              0.5555555555555556,
              "#d8576b"
             ],
             [
              0.6666666666666666,
              "#ed7953"
             ],
             [
              0.7777777777777778,
              "#fb9f3a"
             ],
             [
              0.8888888888888888,
              "#fdca26"
             ],
             [
              1,
              "#f0f921"
             ]
            ],
            "type": "surface"
           }
          ],
          "table": [
           {
            "cells": {
             "fill": {
              "color": "#EBF0F8"
             },
             "line": {
              "color": "white"
             }
            },
            "header": {
             "fill": {
              "color": "#C8D4E3"
             },
             "line": {
              "color": "white"
             }
            },
            "type": "table"
           }
          ]
         },
         "layout": {
          "annotationdefaults": {
           "arrowcolor": "#2a3f5f",
           "arrowhead": 0,
           "arrowwidth": 1
          },
          "autotypenumbers": "strict",
          "coloraxis": {
           "colorbar": {
            "outlinewidth": 0,
            "ticks": ""
           }
          },
          "colorscale": {
           "diverging": [
            [
             0,
             "#8e0152"
            ],
            [
             0.1,
             "#c51b7d"
            ],
            [
             0.2,
             "#de77ae"
            ],
            [
             0.3,
             "#f1b6da"
            ],
            [
             0.4,
             "#fde0ef"
            ],
            [
             0.5,
             "#f7f7f7"
            ],
            [
             0.6,
             "#e6f5d0"
            ],
            [
             0.7,
             "#b8e186"
            ],
            [
             0.8,
             "#7fbc41"
            ],
            [
             0.9,
             "#4d9221"
            ],
            [
             1,
             "#276419"
            ]
           ],
           "sequential": [
            [
             0,
             "#0d0887"
            ],
            [
             0.1111111111111111,
             "#46039f"
            ],
            [
             0.2222222222222222,
             "#7201a8"
            ],
            [
             0.3333333333333333,
             "#9c179e"
            ],
            [
             0.4444444444444444,
             "#bd3786"
            ],
            [
             0.5555555555555556,
             "#d8576b"
            ],
            [
             0.6666666666666666,
             "#ed7953"
            ],
            [
             0.7777777777777778,
             "#fb9f3a"
            ],
            [
             0.8888888888888888,
             "#fdca26"
            ],
            [
             1,
             "#f0f921"
            ]
           ],
           "sequentialminus": [
            [
             0,
             "#0d0887"
            ],
            [
             0.1111111111111111,
             "#46039f"
            ],
            [
             0.2222222222222222,
             "#7201a8"
            ],
            [
             0.3333333333333333,
             "#9c179e"
            ],
            [
             0.4444444444444444,
             "#bd3786"
            ],
            [
             0.5555555555555556,
             "#d8576b"
            ],
            [
             0.6666666666666666,
             "#ed7953"
            ],
            [
             0.7777777777777778,
             "#fb9f3a"
            ],
            [
             0.8888888888888888,
             "#fdca26"
            ],
            [
             1,
             "#f0f921"
            ]
           ]
          },
          "colorway": [
           "#636efa",
           "#EF553B",
           "#00cc96",
           "#ab63fa",
           "#FFA15A",
           "#19d3f3",
           "#FF6692",
           "#B6E880",
           "#FF97FF",
           "#FECB52"
          ],
          "font": {
           "color": "#2a3f5f"
          },
          "geo": {
           "bgcolor": "white",
           "lakecolor": "white",
           "landcolor": "#E5ECF6",
           "showlakes": true,
           "showland": true,
           "subunitcolor": "white"
          },
          "hoverlabel": {
           "align": "left"
          },
          "hovermode": "closest",
          "mapbox": {
           "style": "light"
          },
          "paper_bgcolor": "white",
          "plot_bgcolor": "#E5ECF6",
          "polar": {
           "angularaxis": {
            "gridcolor": "white",
            "linecolor": "white",
            "ticks": ""
           },
           "bgcolor": "#E5ECF6",
           "radialaxis": {
            "gridcolor": "white",
            "linecolor": "white",
            "ticks": ""
           }
          },
          "scene": {
           "xaxis": {
            "backgroundcolor": "#E5ECF6",
            "gridcolor": "white",
            "gridwidth": 2,
            "linecolor": "white",
            "showbackground": true,
            "ticks": "",
            "zerolinecolor": "white"
           },
           "yaxis": {
            "backgroundcolor": "#E5ECF6",
            "gridcolor": "white",
            "gridwidth": 2,
            "linecolor": "white",
            "showbackground": true,
            "ticks": "",
            "zerolinecolor": "white"
           },
           "zaxis": {
            "backgroundcolor": "#E5ECF6",
            "gridcolor": "white",
            "gridwidth": 2,
            "linecolor": "white",
            "showbackground": true,
            "ticks": "",
            "zerolinecolor": "white"
           }
          },
          "shapedefaults": {
           "line": {
            "color": "#2a3f5f"
           }
          },
          "ternary": {
           "aaxis": {
            "gridcolor": "white",
            "linecolor": "white",
            "ticks": ""
           },
           "baxis": {
            "gridcolor": "white",
            "linecolor": "white",
            "ticks": ""
           },
           "bgcolor": "#E5ECF6",
           "caxis": {
            "gridcolor": "white",
            "linecolor": "white",
            "ticks": ""
           }
          },
          "title": {
           "x": 0.05
          },
          "xaxis": {
           "automargin": true,
           "gridcolor": "white",
           "linecolor": "white",
           "ticks": "",
           "title": {
            "standoff": 15
           },
           "zerolinecolor": "white",
           "zerolinewidth": 2
          },
          "yaxis": {
           "automargin": true,
           "gridcolor": "white",
           "linecolor": "white",
           "ticks": "",
           "title": {
            "standoff": 15
           },
           "zerolinecolor": "white",
           "zerolinewidth": 2
          }
         }
        },
        "xaxis": {
         "anchor": "y",
         "domain": [
          0,
          1
         ],
         "title": {
          "text": "Predictions (testing data)"
         }
        },
        "yaxis": {
         "anchor": "x",
         "domain": [
          0,
          1
         ],
         "title": {
          "text": "Realized PRMT5 (testing data)"
         }
        }
       }
      }
     },
     "metadata": {},
     "output_type": "display_data"
    }
   ],
   "source": [
    "px.scatter( x = output['y_pred_test'], y = output['y_test'], labels = {'x': 'Predictions (testing data)', 'y': 'Realized PRMT5 (testing data)'} )"
   ]
  },
  {
   "cell_type": "code",
   "execution_count": 268,
   "metadata": {},
   "outputs": [
    {
     "data": {
      "text/plain": [
       "{'Copy Number Public 23Q4 MUCL1': 0.011407636529843534,\n",
       " 'Copy Number Public 23Q4 PRMT5': 0.03580835456050252,\n",
       " 'Copy Number Public 23Q4 MAP1A': 0.023095985251015496,\n",
       " 'Copy Number Public 23Q4 MAT2A': 0.019256412195827462,\n",
       " 'Copy Number Public 23Q4 PDGFRB': 0.0229250281089463,\n",
       " 'Copy Number Public 23Q4 GJA1': 0.007293093774018603,\n",
       " 'Copy Number Public 23Q4 MTAP': 0.6785980786849979,\n",
       " 'Copy Number Public 23Q4 ZNF185': 0.00539926039638626,\n",
       " 'Expression Public 23Q4 MTAP': 0.04919384859102367,\n",
       " 'Expression Public 23Q4 PRMT5': 0.0072532165273554395,\n",
       " 'Expression Public 23Q4 PDGFRB': 0.05081480534241779,\n",
       " 'Expression Public 23Q4 ZNF185': 0.036059449841725696,\n",
       " 'Expression Public 23Q4 GJA1': 0.016016248434067303,\n",
       " 'Expression Public 23Q4 MAP1A': 0.015218178315123782,\n",
       " 'Expression Public 23Q4 MAT2A': 0.012617977814544701,\n",
       " 'Expression Public 23Q4 MUCL1': 0.009042425632203645}"
      ]
     },
     "execution_count": 268,
     "metadata": {},
     "output_type": "execute_result"
    }
   ],
   "source": [
    "{ features[i] : model.feature_importances_[i] for i in range(len(features)) }"
   ]
  },
  {
   "cell_type": "markdown",
   "metadata": {},
   "source": [
    "We're slowly improving! Can we do even better? Probably! How? I don't know, that's up to you to find out!"
   ]
  },
  {
   "cell_type": "markdown",
   "metadata": {},
   "source": [
    "### Conclusion\n",
    "\n",
    "So we've learned a few things today:\n",
    "1. How to ingest data from depmap, work on dependency data and merge it with expression and copy number data.\n",
    "2. Visualize quite intricate literature findings in the data and understand its significance when it comes to drug discovery.\n",
    "3. How to build simple ML models to predict dependency.\n",
    "\n",
    "Do you have a hypothesis that you want to test? Or do you have the data skills and need a hypothesis? Get in touch and let's cure cancer!"
   ]
  }
 ],
 "metadata": {
  "kernelspec": {
   "display_name": ".venv",
   "language": "python",
   "name": "python3"
  },
  "language_info": {
   "codemirror_mode": {
    "name": "ipython",
    "version": 3
   },
   "file_extension": ".py",
   "mimetype": "text/x-python",
   "name": "python",
   "nbconvert_exporter": "python",
   "pygments_lexer": "ipython3",
   "version": "3.11.6"
  }
 },
 "nbformat": 4,
 "nbformat_minor": 2
}
