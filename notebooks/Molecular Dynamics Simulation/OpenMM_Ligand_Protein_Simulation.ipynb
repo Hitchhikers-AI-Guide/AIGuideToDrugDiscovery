{
  "cells": [
    {
      "cell_type": "code",
      "execution_count": null,
      "metadata": {
        "id": "8be41a88-b82d-43eb-be56-1d7fa9c6dfa3"
      },
      "outputs": [],
      "source": [
        "# Execute this cell to make this notebook's dependencies available\n",
        "!pip install -U https://github.com/conda-incubator/condacolab/archive/cuda-version-12.tar.gz\n",
        "import condacolab\n",
        "condacolab.install_mambaforge()\n",
        "!wget -q https://raw.githubusercontent.com/openforcefield/openff-docs/_cookbook_data_main/build/cookbook/colab/openforcefield/openff-toolkit/toolkit_showcase/5tbm_prepared.pdb\n",
        "!wget -q https://raw.githubusercontent.com/openforcefield/openff-docs/_cookbook_data_main/build/cookbook/colab/openforcefield/openff-toolkit/toolkit_showcase/minim.mdp\n",
        "!wget -q https://raw.githubusercontent.com/openforcefield/openff-docs/_cookbook_data_main/build/cookbook/colab/openforcefield/openff-toolkit/toolkit_showcase/README.md\n",
        "!wget -q https://raw.githubusercontent.com/openforcefield/openff-docs/_cookbook_data_main/build/cookbook/colab/openforcefield/openff-toolkit/toolkit_showcase/PT2385.sdf\n",
        "!wget -q https://raw.githubusercontent.com/openforcefield/openff-docs/_cookbook_data_main/build/cookbook/colab/openforcefield/openff-toolkit/toolkit_showcase/sim.mdp\n",
        "!wget -q https://raw.githubusercontent.com/openforcefield/openff-docs/_cookbook_data_main/build/cookbook/colab/openforcefield/openff-toolkit/toolkit_showcase/environment.yaml\n",
        "!mamba env update -q --name=base --file=environment.yaml\n",
        "from google.colab import output\n",
        "output.enable_custom_widget_manager()"
      ]
    },
    {
      "cell_type": "markdown",
      "metadata": {
        "id": "rSVsHdKNmge_"
      },
      "source": [
        "# Prepare and run a protein-ligand simulation\n",
        "\n",
        "Building upon the original Open Force Field Toolkit tutorial*, this presentation introduces advanced techniques for preparing Molecular Dynamics simulation. Our enhancements focus on extending the core material to include:\n",
        "\n",
        "Temperature and Pressure Equilibration: A critical step for realistic simulations, ensuring the system reaches a stable state that mimics real-world conditions.\n",
        "Custom Reporter for Intermediate Simulation Results: An added feature to save and analyze simulation data at various stages, providing insights into running simulation.\n",
        "We thank the creators of the original tutorial for their foundational work. Our additions aim to enrich the learning experience, offering participants a more comprehensive understanding of Molecular Dynamics simulations within a notebook environment.\n",
        "\n",
        "Enjoy the expanded exploration and the new tools at your disposal!\n",
        "*Original Notebook: https://github.com/openforcefield/openff-toolkit/blob/main/examples/toolkit_showcase/toolkit_showcase.ipynb"
      ]
    },
    {
      "cell_type": "code",
      "execution_count": null,
      "metadata": {
        "id": "q0g6kYJKmge_"
      },
      "outputs": [],
      "source": [
        "# Imports from the Python standard library\n",
        "from io import StringIO\n",
        "from typing import Iterable\n",
        "\n",
        "# Imports from the comp chem ecosystem\n",
        "import mdtraj\n",
        "import nglview\n",
        "import numpy as np\n",
        "import openmm\n",
        "from openff.units import Quantity, unit\n",
        "from openmm import unit as openmm_unit\n",
        "from pdbfixer import PDBFixer\n",
        "\n",
        "from openmm.app import *\n",
        "from openmm import *\n",
        "import matplotlib.pyplot as plt\n",
        "\n",
        "# Imports from the toolkit\n",
        "from openff.toolkit import ForceField, Molecule, Topology"
      ]
    },
    {
      "cell_type": "markdown",
      "metadata": {
        "id": "AdpWhdFfmgfA"
      },
      "source": [
        "_(The OpenEye loading warning is expected -- The toolkit is informing us that OETK is unavailable, but it will safely fall back to using RDKit and AmberTools for the same functionality)_"
      ]
    },
    {
      "cell_type": "markdown",
      "metadata": {
        "id": "4_kI9NWgmgfA"
      },
      "source": [
        "## Introducing the main cast\n",
        "\n",
        "Merck [provides data] to benchmark Free Energy Perturbation (FEP) procedures. We'll use structures from this dataset for this showcase:\n",
        "\n",
        "<https://github.com/MCompChem/fep-benchmark>\n",
        "\n",
        "This example is pre-packaged with one protein-ligand complex from the above repository, however you should be able to download other complexes and run them as well using this workflow. PT2385, our ligand of choice, is an antagonist of the HIF2α protein, a transcription factor that is stabilized in many kidney cancers.\n",
        "\n",
        "The ligand and protein structures are already prepared for simulation:\n",
        "\n",
        "- Their co-ordinates are already super-imposable, but if you have to create super-imposable co-ordinates of the ligand and protein you need to do molecular docking first.\n",
        "- Hydrogens have been added to protein and crystallographic waters.\n",
        "Hydrogen atoms are often not resolved in experimental data but play a critical role in forming hydrogen bonds, which are crucial for the stability and function of biomolecules.\n",
        "- The protein's termini are capped with N-methyl and acetyl groups to prevent unphysical charges.\n",
        "- Atoms missing from the crystal structure have been replaced.\n",
        "\n",
        "<br />\n",
        "<details>\n",
        "<summary><small>▼ Click here for the shell commands we used to download the protein-ligand complex</small></summary>\n",
        "    \n",
        "```shell\n",
        "# Clone the repository\n",
        "git clone https://github.com/MCompChem/fep-benchmark.git\n",
        "# Take the last ligand from the hif2a benchmark\n",
        "tail -n90 fep-benchmark/hif2a/ligands.sdf > PT2385.sdf\n",
        "# Take the prepared protein structure\n",
        "cp fep-benchmark/hif2a/5tbm_prepared.pdb .\n",
        "```  \n",
        "\n",
        "</details>\n",
        "\n",
        "[provides data]: https://github.com/MCompChem/fep-benchmark\n",
        "[PT2385]: https://doi.org/10.1158/0008-5472.CAN-16-0473"
      ]
    },
    {
      "cell_type": "code",
      "execution_count": null,
      "metadata": {
        "id": "yEyyGfqrmgfA"
      },
      "outputs": [],
      "source": [
        "receptor_path = \"5tbm_prepared.pdb\"\n",
        "ligand_path = \"PT2385.sdf\""
      ]
    },
    {
      "cell_type": "markdown",
      "metadata": {
        "id": "yYlb3VGEmgfA"
      },
      "source": [
        "We can visualize each structure using the [NGLView] widget. These visualizations are interactive; rotate by dragging the left mouse button, pan with the right mouse button, and zoom with the scroll wheel. You can also mouse over an atom to see its details, and click an atom to center the view on it. When you mouse over the widget, a full screen button will appear in its top right corner.\n",
        "\n",
        "[NGLView]: https://github.com/nglviewer/nglview"
      ]
    },
    {
      "cell_type": "code",
      "execution_count": null,
      "metadata": {
        "colab": {
          "base_uri": "https://localhost:8080/",
          "height": 17,
          "referenced_widgets": [
            "12645f0bc385413b87454aa2c92e9339"
          ]
        },
        "id": "Z9l_35QImgfA",
        "outputId": "a9072657-e6e8-4e91-e3cd-8524aa390e4c"
      },
      "outputs": [
        {
          "data": {
            "application/vnd.jupyter.widget-view+json": {
              "model_id": "12645f0bc385413b87454aa2c92e9339",
              "version_major": 2,
              "version_minor": 0
            },
            "text/plain": [
              "NGLWidget()"
            ]
          },
          "metadata": {},
          "output_type": "display_data"
        }
      ],
      "source": [
        "view = nglview.show_structure_file(ligand_path)\n",
        "view"
      ]
    },
    {
      "cell_type": "markdown",
      "metadata": {
        "id": "fCnIaHSHmgfB"
      },
      "source": [
        "<div class=\"alert alert-info\" style=\"max-width: 700px; margin-left: auto; margin-right: auto;\">\n",
        "    ℹ️ Try replacing <code>ligand_path</code> with <code>receptor_path</code> to visualize the protein!\n",
        "</div>\n"
      ]
    },
    {
      "cell_type": "markdown",
      "metadata": {
        "id": "aJPsUbiAmgfB"
      },
      "source": [
        "# The plan:\n",
        "\n",
        "| Action | Software|\n",
        "|--|--|\n",
        "| Assemble and solvate the topology | PDBFixer, MDTraj, and OpenFF Toolkit\n",
        "| Visualize the complex | OpenFF Toolkit and NGLView\n",
        "| Parametrize the complex | OpenFF Toolkit and OpenFF Interchange\n",
        "| Simulate the complex | OpenMM\n",
        "| Visualize the simulation | NGLView and MDTraj\n"
      ]
    },
    {
      "cell_type": "markdown",
      "metadata": {
        "id": "e1owOfR0mgfB"
      },
      "source": [
        "## Assemble and solvate the topology (PDBFixer, MDTraj, and the toolkit)\n",
        "\n",
        "Conceptually, this step involves putting together the positions of all of the components of the system. We'll create  a [`Topology`] to keep track of the contents of our system. A `Topology` represents a collection of molecules; it doesn't have any association with any force field parameters.\n",
        "\n",
        "[`Topology`]: https://docs.openforcefield.org/projects/toolkit/en/stable/api/generated/openff.toolkit.topology.Topology.html"
      ]
    },
    {
      "cell_type": "markdown",
      "metadata": {
        "id": "Z8dr486omgfB"
      },
      "source": [
        "First, we'll load the ligand into an OpenFF Toolkit [`Molecule`] object, which keep track of all their chemical information. A `Molecule` represents a collection of atoms with specified formal charges, connected by bonds with specified bond orders, optionally including any number of conformer coordinates. This is intended to closely align with a chemist's intuitive understanding of a molecule, rather than simply wrap the minimal information needed for a calculation.\n",
        "\n",
        "SDF files include all a molecule's bond orders and formal charges, as well as coordinates, so they're ideal as a format for distributing small molecules. And that's exactly the format the ligand is stored in!\n",
        "\n",
        "[`Molecule`]: https://docs.openforcefield.org/projects/toolkit/en/stable/api/generated/openff.toolkit.topology.Molecule.html"
      ]
    },
    {
      "cell_type": "code",
      "execution_count": null,
      "metadata": {
        "id": "_r9FRcNWmgfB"
      },
      "outputs": [],
      "source": [
        "# Load a molecule from a SDF file\n",
        "ligand = Molecule.from_file(ligand_path, allow_undefined_stereo=True)\n",
        "\n",
        "# Print out a SMILES code for the ligand\n",
        "print(ligand.to_smiles(explicit_hydrogens=False))\n",
        "\n",
        "# Visualize the molecule\n",
        "ligand.visualize(show_all_hydrogens=False)"
      ]
    },
    {
      "cell_type": "markdown",
      "metadata": {
        "id": "pEGy6QU5mgfB"
      },
      "source": [
        "An SDF file with an entire protein would be huge, and finding or constructing one in the first place would be tricky, so for polymers the Toolkit supports inferring chemical information from PDB files. Connectivity can be taken from residue and atom names for supported molecules, and we can supply a list of arbitrary molecules that are in the PDB which are then identified via CONECT records."
      ]
    },
    {
      "cell_type": "markdown",
      "metadata": {
        "id": "sMwXHwlFmgfB"
      },
      "source": [
        "First we'll solvate our system. [PDBFixer] makes it easy to add water and salt to our original receptor PDB, which already includes crystallographic waters. PDBFixer can also manage a number of other common processes, like restoring missing hydrogens or other atoms and even adding a membrane. We can then save it to disk and load the resulting PDB into a topology!\n",
        "\n",
        "[PDBFixer]: https://htmlpreview.github.io/?https://github.com/openmm/pdbfixer/blob/master/Manual.html"
      ]
    },
    {
      "cell_type": "code",
      "execution_count": null,
      "metadata": {
        "id": "AyY4iaNTmgfB"
      },
      "outputs": [],
      "source": [
        "fixer = PDBFixer(receptor_path)\n",
        "fixer.addSolvent(\n",
        "    padding=1.0 * openmm_unit.nanometer, ionicStrength=0.15 * openmm_unit.molar\n",
        ")\n",
        "\n",
        "with open(\"receptor_solvated.pdb\", \"w\") as f:\n",
        "    openmm.app.PDBFile.writeFile(fixer.topology, fixer.positions, f)\n",
        "\n",
        "top = Topology.from_pdb(\"receptor_solvated.pdb\")"
      ]
    },
    {
      "cell_type": "code",
      "execution_count": null,
      "metadata": {
        "id": "kDQiwWlVe__c"
      },
      "outputs": [],
      "source": [
        "def check_for_large_molecules(topology, atom_count_threshold=100):\n",
        "    \"\"\"Verification step. Check if there are any large molecules in the topology,\n",
        "    which might indicate the presence of proteins or polymers.\"\"\"\n",
        "    found_large_molecule = False\n",
        "    for molecule in topology.molecules:\n",
        "        if len(molecule.atoms) > atom_count_threshold:\n",
        "            print(f\"Found a large molecule with {len(molecule.atoms)} atoms, which might be a protein or polymer.\")\n",
        "            found_large_molecule = True\n",
        "            break\n",
        "\n",
        "    if not found_large_molecule:\n",
        "        print(\"No large molecules found that could indicate a protein or polymer.\")\n",
        "    else:\n",
        "        print(\"Possible protein or polymer present in the topology.\")\n",
        "\n",
        "# Example usage\n",
        "check_for_large_molecules(top)"
      ]
    },
    {
      "cell_type": "code",
      "execution_count": null,
      "metadata": {
        "id": "vEB2a757mgfB"
      },
      "outputs": [],
      "source": [
        "def insert_molecule_and_remove_clashes(\n",
        "    topology: Topology,\n",
        "    insert: Molecule,\n",
        "    radius: Quantity = 1.5 * unit.angstrom,\n",
        "    keep: Iterable[Molecule] = [],\n",
        ") -> Topology:\n",
        "    \"\"\"\n",
        "    Add a molecule to a copy of the topology, removing any clashing molecules.\n",
        "\n",
        "    The molecule will be added to the end of the topology. A new topology is\n",
        "    returned; the input topology will not be altered. All molecules that\n",
        "    clash will be removed, and each removed molecule will be printed to stdout.\n",
        "    Users are responsible for ensuring that no important molecules have been\n",
        "    removed; the clash radius may be modified accordingly.\n",
        "\n",
        "    Parameters\n",
        "    ==========\n",
        "    top\n",
        "        The topology to insert a molecule into\n",
        "    insert\n",
        "        The molecule to insert\n",
        "    radius\n",
        "        Any atom within this distance of any atom in the insert is considered\n",
        "        clashing.\n",
        "    keep\n",
        "        Keep copies of these molecules, even if they're clashing\n",
        "    \"\"\"\n",
        "    # We'll collect the molecules for the output topology into a list\n",
        "    new_top_mols = []\n",
        "    # A molecule's positions in a topology are stored as its zeroth conformer\n",
        "    insert_coordinates = insert.conformers[0][:, None, :]\n",
        "    for molecule in topology.molecules:\n",
        "        if any(keep_mol.is_isomorphic_with(molecule) for keep_mol in keep):\n",
        "            new_top_mols.append(molecule)\n",
        "            continue\n",
        "        molecule_coordinates = molecule.conformers[0][None, :, :]\n",
        "        diff_matrix = molecule_coordinates - insert_coordinates\n",
        "\n",
        "        # np.linalg.norm doesn't work on Pint quantities 😢\n",
        "        working_unit = unit.nanometer\n",
        "        distance_matrix = (\n",
        "            np.linalg.norm(diff_matrix.m_as(working_unit), axis=-1) * working_unit\n",
        "        )\n",
        "\n",
        "        if distance_matrix.min() > radius:\n",
        "            # This molecule is not clashing, so add it to the topology\n",
        "            new_top_mols.append(molecule)\n",
        "        else:\n",
        "            print(f\"Removed {molecule.to_smiles()} molecule\")\n",
        "\n",
        "    # Insert the ligand at the end\n",
        "    new_top_mols.append(ligand)\n",
        "\n",
        "    # This pattern of assembling a topology from a list of molecules\n",
        "    # ends up being much more efficient than adding each molecule\n",
        "    # to a new topology one at a time\n",
        "    new_top = Topology.from_molecules(new_top_mols)\n",
        "\n",
        "    # Don't forget the box vectors!\n",
        "    new_top.box_vectors = topology.box_vectors\n",
        "    return new_top\n",
        "\n",
        "top = insert_molecule_and_remove_clashes(top, ligand)"
      ]
    },
    {
      "cell_type": "code",
      "execution_count": null,
      "metadata": {
        "id": "YHjJe2K7d8UH"
      },
      "outputs": [],
      "source": [
        "# Verify that protein is present and was not removed due to clashes\n",
        "check_for_large_molecules(top)"
      ]
    },
    {
      "cell_type": "markdown",
      "metadata": {
        "id": "BPRJ1IwimgfC"
      },
      "source": [
        "Now that we've assembled our topology, we can save it to disk. We can use JSON for this, which makes it human readable in a pinch. This stores everything we've just assembled - molecular identities, conformers, box vectors, and everything else. The topology can then be loaded later on with the [`Topology.from_json()`] method. This is great for running the same system through different force fields, distribution with a paper, or for assembling systems in stages.\n",
        "\n",
        "[`Topology.from_json()`]: https://docs.openforcefield.org/projects/toolkit/en/stable/api/generated/openff.toolkit.topology.Topology.html#openff.toolkit.topology.Topology.from_json\n",
        "\n",
        "<div class=\"alert alert-info\" style=\"max-width: 700px; margin-left: auto; margin-right: auto;\">\n",
        "    ℹ️ JSON export is pretty slow, and we don't need it for the rest of the notebook, so feel free to skip it.\n",
        "</div>\n"
      ]
    },
    {
      "cell_type": "code",
      "execution_count": null,
      "metadata": {
        "id": "AoF4Ub80mgfC"
      },
      "outputs": [],
      "source": [
        "with open(\"topology.json\", \"w\") as f:\n",
        "    print(top.to_json(), file=f)"
      ]
    },
    {
      "cell_type": "code",
      "execution_count": null,
      "metadata": {
        "id": "sghJPWjbXZK4"
      },
      "outputs": [],
      "source": [
        "top = Topology.from_json(open(\"topology.json\").read())"
      ]
    },
    {
      "cell_type": "markdown",
      "metadata": {
        "id": "nhpi8GJVmgfC"
      },
      "source": [
        "## Visualize the complex (NGLView)\n",
        "\n",
        "To visualize inside the notebook, we'll use NGLView. NGLView supports a wide variety of [molecular visualization methods], as well as a VMD-like [atom selection language]. This can be used to visualize complex systems like this one.\n",
        "\n",
        "The widget consists of a minimally documented [Python library frontend] and an extensively documented [JavaScript backend]. You'll need to refer to the documentation for both to do anything sophisticated, as the Python code delegates most of its options and functionality to the JS code.\n",
        "\n",
        "We'll start by defining a function to create an NGLView widget from a `Topology`. This functionality will eventually find its way into the Toolkit, but for now it's here.\n",
        "\n",
        "[molecular visualization methods]: https://nglviewer.org/ngl/api/manual/molecular-representations.html\n",
        "[atom selection language]: https://nglviewer.org/ngl/api/manual/selection-language.html\n",
        "[Python library frontend]: https://nglviewer.org/nglview/latest/api.html\n",
        "[JavaScript backend]: https://nglviewer.org/ngl/api/manual/index.html"
      ]
    },
    {
      "cell_type": "code",
      "execution_count": null,
      "metadata": {
        "id": "Lq3wGklEmgfC"
      },
      "outputs": [],
      "source": [
        "def visualize(topology):\n",
        "    \"\"\"Visualize a topology with nglview\"\"\"\n",
        "    with StringIO() as f:\n",
        "        topology.to_file(file=f)\n",
        "        pdb_str = f.getvalue()\n",
        "    return nglview.show_text(pdb_str)"
      ]
    },
    {
      "cell_type": "code",
      "execution_count": null,
      "metadata": {
        "id": "ErPbQCeTmgfC"
      },
      "outputs": [],
      "source": [
        "# Create the widget. By default, proteins are shown as a cartoon and unrecognised ligands with a ball-and-stick model\n",
        "view = visualize(top)\n",
        "\n",
        "# Add a licorice/stick representation for everything except the protein\n",
        "view.add_line(selection=\"(not protein)\")\n",
        "# Make the ions clearer by drawing their vdW surfaces\n",
        "view.add_spacefill(selection=\":.NA or :.CL\")\n",
        "\n",
        "# Render the widget\n",
        "view"
      ]
    },
    {
      "cell_type": "markdown",
      "metadata": {
        "id": "G3ql_lTsmgfC"
      },
      "source": [
        "<div class=\"alert alert-info\" style=\"max-width: 700px; margin-left: auto; margin-right: auto;\">\n",
        "ℹ️ Have a play with this visualization! Try clearing the default representations with <code>view.clear()</code> and configuring your own cartoon <em>(Hint: <a href=https://nglviewer.org/nglview/latest/api.html#nglview.NGLWidget>Check</a> the <a href=https://nglviewer.org/ngl/api/manual/molecular-representations.html>docs</a>)</em>. See if you can display the ligand in a way you like, without also displaying the protein's terminal caps. When you're happy with what you've made, save the image with <code>view.download_image()</code>\n",
        "</div>"
      ]
    },
    {
      "cell_type": "markdown",
      "metadata": {
        "id": "1wvRySsfmgfC"
      },
      "source": [
        "## Assemble the force field (OpenFF Toolkit)\n",
        "\n",
        "Now that we've prepared our co-ordinates, we should choose the force field. For now, we don't have any single SMIRNOFF force field that can handle both proteins and small molecules; the Rosemary 3.0.0 force field will support this, but it's not expected until 2023. As an alternative, we'll combine the Sage small molecule force field with the SMIRNOFF port of Amber ff14SB. These force fields parametrize non-bonded parameters in similar ways and with the same functional form, so we don't expect any outrageous artifacts, but they also haven't been carefully tested together.\n",
        "\n",
        "The star of the show here is the Sage 2.0.0 force field. [Sage] is the latest force field produced by the Open Force Field Initiative. Rather than using atom types like traditional biomolecular force fields, Sage assigns parameters to a molecule by [matching actual chemical moieties]. Note that to parametrize a molecule you need more than just the co-ordinates of its atoms; you also need their bonds, bond orders, and formal charges. As a result, `.sdf` files are used in this example; other file types are possible, but they must include this information. Sage is distributed as an `.offxml` file according to the [SMIRNOFF specification]. This file describes all the choices the toolkit has to make to parametrize a molecule. Sage also includes the TIP3P water model, which is appropriate for Amber ff14SB too.\n",
        "\n",
        "When we combine multiple SMIRNOFF force fields into one, we provide them in an order from general to specific. Sage includes parameters that could be applied to a protein, but they're general across all molecules; ff14SB's parameters are specific to proteins. Since the Toolkit always applies the last parameters that match a moiety, this order makes sure the right parameters get assigned.\n",
        "\n",
        "[Sage]: https://openforcefield.org/force-fields/force-fields/#sage\n",
        "[matching actual chemical moieties]: https://www.daylight.com/dayhtml/doc/theory/theory.smarts.html\n",
        "[SMIRNOFF specification]: https://openforcefield.github.io/standards/standards/smirnoff/\n",
        "\n",
        "<div class=\"alert alert-warning\" style=\"max-width: 700px; margin-left: auto; margin-right: auto;\">\n",
        "    🚧 <b> This code is not production-ready</b><br />\n",
        "The Amber ff14SB port is intended as a proof-of-concept for SMIRNOFF protein force fields. It may not precisely match the energetics or forces of the original ff14SB, and it may not be appropriate in combination with Sage. Wait for protein support in the Rosemary force field to use this in production.\n",
        "</div>\n"
      ]
    },
    {
      "cell_type": "code",
      "execution_count": null,
      "metadata": {
        "id": "RfAhM8TBmgfC"
      },
      "outputs": [],
      "source": [
        "sage_ff14sb = ForceField(\"openff-2.0.0.offxml\", \"ff14sb_off_impropers_0.0.3.offxml\")"
      ]
    },
    {
      "cell_type": "markdown",
      "metadata": {
        "id": "_fus8OtymgfC"
      },
      "source": [
        "## Parametrize the complex (OpenFF Toolkit)\n",
        "\n",
        "We now have a `Topology`, which stores the chemical information of the system, and a `ForceField`, which maps chemistry to force field parameters. To parametrize the system, we combine these two objects into an [`Interchange`].\n",
        "\n",
        "An `Interchange` represents a completely parametrized molecular mechanics system. Partial charges are computed here according to the instructions in the force field, and this is where virtual sites required by the force field will be introduced. This all happens behind the scenes; all we have to do is combine an abstract chemical description with a force field. This makes it easy to change water model or force field, as the chemistry being modelled is completely independent of the model itself.\n",
        "\n",
        "[`Interchange`]: https://docs.openforcefield.org/projects/interchange/en/stable/_autosummary/openff.interchange.components.interchange.Interchange.html"
      ]
    },
    {
      "cell_type": "code",
      "execution_count": null,
      "metadata": {
        "id": "neICzJckmgfC"
      },
      "outputs": [],
      "source": [
        "interchange = sage_ff14sb.create_interchange(top)"
      ]
    },
    {
      "cell_type": "markdown",
      "metadata": {
        "id": "07dckyGhmgfC"
      },
      "source": [
        "*(Creating an interchange takes a few minutes, largely because of the complexity of the Amber protein force field port. In the future, this should be faster.)*"
      ]
    },
    {
      "cell_type": "markdown",
      "metadata": {
        "id": "MHUkl6oVmgfC"
      },
      "source": [
        "To use an `Interchange`, we need to convert it to the input expected by a particular molecular mechanics engine. We'll use OpenMM, because its support is the most mature and the fastest, but GROMACS, LAMMPS, and Amber all enjoy [preliminary support].\n",
        "\n",
        "[preliminary support]: https://docs.openforcefield.org/projects/interchange/en/stable/using/output.html"
      ]
    },
    {
      "cell_type": "code",
      "execution_count": null,
      "metadata": {
        "id": "lS3DtuKcmgfC"
      },
      "outputs": [],
      "source": [
        "omm_system = interchange.to_openmm()\n",
        "omm_top = interchange.to_openmm_topology()"
      ]
    },
    {
      "cell_type": "code",
      "execution_count": null,
      "metadata": {
        "id": "3bHQN8fXbCEC"
      },
      "outputs": [],
      "source": [
        "from openmm.app import *\n",
        "from openmm import *\n",
        "with open('system.xml', 'w') as output:\n",
        "    output.write(XmlSerializer.serialize(omm_system))"
      ]
    },
    {
      "cell_type": "markdown",
      "metadata": {
        "id": "69qil03GmgfC"
      },
      "source": [
        "_(This'll take a minute)_"
      ]
    },
    {
      "cell_type": "markdown",
      "metadata": {
        "id": "LV3CZ9DPmgfC"
      },
      "source": [
        "While that runs, let's recap. We've constructed a `Topology` out of a number of `Molecule` objects, each of which represents a particular chemical independent of any model details. The `Topology` then represents an entire chemical system, which in theory could be modelled in any number of ways. Our `Topology` also includes atom positions and box vectors, but if we thought that was too concrete for our use case we could leave them out and add them after parametrization.\n",
        "\n",
        "Separately, we've constructed a `ForceField` by combining a general SMIRNOFF force field with a protein-specific SMIRNOFF force field. A SMIRNOFF force field is a bunch of rules for applying force field parameters to chemicals via SMARTS patterns. The force field includes everything needed to compute an energy: parameters, charges, functional forms, non-bonded methods and cutoffs, virtual sites, and so on.\n",
        "\n",
        "Then, we've parametrized our `Topology` with our `ForceField` to produce an `Interchange`. This applies all our rules and gives us a system ready to simulate. An `Interchange` can also concretely define positions, velocities, and box vectors, whether they come from the `Topology` or are added after parametrization. Once we have the `Interchange`, we can produce input data for any of the supported MM engines.\n",
        "\n",
        "This clear delineation makes benchmarking the same system against different force fields or the same force field against different force fields easy. The SMIRNOFF format makes distributing force fields in an engine agnostic way possible. Everything is an open standard or written in open source Python, so we can see how it works and even change it if we need to."
      ]
    },
    {
      "cell_type": "markdown",
      "metadata": {
        "id": "yxCfYeKSmgfC"
      },
      "source": [
        "## Simulate the complex (OpenMM)\n",
        "\n",
        "All that remains is to tell OpenMM the details about how we want to integrate and record data for the simulation, and then to put everything together and run it!\n",
        "\n",
        "### Configure and run the simulation\n",
        "\n",
        "Here, we'll use a Langevin thermostat at 300 Kelvin and a 2 fs time step. We'll write the structure to disk every 10 steps."
      ]
    },
    {
      "cell_type": "code",
      "execution_count": null,
      "metadata": {
        "id": "GUgPNbjNmgfC"
      },
      "outputs": [],
      "source": [
        "# Construct and configure a Langevin integrator at 300 K with an appropriate friction constant and time-step\n",
        "integrator = openmm.LangevinIntegrator(\n",
        "    300 * openmm_unit.kelvin, # Temperature\n",
        "    1 / openmm_unit.picosecond, # Friction coefficient. This sets the speed at which the simulation's molecules adjust to the surrounding temperature.\n",
        "    0.002 * openmm_unit.picoseconds, # Time step = 2fs\n",
        ")\n",
        "\n",
        "with open('system.xml') as input:\n",
        "    system = XmlSerializer.deserialize(input.read())\n",
        "\n",
        "# Combine the topology, system, integrator and initial positions into a simulation\n",
        "simulation = Simulation(omm_top, system, integrator)\n",
        "simulation.context.setPositions(top.get_positions().to_openmm())\n",
        "\n",
        "# Add a reporter to record the structure every 10 steps\n",
        "dcd_reporter = DCDReporter(\"trajectory.dcd\", 10, enforcePeriodicBox=True)\n",
        "simulation.reporters.append(dcd_reporter)"
      ]
    },
    {
      "cell_type": "code",
      "execution_count": null,
      "metadata": {
        "id": "iqJdL7u6Q_YZ"
      },
      "outputs": [],
      "source": [
        "# Save protein-ligand complex to a pdb file\n",
        "from openmm.app import PDBFile\n",
        "\n",
        "# Assume your simulation object is already created and initialized with positions\n",
        "state = simulation.context.getState(getPositions=True)\n",
        "positions = state.getPositions()\n",
        "\n",
        "# Write the positions to a PDB file\n",
        "with open('complex_starting_condition.pdb', 'w') as file:\n",
        "    PDBFile.writeFile(simulation.topology, top.get_positions().to_openmm(), file)"
      ]
    },
    {
      "cell_type": "markdown",
      "metadata": {
        "id": "Ya6SwHiumgfC"
      },
      "source": [
        "### Minimize the combined system\n",
        "\n",
        "This will reduce any forces that are too large to integrate, such as from clashes or from disagreements between the crystal structure and force field.\n"
      ]
    },
    {
      "cell_type": "code",
      "execution_count": null,
      "metadata": {
        "colab": {
          "base_uri": "https://localhost:8080/"
        },
        "id": "W2f16KaimgfD",
        "outputId": "c32e7e92-a530-4f49-a9ed-7746fdff99db"
      },
      "outputs": [
        {
          "output_type": "stream",
          "name": "stdout",
          "text": [
            "Minimised to -1702590.2784599846 kJ/mol with maximum force 2489.2505194644796 kJ/(nm mol)\n"
          ]
        }
      ],
      "source": [
        "simulation.minimizeEnergy(\n",
        "    tolerance=openmm_unit.Quantity(\n",
        "        value=50.0, unit=openmm_unit.kilojoule_per_mole / openmm_unit.nanometer\n",
        "    )\n",
        ")\n",
        "minimized_state = simulation.context.getState(\n",
        "    getPositions=True, getEnergy=True, getForces=True\n",
        ")\n",
        "\n",
        "print(\n",
        "    \"Minimised to\",\n",
        "    minimized_state.getPotentialEnergy(),\n",
        "    \"with maximum force\",\n",
        "    max(\n",
        "        np.sqrt(v.x * v.x + v.y * v.y + v.z * v.z) for v in minimized_state.getForces()\n",
        "    ),\n",
        "    minimized_state.getForces().unit.get_symbol(),\n",
        ")\n",
        "\n",
        "minimized_coords = minimized_state.getPositions()"
      ]
    },
    {
      "cell_type": "code",
      "execution_count": null,
      "metadata": {
        "colab": {
          "base_uri": "https://localhost:8080/"
        },
        "id": "9NvrPvDd9sTy",
        "outputId": "54faf6a7-5de0-41c0-c9ca-4d568af42dd9"
      },
      "outputs": [
        {
          "output_type": "stream",
          "name": "stdout",
          "text": [
            "Minimized structure saved to minimized_structure.pdb\n"
          ]
        }
      ],
      "source": [
        "# Assume 'simulation' is your Simulation object\n",
        "# and 'minimized_coords' contains the positions from the minimized state\n",
        "\n",
        "# Get the topology from your simulation object\n",
        "topology = simulation.topology\n",
        "\n",
        "\n",
        "# Use the PDBFile class to write the topology and minimized coordinates to a PDB file\n",
        "with open('minimized_structure.pdb', 'w') as outfile:\n",
        "    PDBFile.writeFile(topology, minimized_coords, outfile)\n",
        "\n",
        "print(\"Minimized structure saved to minimized_structure.pdb\")\n"
      ]
    },
    {
      "cell_type": "code",
      "execution_count": null,
      "metadata": {
        "id": "VGp_YDmac6oE"
      },
      "outputs": [],
      "source": [
        "# saveState saves the state of simulation including position for later use.\n",
        "simulation.saveState('minimized_state.xml')"
      ]
    },
    {
      "cell_type": "markdown",
      "source": [
        "## Equilibrate system to desired temperature"
      ],
      "metadata": {
        "id": "5gvOaWNUSDdU"
      }
    },
    {
      "cell_type": "code",
      "execution_count": null,
      "metadata": {
        "colab": {
          "base_uri": "https://localhost:8080/"
        },
        "id": "U2vknasUkLFA",
        "outputId": "e8cfadc6-a9fd-41bf-cb72-a8e2fb13e551"
      },
      "outputs": [
        {
          "output_type": "stream",
          "name": "stdout",
          "text": [
            "Equilibrating...\n",
            "Equilibration complete.\n"
          ]
        }
      ],
      "source": [
        "from openmm.unit import nanometers, kelvin, picoseconds, picosecond, atmospheres\n",
        "\n",
        "# Equilibration under NVT conditions. The number of particles and volume is fixed and temperature is stabilized with a thermostat.\n",
        "temperature = 300*kelvin # Target temperature\n",
        "friction = 1/picosecond  # The friction coefficient\n",
        "time_step = 0.001*picoseconds  # Time step for integration\n",
        "\n",
        "\n",
        "# Combine the topology, system, integrator and initial positions into a simulation\n",
        "nvt_integrator = openmm.LangevinIntegrator(temperature, friction, time_step)\n",
        "nvt_simulation = Simulation(omm_top, system, nvt_integrator)\n",
        "nvt_simulation.loadState('minimized_state.xml')\n",
        "nvt_simulation.context.setVelocitiesToTemperature(temperature) # adjust velocities to control temperature\n",
        "\n",
        "# Set up reporters to monitor equilibration\n",
        "nvt_simulation.reporters.append(StateDataReporter(\"nvt_equilibration.log\",\n",
        "                                                200, # number of steps between each save\n",
        "                                                step=True, # writes step number to each line\n",
        "                                                potentialEnergy=True,  # writes potential energy of the system (KJ/mole)\n",
        "                                                temperature=True\n",
        "                                                ))\n",
        "\n",
        "# Equilibrate for a certain number of steps\n",
        "nvt_steps = 4000  # Adjust according to your system's requirements\n",
        "print(\"Equilibrating...\")\n",
        "nvt_simulation.step(nvt_steps) # Run MD simulation\n",
        "print(\"Equilibration complete.\")\n",
        "simulation.saveState('nvt_equilibration.xml')"
      ]
    },
    {
      "cell_type": "code",
      "execution_count": null,
      "metadata": {
        "id": "yjHN4M36vYhQ"
      },
      "outputs": [],
      "source": [
        "# Function to parse the log file\n",
        "def parse_log_file(log_file_path):\n",
        "    print(\"Parsing log file\")\n",
        "    steps = []\n",
        "    energies = []\n",
        "    temperatures = []  # List to store temperature values\n",
        "    with open(log_file_path, 'r') as file:\n",
        "        for line in file:\n",
        "            # Skip header or lines without numeric data\n",
        "            try:\n",
        "                step, energy,temp = line.strip().split(',')\n",
        "                steps.append(int(step))\n",
        "                energies.append(float(energy))\n",
        "                temperatures.append(float(temp))  # Parse temperature\n",
        "            except ValueError:\n",
        "                continue\n",
        "    return steps, energies, temperatures\n",
        "\n",
        "# Path to your log file\n",
        "log_file_path = 'nvt_equilibration_short2.log'\n",
        "\n",
        "# Parse the log file\n",
        "steps, energies, temperatures = parse_log_file(log_file_path)\n",
        "\n",
        "# Create figure and first axis\n",
        "plt.figure(figsize=(10, 6))\n",
        "ax1 = plt.gca()  # Get current axis\n",
        "ax2 = ax1.twinx()  # Create another axis that shares the same x-axis\n",
        "\n",
        "# Plot energy on the first y-axis\n",
        "ax1.plot(steps, energies, marker='o', linestyle='-', color='blue', label='Energy')\n",
        "ax1.set_xlabel('Time Step')\n",
        "ax1.set_ylabel('Energy', color='blue')\n",
        "ax1.tick_params(axis='y', labelcolor='blue')\n",
        "\n",
        "# Plot temperature on the second y-axis\n",
        "ax2.plot(steps, temperatures, marker='x', linestyle='-', color='red', label='Temperature')\n",
        "ax2.set_ylabel('Temperature', color='red')\n",
        "ax2.tick_params(axis='y', labelcolor='red')\n",
        "\n",
        "# Title and grid\n",
        "plt.title('Energy and Temperature vs. Time Step')\n",
        "ax1.grid(True)\n",
        "\n",
        "# Optional: add a legend. Comment these lines if you find the legend unnecessary.\n",
        "ax1.legend(loc='upper left')\n",
        "# ax2.legend(loc='upper right')\n",
        "\n",
        "plt.show()\n"
      ]
    },
    {
      "cell_type": "markdown",
      "source": [
        "## Equilibrate system to desired pressure"
      ],
      "metadata": {
        "id": "V4DexRPVSXBe"
      }
    },
    {
      "cell_type": "code",
      "source": [
        "from openmm import XmlSerializer, MonteCarloAnisotropicBarostat\n",
        "from openmm.app import Simulation, StateDataReporter, PDBReporter\n",
        "from openmm import LangevinIntegrator\n",
        "from openmm.unit import kelvin, picoseconds, atmospheres\n",
        "import numpy as np\n",
        "\n",
        "class CheckpointReporter:\n",
        "    def __init__(self, file, reportInterval):\n",
        "        self._reportInterval = reportInterval\n",
        "        self._out = open(file, 'wb')\n",
        "\n",
        "    def describeNextReport(self, simulation):\n",
        "        steps = self._reportInterval - simulation.currentStep % self._reportInterval\n",
        "        return (steps, False, False, False, False)\n",
        "\n",
        "    def report(self, simulation, state):\n",
        "        simulation.saveCheckpoint(self._out.name)\n",
        "\n",
        "\n",
        "# Load your system\n",
        "with open('system.xml') as input:\n",
        "    npt_system = XmlSerializer.deserialize(input.read())\n",
        "\n",
        "# Temperature and pressure settings\n",
        "temperature = 300*kelvin\n",
        "pressure_x = 1*atmospheres\n",
        "pressure_y = 1*atmospheres\n",
        "pressure_z = 1*atmospheres\n",
        "barostat_frequency = 25\n",
        "\n",
        "# Setting up anisotropic pressures\n",
        "# The pressures are specified as a list or tuple in the order (Px, Py, Pz)\n",
        "# The boolean flags indicate whether the barostat should adjust the box size in that direction\n",
        "pressure = (pressure_x, pressure_y, pressure_z)\n",
        "scaleXYZ = (True, True, True)  # Allow box size to vary in X, Y, and Z directions\n",
        "\n",
        "# Add MonteCarloAnisotropicBarostat to the system\n",
        "barostat = MonteCarloAnisotropicBarostat(pressure, temperature, scaleXYZ[0], scaleXYZ[1], scaleXYZ[2], barostat_frequency)\n",
        "npt_system.addForce(barostat)\n",
        "\n",
        "# # Integrator settings\n",
        "friction = 1/picoseconds  # Friction coefficient for Langevin Integrator\n",
        "time_step = 0.002*picoseconds  # Integration timestep\n",
        "\n",
        "# Create a Langevin Integrator\n",
        "npt_integrator = LangevinIntegrator(temperature, friction, time_step)\n",
        "\n",
        "# Set up the Simulation\n",
        "npt_simulation = Simulation(omm_top, npt_system, npt_integrator)\n",
        "# npt_simulation.loadState('nvt_equilibration_short2.xml')\n",
        "# npt_simulation.context.setVelocitiesToTemperature(temperature)\n",
        "\n",
        "# Load the simulation state from a checkpoint file\n",
        "checkpoint_file = 'checkpoint_30K.chk'  # Use the actual path to your checkpoint file\n",
        "npt_simulation.loadCheckpoint(checkpoint_file)\n",
        "\n",
        "# # Optionally, add reporters to monitor the simulation\n",
        "# npt_simulation.reporters.append(PDBReporter('equilibration.pdb', 100))  # Save a PDB every 1000 steps\n",
        "npt_simulation.reporters.append(StateDataReporter('equilibration_30K.log', 100, step=True, temperature=True, potentialEnergy=True, totalEnergy=True, density=True, volume=True))  # Log every 1000 steps\n",
        "npt_simulation.reporters.append(DCDReporter('equilibration_30K.dcd', 100))\n",
        "npt_simulation.reporters.append(CheckpointReporter('equilibration_checkpoint.chk', 100))  # Save a checkpoint every 1000 steps\n",
        "\n",
        "\n",
        "# Run the equilibration\n",
        "npt_simulation.step(30000)\n"
      ],
      "metadata": {
        "id": "S0ILlfdXAkUl"
      },
      "execution_count": null,
      "outputs": []
    },
    {
      "cell_type": "code",
      "source": [
        "# Save results. Checkpoint saves the state incl. position and velocities so you can continue your simulation where you left off.\n",
        "npt_simulation.saveState('npt_equillibration_30K.xml')\n",
        "npt_simulation.saveCheckpoint('checkpoint_30K.chk')"
      ],
      "metadata": {
        "id": "YQqkOn_rBFaE"
      },
      "execution_count": null,
      "outputs": []
    },
    {
      "cell_type": "code",
      "source": [
        "# Function to parse the log file\n",
        "def parse_log_file(log_file_path):\n",
        "    print(\"Parsing log file\")\n",
        "    steps = []\n",
        "    energies = []\n",
        "    temperatures = []  # List to store temperature values\n",
        "    volumes = []\n",
        "    with open(log_file_path, 'r') as file:\n",
        "        for line in file:\n",
        "            # Skip header or lines without numeric data\n",
        "            try:\n",
        "                step, pot_energy, energy, temp, volume, density = line.strip().split(',')\n",
        "                steps.append(int(step))\n",
        "                energies.append(float(energy))\n",
        "                temperatures.append(float(temp))\n",
        "                volumes.append(float(volume))\n",
        "            except ValueError:\n",
        "                continue\n",
        "    return steps, energies, temperatures, volumes\n",
        "\n",
        "# Path to your log file\n",
        "log_file_path = 'equilibration.log'\n",
        "\n",
        "# Parse the log file\n",
        "steps, energies,temperatures, volumes = parse_log_file(log_file_path)\n",
        "print(steps)\n",
        "\n",
        "# # Create figure and first axis\n",
        "plt.figure(figsize=(10, 6))\n",
        "ax1 = plt.gca()  # Get current axis\n",
        "ax2 = ax1.twinx()  # Create another axis that shares the same x-axis\n",
        "\n",
        "# # Plot energy on the first y-axis\n",
        "ax1.plot(steps, energies, marker='o', linestyle='-', color='blue', label='Energy')\n",
        "ax1.set_xlabel('Time Step')\n",
        "ax1.set_ylabel('Energy', color='blue')\n",
        "ax1.tick_params(axis='y', labelcolor='blue')\n",
        "\n",
        "# # Plot temperature on the second y-axis\n",
        "ax2.plot(steps, volumes, marker='x', linestyle='-', color='red', label='Volume')\n",
        "ax2.set_ylabel('Volume', color='red')\n",
        "ax2.tick_params(axis='y', labelcolor='red')\n",
        "\n",
        "# # Title and grid\n",
        "plt.title('Energy and Temperature vs. Time Step')\n",
        "ax1.grid(True)\n",
        "\n",
        "# # Optional: add a legend. Comment these lines if you find the legend unnecessary.\n",
        "ax1.legend(loc='upper left')\n",
        "ax2.legend(loc='upper right')\n",
        "\n",
        "plt.show()"
      ],
      "metadata": {
        "id": "x1y_urh7RQdW"
      },
      "execution_count": null,
      "outputs": []
    },
    {
      "cell_type": "markdown",
      "metadata": {
        "id": "MnBmsoyLmgfD"
      },
      "source": [
        "### Run a short simulation\n",
        "\n",
        "If this were anything more than a demonstration of the Toolkit, this example would need to include additional steps like equilibration.\n",
        "\n",
        "<div class=\"alert alert-warning\" style=\"max-width: 700px; margin-left: auto; margin-right: auto;\">\n",
        "⚠️ Make sure you use your own, valid simulation protocol! This is just an example.\n",
        "</div>"
      ]
    },
    {
      "cell_type": "code",
      "execution_count": null,
      "metadata": {
        "id": "RS8WAvtUmgfD"
      },
      "outputs": [],
      "source": [
        "simulation.context.setVelocitiesToTemperature(300 * openmm_unit.kelvin)\n",
        "simulation.runForClockTime(1.0 * openmm_unit.minute)"
      ]
    },
    {
      "cell_type": "code",
      "execution_count": null,
      "metadata": {
        "id": "5v2u5SY_aOAZ"
      },
      "outputs": [],
      "source": [
        "import mdtraj as md\n",
        "\n",
        "traj = md.load_dcd('trajectory_5t.dcd', top='minimized_structure_v3.pdb')\n",
        "traj.image_molecules(inplace=True)  # This re-wraps or images the molecules\n",
        "\n",
        "traj.save_dcd('trajectory_image.dcd')  # Save the processed trajectory\n",
        "\n",
        "traj.save_dcd('trajectory_image.pdb')"
      ]
    },
    {
      "cell_type": "markdown",
      "metadata": {
        "id": "QHr1JdLXmgfG"
      },
      "source": [
        "_(This'll take a minute)_"
      ]
    },
    {
      "cell_type": "markdown",
      "metadata": {
        "id": "jkDvJhj1mgfG"
      },
      "source": [
        "While that runs, let's talk a bit about OpenFF\n",
        "\n",
        "### Open Source Force Fields\n",
        "\n",
        "A primary goal of the Open Force Field Initiative is to make development and use of force fields as open as possible - it's in our name! We believe that open source development practices have a lot to offer the scientific community, whether that science is academic, commercial, or hobbyist.\n",
        "\n",
        "#### The SMIRNOFF specification\n",
        "\n",
        "The SMIRNOFF specification describes a simple format for describing molecular force fields. We provide and maintain this spec in the hopes that it will allow scientists everywhere to contribute to force field development in a unified way, without taking them away from their favourite simulation package.\n",
        "\n",
        "SMIRNOFF is not just a spec; we're also committed to a reference implementation — that being the OpenFF Toolkit. The Toolkit endeavors to support all the functional forms in both the SMIRNOFF spec and the [`openff-forcefields`](https://github.com/openforcefield/openff-forcefields/) package.\n",
        "\n",
        "#### Reproducibility\n",
        "\n",
        "OpenFF force fields are completely specified by the name of the distributed `.offxml` file. We use codenames, version numbers, and tags to accomplish this. This means that as long as a user, designer, or reviewer sees the name of the force field being used, they know exactly what is going in to that simulation. We include parameters that are often neglected in force field specifications, such as the non-bonded cut-off distance, ewald methods, constraints, modifications to the Lennard-Jones function, and partial charge generation methods are all defined by the name of the force field.\n",
        "\n",
        "As much as possible, we want energy and force to be a deterministic output of combining a molecule and a force field. If an author provides the name of the force field in their methods section, it should be reproducible. The other side of this coin is that we never want to hide the force field from the user. In all our workflows, the name of the force field must be explicitly provided in the code. This improves reproducibility of the code and helps the user take responsibility for their results.\n",
        "\n",
        "#### \"Plugin\" support for new force fields\n",
        "\n",
        "The OpenFF Toolkit supports distributing force field files (.offxml) through Conda data packages. Anyone can publish a package on Conda Forge that extends the list of directories the toolkit searches for force fields, allowing anyone to produce force fields without requiring their own tooling, in a format that is designed to be converted to a multitude of simulation packages. See the [FAQ](https://open-forcefield-toolkit.readthedocs.io/en/stable/faq.html#how-can-i-distribute-my-own-force-fields-in-smirnoff-format) for more details.\n",
        "\n",
        "---\n",
        "\n",
        "Right! Simulation should be done by now, let's take a look."
      ]
    },
    {
      "cell_type": "markdown",
      "metadata": {
        "id": "_gprGyLLmgfG"
      },
      "source": [
        "## Visualize the simulation (nglview)\n",
        "\n",
        "NGLView can display trajectories, as well as single structures. Mouse over the widget to see the animation controls."
      ]
    },
    {
      "cell_type": "code",
      "execution_count": null,
      "metadata": {
        "id": "dPVrjpaEmgfG"
      },
      "outputs": [],
      "source": [
        "trajectory: mdtraj.Trajectory = mdtraj.load(\n",
        "    \"trajectory.dcd\", top=mdtraj.Topology.from_openmm(omm_top)\n",
        ")\n",
        "\n",
        "view = nglview.show_mdtraj(trajectory.image_molecules())\n",
        "view.add_representation(\"line\", selection=\"protein\")\n",
        "view"
      ]
    },
    {
      "cell_type": "markdown",
      "metadata": {
        "id": "bM7zHjgmmgfG"
      },
      "source": [
        "<div class=\"alert alert-info\" style=\"max-width: 700px; margin-left: auto; margin-right: auto;\">\n",
        "ℹ️ MDTraj is a great library for analysis as well as visualisation. Check out the <a href=https://mdtraj.org/1.9.4/api/generated/mdtraj.Trajectory.html>docs</a> for the <code>Trajectory</code> object you just created, as well as their <a href=https://mdtraj.org/1.9.4/analysis.html>analysis functions</a>, and see if you can compute something interesting. Its real superpower is that it provides the coordinates of the trajectory as a <a href=https://numpy.org/doc/stable/reference/generated/numpy.array.html>NumPy array</a>, so if you're really keen try computing something directly from <code>mdt_traj.xyz</code>\n",
        "</div>"
      ]
    },
    {
      "cell_type": "markdown",
      "metadata": {
        "id": "9ZDAyaFFmgfG"
      },
      "source": [
        "## Conclusions\n",
        "\n",
        "* The OpenFF workflow cleanly separates the chemical system from its model.\n",
        "* We parametrize ligands and proteins with the same software tools.\n",
        "* Open source tools installed via Conda did everything, from basic system prep to simulation and visualization\n",
        "* Using OpenMM, we never had to leave Python to set up the simulation\n",
        "* With Interchange, using OpenMM, GROMACS, Amber or LAMMPS is simple!\n",
        "\n",
        "\n",
        "## What's next?\n",
        "\n",
        "We have more examples for you to explore the toolkit!\n",
        "\n",
        " - [Force Field Modification](https://github.com/openforcefield/openff-toolkit/blob/main/examples/forcefield_modification/): Use the Toolkit API to manipulate SMIRNOFF parameters in a `ForceField` object\n",
        " - [Conformer energies](https://github.com/openforcefield/openff-toolkit/blob/main/examples/conformer_energies/): Compute vacuum energies of different conformers of a small molecule with the Sage force field\n",
        " - [QCArchive interface](https://github.com/openforcefield/openff-toolkit/blob/main/examples/QCArchive_interface/): Create OpenFF `Molecule` objects from the [QCArchive](https://qcarchive.molssi.org/)"
      ]
    }
  ],
  "metadata": {
    "category": "tutorial",
    "colab": {
      "provenance": []
    },
    "kernelspec": {
      "display_name": "Python 3",
      "name": "python3"
    },
    "language_info": {
      "codemirror_mode": {
        "name": "ipython",
        "version": 3
      },
      "file_extension": ".py",
      "mimetype": "text/x-python",
      "name": "python",
      "nbconvert_exporter": "python",
      "pygments_lexer": "ipython3",
      "version": "3.11.4"
    },
    "widgets": {
      "application/vnd.jupyter.widget-state+json": {
        "12645f0bc385413b87454aa2c92e9339": {
          "model_module": "nglview-js-widgets",
          "model_module_version": "3.1.0",
          "model_name": "NGLModel",
          "state": {
            "_camera_orientation": [],
            "_camera_str": "orthographic",
            "_dom_classes": [],
            "_gui_theme": null,
            "_ibtn_fullscreen": "IPY_MODEL_5ef0f9977e05403195b1e014cff5602a",
            "_igui": null,
            "_iplayer": "IPY_MODEL_8229f5a1bd224aaa9d2e13bf8c1b0f94",
            "_model_module": "nglview-js-widgets",
            "_model_module_version": "3.1.0",
            "_model_name": "NGLModel",
            "_ngl_color_dict": {},
            "_ngl_coordinate_resource": {},
            "_ngl_full_stage_parameters": {},
            "_ngl_msg_archive": [
              {
                "args": [
                  {
                    "binary": false,
                    "data": "163\n                    3D\n Structure written by MMmdl.\n 38 40  0  0  1  0            999 V2000\n   27.5787    1.5603  -11.1550 O   0  0  0  0  0  0\n   27.1514    0.3087  -11.6602 C   0  0  2  0  0  0\n   26.5211    0.3751  -13.0576 C   0  0  0  0  0  0\n   25.0338    0.5863  -12.8456 C   0  0  0  0  0  0\n   24.8061   -0.0850  -11.5041 C   0  0  0  0  0  0\n   26.0164   -0.2498  -10.8166 C   0  0  0  0  0  0\n   26.0198   -0.7868   -9.5184 C   0  0  0  0  0  0\n   24.8022   -1.0984   -8.9082 C   0  0  0  0  0  0\n   23.6047   -0.9287   -9.5876 C   0  0  0  0  0  0\n   23.6011   -0.4346  -10.8994 C   0  0  0  0  0  0\n   22.4804   -0.2663  -11.6771 O   0  0  0  0  0  0\n   21.2449   -0.5687  -11.1803 C   0  0  0  0  0  0\n   20.6785   -1.8246  -11.3976 C   0  0  0  0  0  0\n   19.4221   -2.1093  -10.8761 C   0  0  0  0  0  0\n   18.8542   -3.3170  -11.0822 F   0  0  0  0  0  0\n   18.7363   -1.1524  -10.1388 C   0  0  0  0  0  0\n   19.2883    0.1230   -9.9547 C   0  0  0  0  0  0\n   18.5697    1.1665   -9.2401 C   0  0  0  0  0  0\n   20.5476    0.3902  -10.4511 C   0  0  0  0  0  0\n   27.5198   -1.0658   -8.5788 S   0  0  0  0  0  0\n   27.2106   -1.9783   -7.4776 O   0  0  0  0  0  0\n   28.5996   -1.4049   -9.5080 O   0  0  0  0  0  0\n   27.9060    0.6119   -7.8645 C   0  0  0  0  0  0\n   27.0587    1.3217  -13.8292 F   0  0  0  0  0  0\n   26.6743   -0.8002  -13.6631 F   0  0  0  0  0  0\n   18.0197    2.0048   -8.6626 N   0  0  0  0  0  0\n   28.3401    1.8773  -11.6535 H   0  0  0  0  0  0\n   27.9965   -0.3807  -11.7030 H   0  0  0  0  0  0\n   24.4304    0.1815  -13.6650 H   0  0  0  0  0  0\n   24.7949    1.6423  -12.7675 H   0  0  0  0  0  0\n   24.7812   -1.4913   -7.9023 H   0  0  0  0  0  0\n   22.6852   -1.2202   -9.0977 H   0  0  0  0  0  0\n   21.2178   -2.5834  -11.9440 H   0  0  0  0  0  0\n   17.7955   -1.4363   -9.7044 H   0  0  0  0  0  0\n   21.0080    1.3516  -10.2626 H   0  0  0  0  0  0\n   28.9206    0.5438   -7.4820 H   0  0  0  0  0  0\n   27.1930    0.8396   -7.0713 H   0  0  0  0  0  0\n   27.8723    1.3668   -8.6460 H   0  0  0  0  0  0\n  1  2  1  0  0  0\n  1 27  1  0  0  0\n  2  3  1  0  0  0\n  2  6  1  0  0  0\n  2 28  1  0  0  0\n  3  4  1  0  0  0\n  3 24  1  0  0  0\n  3 25  1  0  0  0\n  4  5  1  0  0  0\n  4 29  1  0  0  0\n  4 30  1  0  0  0\n  5  6  2  0  0  0\n  5 10  1  0  0  0\n  6  7  1  0  0  0\n  7  8  2  0  0  0\n  7 20  1  0  0  0\n  8  9  1  0  0  0\n  8 31  1  0  0  0\n  9 10  2  0  0  0\n  9 32  1  0  0  0\n 10 11  1  0  0  0\n 11 12  1  0  0  0\n 12 13  2  0  0  0\n 12 19  1  0  0  0\n 13 14  1  0  0  0\n 13 33  1  0  0  0\n 14 15  1  0  0  0\n 14 16  2  0  0  0\n 16 17  1  0  0  0\n 16 34  1  0  0  0\n 17 18  1  0  0  0\n 17 19  2  0  0  0\n 18 26  3  0  0  0\n 19 35  1  0  0  0\n 20 21  2  0  0  0\n 20 22  2  0  0  0\n 20 23  1  0  0  0\n 23 36  1  0  0  0\n 23 37  1  0  0  0\n 23 38  1  0  0  0\nM  END\n> <ID>\n163\n\n> <IC50[uM](SPA)>\n0.0085\n\n$$$$\n",
                    "type": "blob"
                  }
                ],
                "kwargs": {
                  "defaultRepresentation": true,
                  "ext": "sdf"
                },
                "methodName": "loadFile",
                "reconstruc_color_scheme": false,
                "target": "Stage",
                "type": "call_method"
              }
            ],
            "_ngl_original_stage_parameters": {},
            "_ngl_repr_dict": {},
            "_ngl_serialize": false,
            "_ngl_version": "",
            "_ngl_view_id": [],
            "_player_dict": {},
            "_scene_position": {},
            "_scene_rotation": {},
            "_synced_model_ids": [],
            "_synced_repr_model_ids": [],
            "_view_count": null,
            "_view_height": "",
            "_view_module": "nglview-js-widgets",
            "_view_module_version": "3.1.0",
            "_view_name": "NGLView",
            "_view_width": "",
            "background": "white",
            "frame": 0,
            "gui_style": null,
            "layout": "IPY_MODEL_5e94dcc9f73f4efb953d05d5f8692b51",
            "max_frame": 0,
            "n_components": 0,
            "picked": {},
            "tabbable": null,
            "tooltip": null
          }
        }
      }
    }
  },
  "nbformat": 4,
  "nbformat_minor": 0
}